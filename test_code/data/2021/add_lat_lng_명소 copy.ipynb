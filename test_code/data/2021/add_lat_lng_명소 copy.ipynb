{
 "cells": [
  {
   "cell_type": "code",
   "execution_count": 1,
   "metadata": {},
   "outputs": [],
   "source": [
    "import numpy as np\n",
    "import pandas as pd\n",
    "import requests,json,os\n",
    "from urllib.parse import quote \n",
    "import os,glob"
   ]
  },
  {
   "cell_type": "code",
   "execution_count": 5,
   "metadata": {},
   "outputs": [],
   "source": [
    "# 관광지명, 도로명주소, lat, lng, 분류\n",
    "df = pd.read_excel('data/서울시 관광 명소_ljh.XLSX', engine='openpyxl')"
   ]
  },
  {
   "cell_type": "code",
   "execution_count": 6,
   "metadata": {},
   "outputs": [],
   "source": [
    "df.to_csv('data/main/temp_files/서울시 관광 명소_ljh.csv', index=False)\n",
    "df = pd.read_csv('data/main/temp_files/서울시 관광 명소_ljh.csv', encoding='utf-8', sep=',')"
   ]
  },
  {
   "cell_type": "code",
   "execution_count": 9,
   "metadata": {},
   "outputs": [],
   "source": [
    "df = df[(df['언어']) == 'ko']\n",
    "# 도로명주소만 남기기\n",
    "df.rename(columns= {'상호명':'관광지명', '신주소':'도로명주소'}, inplace=True)\n",
    "df = df[['관광지명', '도로명주소']]\n",
    "df.reset_index(drop=True,inplace=True)\n",
    "df.nunique()"
   ]
  },
  {
   "cell_type": "code",
   "execution_count": 14,
   "metadata": {},
   "outputs": [],
   "source": [
    "df.to_csv('data/서울_명소_명소.csv',index=False)\n",
    "df= pd.read_csv('data/서울_명소_명소.csv', encoding='utf-8', sep=',')"
   ]
  },
  {
   "cell_type": "code",
   "execution_count": 15,
   "metadata": {},
   "outputs": [
    {
     "data": {
      "text/plain": [
       "0"
      ]
     },
     "execution_count": 15,
     "metadata": {},
     "output_type": "execute_result"
    }
   ],
   "source": [
    "df.isna().sum().sum()"
   ]
  },
  {
   "cell_type": "code",
   "execution_count": 17,
   "metadata": {},
   "outputs": [
    {
     "data": {
      "text/plain": [
       "['서울 영등포구 63로 50 (여의도동, 63한화생명빌딩) ',\n",
       " '서울 종로구 사직로 161 (세종로, 경복궁) ',\n",
       " '서울특별시 동대문구 경희대로 26 자연사박물관',\n",
       " '서울특별시 종로구 세종대로 172 ',\n",
       " '서울 종로구 효자로 12 (세종로, 국립고궁박물관) ',\n",
       " '서울 종로구 송월길 52 (송월동, 국립기상박물관) ',\n",
       " '서울 종로구 삼청로 37 (세종로, 국립민속박물관) ',\n",
       " '서울 용산구 서빙고로 137 (국립중앙박물관) ',\n",
       " '서울 용산구 서빙고로 139 (용산동6가, 국립한글박물관) ',\n",
       " '서울 종로구 삼청로 30 (소격동) ',\n",
       " '서울특별시 영등포구 의사당대로 1  (여의도동) ',\n",
       " '서울 용산구 남산공원길 105 (용산동2가, YTN서울타워) ',\n",
       " '서울시 종로구 세종대로 198 (세종로) ',\n",
       " '서울 중구 세종대로 99 ',\n",
       " '서울 강남구 도산대로45길 20 (도산전시관) ',\n",
       " '서울 중구 을지로 281 (을지로7가, 2-1) 동대문역사공원 내 동대문역사관',\n",
       " '서울 송파구 올림픽로 240 (잠실동, 롯데월드) ',\n",
       " '서울 송파구 올림픽로 300 (신천동) ',\n",
       " '서울 용산구 이태원로55길 60-16 (한남동) ',\n",
       " '서울시 중구 을지로 66 한국외환은행 ',\n",
       " '서울 중구 명동길 74 (명동성당) ',\n",
       " '서울 송파구 올림픽로 424 (몽촌역사관) ',\n",
       " '서울 중구 통일로 1 (서울역 본옥) ',\n",
       " '서울 강남구 봉은사로 531 (봉은사) ',\n",
       " '서울 종로구 율곡로 283 (종로6가, 서울디자인지원센터) ',\n",
       " '서울특별시 중구 세종대로 110 (태평로1가) ',\n",
       " '서울 중구 세종대로 119 (태평로1가) ',\n",
       " '서울 중구 덕수궁길 61 (서소문동, 서울시립미술관) ',\n",
       " '서울 종로구 새문안로 55 (신문로2가, 서울역사박물관) ',\n",
       " '서울 종로구 새문안로 55 (신문로2가) ',\n",
       " '서울특별시 강남구 선릉로100길 1 (삼성동) ',\n",
       " '서울 강남구 도산대로 441 (청담동) ',\n",
       " '서울 송파구 잠실로 180 (신천동, 송파관광정보센터) ',\n",
       " '서울특별시 종로구 이화장길 100 (동숭동) ',\n",
       " '서울 중구 세종대로 110 (태평로1가, 서울특별시청)  B1',\n",
       " '서울특별시 강남구 언주로 827, 스페이스씨 (신사동) ',\n",
       " '서울 마포구 양화진길 46 (합정동, 양화진홍보관) ',\n",
       " '서울특별시 서대문구 연세로 50 (신촌동) ',\n",
       " '서울특별시 종로구 동숭길 3 (동숭동) ',\n",
       " '서울특별시 서초구 남부순환로 2406  (서초동) ',\n",
       " '서울 종로구 삼일대로 464 (운현궁) ',\n",
       " '서울 종로구 창신4가길 26 (창신동, 이음피움 봉제역사관) ',\n",
       " '서울 용산구 이태원로 29 (용산동1가, 전쟁기념관) ',\n",
       " '서울특별시 종로구 우정국로 55 (조계사) ',\n",
       " '서울 종로구 종로 157 (훈정동, 종묘공원) ',\n",
       " '서울 종로구 창경궁로 185 (와룡동, 창경궁) ',\n",
       " '서울 종로구 창경궁로 185 (와룡동, 창경궁) ',\n",
       " '서울 종로구 율곡로 99 (와룡동, 창덕궁) ',\n",
       " '서울 송파구 위례성대로 71 (방이동, 한성백제박물관) ']"
      ]
     },
     "execution_count": 17,
     "metadata": {},
     "output_type": "execute_result"
    }
   ],
   "source": [
    "# 도로명주소에서 우편번호 제거\n",
    "addr_list = []\n",
    "for i in df.index:\n",
    "    addr1 = df.도로명주소[i].split(' ')[1:]\n",
    "    df.도로명주소[i]= ' '.join(addr1)\n",
    "    addr_list.append(df.도로명주소[i])\n",
    "    # df.도로명주소[i] = df.도로명주소[i].split(' ')[1:]\n",
    "addr_list"
   ]
  },
  {
   "cell_type": "code",
   "execution_count": 18,
   "metadata": {},
   "outputs": [
    {
     "data": {
      "text/plain": [
       "0                영등포구 63로 50 (여의도동, 63한화생명빌딩) \n",
       "1                      종로구 사직로 161 (세종로, 경복궁) \n",
       "2                          동대문구 경희대로 26 자연사박물관\n",
       "3                                종로구 세종대로 172 \n",
       "4                   종로구 효자로 12 (세종로, 국립고궁박물관) \n",
       "5                   종로구 송월길 52 (송월동, 국립기상박물관) \n",
       "6                   종로구 삼청로 37 (세종로, 국립민속박물관) \n",
       "7                      용산구 서빙고로 137 (국립중앙박물관) \n",
       "8               용산구 서빙고로 139 (용산동6가, 국립한글박물관) \n",
       "9                            종로구 삼청로 30 (소격동) \n",
       "10                       영등포구 의사당대로 1  (여의도동) \n",
       "11             용산구 남산공원길 105 (용산동2가, YTN서울타워) \n",
       "12                         종로구 세종대로 198 (세종로) \n",
       "13                                 중구 세종대로 99 \n",
       "14                     강남구 도산대로45길 20 (도산전시관) \n",
       "15    중구 을지로 281 (을지로7가, 2-1) 동대문역사공원 내 동대문역사관\n",
       "16                   송파구 올림픽로 240 (잠실동, 롯데월드) \n",
       "17                         송파구 올림픽로 300 (신천동) \n",
       "18                    용산구 이태원로55길 60-16 (한남동) \n",
       "19                           중구 을지로 66 한국외환은행 \n",
       "20                           중구 명동길 74 (명동성당) \n",
       "21                       송파구 올림픽로 424 (몽촌역사관) \n",
       "22                          중구 통일로 1 (서울역 본옥) \n",
       "23                         강남구 봉은사로 531 (봉은사) \n",
       "24              종로구 율곡로 283 (종로6가, 서울디자인지원센터) \n",
       "25                        중구 세종대로 110 (태평로1가) \n",
       "26                        중구 세종대로 119 (태평로1가) \n",
       "27                 중구 덕수궁길 61 (서소문동, 서울시립미술관) \n",
       "28               종로구 새문안로 55 (신문로2가, 서울역사박물관) \n",
       "29                        종로구 새문안로 55 (신문로2가) \n",
       "30                        강남구 선릉로100길 1 (삼성동) \n",
       "31                         강남구 도산대로 441 (청담동) \n",
       "32                송파구 잠실로 180 (신천동, 송파관광정보센터) \n",
       "33                         종로구 이화장길 100 (동숭동) \n",
       "34             중구 세종대로 110 (태평로1가, 서울특별시청)  B1\n",
       "35                   강남구 언주로 827, 스페이스씨 (신사동) \n",
       "36                  마포구 양화진길 46 (합정동, 양화진홍보관) \n",
       "37                          서대문구 연세로 50 (신촌동) \n",
       "38                            종로구 동숭길 3 (동숭동) \n",
       "39                      서초구 남부순환로 2406  (서초동) \n",
       "40                         종로구 삼일대로 464 (운현궁) \n",
       "41             종로구 창신4가길 26 (창신동, 이음피움 봉제역사관) \n",
       "42                 용산구 이태원로 29 (용산동1가, 전쟁기념관) \n",
       "43                          종로구 우정국로 55 (조계사) \n",
       "44                     종로구 종로 157 (훈정동, 종묘공원) \n",
       "45                    종로구 창경궁로 185 (와룡동, 창경궁) \n",
       "46                    종로구 창경궁로 185 (와룡동, 창경궁) \n",
       "47                      종로구 율곡로 99 (와룡동, 창덕궁) \n",
       "48                송파구 위례성대로 71 (방이동, 한성백제박물관) \n",
       "Name: 도로명주소, dtype: object"
      ]
     },
     "execution_count": 18,
     "metadata": {},
     "output_type": "execute_result"
    }
   ],
   "source": [
    "# 도로명주소에서 우편번호 제거\n",
    "for i in df.index:\n",
    "    addr1 = df.도로명주소[i].split(' ')[1:]\n",
    "    df.도로명주소[i] = (' '.join(addr1))\n",
    "df.도로명주소"
   ]
  },
  {
   "cell_type": "code",
   "execution_count": 20,
   "metadata": {},
   "outputs": [],
   "source": [
    "# 2 kakao API로 도로명 주소 구하는 함수\n",
    "def kakao_location(place):\n",
    "    with open('data/main/key/kakaoapikey.txt') as f_:\n",
    "        kakao_key = f_.read()\n",
    "    base_url = \"https://dapi.kakao.com/v2/local/search/address.json\"\n",
    "    url = f'{base_url}?query={quote(place)}'\n",
    "    header = {'Authorization':f'KakaoAK {kakao_key}'}\n",
    "    result = requests.get(url, headers=header).json()\n",
    "    lat_ = float(result['documents'][0]['y'])\n",
    "    lng_ = float(result['documents'][0]['x'])\n",
    "    return lat_,lng_"
   ]
  },
  {
   "cell_type": "code",
   "execution_count": 21,
   "metadata": {},
   "outputs": [
    {
     "name": "stdout",
     "output_type": "stream",
     "text": [
      "32 송파관광정보센터\n"
     ]
    }
   ],
   "source": [
    "# 2\n",
    "temp1 =[]\n",
    "for i in df.index:\n",
    "    try:\n",
    "        # target = df['관광지명'][i].strip()\n",
    "        temp1.append(kakao_location(df.도로명주소.values[i]))\n",
    "    except:\n",
    "        print(i, df.관광지명[i])\n",
    "        \n",
    "df_test = pd.DataFrame(temp1,columns=('lat','lng'))\n",
    "df2 = pd.concat([df, df_test], axis=1)"
   ]
  },
  {
   "cell_type": "code",
   "execution_count": 30,
   "metadata": {},
   "outputs": [
    {
     "data": {
      "text/plain": [
       "1"
      ]
     },
     "execution_count": 30,
     "metadata": {},
     "output_type": "execute_result"
    }
   ],
   "source": [
    "df2.lat.isna().sum()"
   ]
  },
  {
   "cell_type": "code",
   "execution_count": 39,
   "metadata": {},
   "outputs": [
    {
     "data": {
      "text/html": [
       "<div>\n",
       "<style scoped>\n",
       "    .dataframe tbody tr th:only-of-type {\n",
       "        vertical-align: middle;\n",
       "    }\n",
       "\n",
       "    .dataframe tbody tr th {\n",
       "        vertical-align: top;\n",
       "    }\n",
       "\n",
       "    .dataframe thead th {\n",
       "        text-align: right;\n",
       "    }\n",
       "</style>\n",
       "<table border=\"1\" class=\"dataframe\">\n",
       "  <thead>\n",
       "    <tr style=\"text-align: right;\">\n",
       "      <th></th>\n",
       "      <th>관광지명</th>\n",
       "      <th>도로명주소</th>\n",
       "      <th>lat</th>\n",
       "      <th>lng</th>\n",
       "    </tr>\n",
       "  </thead>\n",
       "  <tbody>\n",
       "    <tr>\n",
       "      <th>44</th>\n",
       "      <td>종묘</td>\n",
       "      <td>종로구 종로 157 (훈정동, 종묘공원)</td>\n",
       "      <td>37.577624</td>\n",
       "      <td>126.993841</td>\n",
       "    </tr>\n",
       "    <tr>\n",
       "      <th>45</th>\n",
       "      <td>창경궁</td>\n",
       "      <td>종로구 창경궁로 185 (와룡동, 창경궁)</td>\n",
       "      <td>37.577624</td>\n",
       "      <td>126.993841</td>\n",
       "    </tr>\n",
       "    <tr>\n",
       "      <th>46</th>\n",
       "      <td>창경궁 대온실</td>\n",
       "      <td>종로구 창경궁로 185 (와룡동, 창경궁)</td>\n",
       "      <td>37.578870</td>\n",
       "      <td>126.989710</td>\n",
       "    </tr>\n",
       "    <tr>\n",
       "      <th>47</th>\n",
       "      <td>창덕궁</td>\n",
       "      <td>종로구 율곡로 99 (와룡동, 창덕궁)</td>\n",
       "      <td>37.515429</td>\n",
       "      <td>127.120801</td>\n",
       "    </tr>\n",
       "    <tr>\n",
       "      <th>48</th>\n",
       "      <td>한성백제박물관</td>\n",
       "      <td>송파구 위례성대로 71 (방이동, 한성백제박물관)</td>\n",
       "      <td>NaN</td>\n",
       "      <td>NaN</td>\n",
       "    </tr>\n",
       "  </tbody>\n",
       "</table>\n",
       "</div>"
      ],
      "text/plain": [
       "        관광지명                         도로명주소        lat         lng\n",
       "44        종묘       종로구 종로 157 (훈정동, 종묘공원)   37.577624  126.993841\n",
       "45       창경궁      종로구 창경궁로 185 (와룡동, 창경궁)   37.577624  126.993841\n",
       "46  창경궁 대온실       종로구 창경궁로 185 (와룡동, 창경궁)   37.578870  126.989710\n",
       "47       창덕궁        종로구 율곡로 99 (와룡동, 창덕궁)   37.515429  127.120801\n",
       "48   한성백제박물관  송파구 위례성대로 71 (방이동, 한성백제박물관)         NaN         NaN"
      ]
     },
     "execution_count": 39,
     "metadata": {},
     "output_type": "execute_result"
    }
   ],
   "source": [
    "df2.tail()"
   ]
  },
  {
   "cell_type": "code",
   "execution_count": 35,
   "metadata": {},
   "outputs": [
    {
     "data": {
      "text/html": [
       "<div>\n",
       "<style scoped>\n",
       "    .dataframe tbody tr th:only-of-type {\n",
       "        vertical-align: middle;\n",
       "    }\n",
       "\n",
       "    .dataframe tbody tr th {\n",
       "        vertical-align: top;\n",
       "    }\n",
       "\n",
       "    .dataframe thead th {\n",
       "        text-align: right;\n",
       "    }\n",
       "</style>\n",
       "<table border=\"1\" class=\"dataframe\">\n",
       "  <thead>\n",
       "    <tr style=\"text-align: right;\">\n",
       "      <th></th>\n",
       "      <th>관광지명</th>\n",
       "      <th>도로명주소</th>\n",
       "      <th>lat</th>\n",
       "      <th>lng</th>\n",
       "    </tr>\n",
       "  </thead>\n",
       "  <tbody>\n",
       "    <tr>\n",
       "      <th>43</th>\n",
       "      <td>조계사</td>\n",
       "      <td>종로구 우정국로 55 (조계사)</td>\n",
       "      <td>37.573134</td>\n",
       "      <td>126.994864</td>\n",
       "    </tr>\n",
       "    <tr>\n",
       "      <th>44</th>\n",
       "      <td>종묘</td>\n",
       "      <td>종로구 종로 157 (훈정동, 종묘공원)</td>\n",
       "      <td>37.577624</td>\n",
       "      <td>126.993841</td>\n",
       "    </tr>\n",
       "    <tr>\n",
       "      <th>45</th>\n",
       "      <td>창경궁</td>\n",
       "      <td>종로구 창경궁로 185 (와룡동, 창경궁)</td>\n",
       "      <td>37.577624</td>\n",
       "      <td>126.993841</td>\n",
       "    </tr>\n",
       "    <tr>\n",
       "      <th>46</th>\n",
       "      <td>창경궁 대온실</td>\n",
       "      <td>종로구 창경궁로 185 (와룡동, 창경궁)</td>\n",
       "      <td>37.578870</td>\n",
       "      <td>126.989710</td>\n",
       "    </tr>\n",
       "    <tr>\n",
       "      <th>47</th>\n",
       "      <td>창덕궁</td>\n",
       "      <td>종로구 율곡로 99 (와룡동, 창덕궁)</td>\n",
       "      <td>37.515429</td>\n",
       "      <td>127.120801</td>\n",
       "    </tr>\n",
       "  </tbody>\n",
       "</table>\n",
       "</div>"
      ],
      "text/plain": [
       "        관광지명                     도로명주소        lat         lng\n",
       "43       조계사        종로구 우정국로 55 (조계사)   37.573134  126.994864\n",
       "44        종묘   종로구 종로 157 (훈정동, 종묘공원)   37.577624  126.993841\n",
       "45       창경궁  종로구 창경궁로 185 (와룡동, 창경궁)   37.577624  126.993841\n",
       "46  창경궁 대온실   종로구 창경궁로 185 (와룡동, 창경궁)   37.578870  126.989710\n",
       "47       창덕궁    종로구 율곡로 99 (와룡동, 창덕궁)   37.515429  127.120801"
      ]
     },
     "execution_count": 35,
     "metadata": {},
     "output_type": "execute_result"
    }
   ],
   "source": [
    "df3 = df2[df2['lat'].notnull()]\n",
    "df3.tail()"
   ]
  },
  {
   "cell_type": "code",
   "execution_count": null,
   "metadata": {},
   "outputs": [],
   "source": [
    "# 4 처리 끝난 파일 저장\n",
    "df3.to_csv('data/서울_명소_명소_final.csv',index=False)\n",
    "# 체크\n",
    "df4 = pd.read_csv('data/서울_명소_명소_final.csv', encoding='utf-8', sep=',')\n",
    "df4.head()"
   ]
  },
  {
   "cell_type": "code",
   "execution_count": 9,
   "metadata": {},
   "outputs": [],
   "source": [
    "df4 = pd.read_csv('data/서울_명소_명소_final.csv', encoding='utf-8', sep=',')"
   ]
  },
  {
   "cell_type": "code",
   "execution_count": 4,
   "metadata": {},
   "outputs": [
    {
     "data": {
      "text/plain": [
       "관광지명     0\n",
       "도로명주소    0\n",
       "lat      0\n",
       "lng      0\n",
       "dtype: int64"
      ]
     },
     "execution_count": 4,
     "metadata": {},
     "output_type": "execute_result"
    }
   ],
   "source": [
    "df4.isna().sum()"
   ]
  },
  {
   "cell_type": "code",
   "execution_count": null,
   "metadata": {},
   "outputs": [],
   "source": []
  }
 ],
 "metadata": {
  "kernelspec": {
   "display_name": "base",
   "language": "python",
   "name": "python3"
  },
  "language_info": {
   "codemirror_mode": {
    "name": "ipython",
    "version": 3
   },
   "file_extension": ".py",
   "mimetype": "text/x-python",
   "name": "python",
   "nbconvert_exporter": "python",
   "pygments_lexer": "ipython3",
   "version": "3.10.10"
  },
  "orig_nbformat": 4
 },
 "nbformat": 4,
 "nbformat_minor": 2
}
