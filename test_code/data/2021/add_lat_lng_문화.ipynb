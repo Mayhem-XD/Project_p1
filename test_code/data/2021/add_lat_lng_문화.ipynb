{
 "cells": [
  {
   "cell_type": "code",
   "execution_count": 2,
   "metadata": {},
   "outputs": [],
   "source": [
    "import numpy as np\n",
    "import pandas as pd\n",
    "import requests,json,os\n",
    "from urllib.parse import quote \n",
    "import os,glob"
   ]
  },
  {
   "cell_type": "code",
   "execution_count": 2,
   "metadata": {},
   "outputs": [],
   "source": [
    "# 관광지명, 도로명주소, lat, lng, 분류\n",
    "df = pd.read_excel('data/서울시 관광 문화_ljh.XLSX', engine='openpyxl')"
   ]
  },
  {
   "cell_type": "code",
   "execution_count": 3,
   "metadata": {},
   "outputs": [],
   "source": [
    "df.to_csv('data/main/temp_files/서울_문화.csv', index=False)"
   ]
  },
  {
   "cell_type": "code",
   "execution_count": 4,
   "metadata": {},
   "outputs": [],
   "source": [
    "df = pd.read_csv('data/main/temp_files/서울_문화.csv', encoding='utf-8', sep=',')"
   ]
  },
  {
   "cell_type": "code",
   "execution_count": 5,
   "metadata": {},
   "outputs": [
    {
     "data": {
      "text/html": [
       "<div>\n",
       "<style scoped>\n",
       "    .dataframe tbody tr th:only-of-type {\n",
       "        vertical-align: middle;\n",
       "    }\n",
       "\n",
       "    .dataframe tbody tr th {\n",
       "        vertical-align: top;\n",
       "    }\n",
       "\n",
       "    .dataframe thead th {\n",
       "        text-align: right;\n",
       "    }\n",
       "</style>\n",
       "<table border=\"1\" class=\"dataframe\">\n",
       "  <thead>\n",
       "    <tr style=\"text-align: right;\">\n",
       "      <th></th>\n",
       "      <th>고유번호</th>\n",
       "      <th>언어</th>\n",
       "      <th>상호명</th>\n",
       "      <th>주소</th>\n",
       "      <th>신주소</th>\n",
       "      <th>전화번호</th>\n",
       "      <th>웹사이트</th>\n",
       "      <th>운영시간</th>\n",
       "      <th>운영요일</th>\n",
       "      <th>휴무일</th>\n",
       "      <th>교통정보</th>\n",
       "      <th>홈페이지 운영 언어</th>\n",
       "      <th>유모차 대여 여부</th>\n",
       "    </tr>\n",
       "  </thead>\n",
       "  <tbody>\n",
       "    <tr>\n",
       "      <th>0</th>\n",
       "      <td>305</td>\n",
       "      <td>ko</td>\n",
       "      <td>세종문화회관</td>\n",
       "      <td>110-821 서울 종로구 세종로 81-3</td>\n",
       "      <td>03172 서울 종로구 세종대로 175  (세종문화회관)</td>\n",
       "      <td>02-399-1000</td>\n",
       "      <td>https://www.sejongpac.or.kr/portal/main/main.do</td>\n",
       "      <td>공연에 따라 이용 시간이 다름  * 현장 및 전화 예매 AM 09:00 ~ PM 0...</td>\n",
       "      <td>월~일</td>\n",
       "      <td>NaN</td>\n",
       "      <td>5호선 광화문역 1번, 8번 출구 도보 5분    3호선 경복궁역 6번, 7번 출구...</td>\n",
       "      <td>NaN</td>\n",
       "      <td>NaN</td>\n",
       "    </tr>\n",
       "    <tr>\n",
       "      <th>2</th>\n",
       "      <td>380</td>\n",
       "      <td>ko</td>\n",
       "      <td>명동실탄사격장</td>\n",
       "      <td>100-860 서울 중구 충무로2가 11-1 선샤인빌딩3층</td>\n",
       "      <td>04537 서울 중구 명동8가길 27 선샤인빌딩3층</td>\n",
       "      <td>02-777-6604</td>\n",
       "      <td>http://www.koreashootingclub.com/gnuboard4/</td>\n",
       "      <td>평일 13:00 - 20:00  주말/공휴일 11:00 - 20:00</td>\n",
       "      <td>NaN</td>\n",
       "      <td>연중무휴</td>\n",
       "      <td>4호선 명동역 8,9번 출구</td>\n",
       "      <td>NaN</td>\n",
       "      <td>NaN</td>\n",
       "    </tr>\n",
       "    <tr>\n",
       "      <th>5</th>\n",
       "      <td>1466</td>\n",
       "      <td>ko</td>\n",
       "      <td>서울랜드</td>\n",
       "      <td>경기 과천시 막계동 33</td>\n",
       "      <td>13829 경기 과천시 광명로 181 (막계동, 서울랜드)</td>\n",
       "      <td>02-509-6000</td>\n",
       "      <td>http://www.seoulland.co.kr</td>\n",
       "      <td>09:30 ~ 18:00, 20:00, 21:00, 22:00(축제일정 및 공원사정...</td>\n",
       "      <td>월 - 일</td>\n",
       "      <td>NaN</td>\n",
       "      <td>NaN</td>\n",
       "      <td>NaN</td>\n",
       "      <td>대여 가능</td>\n",
       "    </tr>\n",
       "    <tr>\n",
       "      <th>6</th>\n",
       "      <td>1546</td>\n",
       "      <td>ko</td>\n",
       "      <td>예지원</td>\n",
       "      <td>100-392 서울 중구 장충동2가 201-6</td>\n",
       "      <td>04605 서울특별시 중구 장충단로 72 (장충동2가)</td>\n",
       "      <td>02-2253-2211</td>\n",
       "      <td>http://www.yejiwon.or.kr</td>\n",
       "      <td>※교육별 수강시간이 상이하므로 홈페이지 참조</td>\n",
       "      <td>NaN</td>\n",
       "      <td>일요일?공휴일 휴관</td>\n",
       "      <td>3호선 동대입구 2번 출구 420번 버스 탑승 후 국립극장 앞 하차 2호선 동대문 ...</td>\n",
       "      <td>NaN</td>\n",
       "      <td>NaN</td>\n",
       "    </tr>\n",
       "  </tbody>\n",
       "</table>\n",
       "</div>"
      ],
      "text/plain": [
       "   고유번호  언어      상호명                                주소  \\\n",
       "0   305  ko   세종문화회관          110-821 서울 종로구 세종로 81-3    \n",
       "2   380  ko  명동실탄사격장  100-860 서울 중구 충무로2가 11-1 선샤인빌딩3층   \n",
       "5  1466  ko    서울랜드                     경기 과천시 막계동 33    \n",
       "6  1546  ko      예지원         100-392 서울 중구 장충동2가 201-6   \n",
       "\n",
       "                                 신주소          전화번호  \\\n",
       "0   03172 서울 종로구 세종대로 175  (세종문화회관)    02-399-1000   \n",
       "2       04537 서울 중구 명동8가길 27 선샤인빌딩3층   02-777-6604   \n",
       "5  13829 경기 과천시 광명로 181 (막계동, 서울랜드)    02-509-6000   \n",
       "6    04605 서울특별시 중구 장충단로 72 (장충동2가)   02-2253-2211   \n",
       "\n",
       "                                              웹사이트  \\\n",
       "0  https://www.sejongpac.or.kr/portal/main/main.do   \n",
       "2      http://www.koreashootingclub.com/gnuboard4/   \n",
       "5                      http://www.seoulland.co.kr    \n",
       "6                         http://www.yejiwon.or.kr   \n",
       "\n",
       "                                                운영시간   운영요일         휴무일  \\\n",
       "0  공연에 따라 이용 시간이 다름  * 현장 및 전화 예매 AM 09:00 ~ PM 0...    월~일         NaN   \n",
       "2           평일 13:00 - 20:00  주말/공휴일 11:00 - 20:00      NaN        연중무휴   \n",
       "5  09:30 ~ 18:00, 20:00, 21:00, 22:00(축제일정 및 공원사정...  월 - 일         NaN   \n",
       "6                          ※교육별 수강시간이 상이하므로 홈페이지 참조     NaN  일요일?공휴일 휴관   \n",
       "\n",
       "                                                교통정보 홈페이지 운영 언어 유모차 대여 여부  \n",
       "0  5호선 광화문역 1번, 8번 출구 도보 5분    3호선 경복궁역 6번, 7번 출구...        NaN       NaN  \n",
       "2                                4호선 명동역 8,9번 출구            NaN       NaN  \n",
       "5                                                NaN        NaN     대여 가능  \n",
       "6  3호선 동대입구 2번 출구 420번 버스 탑승 후 국립극장 앞 하차 2호선 동대문 ...        NaN       NaN  "
      ]
     },
     "execution_count": 5,
     "metadata": {},
     "output_type": "execute_result"
    }
   ],
   "source": [
    "df = df[(df['언어']) == 'ko']\n",
    "df.head(4)"
   ]
  },
  {
   "cell_type": "code",
   "execution_count": 6,
   "metadata": {},
   "outputs": [
    {
     "data": {
      "text/plain": [
       "array(['ko'], dtype=object)"
      ]
     },
     "execution_count": 6,
     "metadata": {},
     "output_type": "execute_result"
    }
   ],
   "source": [
    "df.언어.unique()"
   ]
  },
  {
   "cell_type": "code",
   "execution_count": 7,
   "metadata": {},
   "outputs": [
    {
     "data": {
      "text/html": [
       "<div>\n",
       "<style scoped>\n",
       "    .dataframe tbody tr th:only-of-type {\n",
       "        vertical-align: middle;\n",
       "    }\n",
       "\n",
       "    .dataframe tbody tr th {\n",
       "        vertical-align: top;\n",
       "    }\n",
       "\n",
       "    .dataframe thead th {\n",
       "        text-align: right;\n",
       "    }\n",
       "</style>\n",
       "<table border=\"1\" class=\"dataframe\">\n",
       "  <thead>\n",
       "    <tr style=\"text-align: right;\">\n",
       "      <th></th>\n",
       "      <th>관광지명</th>\n",
       "      <th>도로명주소</th>\n",
       "    </tr>\n",
       "  </thead>\n",
       "  <tbody>\n",
       "    <tr>\n",
       "      <th>0</th>\n",
       "      <td>세종문화회관</td>\n",
       "      <td>03172 서울 종로구 세종대로 175  (세종문화회관)</td>\n",
       "    </tr>\n",
       "    <tr>\n",
       "      <th>1</th>\n",
       "      <td>명동실탄사격장</td>\n",
       "      <td>04537 서울 중구 명동8가길 27 선샤인빌딩3층</td>\n",
       "    </tr>\n",
       "    <tr>\n",
       "      <th>2</th>\n",
       "      <td>서울랜드</td>\n",
       "      <td>13829 경기 과천시 광명로 181 (막계동, 서울랜드)</td>\n",
       "    </tr>\n",
       "    <tr>\n",
       "      <th>3</th>\n",
       "      <td>예지원</td>\n",
       "      <td>04605 서울특별시 중구 장충단로 72 (장충동2가)</td>\n",
       "    </tr>\n",
       "    <tr>\n",
       "      <th>4</th>\n",
       "      <td>DMC 홍보관</td>\n",
       "      <td>03926 서울특별시 마포구 월드컵북로 366 (상암동)</td>\n",
       "    </tr>\n",
       "  </tbody>\n",
       "</table>\n",
       "</div>"
      ],
      "text/plain": [
       "      관광지명                              도로명주소\n",
       "0   세종문화회관   03172 서울 종로구 세종대로 175  (세종문화회관) \n",
       "1  명동실탄사격장       04537 서울 중구 명동8가길 27 선샤인빌딩3층\n",
       "2    서울랜드   13829 경기 과천시 광명로 181 (막계동, 서울랜드) \n",
       "3      예지원    04605 서울특별시 중구 장충단로 72 (장충동2가) \n",
       "4  DMC 홍보관   03926 서울특별시 마포구 월드컵북로 366 (상암동) "
      ]
     },
     "execution_count": 7,
     "metadata": {},
     "output_type": "execute_result"
    }
   ],
   "source": [
    "# 도로명주소만 남기기\n",
    "df.rename(columns= {'상호명':'관광지명', '신주소':'도로명주소'}, inplace=True)\n",
    "df = df[['관광지명', '도로명주소']]\n",
    "df.reset_index(drop=True,inplace=True)\n",
    "df.head()"
   ]
  },
  {
   "cell_type": "code",
   "execution_count": 8,
   "metadata": {},
   "outputs": [
    {
     "data": {
      "text/plain": [
       "관광지명     200\n",
       "도로명주소    198\n",
       "dtype: int64"
      ]
     },
     "execution_count": 8,
     "metadata": {},
     "output_type": "execute_result"
    }
   ],
   "source": [
    "df.nunique()"
   ]
  },
  {
   "cell_type": "code",
   "execution_count": 11,
   "metadata": {},
   "outputs": [],
   "source": [
    "df.to_csv('data/서울_문화_명소.csv',index=False)"
   ]
  },
  {
   "cell_type": "code",
   "execution_count": 1,
   "metadata": {},
   "outputs": [],
   "source": [
    "import numpy as np\n",
    "import pandas as pd\n",
    "import requests,json,os\n",
    "from urllib.parse import quote \n",
    "import os,glob"
   ]
  },
  {
   "cell_type": "code",
   "execution_count": 2,
   "metadata": {},
   "outputs": [
    {
     "data": {
      "text/html": [
       "<div>\n",
       "<style scoped>\n",
       "    .dataframe tbody tr th:only-of-type {\n",
       "        vertical-align: middle;\n",
       "    }\n",
       "\n",
       "    .dataframe tbody tr th {\n",
       "        vertical-align: top;\n",
       "    }\n",
       "\n",
       "    .dataframe thead th {\n",
       "        text-align: right;\n",
       "    }\n",
       "</style>\n",
       "<table border=\"1\" class=\"dataframe\">\n",
       "  <thead>\n",
       "    <tr style=\"text-align: right;\">\n",
       "      <th></th>\n",
       "      <th>관광지명</th>\n",
       "      <th>도로명주소</th>\n",
       "    </tr>\n",
       "  </thead>\n",
       "  <tbody>\n",
       "    <tr>\n",
       "      <th>0</th>\n",
       "      <td>세종문화회관</td>\n",
       "      <td>03172 서울 종로구 세종대로 175  (세종문화회관)</td>\n",
       "    </tr>\n",
       "    <tr>\n",
       "      <th>1</th>\n",
       "      <td>명동실탄사격장</td>\n",
       "      <td>04537 서울 중구 명동8가길 27 선샤인빌딩3층</td>\n",
       "    </tr>\n",
       "    <tr>\n",
       "      <th>2</th>\n",
       "      <td>서울랜드</td>\n",
       "      <td>13829 경기 과천시 광명로 181 (막계동, 서울랜드)</td>\n",
       "    </tr>\n",
       "    <tr>\n",
       "      <th>3</th>\n",
       "      <td>예지원</td>\n",
       "      <td>04605 서울특별시 중구 장충단로 72 (장충동2가)</td>\n",
       "    </tr>\n",
       "    <tr>\n",
       "      <th>4</th>\n",
       "      <td>DMC 홍보관</td>\n",
       "      <td>03926 서울특별시 마포구 월드컵북로 366 (상암동)</td>\n",
       "    </tr>\n",
       "  </tbody>\n",
       "</table>\n",
       "</div>"
      ],
      "text/plain": [
       "      관광지명                              도로명주소\n",
       "0   세종문화회관   03172 서울 종로구 세종대로 175  (세종문화회관) \n",
       "1  명동실탄사격장       04537 서울 중구 명동8가길 27 선샤인빌딩3층\n",
       "2    서울랜드   13829 경기 과천시 광명로 181 (막계동, 서울랜드) \n",
       "3      예지원    04605 서울특별시 중구 장충단로 72 (장충동2가) \n",
       "4  DMC 홍보관   03926 서울특별시 마포구 월드컵북로 366 (상암동) "
      ]
     },
     "execution_count": 2,
     "metadata": {},
     "output_type": "execute_result"
    }
   ],
   "source": [
    "df= pd.read_csv('data/서울_문화_명소.csv', encoding='utf-8', sep=',')\n",
    "df.head()"
   ]
  },
  {
   "cell_type": "code",
   "execution_count": 3,
   "metadata": {},
   "outputs": [
    {
     "data": {
      "text/plain": [
       "0"
      ]
     },
     "execution_count": 3,
     "metadata": {},
     "output_type": "execute_result"
    }
   ],
   "source": [
    "df.isna().sum().sum()"
   ]
  },
  {
   "cell_type": "code",
   "execution_count": 4,
   "metadata": {},
   "outputs": [
    {
     "data": {
      "text/plain": [
       "'한강 자전거 코스'"
      ]
     },
     "execution_count": 4,
     "metadata": {},
     "output_type": "execute_result"
    }
   ],
   "source": [
    "df['관광지명'][150]"
   ]
  },
  {
   "cell_type": "code",
   "execution_count": 5,
   "metadata": {},
   "outputs": [
    {
     "data": {
      "text/plain": [
       "'143-300'"
      ]
     },
     "execution_count": 5,
     "metadata": {},
     "output_type": "execute_result"
    }
   ],
   "source": [
    "df.도로명주소[150].split(' ')[0]"
   ]
  },
  {
   "cell_type": "code",
   "execution_count": 6,
   "metadata": {},
   "outputs": [
    {
     "data": {
      "text/plain": [
       "['서울 종로구 세종대로 175  (세종문화회관) ',\n",
       " '서울 중구 명동8가길 27 선샤인빌딩3층',\n",
       " '경기 과천시 광명로 181 (막계동, 서울랜드) ',\n",
       " '서울특별시 중구 장충단로 72 (장충동2가) ',\n",
       " '서울특별시 마포구 월드컵북로 366 (상암동) ',\n",
       " '서울 영등포구 여의공원로 13 (한국방송공사) ',\n",
       " '서울 중구 명동8가길 47 (충무로2가) 동양빌딩 2층',\n",
       " '서울특별시 광진구 동일로4길 56-10 (자양동) ',\n",
       " '서울 서초구 남부순환로 2364 (서초동, 국립국악원) ',\n",
       " '서울 광진구 구의강변로 45 (구의동, 구의동 복합빌딩) 지하 2층',\n",
       " '서울 서초구 강남대로107길 5 (잠원동, 크레신사옥) ',\n",
       " '서울 강남구 학동로 342 (논현동, 에스케이 허브블루) 209',\n",
       " '서울 영등포구 여의서로 160 (여의도동) ',\n",
       " '서울 마포구 어울마당로 35 (서교동) ',\n",
       " '서울 영등포구 여의동로 330 (여의도동, 한강사업본부 여의도안내센터) ',\n",
       " '서울 구로구 경인로 430 (고척동, 고척스카이돔) ',\n",
       " ' ',\n",
       " '서울특별시 종로구 계동길 33-13 ',\n",
       " '서울 종로구 계동4길 3 (계동) ',\n",
       " '서울 종로구 북촌로5길 19-12 (재동) ',\n",
       " '서울 종로구 북촌로11길 35-16 ',\n",
       " '서울 중구 정동길 3  ',\n",
       " '서울 중구 동호로 249 (장충동2가, 신라호텔) ',\n",
       " '서울 종로구 율곡로 102 (와룡동, 서울돈화문국악당) ',\n",
       " '서울 마포구 와우산로 146 (창전동, 그레이스빌딩) ',\n",
       " '서울 성동구 연무장1길 7-1 (성수동2가) ',\n",
       " '서울 마포구 양화로 176 (동교동, 동교동 스타피카소) 8층',\n",
       " '서울 용산구 회나무로39길 33 (이태원동) ',\n",
       " '서울 종로구 옥인1길 34 (옥인동, 박노수 가옥) ',\n",
       " '서울 강남구 논현로 425 (역삼동, 마이다스빌딩) 마이다스 빌딩 2층',\n",
       " '서울 중구 소월로 50 (힐튼호텔) ',\n",
       " '서울 종로구 가회동 218 ',\n",
       " '서울 종로구 창덕궁5길 4 (원서동)   ',\n",
       " '서울특별시 종로구 효자로 17  (통의동) ',\n",
       " '서울특별시 양천구 안양천로 939  (목동) ',\n",
       " '서울특별시 영등포구 여의동로 330 한강사업본부 여의도안내센터 ',\n",
       " '서울 종로구 대학로12길 46 (삼광빌딩) ',\n",
       " '서울 광진구 천호대로 664 (유니버설아트센터) ',\n",
       " '서울 영등포구 여의공원로 13 (KBS 신관) / 여의대방로 359 (KBS별관) ',\n",
       " '서울 종로구 자하문로13길 4-9 (통인동) ',\n",
       " '서울 종로구 삼일대로 386 (관철동, 시네코아) ',\n",
       " '서울 종로구 서순라길 83 (서울주얼리센터 제2관) ',\n",
       " '서울 마포구 백범로31길 21 (공덕동, 서울창업허브, 서울복지타운) ',\n",
       " '서울 서대문구 연세로5길 11 (창천동, 신촌플레이버스) ',\n",
       " '서울 관악구 은천로 28 (봉천동, 봉일프라자) 3층',\n",
       " '서울 마포구 동교로 282 (연남동) 2층',\n",
       " '서울 강남구 영동대로138길 23 (청담동) 지하 1층 ',\n",
       " '서울 용산구 이태원로 294 (한남동, 블루스퀘어) 3층 북파크라운지',\n",
       " '서울 종로구 종로 1 (종로1가, 교보생명빌딩) 지하 1층',\n",
       " '서울 종로구 종로33길 15 (연지동, 두산아트센터) ',\n",
       " '서울 송파구 삼학사로 136 (잠실동, 서울놀이마당) ',\n",
       " '서울 강남구 봉은사로 406 (삼성동, 서울중요무형문화재전수회관) ',\n",
       " '서울 종로구 세종대로 178 (세종로, KT 광화문 빌딩 West) ',\n",
       " '서울특별시 서초구 남부순환로 2406  (서초동) ',\n",
       " '서울특별시 중구 소파로 138  (예장동) ',\n",
       " '서울 종로구 계동길 103-7 (계동) ',\n",
       " '서울특별시 성북구 돈암동 ~ 정릉동 일대',\n",
       " '서울특별시 영등포구 국제금융로 10  (여의도동) ',\n",
       " '서울특별시 서초구 서초대로 397 (서초동) ',\n",
       " '서울특별시 광진구 워커힐로 177 (광장동, 그랜드워커힐서울) ',\n",
       " '서울 종로구 창덕궁5길 10 (원서동) ',\n",
       " '서울 종로구 창덕궁길 142 (원서동), 101호',\n",
       " '서울 종로구 인사동길 12 (인사동, 대일빌딩) 지하 1층',\n",
       " '서울 중구 명동길 26 (명동2가, 유네스코회관) ',\n",
       " '서울 서초구 올림픽대로 2085-14 세빛섬 골든블루 마리나',\n",
       " '서울 종로구 율곡로1길 36 (사간동) ',\n",
       " '서울 용산구 대사관로 35 (한남동) ',\n",
       " '서울 종로구 경희궁1길 1 (신문로2가, 주식회사 투바앤) ',\n",
       " '서울 종로구 북촌로5나길 114 (삼청동) ',\n",
       " '서울 중구 청계천로 160 (산림동, 세운청계상가) ',\n",
       " '서울 마포구 월드컵북로1길 26-9 (서교동, 선선빌딩) 2층',\n",
       " '서울 은평구 연서로50길 19 (진관동) ',\n",
       " '서울특별시 강남구 테헤란로87길 58  (삼성동) ',\n",
       " '서울특별시 종로구 창덕궁5길 16, 궁중음식연구원 (원서동) ',\n",
       " '서울 종로구 돈화문로 71 (와룡동, 떡박물관) ',\n",
       " '서울특별시 종로구 대학로12길 38, 정보빌딩 1층 (동숭동) ',\n",
       " '서울 중구 퇴계로 387 (흥인동, 충무아트센터) ',\n",
       " '서울 강남구 테헤란로7길 32 (역삼동, 국기원) ',\n",
       " '서울 마포구 증산로 14 (상암동, 에너지 제로 하우스) ',\n",
       " '서울 중구 동호로17길 173 (신당동) ',\n",
       " '서울 종로구 삼일대로30길 12 (낙원동, 서울조리전문학교) 3층',\n",
       " '서울 양천구 오목로 321-1 (목동, 서경빌딩) ',\n",
       " '서울 종로구 율곡로 3길 66-2 ',\n",
       " '서울 종로구 우정국로 56 (견지동) 템플스테이 종합정보센터 1층',\n",
       " '서울 성동구 자동차시장길 49 (용답동, 서울새활용플라자) ',\n",
       " '서울 은평구 통일로 684 (녹번동) ',\n",
       " '서울 서초구 태봉로 114 (우면동, 한국교원단체총연합) ',\n",
       " '서울 종로구 송월길 14-3 (신문로2가, 국도빌딩) ',\n",
       " '서울 광진구 워커힐로 177 (광장동, 워커힐호텔) ',\n",
       " '서울 중랑구 망우로87길 110 (망우동, 캠핑장관리소) ',\n",
       " '서울 종로구 인사동길 49 (관훈동) 안녕인사동 6층',\n",
       " '서울 동대문구 왕산로 22 (라마다 앙코르 동대문 호텔) 맹그로브 신설점',\n",
       " '서울 종로구 인왕산로 172 ',\n",
       " '서울 종로구 계동6길 13 (계동) ',\n",
       " '서울 마포구 동교로23길 64 (연남동) 지하',\n",
       " '서울 성동구 연무장17길 10 (성수동2가) ',\n",
       " '서울 중구 을지로 281 (을지로7가) 동대문디자인플라자 지하 2층 DDP 마켓 ',\n",
       " '서울 마포구 양화로 지하 188 (동교동, 홍대입구역) ',\n",
       " '서울특별시 강남구 삼성로 648 ',\n",
       " '서울 종로구 율곡로10길 13 (권농동) ',\n",
       " '서울특별시 송파구 올림픽로 25 (잠실동) ',\n",
       " '서울특별시 영등포구 도림로128가길 13-8 ',\n",
       " '서울 마포구 양화로16길 29 (홍익몰) ',\n",
       " '서울특별시 강남구 언주로150길 34 (논현동) ',\n",
       " '서울 종로구 북촌로12길 24-5 (가회동) ',\n",
       " '서울 노원구 한글비석로 160 (하계동, 서울시립과학관) ',\n",
       " '서울 마포구 와우산로 121  ',\n",
       " '서울 마포구 어울마당로 65 (서교동, 상상마당빌딩) ',\n",
       " '서울 중구 퇴계로36길 10 (필동2가, 한국의집) ',\n",
       " '서울 영등포구 63로 50 (63한화생명빌딩) ',\n",
       " '서울 성동구 성수이로14길 14 (성수동2가) ',\n",
       " '서울 종로구 창의문로5가길 2 (부암동) ',\n",
       " '서울시 성동구 뚝섬로 13길 33',\n",
       " '서울 용산구 한강대로 42 (한강로3가, 용산트레이드센터) 하이브 인사이트 지하 1, 2층',\n",
       " '서울 영등포구 63로 50 (여의도동, 63한화생명빌딩) ',\n",
       " '서울 양천구 목동동로 111(신정동) ',\n",
       " '서울 성북구 장위로21나길 11 (장위동) ',\n",
       " '서울 종로구 북촌로11가길 5 (가회동) ',\n",
       " '서울 강남구 논현로134길 9 (논현동) 신창빌딩 6층',\n",
       " '서울 중구 퇴계로34길 28 (남산한옥마을) ',\n",
       " '서울 광진구 능동로 238 (능동, 서울시민안전체험관광나루) ',\n",
       " '서울 중구 마른내로 47 (초동, 명보극장) ',\n",
       " '서울 동작구 보라매로5길 28 동작구민회관 ',\n",
       " '서울 용산구 소월로 322 (한남동, 하얏트호텔) ',\n",
       " '서울 종로구 지봉로 19 (시즌빌딩) 지하 1층',\n",
       " ' 서울 성동구 강변북로 257 (성수동 1가)  ',\n",
       " '서울 마포구 월드컵북로 19 (서교동, 대상빌딩) 3층',\n",
       " '서울특별시 강서구 방화대로 94 (외발산동) ',\n",
       " '서울 광진구 워커힐로 177 (광장동, 그랜드워커힐서울) ',\n",
       " '서울 영등포구 의사당대로 지하 101 (여의도역) ',\n",
       " '서울 광진구 능동로 209 (군자동, 세종대학교) ',\n",
       " '서울 중구 정동길 43 (정동, 정동극장) ',\n",
       " '서울 종로구 인사동길 44 쌈지길 (관훈동) ',\n",
       " '서울 용산구 한강대로23길 55 (한강로3가, 용산역) 현대 아이파크몰 6층 101호 팝콘D스퀘어',\n",
       " '서울 도봉구 마들로 932 (도봉동, 평화문화진지) ',\n",
       " '서울 관악구 낙성대로 101 (봉천동, 서울시과학전시관) ',\n",
       " '서울 구로구 오리로 1189 (오류동, 금강프라자) ',\n",
       " '서울시 서초구 올림픽대로 2085-14 (반포동)',\n",
       " '서울시 강남구 논현로 332 계유빌딩 B1',\n",
       " '서울 용산구 백범로87길 51 (원효로1가) 콤콤오락실',\n",
       " '서울 강남구 선릉로 818 (청담동, 디자이너클럽) 스매싱볼 청담점',\n",
       " '서울 관악구 남부순환로 1921-1 (봉천동, 범산빌딩) ',\n",
       " '서울 송파구 올림픽로 300 (신천동, 롯데월드타워앤드롯데월드몰) ',\n",
       " '서울 마포구 포은로 49 (합정동) ',\n",
       " '서울 송파구 송파대로37길 77 (가락동) ',\n",
       " '서울 강남구 논현로153길 53 (신사동, 피겨앤그라운드) ',\n",
       " '서울 종로구 필운대로5나길 3-1 (누하동) ',\n",
       " '서울 송파구 올림픽로 240 (롯데월드) ',\n",
       " '서울특별시 마포구 월드컵로 240 (성산동) 월드컵주경기장',\n",
       " '서울 광진구 워커힐로 177 (광장동, 그랜드워커힐서울) ',\n",
       " '한강 공원 ',\n",
       " '서울 중구 명동길 35 (명동1가, 명동예술극장) ',\n",
       " '서울 중구 명동8길 27 (명동2가, 엠 플라자) 5층',\n",
       " '서울 중구 소공로 48 (회현동2가, 우리금융남산타워) 1~2층',\n",
       " '서울 동대문구 천호대로4길 21 (신설동, 서울풍물시장) ',\n",
       " '서울 중구 명동길 26 (명동2가, 유네스코회관) ',\n",
       " '서울특별시 강남구 테헤란로92길 12-9  (대치동) ',\n",
       " '서울 강남구 선릉로153길 26 (신사동, 성준빌딩) 5층',\n",
       " '서울 중구 세종대로 110 (태평로1가, 서울시청) ',\n",
       " '서울 강남구 학동로97길 38 (청담동, 더하우스) 4층 ',\n",
       " '서울 영등포구 여의공원로 13 (여의도동, 한국방송공사) ',\n",
       " '서울 종로구 북촌로 50 3층 ',\n",
       " '서울 종로구 창덕궁5길 4 (원서동) ',\n",
       " '서울 종로구 북촌로11가길 14 (가회동) ',\n",
       " '서울 종로구 북촌로11나길 1-6 (가회동) ',\n",
       " '서울 종로구 창덕궁1가길 19 (원서동) ',\n",
       " '서울 강남구 언주로148길 5 (논현동) ',\n",
       " '서울 광진구 자양로5길 33 (자양동, 와이엠프라젠스파) ',\n",
       " '서울 성동구 청계천로 530 (마장동, 청계천박물관) 청계천 박물관 앞',\n",
       " '서울 중구 퇴계로 123 (충무로2가, 하이헤리엇) 10, 11F',\n",
       " '서울 동작구 여의대방로54길 18 (대방동, 서울여성플라자) ',\n",
       " '서울 마포구 잔다리로 5-1 ',\n",
       " '서울 서초구 서초대로73길 40 (서초동, 강남오피스텔) 지하 1층',\n",
       " '서울 광진구 아차산로 200 (자양동) 커먼그라운드 3층',\n",
       " '서울 중구 창경궁로 20 (예관동) 로컬스티치 크리에이터 타운 을지로',\n",
       " '서울 은평구 증산로17길 50 (신사동, 내를 건너서 숲으로 도서관) ',\n",
       " '서울 성북구 솔샘로7길 23 (정릉동) ',\n",
       " '서울 강남구 영동대로 513 코엑스몰 B1 ',\n",
       " '서울 중구 마른내로 47 (초동, 명보극장) 3층 점프전용극장',\n",
       " '서울 종로구 동숭길 122 (재단법인서울문화재단(대학로)) ',\n",
       " '서울특별시 종로구 대학로8길 7 (동숭동) ',\n",
       " '서울 노원구 화랑로 681 (공릉동, 태강릉) ',\n",
       " '서울특별시 종로구 윤보선길 27 (안국동) ',\n",
       " '서울 종로구 인사동12길 1 (관훈동) ',\n",
       " '서울특별시 종로구 인사동길 44, 지하 1층 (관훈동) ',\n",
       " '서울 마포구 희우정로1길 3 (YG엔터테인먼트) ',\n",
       " '서울 강동구 강동대로 205 (성내동, JYP Center) ',\n",
       " '서울 강남구 도산대로85길 46 ',\n",
       " '서울 강남구 도산대로 310 (논현동, 916빌딩) 5층',\n",
       " '서울 마포구 어울마당로 61 (서교동) ',\n",
       " '서울특별시 강남구 테헤란로79길 7 (삼성동) ',\n",
       " '서울시 마포구 동교로 19길 48 ',\n",
       " '서울 종로구 계동길 37 (계동) ',\n",
       " '서울 용산구 남산공원길 105 (용산동2가, YTN서울타워) ',\n",
       " '서울 성동구 연무장7길 12 (성수동2가, 세대빌딩) ',\n",
       " '서울 동대문구 회기로 117-3 (회기동, 한국농촌경제연구원) ',\n",
       " '서울 구로구 오류로 36-25 (오류동, 50플러스 남부캠퍼스) ',\n",
       " '서울 강남구 봉은사로 155 (논현동, 호텔 카푸치노) ',\n",
       " '서울 서초구 신반포로11길 39 (한강반포지구 내 유선장) The River',\n",
       " '서울 용산구 두텁바위로1길 69-1 (후암동) ']"
      ]
     },
     "execution_count": 6,
     "metadata": {},
     "output_type": "execute_result"
    }
   ],
   "source": [
    "# 도로명주소에서 우편번호 제거\n",
    "addr_list = []\n",
    "for i in df.index:\n",
    "    addr1 = df.도로명주소[i].split(' ')[1:]\n",
    "    df.도로명주소[i]= ' '.join(addr1)\n",
    "    addr_list.append(df.도로명주소[i])\n",
    "    # df.도로명주소[i] = df.도로명주소[i].split(' ')[1:]\n",
    "addr_list"
   ]
  },
  {
   "cell_type": "code",
   "execution_count": 3,
   "metadata": {},
   "outputs": [
    {
     "data": {
      "text/plain": [
       "0                      서울 종로구 세종대로 175  (세종문화회관) \n",
       "1                          서울 중구 명동8가길 27 선샤인빌딩3층\n",
       "2                     경기 과천시 광명로 181 (막계동, 서울랜드) \n",
       "3                       서울특별시 중구 장충단로 72 (장충동2가) \n",
       "4                      서울특별시 마포구 월드컵북로 366 (상암동) \n",
       "                          ...                    \n",
       "195           서울 동대문구 회기로 117-3 (회기동, 한국농촌경제연구원) \n",
       "196          서울 구로구 오류로 36-25 (오류동, 50플러스 남부캠퍼스) \n",
       "197               서울 강남구 봉은사로 155 (논현동, 호텔 카푸치노) \n",
       "198    서울 서초구 신반포로11길 39 (한강반포지구 내 유선장) The River\n",
       "199                    서울 용산구 두텁바위로1길 69-1 (후암동) \n",
       "Name: 도로명주소, Length: 200, dtype: object"
      ]
     },
     "execution_count": 3,
     "metadata": {},
     "output_type": "execute_result"
    }
   ],
   "source": [
    "# 도로명주소에서 우편번호 제거\n",
    "for i in df.index:\n",
    "    addr1 = df.도로명주소[i].split(' ')[1:]\n",
    "    df.도로명주소[i] = (' '.join(addr1))\n",
    "df.도로명주소"
   ]
  },
  {
   "cell_type": "code",
   "execution_count": 40,
   "metadata": {},
   "outputs": [
    {
     "data": {
      "text/plain": [
       "str"
      ]
     },
     "execution_count": 40,
     "metadata": {},
     "output_type": "execute_result"
    }
   ],
   "source": [
    "type(df.도로명주소.values[1])"
   ]
  },
  {
   "cell_type": "code",
   "execution_count": 25,
   "metadata": {},
   "outputs": [],
   "source": [
    "# 2 kakao API로 도로명 주소 구하는 함수\n",
    "def kakao_location(place):\n",
    "    with open('data/main/key/kakaoapikey.txt') as f_:\n",
    "        kakao_key = f_.read()\n",
    "    base_url = \"https://dapi.kakao.com/v2/local/search/address.json\"\n",
    "    url = f'{base_url}?query={quote(place)}'\n",
    "    header = {'Authorization':f'KakaoAK {kakao_key}'}\n",
    "    result = requests.get(url, headers=header).json()\n",
    "    lat_ = float(result['documents'][0]['y'])\n",
    "    lng_ = float(result['documents'][0]['x'])\n",
    "    return lat_,lng_"
   ]
  },
  {
   "cell_type": "code",
   "execution_count": 67,
   "metadata": {},
   "outputs": [
    {
     "name": "stdout",
     "output_type": "stream",
     "text": [
      "11 MBK 엔터테인먼트\n",
      "16 한류관광지\n",
      "56 아리랑 영화의 거리\n",
      "150 한강 자전거 코스\n",
      "153 서울애니메이션센터\n",
      "169 CGV 씨네 라이브러리\n",
      "190 호텔 더 디자이너스 삼성점\n"
     ]
    }
   ],
   "source": [
    "# 2\n",
    "temp1 =[]\n",
    "for i in df.index:\n",
    "    try:\n",
    "        # target = df['관광지명'][i].strip()\n",
    "        temp1.append(kakao_location(df.도로명주소.values[i]))\n",
    "    except:\n",
    "        print(i, df.관광지명[i])\n",
    "        \n",
    "df_test = pd.DataFrame(temp1,columns=('lat','lng'))\n",
    "df2 = pd.concat([df, df_test], axis=1)"
   ]
  },
  {
   "cell_type": "code",
   "execution_count": 65,
   "metadata": {},
   "outputs": [
    {
     "name": "stdout",
     "output_type": "stream",
     "text": [
      "190 호텔 더 디자이너스 삼성점\n"
     ]
    }
   ],
   "source": [
    "# 2\n",
    "temp1 =[]\n",
    "for i in df.index[190:]:\n",
    "    try:\n",
    "        # target = df['관광지명'][i].strip()\n",
    "        temp1.append(kakao_location(df.도로명주소.values[i]))\n",
    "    except:\n",
    "        print(i, df.관광지명[i])\n",
    "        \n",
    "df_test = pd.DataFrame(temp1,columns=('lat','lng'))\n",
    "df2 = pd.concat([df, df_test], axis=1)"
   ]
  },
  {
   "cell_type": "code",
   "execution_count": 68,
   "metadata": {},
   "outputs": [
    {
     "data": {
      "text/html": [
       "<div>\n",
       "<style scoped>\n",
       "    .dataframe tbody tr th:only-of-type {\n",
       "        vertical-align: middle;\n",
       "    }\n",
       "\n",
       "    .dataframe tbody tr th {\n",
       "        vertical-align: top;\n",
       "    }\n",
       "\n",
       "    .dataframe thead th {\n",
       "        text-align: right;\n",
       "    }\n",
       "</style>\n",
       "<table border=\"1\" class=\"dataframe\">\n",
       "  <thead>\n",
       "    <tr style=\"text-align: right;\">\n",
       "      <th></th>\n",
       "      <th>관광지명</th>\n",
       "      <th>도로명주소</th>\n",
       "      <th>lat</th>\n",
       "      <th>lng</th>\n",
       "    </tr>\n",
       "  </thead>\n",
       "  <tbody>\n",
       "    <tr>\n",
       "      <th>190</th>\n",
       "      <td>호텔 더 디자이너스 삼성점</td>\n",
       "      <td>서울특별시 강남구 테헤란로79길 7 (삼성동)</td>\n",
       "      <td>37.506900</td>\n",
       "      <td>127.031496</td>\n",
       "    </tr>\n",
       "    <tr>\n",
       "      <th>191</th>\n",
       "      <td>리얼케이팝댄스(REAL K-POP DANCE)</td>\n",
       "      <td>서울시 마포구 동교로 19길 48</td>\n",
       "      <td>37.507195</td>\n",
       "      <td>126.991688</td>\n",
       "    </tr>\n",
       "    <tr>\n",
       "      <th>192</th>\n",
       "      <td>북촌문화센터</td>\n",
       "      <td>서울 종로구 계동길 37 (계동)</td>\n",
       "      <td>37.547082</td>\n",
       "      <td>126.975475</td>\n",
       "    </tr>\n",
       "    <tr>\n",
       "      <th>193</th>\n",
       "      <td>남산서울타워 한복문화 체험관</td>\n",
       "      <td>서울 용산구 남산공원길 105 (용산동2가, YTN서울타워)</td>\n",
       "      <td>NaN</td>\n",
       "      <td>NaN</td>\n",
       "    </tr>\n",
       "    <tr>\n",
       "      <th>194</th>\n",
       "      <td>성수동 유니온스타 볼링클럽</td>\n",
       "      <td>서울 성동구 연무장7길 12 (성수동2가, 세대빌딩)</td>\n",
       "      <td>NaN</td>\n",
       "      <td>NaN</td>\n",
       "    </tr>\n",
       "    <tr>\n",
       "      <th>195</th>\n",
       "      <td>서울바이오허브</td>\n",
       "      <td>서울 동대문구 회기로 117-3 (회기동, 한국농촌경제연구원)</td>\n",
       "      <td>NaN</td>\n",
       "      <td>NaN</td>\n",
       "    </tr>\n",
       "    <tr>\n",
       "      <th>196</th>\n",
       "      <td>서울시50플러스 남부캠퍼스</td>\n",
       "      <td>서울 구로구 오류로 36-25 (오류동, 50플러스 남부캠퍼스)</td>\n",
       "      <td>NaN</td>\n",
       "      <td>NaN</td>\n",
       "    </tr>\n",
       "    <tr>\n",
       "      <th>197</th>\n",
       "      <td>호텔 카푸치노</td>\n",
       "      <td>서울 강남구 봉은사로 155 (논현동, 호텔 카푸치노)</td>\n",
       "      <td>NaN</td>\n",
       "      <td>NaN</td>\n",
       "    </tr>\n",
       "    <tr>\n",
       "      <th>198</th>\n",
       "      <td>더리버</td>\n",
       "      <td>서울 서초구 신반포로11길 39 (한강반포지구 내 유선장) The River</td>\n",
       "      <td>NaN</td>\n",
       "      <td>NaN</td>\n",
       "    </tr>\n",
       "    <tr>\n",
       "      <th>199</th>\n",
       "      <td>후암서재</td>\n",
       "      <td>서울 용산구 두텁바위로1길 69-1 (후암동)</td>\n",
       "      <td>NaN</td>\n",
       "      <td>NaN</td>\n",
       "    </tr>\n",
       "  </tbody>\n",
       "</table>\n",
       "</div>"
      ],
      "text/plain": [
       "                          관광지명                                       도로명주소  \\\n",
       "190             호텔 더 디자이너스 삼성점                  서울특별시 강남구 테헤란로79길 7 (삼성동)    \n",
       "191  리얼케이팝댄스(REAL K-POP DANCE)                         서울시 마포구 동교로 19길 48    \n",
       "192                     북촌문화센터                         서울 종로구 계동길 37 (계동)    \n",
       "193            남산서울타워 한복문화 체험관          서울 용산구 남산공원길 105 (용산동2가, YTN서울타워)    \n",
       "194             성수동 유니온스타 볼링클럽              서울 성동구 연무장7길 12 (성수동2가, 세대빌딩)    \n",
       "195                    서울바이오허브         서울 동대문구 회기로 117-3 (회기동, 한국농촌경제연구원)    \n",
       "196             서울시50플러스 남부캠퍼스        서울 구로구 오류로 36-25 (오류동, 50플러스 남부캠퍼스)    \n",
       "197                    호텔 카푸치노             서울 강남구 봉은사로 155 (논현동, 호텔 카푸치노)    \n",
       "198                        더리버  서울 서초구 신반포로11길 39 (한강반포지구 내 유선장) The River   \n",
       "199                       후암서재                  서울 용산구 두텁바위로1길 69-1 (후암동)    \n",
       "\n",
       "           lat         lng  \n",
       "190  37.506900  127.031496  \n",
       "191  37.507195  126.991688  \n",
       "192  37.547082  126.975475  \n",
       "193        NaN         NaN  \n",
       "194        NaN         NaN  \n",
       "195        NaN         NaN  \n",
       "196        NaN         NaN  \n",
       "197        NaN         NaN  \n",
       "198        NaN         NaN  \n",
       "199        NaN         NaN  "
      ]
     },
     "execution_count": 68,
     "metadata": {},
     "output_type": "execute_result"
    }
   ],
   "source": [
    "df2.tail(10)"
   ]
  },
  {
   "cell_type": "code",
   "execution_count": 72,
   "metadata": {},
   "outputs": [
    {
     "data": {
      "text/html": [
       "<div>\n",
       "<style scoped>\n",
       "    .dataframe tbody tr th:only-of-type {\n",
       "        vertical-align: middle;\n",
       "    }\n",
       "\n",
       "    .dataframe tbody tr th {\n",
       "        vertical-align: top;\n",
       "    }\n",
       "\n",
       "    .dataframe thead th {\n",
       "        text-align: right;\n",
       "    }\n",
       "</style>\n",
       "<table border=\"1\" class=\"dataframe\">\n",
       "  <thead>\n",
       "    <tr style=\"text-align: right;\">\n",
       "      <th></th>\n",
       "      <th>관광지명</th>\n",
       "      <th>도로명주소</th>\n",
       "      <th>lat</th>\n",
       "      <th>lng</th>\n",
       "    </tr>\n",
       "  </thead>\n",
       "  <tbody>\n",
       "    <tr>\n",
       "      <th>0</th>\n",
       "      <td>세종문화회관</td>\n",
       "      <td>서울 종로구 세종대로 175  (세종문화회관)</td>\n",
       "      <td>37.571848</td>\n",
       "      <td>126.976168</td>\n",
       "    </tr>\n",
       "    <tr>\n",
       "      <th>1</th>\n",
       "      <td>명동실탄사격장</td>\n",
       "      <td>서울 중구 명동8가길 27 선샤인빌딩3층</td>\n",
       "      <td>37.562001</td>\n",
       "      <td>126.986564</td>\n",
       "    </tr>\n",
       "    <tr>\n",
       "      <th>2</th>\n",
       "      <td>서울랜드</td>\n",
       "      <td>경기 과천시 광명로 181 (막계동, 서울랜드)</td>\n",
       "      <td>37.436547</td>\n",
       "      <td>127.024045</td>\n",
       "    </tr>\n",
       "    <tr>\n",
       "      <th>3</th>\n",
       "      <td>예지원</td>\n",
       "      <td>서울특별시 중구 장충단로 72 (장충동2가)</td>\n",
       "      <td>37.551638</td>\n",
       "      <td>127.002523</td>\n",
       "    </tr>\n",
       "    <tr>\n",
       "      <th>4</th>\n",
       "      <td>DMC 홍보관</td>\n",
       "      <td>서울특별시 마포구 월드컵북로 366 (상암동)</td>\n",
       "      <td>37.577695</td>\n",
       "      <td>126.892115</td>\n",
       "    </tr>\n",
       "    <tr>\n",
       "      <th>...</th>\n",
       "      <td>...</td>\n",
       "      <td>...</td>\n",
       "      <td>...</td>\n",
       "      <td>...</td>\n",
       "    </tr>\n",
       "    <tr>\n",
       "      <th>188</th>\n",
       "      <td>씨제스사옥</td>\n",
       "      <td>서울 강남구 도산대로 310 (논현동, 916빌딩) 5층</td>\n",
       "      <td>37.592404</td>\n",
       "      <td>127.049177</td>\n",
       "    </tr>\n",
       "    <tr>\n",
       "      <th>189</th>\n",
       "      <td>티켓라운지 씬디</td>\n",
       "      <td>서울 마포구 어울마당로 61 (서교동)</td>\n",
       "      <td>37.488474</td>\n",
       "      <td>126.841845</td>\n",
       "    </tr>\n",
       "    <tr>\n",
       "      <th>190</th>\n",
       "      <td>호텔 더 디자이너스 삼성점</td>\n",
       "      <td>서울특별시 강남구 테헤란로79길 7 (삼성동)</td>\n",
       "      <td>37.506900</td>\n",
       "      <td>127.031496</td>\n",
       "    </tr>\n",
       "    <tr>\n",
       "      <th>191</th>\n",
       "      <td>리얼케이팝댄스(REAL K-POP DANCE)</td>\n",
       "      <td>서울시 마포구 동교로 19길 48</td>\n",
       "      <td>37.507195</td>\n",
       "      <td>126.991688</td>\n",
       "    </tr>\n",
       "    <tr>\n",
       "      <th>192</th>\n",
       "      <td>북촌문화센터</td>\n",
       "      <td>서울 종로구 계동길 37 (계동)</td>\n",
       "      <td>37.547082</td>\n",
       "      <td>126.975475</td>\n",
       "    </tr>\n",
       "  </tbody>\n",
       "</table>\n",
       "<p>193 rows × 4 columns</p>\n",
       "</div>"
      ],
      "text/plain": [
       "                          관광지명                            도로명주소        lat  \\\n",
       "0                       세종문화회관       서울 종로구 세종대로 175  (세종문화회관)   37.571848   \n",
       "1                      명동실탄사격장           서울 중구 명동8가길 27 선샤인빌딩3층  37.562001   \n",
       "2                        서울랜드       경기 과천시 광명로 181 (막계동, 서울랜드)   37.436547   \n",
       "3                          예지원        서울특별시 중구 장충단로 72 (장충동2가)   37.551638   \n",
       "4                      DMC 홍보관       서울특별시 마포구 월드컵북로 366 (상암동)   37.577695   \n",
       "..                         ...                              ...        ...   \n",
       "188                      씨제스사옥  서울 강남구 도산대로 310 (논현동, 916빌딩) 5층  37.592404   \n",
       "189                   티켓라운지 씬디           서울 마포구 어울마당로 61 (서교동)   37.488474   \n",
       "190             호텔 더 디자이너스 삼성점       서울특별시 강남구 테헤란로79길 7 (삼성동)   37.506900   \n",
       "191  리얼케이팝댄스(REAL K-POP DANCE)              서울시 마포구 동교로 19길 48   37.507195   \n",
       "192                     북촌문화센터              서울 종로구 계동길 37 (계동)   37.547082   \n",
       "\n",
       "            lng  \n",
       "0    126.976168  \n",
       "1    126.986564  \n",
       "2    127.024045  \n",
       "3    127.002523  \n",
       "4    126.892115  \n",
       "..          ...  \n",
       "188  127.049177  \n",
       "189  126.841845  \n",
       "190  127.031496  \n",
       "191  126.991688  \n",
       "192  126.975475  \n",
       "\n",
       "[193 rows x 4 columns]"
      ]
     },
     "execution_count": 72,
     "metadata": {},
     "output_type": "execute_result"
    }
   ],
   "source": [
    "df2.dropna()"
   ]
  },
  {
   "cell_type": "code",
   "execution_count": 22,
   "metadata": {},
   "outputs": [
    {
     "data": {
      "text/plain": [
       "(37.5776946420349, 126.89211485663)"
      ]
     },
     "execution_count": 22,
     "metadata": {},
     "output_type": "execute_result"
    }
   ],
   "source": [
    "kakao_location('서울특별시마포구 월드컵북로 366 (상암동)')"
   ]
  },
  {
   "cell_type": "code",
   "execution_count": null,
   "metadata": {},
   "outputs": [],
   "source": [
    "# # 검증\n",
    "# temp = df2['관광지명'][10]\n",
    "# rtn_addr(temp)"
   ]
  },
  {
   "cell_type": "code",
   "execution_count": 73,
   "metadata": {},
   "outputs": [
    {
     "data": {
      "text/plain": [
       "(200, 4)"
      ]
     },
     "execution_count": 73,
     "metadata": {},
     "output_type": "execute_result"
    }
   ],
   "source": [
    "df2.shape"
   ]
  },
  {
   "cell_type": "code",
   "execution_count": 74,
   "metadata": {},
   "outputs": [],
   "source": [
    "# 4 처리 끝난 파일 저장\n",
    "df2.to_csv('data/서울_문화_명소_final.csv',index=False)"
   ]
  },
  {
   "cell_type": "code",
   "execution_count": 75,
   "metadata": {},
   "outputs": [],
   "source": [
    "# 읽어오기\n",
    "df3 = pd.read_csv('data/서울_문화_명소_final.csv', encoding='utf-8', sep=',')"
   ]
  },
  {
   "cell_type": "code",
   "execution_count": 76,
   "metadata": {},
   "outputs": [
    {
     "data": {
      "text/html": [
       "<div>\n",
       "<style scoped>\n",
       "    .dataframe tbody tr th:only-of-type {\n",
       "        vertical-align: middle;\n",
       "    }\n",
       "\n",
       "    .dataframe tbody tr th {\n",
       "        vertical-align: top;\n",
       "    }\n",
       "\n",
       "    .dataframe thead th {\n",
       "        text-align: right;\n",
       "    }\n",
       "</style>\n",
       "<table border=\"1\" class=\"dataframe\">\n",
       "  <thead>\n",
       "    <tr style=\"text-align: right;\">\n",
       "      <th></th>\n",
       "      <th>관광지명</th>\n",
       "      <th>도로명주소</th>\n",
       "      <th>lat</th>\n",
       "      <th>lng</th>\n",
       "    </tr>\n",
       "  </thead>\n",
       "  <tbody>\n",
       "    <tr>\n",
       "      <th>0</th>\n",
       "      <td>세종문화회관</td>\n",
       "      <td>서울 종로구 세종대로 175  (세종문화회관)</td>\n",
       "      <td>37.571848</td>\n",
       "      <td>126.976168</td>\n",
       "    </tr>\n",
       "    <tr>\n",
       "      <th>1</th>\n",
       "      <td>명동실탄사격장</td>\n",
       "      <td>서울 중구 명동8가길 27 선샤인빌딩3층</td>\n",
       "      <td>37.562001</td>\n",
       "      <td>126.986564</td>\n",
       "    </tr>\n",
       "    <tr>\n",
       "      <th>2</th>\n",
       "      <td>서울랜드</td>\n",
       "      <td>경기 과천시 광명로 181 (막계동, 서울랜드)</td>\n",
       "      <td>37.436547</td>\n",
       "      <td>127.024045</td>\n",
       "    </tr>\n",
       "    <tr>\n",
       "      <th>3</th>\n",
       "      <td>예지원</td>\n",
       "      <td>서울특별시 중구 장충단로 72 (장충동2가)</td>\n",
       "      <td>37.551638</td>\n",
       "      <td>127.002523</td>\n",
       "    </tr>\n",
       "    <tr>\n",
       "      <th>4</th>\n",
       "      <td>DMC 홍보관</td>\n",
       "      <td>서울특별시 마포구 월드컵북로 366 (상암동)</td>\n",
       "      <td>37.577695</td>\n",
       "      <td>126.892115</td>\n",
       "    </tr>\n",
       "  </tbody>\n",
       "</table>\n",
       "</div>"
      ],
      "text/plain": [
       "      관광지명                        도로명주소        lat         lng\n",
       "0   세종문화회관   서울 종로구 세종대로 175  (세종문화회관)   37.571848  126.976168\n",
       "1  명동실탄사격장       서울 중구 명동8가길 27 선샤인빌딩3층  37.562001  126.986564\n",
       "2    서울랜드   경기 과천시 광명로 181 (막계동, 서울랜드)   37.436547  127.024045\n",
       "3      예지원    서울특별시 중구 장충단로 72 (장충동2가)   37.551638  127.002523\n",
       "4  DMC 홍보관   서울특별시 마포구 월드컵북로 366 (상암동)   37.577695  126.892115"
      ]
     },
     "execution_count": 76,
     "metadata": {},
     "output_type": "execute_result"
    }
   ],
   "source": [
    "df3.head()"
   ]
  }
 ],
 "metadata": {
  "kernelspec": {
   "display_name": "base",
   "language": "python",
   "name": "python3"
  },
  "language_info": {
   "codemirror_mode": {
    "name": "ipython",
    "version": 3
   },
   "file_extension": ".py",
   "mimetype": "text/x-python",
   "name": "python",
   "nbconvert_exporter": "python",
   "pygments_lexer": "ipython3",
   "version": "3.10.9"
  },
  "orig_nbformat": 4
 },
 "nbformat": 4,
 "nbformat_minor": 2
}
