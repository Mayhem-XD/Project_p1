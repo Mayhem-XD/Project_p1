{
 "cells": [
  {
   "cell_type": "code",
   "execution_count": 1,
   "metadata": {},
   "outputs": [],
   "source": [
    "from datetime import datetime"
   ]
  },
  {
   "cell_type": "code",
   "execution_count": 2,
   "metadata": {},
   "outputs": [],
   "source": [
    "y = datetime.now().year\n",
    "mon = datetime.now().month\n",
    "d=datetime.now().day\n",
    "h=datetime.now().hour\n",
    "m=datetime.now().minute\n",
    "\n",
    "if m % 10 ==0:\n",
    "    m=m\n",
    "    h=h\n",
    "elif m > 50:\n",
    "    m = 0\n",
    "    h =+ 1\n",
    "else:\n",
    "    m = (m // 10 + 1) * 10\n",
    "    h=h"
   ]
  },
  {
   "cell_type": "code",
   "execution_count": 59,
   "metadata": {},
   "outputs": [
    {
     "data": {
      "text/plain": [
       "(16, 11, '16:20', '2023년 6월 7일, 16:20')"
      ]
     },
     "execution_count": 59,
     "metadata": {},
     "output_type": "execute_result"
    }
   ],
   "source": [
    "show_date = f'{y}년 {mon}월 {d}일, {h}:{m}'\n",
    "show_hm = f'{h}:{m}'\n",
    "datetime.now().hour, datetime.now().minute, show_hm, show_date"
   ]
  },
  {
   "cell_type": "code",
   "execution_count": 9,
   "metadata": {},
   "outputs": [],
   "source": [
    "show_date = f'{y}년 {mon}월 {d}일, {h}:{m}'\n",
    "show_hm = f'{h}:{m}'"
   ]
  },
  {
   "cell_type": "code",
   "execution_count": 10,
   "metadata": {},
   "outputs": [],
   "source": [
    "# ############# 요일 ##################\n",
    "week = {0:'월', 1:'화', 2:'수', 3:'목', 4:'금', 5:'토', 6:'일'}\n",
    "day = week[datetime.now().weekday()]"
   ]
  },
  {
   "cell_type": "code",
   "execution_count": 12,
   "metadata": {},
   "outputs": [
    {
     "data": {
      "text/plain": [
       "('16:30', '수')"
      ]
     },
     "execution_count": 12,
     "metadata": {},
     "output_type": "execute_result"
    }
   ],
   "source": [
    "show_hm, day"
   ]
  },
  {
   "cell_type": "code",
   "execution_count": null,
   "metadata": {},
   "outputs": [],
   "source": []
  }
 ],
 "metadata": {
  "kernelspec": {
   "display_name": "base",
   "language": "python",
   "name": "python3"
  },
  "language_info": {
   "codemirror_mode": {
    "name": "ipython",
    "version": 3
   },
   "file_extension": ".py",
   "mimetype": "text/x-python",
   "name": "python",
   "nbconvert_exporter": "python",
   "pygments_lexer": "ipython3",
   "version": "3.10.10"
  },
  "orig_nbformat": 4
 },
 "nbformat": 4,
 "nbformat_minor": 2
}
