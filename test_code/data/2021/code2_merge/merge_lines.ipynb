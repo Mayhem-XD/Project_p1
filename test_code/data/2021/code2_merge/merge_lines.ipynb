{
 "cells": [
  {
   "cell_type": "code",
   "execution_count": 8,
   "metadata": {},
   "outputs": [],
   "source": [
    "import pandas as pd"
   ]
  },
  {
   "cell_type": "code",
   "execution_count": 2,
   "metadata": {},
   "outputs": [],
   "source": [
    "# 1호선:서울지하철1호선(청량리~서울역), 경원선(소요산~청량리), 경부선(서울~천안/서동탄/광명), 장항선(천안~신창), 경인선(구로~인천)\n",
    "df_list = ['./1호선.csv', './경부선.csv', './경원선.csv', './경인선.csv', './장항선.csv']\n",
    "df_copies = []\n",
    "\n",
    "for file in df_list:\n",
    "    df = pd.read_csv(file)\n",
    "    df_copies.append(df.copy())\n",
    "\n",
    "result = pd.concat(df_copies, axis=0)\n",
    "result = result.reset_index(drop=True)\n",
    "result.호선명 = '1호선'\n",
    "\n",
    "cols = list(result.columns)[:3]\n",
    "target = list(result.columns)[3:]\n",
    "res = result.groupby(cols)[target].agg('sum').reset_index()\n",
    "res.to_csv('./lines/1호선.cvs',index=False)\n"
   ]
  },
  {
   "cell_type": "code",
   "execution_count": 3,
   "metadata": {},
   "outputs": [],
   "source": [
    "# 3호선: 서울지하철3호선(지축~오금), 일산선(대화~지축)\n",
    "df_list = ['./3호선.csv', './일산선.csv']\n",
    "df_copies = []\n",
    "for file in df_list:\n",
    "    df = pd.read_csv(file)\n",
    "    df_copies.append(df.copy())\n",
    "\n",
    "result = pd.concat(df_copies, axis=0)\n",
    "result = result.reset_index(drop=True)\n",
    "result.호선명 = '3호선'\n",
    "\n",
    "cols = list(result.columns)[:3]\n",
    "target = list(result.columns)[3:]\n",
    "res = result.groupby(cols)[target].agg('sum').reset_index()\n",
    "res.to_csv('./lines/3호선.cvs',index=False)\n"
   ]
  },
  {
   "cell_type": "code",
   "execution_count": 4,
   "metadata": {},
   "outputs": [],
   "source": [
    "# 1호선:서울지하철1호선(청량리~서울역), 경원선(소요산~청량리), 경부선(서울~천안/서동탄/광명), 장항선(천안~신창), 경인선(구로~인천)\n",
    "# 2호선, 5호선, 6호선, 7호선, 8호선\n",
    "# 3호선: 서울지하철3호선(지축~오금), 일산선(대화~지축)\n",
    "# 4호선: 서울지하철4호선(당고개~남태령), 과천선(남태령~금정), 안산선(금정~오이도)\n",
    "# 9호선: 9호선, 9호선(2~3)단계\n",
    "# 수인분당선: 수인선(인천~수원), 분당선()\n",
    "# 경의중앙선: 경의선, 경원선, 중앙선"
   ]
  },
  {
   "cell_type": "code",
   "execution_count": 9,
   "metadata": {},
   "outputs": [],
   "source": [
    "path = 'data/main/temp_files/'\n",
    "line_info = [\n",
    "    ([f'{path}1호선.csv', f'{path}경부선.csv', f'{path}경원선.csv', f'{path}경인선.csv', f'{path}장항선.csv'], '1호선'),\n",
    "    ([f'{path}2호선.csv'], '2호선'),\n",
    "    ([f'{path}3호선.csv', f'{path}일산선.csv'], '3호선'),\n",
    "    ([f'{path}4호선.csv', f'{path}과천선.csv', f'{path}안산선.csv'], '4호선'),\n",
    "    ([f'{path}5호선.csv'], '5호선'),\n",
    "    ([f'{path}6호선.csv'], '6호선'),\n",
    "    ([f'{path}7호선.csv'], '7호선'),\n",
    "    ([f'{path}8호선.csv'], '8호선'),\n",
    "    ([f'{path}9호선.csv', f'{path}9호선2단계.csv', f'{path}9호선2~3단계.csv'], '9호선'),\n",
    "    ([f'{path}수인선.csv', f'{path}분당선.csv'], '수인분당선'),\n",
    "    ([f'{path}경의선.csv', f'{path}중앙선.csv'], '경의중앙선')\n",
    "\n",
    "]\n",
    "line_list = []\n",
    "for df_list, line_name in line_info:\n",
    "    df_copies = []\n",
    "    for file in df_list:\n",
    "        df = pd.read_csv(file)\n",
    "        df_copies.append(df.copy())\n",
    "    result = pd.concat(df_copies, axis=0)\n",
    "    result = result.reset_index(drop=True)\n",
    "    result.호선명 = line_name\n",
    "    cols = list(result.columns)[:3]\n",
    "    target = list(result.columns)[3:]\n",
    "    res = result.groupby(cols)[target].agg('sum').reset_index()\n",
    "    line_list.append(res)\n",
    "    # res.to_csv(f'data/main//lines/{line_name}.csv', index=False)\n",
    "final = pd.concat(line_list,axis=0)\n"
   ]
  },
  {
   "cell_type": "code",
   "execution_count": 10,
   "metadata": {},
   "outputs": [],
   "source": [
    "final.to_csv('data/main//lines/merged_lines.csv',index=False)"
   ]
  },
  {
   "cell_type": "code",
   "execution_count": 6,
   "metadata": {},
   "outputs": [
    {
     "data": {
      "text/plain": [
       "(53323, 15)"
      ]
     },
     "execution_count": 6,
     "metadata": {},
     "output_type": "execute_result"
    }
   ],
   "source": [
    "final.shape"
   ]
  },
  {
   "cell_type": "code",
   "execution_count": null,
   "metadata": {},
   "outputs": [],
   "source": [
    "# 누락 \n",
    "# 이수\n",
    "# 서울역"
   ]
  }
 ],
 "metadata": {
  "kernelspec": {
   "display_name": "base",
   "language": "python",
   "name": "python3"
  },
  "language_info": {
   "codemirror_mode": {
    "name": "ipython",
    "version": 3
   },
   "file_extension": ".py",
   "mimetype": "text/x-python",
   "name": "python",
   "nbconvert_exporter": "python",
   "pygments_lexer": "ipython3",
   "version": "3.10.10"
  },
  "orig_nbformat": 4
 },
 "nbformat": 4,
 "nbformat_minor": 2
}
