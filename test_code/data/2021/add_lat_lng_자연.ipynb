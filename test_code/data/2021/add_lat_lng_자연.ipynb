{
 "cells": [
  {
   "cell_type": "code",
   "execution_count": 1,
   "metadata": {},
   "outputs": [],
   "source": [
    "import numpy as np\n",
    "import pandas as pd\n",
    "import requests,json,os\n",
    "from urllib.parse import quote \n",
    "import os,glob"
   ]
  },
  {
   "cell_type": "code",
   "execution_count": 2,
   "metadata": {},
   "outputs": [],
   "source": [
    "df = pd.read_excel('data/서울시 관광 자연_ljh.XLSX', engine='openpyxl')"
   ]
  },
  {
   "cell_type": "code",
   "execution_count": 3,
   "metadata": {},
   "outputs": [],
   "source": [
    "df.to_csv('data/main/temp_files/서울시 관광 자연_ljh.csv', index=False)\n",
    "df = pd.read_csv('data/main/temp_files/서울시 관광 자연_ljh.csv', encoding='utf-8', sep=',')"
   ]
  },
  {
   "cell_type": "code",
   "execution_count": 4,
   "metadata": {},
   "outputs": [
    {
     "data": {
      "text/plain": [
       "관광지명     120\n",
       "도로명주소    110\n",
       "dtype: int64"
      ]
     },
     "execution_count": 4,
     "metadata": {},
     "output_type": "execute_result"
    }
   ],
   "source": [
    "df = df[(df['언어']) == 'ko']\n",
    "# 도로명주소만 남기기\n",
    "df.rename(columns= {'상호명':'관광지명', '신주소':'도로명주소'}, inplace=True)\n",
    "df = df[['관광지명', '도로명주소']]\n",
    "df.reset_index(drop=True,inplace=True)\n",
    "df.nunique()"
   ]
  },
  {
   "cell_type": "code",
   "execution_count": 5,
   "metadata": {},
   "outputs": [],
   "source": [
    "df.to_csv('data/서울_자연.csv',index=False)\n",
    "df= pd.read_csv('data/서울_자연.csv', encoding='utf-8', sep=',')"
   ]
  },
  {
   "cell_type": "code",
   "execution_count": 6,
   "metadata": {},
   "outputs": [
    {
     "data": {
      "text/plain": [
       "0"
      ]
     },
     "execution_count": 6,
     "metadata": {},
     "output_type": "execute_result"
    }
   ],
   "source": [
    "df.isna().sum().sum()"
   ]
  },
  {
   "cell_type": "code",
   "execution_count": 18,
   "metadata": {},
   "outputs": [],
   "source": [
    "# 도로명주소에서 우편번호 제거\n",
    "addr_list = []\n",
    "for i in df.index:\n",
    "    addr1 = df.도로명주소[i].split(' ')[1:]\n",
    "    df.도로명주소[i]= ' '.join(addr1)\n",
    "    addr_list.append(df.도로명주소[i])"
   ]
  },
  {
   "cell_type": "code",
   "execution_count": 19,
   "metadata": {},
   "outputs": [],
   "source": [
    "# 도로명주소에서 우편번호 제거\n",
    "for i in df.index:\n",
    "    addr1 = df.도로명주소[i].split(' ')[1:]\n",
    "    df.도로명주소[i] = (' '.join(addr1))"
   ]
  },
  {
   "cell_type": "code",
   "execution_count": 20,
   "metadata": {},
   "outputs": [],
   "source": [
    "# 2 kakao API로 도로명 주소 구하는 함수\n",
    "def kakao_location(place):\n",
    "    with open('data/main/key/kakaoapikey.txt') as f_:\n",
    "        kakao_key = f_.read()\n",
    "    base_url = \"https://dapi.kakao.com/v2/local/search/address.json\"\n",
    "    url = f'{base_url}?query={quote(place)}'\n",
    "    header = {'Authorization':f'KakaoAK {kakao_key}'}\n",
    "    result = requests.get(url, headers=header).json()\n",
    "    lat_ = float(result['documents'][0]['y'])\n",
    "    lng_ = float(result['documents'][0]['x'])\n",
    "    return lat_,lng_"
   ]
  },
  {
   "cell_type": "code",
   "execution_count": 23,
   "metadata": {},
   "outputs": [
    {
     "name": "stdout",
     "output_type": "stream",
     "text": [
      "7 뚝섬유원지\n",
      "27 수락산\n",
      "28 도봉산\n",
      "35 서리풀 공원\n",
      "36 찬바람이 쌩쌩 부는 겨울,  찜질방 데이트\n",
      "46 관악산\n",
      "47 화랑로 낙엽거리\n",
      "52 등잔 밑이 어둡다, 우리 동네 보석 같은 공원\n",
      "54 한강예술공원\n",
      "69 매봉산 야경\n",
      "73 소월길\n",
      "75 안산\n",
      "78 중랑천 제방\n",
      "80 홍제천\n",
      "81 양재천&탄천\n",
      "85 서울 둘레길 코스 안내\n",
      "100 노원우주학교\n",
      "107 매화근린공원 \n",
      "111 불광천\n",
      "117 망우산 사색의 길\n"
     ]
    }
   ],
   "source": [
    "# 2\n",
    "temp1 =[]\n",
    "for i in df.index:\n",
    "    try:\n",
    "        temp1.append(kakao_location(df.도로명주소.values[i]))\n",
    "    except:\n",
    "        print(i, df.관광지명[i])\n",
    "        \n",
    "df_test = pd.DataFrame(temp1,columns=('lat','lng'))\n",
    "df2 = pd.concat([df, df_test], axis=1)"
   ]
  },
  {
   "cell_type": "code",
   "execution_count": 33,
   "metadata": {},
   "outputs": [
    {
     "data": {
      "text/html": [
       "<div>\n",
       "<style scoped>\n",
       "    .dataframe tbody tr th:only-of-type {\n",
       "        vertical-align: middle;\n",
       "    }\n",
       "\n",
       "    .dataframe tbody tr th {\n",
       "        vertical-align: top;\n",
       "    }\n",
       "\n",
       "    .dataframe thead th {\n",
       "        text-align: right;\n",
       "    }\n",
       "</style>\n",
       "<table border=\"1\" class=\"dataframe\">\n",
       "  <thead>\n",
       "    <tr style=\"text-align: right;\">\n",
       "      <th></th>\n",
       "      <th>관광지명</th>\n",
       "      <th>도로명주소</th>\n",
       "    </tr>\n",
       "  </thead>\n",
       "  <tbody>\n",
       "    <tr>\n",
       "      <th>48</th>\n",
       "      <td>경의선 숲길</td>\n",
       "      <td>연남동</td>\n",
       "    </tr>\n",
       "    <tr>\n",
       "      <th>49</th>\n",
       "      <td>서울식물원</td>\n",
       "      <td>마곡동로 161 (마곡동, 서울식물원)</td>\n",
       "    </tr>\n",
       "    <tr>\n",
       "      <th>50</th>\n",
       "      <td>사직공원</td>\n",
       "      <td>사직로 89 (사직동)</td>\n",
       "    </tr>\n",
       "    <tr>\n",
       "      <th>51</th>\n",
       "      <td>백범광장공원</td>\n",
       "      <td>퇴계로8길 49-4</td>\n",
       "    </tr>\n",
       "    <tr>\n",
       "      <th>52</th>\n",
       "      <td>등잔 밑이 어둡다, 우리 동네 보석 같은 공원</td>\n",
       "      <td></td>\n",
       "    </tr>\n",
       "    <tr>\n",
       "      <th>...</th>\n",
       "      <td>...</td>\n",
       "      <td>...</td>\n",
       "    </tr>\n",
       "    <tr>\n",
       "      <th>113</th>\n",
       "      <td>불암산</td>\n",
       "      <td>덕릉로94길 73 (중계동)</td>\n",
       "    </tr>\n",
       "    <tr>\n",
       "      <th>114</th>\n",
       "      <td>서서울호수공원</td>\n",
       "      <td>남부순환로64길 20 (신월동, 공원관리사무소)</td>\n",
       "    </tr>\n",
       "    <tr>\n",
       "      <th>115</th>\n",
       "      <td>여의도샛강생태공원</td>\n",
       "      <td>여의동로 48 (여의도샛강생태공원 방문자센터)</td>\n",
       "    </tr>\n",
       "    <tr>\n",
       "      <th>116</th>\n",
       "      <td>석촌호수 야경</td>\n",
       "      <td>삼학사로 136 (잠실동)</td>\n",
       "    </tr>\n",
       "    <tr>\n",
       "      <th>117</th>\n",
       "      <td>망우산 사색의 길</td>\n",
       "      <td>망우로 570 (망우묘지관리사무소)</td>\n",
       "    </tr>\n",
       "  </tbody>\n",
       "</table>\n",
       "<p>70 rows × 2 columns</p>\n",
       "</div>"
      ],
      "text/plain": [
       "                          관광지명                        도로명주소\n",
       "48                      경의선 숲길                         연남동 \n",
       "49                       서울식물원       마곡동로 161 (마곡동, 서울식물원) \n",
       "50                        사직공원                사직로 89 (사직동) \n",
       "51                      백범광장공원                  퇴계로8길 49-4 \n",
       "52   등잔 밑이 어둡다, 우리 동네 보석 같은 공원                             \n",
       "..                         ...                          ...\n",
       "113                        불암산             덕릉로94길 73 (중계동) \n",
       "114                    서서울호수공원  남부순환로64길 20 (신월동, 공원관리사무소) \n",
       "115                  여의도샛강생태공원   여의동로 48 (여의도샛강생태공원 방문자센터) \n",
       "116                    석촌호수 야경              삼학사로 136 (잠실동) \n",
       "117                  망우산 사색의 길         망우로 570 (망우묘지관리사무소) \n",
       "\n",
       "[70 rows x 2 columns]"
      ]
     },
     "execution_count": 33,
     "metadata": {},
     "output_type": "execute_result"
    }
   ],
   "source": [
    "df.head(118).tail(70)"
   ]
  },
  {
   "cell_type": "code",
   "execution_count": 30,
   "metadata": {},
   "outputs": [
    {
     "ename": "TypeError",
     "evalue": "'int' object is not iterable",
     "output_type": "error",
     "traceback": [
      "\u001b[1;31m---------------------------------------------------------------------------\u001b[0m",
      "\u001b[1;31mTypeError\u001b[0m                                 Traceback (most recent call last)",
      "Cell \u001b[1;32mIn[30], line 4\u001b[0m\n\u001b[0;32m      2\u001b[0m temp2 \u001b[39m=\u001b[39m[]\n\u001b[0;32m      3\u001b[0m \u001b[39m# for i in df.index:\u001b[39;00m\n\u001b[1;32m----> 4\u001b[0m \u001b[39mfor\u001b[39;00m i \u001b[39min\u001b[39;00m \u001b[39m100\u001b[39m:\n\u001b[0;32m      5\u001b[0m     \u001b[39mtry\u001b[39;00m:\n\u001b[0;32m      6\u001b[0m         temp2\u001b[39m.\u001b[39mappend(kakao_location(df\u001b[39m.\u001b[39m도로명주소\u001b[39m.\u001b[39mvalues[i]))\n",
      "\u001b[1;31mTypeError\u001b[0m: 'int' object is not iterable"
     ]
    }
   ],
   "source": [
    "# 2\n",
    "temp2 =[]\n",
    "# for i in df.index:\n",
    "for i in 100:\n",
    "    try:\n",
    "        temp2.append(kakao_location(df.도로명주소.values[i]))\n",
    "    except:\n",
    "        print(i, df.관광지명[i])\n",
    "        \n",
    "df_test = pd.DataFrame(temp1,columns=('lat','lng'))\n",
    "df2 = pd.concat([df, df_test], axis=1)"
   ]
  },
  {
   "cell_type": "code",
   "execution_count": 17,
   "metadata": {},
   "outputs": [
    {
     "data": {
      "text/plain": [
       "(37.5560223205345, 126.843879936706)"
      ]
     },
     "execution_count": 17,
     "metadata": {},
     "output_type": "execute_result"
    }
   ],
   "source": [
    "kakao_location('서울 강서구 공항대로42길 51-22 (내발산동, 강서청소년회관')"
   ]
  },
  {
   "cell_type": "code",
   "execution_count": 26,
   "metadata": {},
   "outputs": [
    {
     "data": {
      "text/plain": [
       "20"
      ]
     },
     "execution_count": 26,
     "metadata": {},
     "output_type": "execute_result"
    }
   ],
   "source": [
    "df2.lat.isna().sum()"
   ]
  },
  {
   "cell_type": "code",
   "execution_count": 35,
   "metadata": {},
   "outputs": [
    {
     "data": {
      "text/html": [
       "<div>\n",
       "<style scoped>\n",
       "    .dataframe tbody tr th:only-of-type {\n",
       "        vertical-align: middle;\n",
       "    }\n",
       "\n",
       "    .dataframe tbody tr th {\n",
       "        vertical-align: top;\n",
       "    }\n",
       "\n",
       "    .dataframe thead th {\n",
       "        text-align: right;\n",
       "    }\n",
       "</style>\n",
       "<table border=\"1\" class=\"dataframe\">\n",
       "  <thead>\n",
       "    <tr style=\"text-align: right;\">\n",
       "      <th></th>\n",
       "      <th>관광지명</th>\n",
       "      <th>도로명주소</th>\n",
       "      <th>lat</th>\n",
       "      <th>lng</th>\n",
       "    </tr>\n",
       "  </thead>\n",
       "  <tbody>\n",
       "    <tr>\n",
       "      <th>97</th>\n",
       "      <td>선유도 공원</td>\n",
       "      <td>선유로 343 (당산동, 선유도공원)</td>\n",
       "      <td>37.509063</td>\n",
       "      <td>127.097868</td>\n",
       "    </tr>\n",
       "    <tr>\n",
       "      <th>98</th>\n",
       "      <td>구암공원</td>\n",
       "      <td>허준로5길 42 (가양동, 구암공원관리사무실)</td>\n",
       "      <td>37.534831</td>\n",
       "      <td>126.987028</td>\n",
       "    </tr>\n",
       "    <tr>\n",
       "      <th>99</th>\n",
       "      <td>감로천 생태공원</td>\n",
       "      <td>독산로54길 188 (독산동, 금천구민문화체육센터)</td>\n",
       "      <td>37.601382</td>\n",
       "      <td>126.961955</td>\n",
       "    </tr>\n",
       "    <tr>\n",
       "      <th>100</th>\n",
       "      <td>노원우주학교</td>\n",
       "      <td>동일로 동일로 205길 13 노원우주학교</td>\n",
       "      <td>NaN</td>\n",
       "      <td>NaN</td>\n",
       "    </tr>\n",
       "    <tr>\n",
       "      <th>101</th>\n",
       "      <td>길동생태공원</td>\n",
       "      <td>천호대로 1291 (길동)</td>\n",
       "      <td>NaN</td>\n",
       "      <td>NaN</td>\n",
       "    </tr>\n",
       "    <tr>\n",
       "      <th>102</th>\n",
       "      <td>서울대공원</td>\n",
       "      <td>대공원광장로 102 (막계동, 서울대공원)</td>\n",
       "      <td>NaN</td>\n",
       "      <td>NaN</td>\n",
       "    </tr>\n",
       "    <tr>\n",
       "      <th>103</th>\n",
       "      <td>봉산</td>\n",
       "      <td>서오릉로23길 8-5 (수국사)</td>\n",
       "      <td>NaN</td>\n",
       "      <td>NaN</td>\n",
       "    </tr>\n",
       "    <tr>\n",
       "      <th>104</th>\n",
       "      <td>개화산</td>\n",
       "      <td>양천로 22 (방화동, 개화산역) 개화산</td>\n",
       "      <td>NaN</td>\n",
       "      <td>NaN</td>\n",
       "    </tr>\n",
       "    <tr>\n",
       "      <th>105</th>\n",
       "      <td>석촌호수공원</td>\n",
       "      <td>삼학사로 136 (서울놀이마당)</td>\n",
       "      <td>NaN</td>\n",
       "      <td>NaN</td>\n",
       "    </tr>\n",
       "    <tr>\n",
       "      <th>106</th>\n",
       "      <td>우장공원</td>\n",
       "      <td>공항대로42길 51-22 (내발산동, 강서청소년회관)</td>\n",
       "      <td>NaN</td>\n",
       "      <td>NaN</td>\n",
       "    </tr>\n",
       "    <tr>\n",
       "      <th>107</th>\n",
       "      <td>매화근린공원</td>\n",
       "      <td></td>\n",
       "      <td>NaN</td>\n",
       "      <td>NaN</td>\n",
       "    </tr>\n",
       "    <tr>\n",
       "      <th>108</th>\n",
       "      <td>용마폭포공원</td>\n",
       "      <td>용마산로 250-12 (면목동, 용마폭포공원관리사무소)</td>\n",
       "      <td>NaN</td>\n",
       "      <td>NaN</td>\n",
       "    </tr>\n",
       "    <tr>\n",
       "      <th>109</th>\n",
       "      <td>마로니에공원</td>\n",
       "      <td>대학로 104 (동숭동)</td>\n",
       "      <td>NaN</td>\n",
       "      <td>NaN</td>\n",
       "    </tr>\n",
       "    <tr>\n",
       "      <th>110</th>\n",
       "      <td>망우리공원</td>\n",
       "      <td>망우로91길 2 (망우동)</td>\n",
       "      <td>NaN</td>\n",
       "      <td>NaN</td>\n",
       "    </tr>\n",
       "    <tr>\n",
       "      <th>111</th>\n",
       "      <td>불광천</td>\n",
       "      <td>불광동 서대문구 북가좌동 일대</td>\n",
       "      <td>NaN</td>\n",
       "      <td>NaN</td>\n",
       "    </tr>\n",
       "    <tr>\n",
       "      <th>112</th>\n",
       "      <td>낙성대 공원</td>\n",
       "      <td>낙성대로 77 (봉천동, 낙성대공원)</td>\n",
       "      <td>NaN</td>\n",
       "      <td>NaN</td>\n",
       "    </tr>\n",
       "    <tr>\n",
       "      <th>113</th>\n",
       "      <td>불암산</td>\n",
       "      <td>덕릉로94길 73 (중계동)</td>\n",
       "      <td>NaN</td>\n",
       "      <td>NaN</td>\n",
       "    </tr>\n",
       "    <tr>\n",
       "      <th>114</th>\n",
       "      <td>서서울호수공원</td>\n",
       "      <td>남부순환로64길 20 (신월동, 공원관리사무소)</td>\n",
       "      <td>NaN</td>\n",
       "      <td>NaN</td>\n",
       "    </tr>\n",
       "    <tr>\n",
       "      <th>115</th>\n",
       "      <td>여의도샛강생태공원</td>\n",
       "      <td>여의동로 48 (여의도샛강생태공원 방문자센터)</td>\n",
       "      <td>NaN</td>\n",
       "      <td>NaN</td>\n",
       "    </tr>\n",
       "    <tr>\n",
       "      <th>116</th>\n",
       "      <td>석촌호수 야경</td>\n",
       "      <td>삼학사로 136 (잠실동)</td>\n",
       "      <td>NaN</td>\n",
       "      <td>NaN</td>\n",
       "    </tr>\n",
       "    <tr>\n",
       "      <th>117</th>\n",
       "      <td>망우산 사색의 길</td>\n",
       "      <td>망우로 570 (망우묘지관리사무소)</td>\n",
       "      <td>NaN</td>\n",
       "      <td>NaN</td>\n",
       "    </tr>\n",
       "    <tr>\n",
       "      <th>118</th>\n",
       "      <td>녹사평역 지하예술정원</td>\n",
       "      <td>녹사평대로 지하 195 (용산동4가, 6호선 녹사평역)</td>\n",
       "      <td>NaN</td>\n",
       "      <td>NaN</td>\n",
       "    </tr>\n",
       "    <tr>\n",
       "      <th>119</th>\n",
       "      <td>백사실계곡</td>\n",
       "      <td>세검정로6길 98</td>\n",
       "      <td>NaN</td>\n",
       "      <td>NaN</td>\n",
       "    </tr>\n",
       "  </tbody>\n",
       "</table>\n",
       "</div>"
      ],
      "text/plain": [
       "            관광지명                            도로명주소        lat         lng\n",
       "97        선유도 공원            선유로 343 (당산동, 선유도공원)   37.509063  127.097868\n",
       "98          구암공원       허준로5길 42 (가양동, 구암공원관리사무실)   37.534831  126.987028\n",
       "99     감로천 생태공원     독산로54길 188 (독산동, 금천구민문화체육센터)   37.601382  126.961955\n",
       "100       노원우주학교          동일로 동일로 205길 13 노원우주학교         NaN         NaN\n",
       "101       길동생태공원                  천호대로 1291 (길동)         NaN         NaN\n",
       "102        서울대공원         대공원광장로 102 (막계동, 서울대공원)         NaN         NaN\n",
       "103          봉산                서오릉로23길 8-5 (수국사)         NaN         NaN\n",
       "104         개화산           양천로 22 (방화동, 개화산역) 개화산         NaN         NaN\n",
       "105      석촌호수공원                삼학사로 136 (서울놀이마당)         NaN         NaN\n",
       "106         우장공원   공항대로42길 51-22 (내발산동, 강서청소년회관)         NaN         NaN\n",
       "107      매화근린공원                                          NaN         NaN\n",
       "108       용마폭포공원  용마산로 250-12 (면목동, 용마폭포공원관리사무소)         NaN         NaN\n",
       "109       마로니에공원                   대학로 104 (동숭동)         NaN         NaN\n",
       "110        망우리공원                  망우로91길 2 (망우동)         NaN         NaN\n",
       "111          불광천                불광동 서대문구 북가좌동 일대         NaN         NaN\n",
       "112       낙성대 공원            낙성대로 77 (봉천동, 낙성대공원)         NaN         NaN\n",
       "113          불암산                 덕릉로94길 73 (중계동)         NaN         NaN\n",
       "114      서서울호수공원      남부순환로64길 20 (신월동, 공원관리사무소)         NaN         NaN\n",
       "115    여의도샛강생태공원       여의동로 48 (여의도샛강생태공원 방문자센터)         NaN         NaN\n",
       "116      석촌호수 야경                  삼학사로 136 (잠실동)         NaN         NaN\n",
       "117    망우산 사색의 길             망우로 570 (망우묘지관리사무소)         NaN         NaN\n",
       "118  녹사평역 지하예술정원  녹사평대로 지하 195 (용산동4가, 6호선 녹사평역)         NaN         NaN\n",
       "119        백사실계곡                       세검정로6길 98         NaN         NaN"
      ]
     },
     "execution_count": 35,
     "metadata": {},
     "output_type": "execute_result"
    }
   ],
   "source": [
    "df2.tail(23)"
   ]
  },
  {
   "cell_type": "code",
   "execution_count": 36,
   "metadata": {},
   "outputs": [
    {
     "data": {
      "text/html": [
       "<div>\n",
       "<style scoped>\n",
       "    .dataframe tbody tr th:only-of-type {\n",
       "        vertical-align: middle;\n",
       "    }\n",
       "\n",
       "    .dataframe tbody tr th {\n",
       "        vertical-align: top;\n",
       "    }\n",
       "\n",
       "    .dataframe thead th {\n",
       "        text-align: right;\n",
       "    }\n",
       "</style>\n",
       "<table border=\"1\" class=\"dataframe\">\n",
       "  <thead>\n",
       "    <tr style=\"text-align: right;\">\n",
       "      <th></th>\n",
       "      <th>관광지명</th>\n",
       "      <th>도로명주소</th>\n",
       "      <th>lat</th>\n",
       "      <th>lng</th>\n",
       "    </tr>\n",
       "  </thead>\n",
       "  <tbody>\n",
       "    <tr>\n",
       "      <th>95</th>\n",
       "      <td>월드컵공원 반려견놀이터</td>\n",
       "      <td>증산로 32 (상암동, 안내소)</td>\n",
       "      <td>37.527432</td>\n",
       "      <td>126.830087</td>\n",
       "    </tr>\n",
       "    <tr>\n",
       "      <th>96</th>\n",
       "      <td>남산예장공원</td>\n",
       "      <td>퇴계로26길 36 (예장동)</td>\n",
       "      <td>37.518718</td>\n",
       "      <td>126.921949</td>\n",
       "    </tr>\n",
       "    <tr>\n",
       "      <th>97</th>\n",
       "      <td>선유도 공원</td>\n",
       "      <td>선유로 343 (당산동, 선유도공원)</td>\n",
       "      <td>37.509063</td>\n",
       "      <td>127.097868</td>\n",
       "    </tr>\n",
       "    <tr>\n",
       "      <th>98</th>\n",
       "      <td>구암공원</td>\n",
       "      <td>허준로5길 42 (가양동, 구암공원관리사무실)</td>\n",
       "      <td>37.534831</td>\n",
       "      <td>126.987028</td>\n",
       "    </tr>\n",
       "    <tr>\n",
       "      <th>99</th>\n",
       "      <td>감로천 생태공원</td>\n",
       "      <td>독산로54길 188 (독산동, 금천구민문화체육센터)</td>\n",
       "      <td>37.601382</td>\n",
       "      <td>126.961955</td>\n",
       "    </tr>\n",
       "  </tbody>\n",
       "</table>\n",
       "</div>"
      ],
      "text/plain": [
       "            관광지명                          도로명주소        lat         lng\n",
       "95  월드컵공원 반려견놀이터             증산로 32 (상암동, 안내소)   37.527432  126.830087\n",
       "96        남산예장공원               퇴계로26길 36 (예장동)   37.518718  126.921949\n",
       "97        선유도 공원          선유로 343 (당산동, 선유도공원)   37.509063  127.097868\n",
       "98          구암공원     허준로5길 42 (가양동, 구암공원관리사무실)   37.534831  126.987028\n",
       "99     감로천 생태공원   독산로54길 188 (독산동, 금천구민문화체육센터)   37.601382  126.961955"
      ]
     },
     "execution_count": 36,
     "metadata": {},
     "output_type": "execute_result"
    }
   ],
   "source": [
    "df3 = df2[df2['lat'].notnull()]\n",
    "df3.tail()"
   ]
  },
  {
   "cell_type": "code",
   "execution_count": 37,
   "metadata": {},
   "outputs": [
    {
     "data": {
      "text/html": [
       "<div>\n",
       "<style scoped>\n",
       "    .dataframe tbody tr th:only-of-type {\n",
       "        vertical-align: middle;\n",
       "    }\n",
       "\n",
       "    .dataframe tbody tr th {\n",
       "        vertical-align: top;\n",
       "    }\n",
       "\n",
       "    .dataframe thead th {\n",
       "        text-align: right;\n",
       "    }\n",
       "</style>\n",
       "<table border=\"1\" class=\"dataframe\">\n",
       "  <thead>\n",
       "    <tr style=\"text-align: right;\">\n",
       "      <th></th>\n",
       "      <th>관광지명</th>\n",
       "      <th>도로명주소</th>\n",
       "      <th>lat</th>\n",
       "      <th>lng</th>\n",
       "    </tr>\n",
       "  </thead>\n",
       "  <tbody>\n",
       "    <tr>\n",
       "      <th>0</th>\n",
       "      <td>월드컵공원</td>\n",
       "      <td>마포구 하늘공원로 86</td>\n",
       "      <td>37.571598</td>\n",
       "      <td>126.881674</td>\n",
       "    </tr>\n",
       "    <tr>\n",
       "      <th>1</th>\n",
       "      <td>양재시민의 숲</td>\n",
       "      <td>매헌로 99 (양재동)</td>\n",
       "      <td>37.473050</td>\n",
       "      <td>127.036977</td>\n",
       "    </tr>\n",
       "    <tr>\n",
       "      <th>2</th>\n",
       "      <td>여의도 공원</td>\n",
       "      <td>여의공원로 68 (여의도동, 여의도공원관리사무소)</td>\n",
       "      <td>37.526809</td>\n",
       "      <td>126.922284</td>\n",
       "    </tr>\n",
       "    <tr>\n",
       "      <th>3</th>\n",
       "      <td>몽촌토성</td>\n",
       "      <td>올림픽로 424  (방이동)</td>\n",
       "      <td>37.520340</td>\n",
       "      <td>127.115518</td>\n",
       "    </tr>\n",
       "    <tr>\n",
       "      <th>4</th>\n",
       "      <td>남산공원</td>\n",
       "      <td>삼일대로 231</td>\n",
       "      <td>37.555633</td>\n",
       "      <td>126.992218</td>\n",
       "    </tr>\n",
       "  </tbody>\n",
       "</table>\n",
       "</div>"
      ],
      "text/plain": [
       "      관광지명                         도로명주소        lat         lng\n",
       "0    월드컵공원                 마포구 하늘공원로 86   37.571598  126.881674\n",
       "1  양재시민의 숲                 매헌로 99 (양재동)   37.473050  127.036977\n",
       "2  여의도 공원   여의공원로 68 (여의도동, 여의도공원관리사무소)   37.526809  126.922284\n",
       "3     몽촌토성              올림픽로 424  (방이동)   37.520340  127.115518\n",
       "4     남산공원                     삼일대로 231   37.555633  126.992218"
      ]
     },
     "execution_count": 37,
     "metadata": {},
     "output_type": "execute_result"
    }
   ],
   "source": [
    "# 4 처리 끝난 파일 저장\n",
    "df3.to_csv('data/서울_자연_final.csv',index=False)\n",
    "# 체크\n",
    "df4 = pd.read_csv('data/서울_자연_final.csv', encoding='utf-8', sep=',')\n",
    "df4.head()"
   ]
  },
  {
   "cell_type": "code",
   "execution_count": null,
   "metadata": {},
   "outputs": [],
   "source": []
  }
 ],
 "metadata": {
  "kernelspec": {
   "display_name": "base",
   "language": "python",
   "name": "python3"
  },
  "language_info": {
   "codemirror_mode": {
    "name": "ipython",
    "version": 3
   },
   "file_extension": ".py",
   "mimetype": "text/x-python",
   "name": "python",
   "nbconvert_exporter": "python",
   "pygments_lexer": "ipython3",
   "version": "3.10.9"
  },
  "orig_nbformat": 4
 },
 "nbformat": 4,
 "nbformat_minor": 2
}
