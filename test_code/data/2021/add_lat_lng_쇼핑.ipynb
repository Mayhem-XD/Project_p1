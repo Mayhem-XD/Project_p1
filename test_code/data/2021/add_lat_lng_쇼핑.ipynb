{
 "cells": [
  {
   "cell_type": "code",
   "execution_count": 1,
   "metadata": {},
   "outputs": [],
   "source": [
    "import numpy as np\n",
    "import pandas as pd\n",
    "import requests,json,os\n",
    "from urllib.parse import quote \n",
    "import os,glob"
   ]
  },
  {
   "cell_type": "code",
   "execution_count": 3,
   "metadata": {},
   "outputs": [
    {
     "data": {
      "text/html": [
       "<div>\n",
       "<style scoped>\n",
       "    .dataframe tbody tr th:only-of-type {\n",
       "        vertical-align: middle;\n",
       "    }\n",
       "\n",
       "    .dataframe tbody tr th {\n",
       "        vertical-align: top;\n",
       "    }\n",
       "\n",
       "    .dataframe thead th {\n",
       "        text-align: right;\n",
       "    }\n",
       "</style>\n",
       "<table border=\"1\" class=\"dataframe\">\n",
       "  <thead>\n",
       "    <tr style=\"text-align: right;\">\n",
       "      <th></th>\n",
       "      <th>고유번호</th>\n",
       "      <th>언어</th>\n",
       "      <th>상호명</th>\n",
       "      <th>주소</th>\n",
       "      <th>신주소</th>\n",
       "      <th>전화번호</th>\n",
       "      <th>웹사이트</th>\n",
       "      <th>운영시간</th>\n",
       "      <th>교통정보</th>\n",
       "    </tr>\n",
       "  </thead>\n",
       "  <tbody>\n",
       "    <tr>\n",
       "      <th>0</th>\n",
       "      <td>64</td>\n",
       "      <td>ja</td>\n",
       "      <td>トンデムン(東大門)ショッピングタウン</td>\n",
       "      <td>100-951 ソウル市中?乙支路6街</td>\n",
       "      <td>04564 ソウル市チュン(中)?チャンチュンダンロ253 (乙支路6街)</td>\n",
       "      <td>-40</td>\n",
       "      <td>http://www.ddm-mall.co.kr/</td>\n",
       "      <td>店?により異なる</td>\n",
       "      <td>地下?4?線「トンデムン·ヨッサムンファゴンウォン」?1番、14番出口からすぐ 地下?4?線...</td>\n",
       "    </tr>\n",
       "    <tr>\n",
       "      <th>1</th>\n",
       "      <td>193</td>\n",
       "      <td>ja</td>\n",
       "      <td>トンデムン(東大門)チャンシンドン(昌信洞)玩具??り市場</td>\n",
       "      <td>110-841 ソウル市鐘路?昌信洞 390-29</td>\n",
       "      <td>03120 ソウル市チョンノ(鐘路)?チョンロ52ギル36  (昌信洞)</td>\n",
       "      <td>-40</td>\n",
       "      <td>NaN</td>\n",
       "      <td>店?により異なる</td>\n",
       "      <td>地下?1?線「トンデムン」?4番出口徒?5分 地下?6?線「トンミョアプ」?6番出口徒?5分</td>\n",
       "    </tr>\n",
       "  </tbody>\n",
       "</table>\n",
       "</div>"
      ],
      "text/plain": [
       "   고유번호  언어                            상호명                         주소  \\\n",
       "0    64  ja            トンデムン(東大門)ショッピングタウン       100-951 ソウル市中?乙支路6街    \n",
       "1   193  ja  トンデムン(東大門)チャンシンドン(昌信洞)玩具??り市場  110-841 ソウル市鐘路?昌信洞 390-29   \n",
       "\n",
       "                                     신주소 전화번호                        웹사이트  \\\n",
       "0  04564 ソウル市チュン(中)?チャンチュンダンロ253 (乙支路6街)  -40  http://www.ddm-mall.co.kr/   \n",
       "1   03120 ソウル市チョンノ(鐘路)?チョンロ52ギル36  (昌信洞)  -40                         NaN   \n",
       "\n",
       "       운영시간                                               교통정보  \n",
       "0  店?により異なる  地下?4?線「トンデムン·ヨッサムンファゴンウォン」?1番、14番出口からすぐ 地下?4?線...  \n",
       "1  店?により異なる     地下?1?線「トンデムン」?4番出口徒?5分 地下?6?線「トンミョアプ」?6番出口徒?5分  "
      ]
     },
     "execution_count": 3,
     "metadata": {},
     "output_type": "execute_result"
    }
   ],
   "source": [
    "# 관광지명, 도로명주소, lat, lng, 분류\n",
    "df = pd.read_excel('data/서울시 관광 쇼핑_ljh.XLSX', engine='openpyxl')\n",
    "df.head(2)"
   ]
  },
  {
   "cell_type": "code",
   "execution_count": 4,
   "metadata": {},
   "outputs": [],
   "source": [
    "df.to_csv('data/main/temp_files/서울_쇼핑.csv', index=False)"
   ]
  },
  {
   "cell_type": "code",
   "execution_count": 8,
   "metadata": {},
   "outputs": [
    {
     "data": {
      "text/html": [
       "<div>\n",
       "<style scoped>\n",
       "    .dataframe tbody tr th:only-of-type {\n",
       "        vertical-align: middle;\n",
       "    }\n",
       "\n",
       "    .dataframe tbody tr th {\n",
       "        vertical-align: top;\n",
       "    }\n",
       "\n",
       "    .dataframe thead th {\n",
       "        text-align: right;\n",
       "    }\n",
       "</style>\n",
       "<table border=\"1\" class=\"dataframe\">\n",
       "  <thead>\n",
       "    <tr style=\"text-align: right;\">\n",
       "      <th></th>\n",
       "      <th>고유번호</th>\n",
       "      <th>언어</th>\n",
       "      <th>상호명</th>\n",
       "      <th>주소</th>\n",
       "      <th>신주소</th>\n",
       "      <th>전화번호</th>\n",
       "      <th>웹사이트</th>\n",
       "      <th>운영시간</th>\n",
       "      <th>교통정보</th>\n",
       "    </tr>\n",
       "  </thead>\n",
       "  <tbody>\n",
       "    <tr>\n",
       "      <th>0</th>\n",
       "      <td>64</td>\n",
       "      <td>ja</td>\n",
       "      <td>トンデムン(東大門)ショッピングタウン</td>\n",
       "      <td>100-951 ソウル市中?乙支路6街</td>\n",
       "      <td>04564 ソウル市チュン(中)?チャンチュンダンロ253 (乙支路6街)</td>\n",
       "      <td>-40</td>\n",
       "      <td>http://www.ddm-mall.co.kr/</td>\n",
       "      <td>店?により異なる</td>\n",
       "      <td>地下?4?線「トンデムン·ヨッサムンファゴンウォン」?1番、14番出口からすぐ 地下?4?線...</td>\n",
       "    </tr>\n",
       "    <tr>\n",
       "      <th>1</th>\n",
       "      <td>193</td>\n",
       "      <td>ja</td>\n",
       "      <td>トンデムン(東大門)チャンシンドン(昌信洞)玩具??り市場</td>\n",
       "      <td>110-841 ソウル市鐘路?昌信洞 390-29</td>\n",
       "      <td>03120 ソウル市チョンノ(鐘路)?チョンロ52ギル36  (昌信洞)</td>\n",
       "      <td>-40</td>\n",
       "      <td>NaN</td>\n",
       "      <td>店?により異なる</td>\n",
       "      <td>地下?1?線「トンデムン」?4番出口徒?5分 地下?6?線「トンミョアプ」?6番出口徒?5分</td>\n",
       "    </tr>\n",
       "  </tbody>\n",
       "</table>\n",
       "</div>"
      ],
      "text/plain": [
       "   고유번호  언어                            상호명                         주소  \\\n",
       "0    64  ja            トンデムン(東大門)ショッピングタウン       100-951 ソウル市中?乙支路6街    \n",
       "1   193  ja  トンデムン(東大門)チャンシンドン(昌信洞)玩具??り市場  110-841 ソウル市鐘路?昌信洞 390-29   \n",
       "\n",
       "                                     신주소 전화번호                        웹사이트  \\\n",
       "0  04564 ソウル市チュン(中)?チャンチュンダンロ253 (乙支路6街)  -40  http://www.ddm-mall.co.kr/   \n",
       "1   03120 ソウル市チョンノ(鐘路)?チョンロ52ギル36  (昌信洞)  -40                         NaN   \n",
       "\n",
       "       운영시간                                               교통정보  \n",
       "0  店?により異なる  地下?4?線「トンデムン·ヨッサムンファゴンウォン」?1番、14番出口からすぐ 地下?4?線...  \n",
       "1  店?により異なる     地下?1?線「トンデムン」?4番出口徒?5分 地下?6?線「トンミョアプ」?6番出口徒?5分  "
      ]
     },
     "execution_count": 8,
     "metadata": {},
     "output_type": "execute_result"
    }
   ],
   "source": [
    "df = pd.read_csv('data/main/temp_files/서울_쇼핑.csv', encoding='utf-8', sep=',')\n",
    "df.head(2)"
   ]
  },
  {
   "cell_type": "code",
   "execution_count": 9,
   "metadata": {},
   "outputs": [
    {
     "data": {
      "text/html": [
       "<div>\n",
       "<style scoped>\n",
       "    .dataframe tbody tr th:only-of-type {\n",
       "        vertical-align: middle;\n",
       "    }\n",
       "\n",
       "    .dataframe tbody tr th {\n",
       "        vertical-align: top;\n",
       "    }\n",
       "\n",
       "    .dataframe thead th {\n",
       "        text-align: right;\n",
       "    }\n",
       "</style>\n",
       "<table border=\"1\" class=\"dataframe\">\n",
       "  <thead>\n",
       "    <tr style=\"text-align: right;\">\n",
       "      <th></th>\n",
       "      <th>고유번호</th>\n",
       "      <th>언어</th>\n",
       "      <th>상호명</th>\n",
       "      <th>주소</th>\n",
       "      <th>신주소</th>\n",
       "      <th>전화번호</th>\n",
       "      <th>웹사이트</th>\n",
       "      <th>운영시간</th>\n",
       "      <th>교통정보</th>\n",
       "    </tr>\n",
       "  </thead>\n",
       "  <tbody>\n",
       "    <tr>\n",
       "      <th>4</th>\n",
       "      <td>281</td>\n",
       "      <td>ko</td>\n",
       "      <td>통인시장</td>\n",
       "      <td>110-043 서울 종로구 통인동 10-3</td>\n",
       "      <td>03036 서울 종로구 자하문로15길 18</td>\n",
       "      <td>02-722-0911</td>\n",
       "      <td>http://tonginmarket.co.kr</td>\n",
       "      <td>통인시장 영업시간 : 7:00 ~ 21:00 ※ 상점에 따라 상이하며, 정확한 개점...</td>\n",
       "      <td>3호선 경복궁역 2번 출구 → 2번 출구와 3번 출구 사이 도로를 따라 직진</td>\n",
       "    </tr>\n",
       "    <tr>\n",
       "      <th>5</th>\n",
       "      <td>291</td>\n",
       "      <td>ko</td>\n",
       "      <td>신사동 가로수길</td>\n",
       "      <td>135-888 서울 강남구 신사동 530 일대</td>\n",
       "      <td>06028 서울 강남구 압구정로 120 일대</td>\n",
       "      <td>NaN</td>\n",
       "      <td>NaN</td>\n",
       "      <td>NaN</td>\n",
       "      <td>3호선 신사역 8번 출구 도보 10분</td>\n",
       "    </tr>\n",
       "    <tr>\n",
       "      <th>9</th>\n",
       "      <td>1272</td>\n",
       "      <td>ko</td>\n",
       "      <td>풍월당</td>\n",
       "      <td>135-897 서울 강남구 신사동 657-37 성산빌딩 4, 5층</td>\n",
       "      <td>06018 서울 강남구 도산대로53길 39 (신사동, 신사동 C/K빌딩)</td>\n",
       "      <td>02-512-2222</td>\n",
       "      <td>http://www.pungwoldang.kr/</td>\n",
       "      <td>12:00 ~ 20:00 (KST)</td>\n",
       "      <td>3호선 압구정역 2번 출구 버스환승    7호선 강남구청역 4번 출구 버스환승   ...</td>\n",
       "    </tr>\n",
       "    <tr>\n",
       "      <th>11</th>\n",
       "      <td>1770</td>\n",
       "      <td>ko</td>\n",
       "      <td>화개길 구두거리</td>\n",
       "      <td>서울 종로구 화동 화개길</td>\n",
       "      <td>서울 종로구 화동화개길</td>\n",
       "      <td>02-120</td>\n",
       "      <td>NaN</td>\n",
       "      <td>매장별로 차이가 있음</td>\n",
       "      <td>3호선 경복궁 5번 출구에서 약 1.5 킬로미터 3호선 안국 1번 출구에서 약 1킬...</td>\n",
       "    </tr>\n",
       "  </tbody>\n",
       "</table>\n",
       "</div>"
      ],
      "text/plain": [
       "    고유번호  언어       상호명                                    주소  \\\n",
       "4    281  ko      통인시장              110-043 서울 종로구 통인동 10-3    \n",
       "5    291  ko  신사동 가로수길             135-888 서울 강남구 신사동 530 일대   \n",
       "9   1272  ko       풍월당  135-897 서울 강남구 신사동 657-37 성산빌딩 4, 5층   \n",
       "11  1770  ko  화개길 구두거리                         서울 종로구 화동 화개길   \n",
       "\n",
       "                                          신주소         전화번호  \\\n",
       "4                    03036 서울 종로구 자하문로15길 18   02-722-0911   \n",
       "5                    06028 서울 강남구 압구정로 120 일대          NaN   \n",
       "9   06018 서울 강남구 도산대로53길 39 (신사동, 신사동 C/K빌딩)   02-512-2222   \n",
       "11                              서울 종로구 화동화개길        02-120   \n",
       "\n",
       "                          웹사이트  \\\n",
       "4    http://tonginmarket.co.kr   \n",
       "5                          NaN   \n",
       "9   http://www.pungwoldang.kr/   \n",
       "11                         NaN   \n",
       "\n",
       "                                                 운영시간  \\\n",
       "4   통인시장 영업시간 : 7:00 ~ 21:00 ※ 상점에 따라 상이하며, 정확한 개점...   \n",
       "5                                                 NaN   \n",
       "9                                12:00 ~ 20:00 (KST)    \n",
       "11                                        매장별로 차이가 있음   \n",
       "\n",
       "                                                 교통정보  \n",
       "4       3호선 경복궁역 2번 출구 → 2번 출구와 3번 출구 사이 도로를 따라 직진     \n",
       "5                             3호선 신사역 8번 출구 도보 10분     \n",
       "9   3호선 압구정역 2번 출구 버스환승    7호선 강남구청역 4번 출구 버스환승   ...  \n",
       "11  3호선 경복궁 5번 출구에서 약 1.5 킬로미터 3호선 안국 1번 출구에서 약 1킬...  "
      ]
     },
     "execution_count": 9,
     "metadata": {},
     "output_type": "execute_result"
    }
   ],
   "source": [
    "df = df[(df['언어']) == 'ko']\n",
    "df.head(4)"
   ]
  },
  {
   "cell_type": "code",
   "execution_count": 4,
   "metadata": {},
   "outputs": [
    {
     "data": {
      "text/plain": [
       "array(['ko'], dtype=object)"
      ]
     },
     "execution_count": 4,
     "metadata": {},
     "output_type": "execute_result"
    }
   ],
   "source": [
    "\n",
    "df.언어.unique()"
   ]
  },
  {
   "cell_type": "code",
   "execution_count": 10,
   "metadata": {},
   "outputs": [
    {
     "data": {
      "text/html": [
       "<div>\n",
       "<style scoped>\n",
       "    .dataframe tbody tr th:only-of-type {\n",
       "        vertical-align: middle;\n",
       "    }\n",
       "\n",
       "    .dataframe tbody tr th {\n",
       "        vertical-align: top;\n",
       "    }\n",
       "\n",
       "    .dataframe thead th {\n",
       "        text-align: right;\n",
       "    }\n",
       "</style>\n",
       "<table border=\"1\" class=\"dataframe\">\n",
       "  <thead>\n",
       "    <tr style=\"text-align: right;\">\n",
       "      <th></th>\n",
       "      <th>관광지명</th>\n",
       "      <th>도로명주소</th>\n",
       "    </tr>\n",
       "  </thead>\n",
       "  <tbody>\n",
       "    <tr>\n",
       "      <th>0</th>\n",
       "      <td>통인시장</td>\n",
       "      <td>03036 서울 종로구 자하문로15길 18</td>\n",
       "    </tr>\n",
       "    <tr>\n",
       "      <th>1</th>\n",
       "      <td>신사동 가로수길</td>\n",
       "      <td>06028 서울 강남구 압구정로 120 일대</td>\n",
       "    </tr>\n",
       "    <tr>\n",
       "      <th>2</th>\n",
       "      <td>풍월당</td>\n",
       "      <td>06018 서울 강남구 도산대로53길 39 (신사동, 신사동 C/K빌딩)</td>\n",
       "    </tr>\n",
       "    <tr>\n",
       "      <th>3</th>\n",
       "      <td>화개길 구두거리</td>\n",
       "      <td>서울 종로구 화동화개길</td>\n",
       "    </tr>\n",
       "    <tr>\n",
       "      <th>4</th>\n",
       "      <td>테크노마트</td>\n",
       "      <td>05116 서울 광진구 광나루로56길 85 (구의동 546-4)</td>\n",
       "    </tr>\n",
       "  </tbody>\n",
       "</table>\n",
       "</div>"
      ],
      "text/plain": [
       "       관광지명                                      도로명주소\n",
       "0      통인시장                   03036 서울 종로구 자하문로15길 18 \n",
       "1  신사동 가로수길                   06028 서울 강남구 압구정로 120 일대\n",
       "2       풍월당  06018 서울 강남구 도산대로53길 39 (신사동, 신사동 C/K빌딩) \n",
       "3  화개길 구두거리                              서울 종로구 화동화개길 \n",
       "4     테크노마트       05116 서울 광진구 광나루로56길 85 (구의동 546-4) "
      ]
     },
     "execution_count": 10,
     "metadata": {},
     "output_type": "execute_result"
    }
   ],
   "source": [
    "## 도로명주소 불안정 -> 주소도 같이 남김\n",
    "df.rename(columns= {'상호명':'관광지명', '신주소':'도로명주소'}, inplace=True)\n",
    "df = df[['관광지명', '도로명주소']]\n",
    "df.reset_index(drop=True,inplace=True)\n",
    "df.head()"
   ]
  },
  {
   "cell_type": "code",
   "execution_count": 11,
   "metadata": {},
   "outputs": [
    {
     "data": {
      "text/plain": [
       "관광지명     162\n",
       "도로명주소    160\n",
       "dtype: int64"
      ]
     },
     "execution_count": 11,
     "metadata": {},
     "output_type": "execute_result"
    }
   ],
   "source": [
    "df.nunique()"
   ]
  },
  {
   "cell_type": "code",
   "execution_count": 12,
   "metadata": {},
   "outputs": [],
   "source": [
    "df.to_csv('data/서울_쇼핑.csv',index=False)"
   ]
  },
  {
   "cell_type": "code",
   "execution_count": null,
   "metadata": {},
   "outputs": [],
   "source": [
    "df1= pd.read_csv('data/서울_쇼핑.csv', encoding='utf-8', sep=',')\n",
    "df1"
   ]
  },
  {
   "cell_type": "code",
   "execution_count": 14,
   "metadata": {},
   "outputs": [
    {
     "data": {
      "text/html": [
       "<div>\n",
       "<style scoped>\n",
       "    .dataframe tbody tr th:only-of-type {\n",
       "        vertical-align: middle;\n",
       "    }\n",
       "\n",
       "    .dataframe tbody tr th {\n",
       "        vertical-align: top;\n",
       "    }\n",
       "\n",
       "    .dataframe thead th {\n",
       "        text-align: right;\n",
       "    }\n",
       "</style>\n",
       "<table border=\"1\" class=\"dataframe\">\n",
       "  <thead>\n",
       "    <tr style=\"text-align: right;\">\n",
       "      <th></th>\n",
       "      <th>관광지명</th>\n",
       "      <th>도로명주소</th>\n",
       "    </tr>\n",
       "  </thead>\n",
       "  <tbody>\n",
       "    <tr>\n",
       "      <th>0</th>\n",
       "      <td>통인시장</td>\n",
       "      <td>03036 서울 종로구 자하문로15길 18</td>\n",
       "    </tr>\n",
       "    <tr>\n",
       "      <th>1</th>\n",
       "      <td>신사동 가로수길</td>\n",
       "      <td>06028 서울 강남구 압구정로 120 일대</td>\n",
       "    </tr>\n",
       "    <tr>\n",
       "      <th>2</th>\n",
       "      <td>풍월당</td>\n",
       "      <td>06018 서울 강남구 도산대로53길 39 (신사동, 신사동 C/K빌딩)</td>\n",
       "    </tr>\n",
       "    <tr>\n",
       "      <th>3</th>\n",
       "      <td>화개길 구두거리</td>\n",
       "      <td>서울 종로구 화동화개길</td>\n",
       "    </tr>\n",
       "    <tr>\n",
       "      <th>4</th>\n",
       "      <td>테크노마트</td>\n",
       "      <td>05116 서울 광진구 광나루로56길 85 (구의동 546-4)</td>\n",
       "    </tr>\n",
       "  </tbody>\n",
       "</table>\n",
       "</div>"
      ],
      "text/plain": [
       "       관광지명                                      도로명주소\n",
       "0      통인시장                   03036 서울 종로구 자하문로15길 18 \n",
       "1  신사동 가로수길                   06028 서울 강남구 압구정로 120 일대\n",
       "2       풍월당  06018 서울 강남구 도산대로53길 39 (신사동, 신사동 C/K빌딩) \n",
       "3  화개길 구두거리                              서울 종로구 화동화개길 \n",
       "4     테크노마트       05116 서울 광진구 광나루로56길 85 (구의동 546-4) "
      ]
     },
     "execution_count": 14,
     "metadata": {},
     "output_type": "execute_result"
    }
   ],
   "source": [
    "df1.head()"
   ]
  },
  {
   "cell_type": "code",
   "execution_count": 15,
   "metadata": {},
   "outputs": [
    {
     "data": {
      "text/plain": [
       "'신사동 가로수'"
      ]
     },
     "execution_count": 15,
     "metadata": {},
     "output_type": "execute_result"
    }
   ],
   "source": [
    "df1['관광지명'][1][:-1]"
   ]
  },
  {
   "cell_type": "code",
   "execution_count": 3,
   "metadata": {},
   "outputs": [],
   "source": [
    "import numpy as np\n",
    "import pandas as pd\n",
    "import requests,json,os\n",
    "from urllib.parse import quote \n",
    "import os,glob"
   ]
  },
  {
   "cell_type": "code",
   "execution_count": 2,
   "metadata": {},
   "outputs": [
    {
     "data": {
      "text/html": [
       "<div>\n",
       "<style scoped>\n",
       "    .dataframe tbody tr th:only-of-type {\n",
       "        vertical-align: middle;\n",
       "    }\n",
       "\n",
       "    .dataframe tbody tr th {\n",
       "        vertical-align: top;\n",
       "    }\n",
       "\n",
       "    .dataframe thead th {\n",
       "        text-align: right;\n",
       "    }\n",
       "</style>\n",
       "<table border=\"1\" class=\"dataframe\">\n",
       "  <thead>\n",
       "    <tr style=\"text-align: right;\">\n",
       "      <th></th>\n",
       "      <th>관광지명</th>\n",
       "      <th>도로명주소</th>\n",
       "    </tr>\n",
       "  </thead>\n",
       "  <tbody>\n",
       "    <tr>\n",
       "      <th>0</th>\n",
       "      <td>통인시장</td>\n",
       "      <td>03036 서울 종로구 자하문로15길 18</td>\n",
       "    </tr>\n",
       "    <tr>\n",
       "      <th>1</th>\n",
       "      <td>신사동 가로수길</td>\n",
       "      <td>06028 서울 강남구 압구정로 120 일대</td>\n",
       "    </tr>\n",
       "    <tr>\n",
       "      <th>2</th>\n",
       "      <td>풍월당</td>\n",
       "      <td>06018 서울 강남구 도산대로53길 39 (신사동, 신사동 C/K빌딩)</td>\n",
       "    </tr>\n",
       "    <tr>\n",
       "      <th>3</th>\n",
       "      <td>화개길 구두거리</td>\n",
       "      <td>서울 종로구 화동화개길</td>\n",
       "    </tr>\n",
       "    <tr>\n",
       "      <th>4</th>\n",
       "      <td>테크노마트</td>\n",
       "      <td>05116 서울 광진구 광나루로56길 85 (구의동 546-4)</td>\n",
       "    </tr>\n",
       "    <tr>\n",
       "      <th>...</th>\n",
       "      <td>...</td>\n",
       "      <td>...</td>\n",
       "    </tr>\n",
       "    <tr>\n",
       "      <th>158</th>\n",
       "      <td>스타일난다 핑크 호텔 (명동 플래그십 스토어)</td>\n",
       "      <td>04536 서울 중구 명동8길 37-8 (충무로2가) 스타일난다 핑크호텔</td>\n",
       "    </tr>\n",
       "    <tr>\n",
       "      <th>159</th>\n",
       "      <td>아모레 플래그십 스토어 (성수)</td>\n",
       "      <td>04797 서울 성동구 아차산로11길 7 (성수동2가, (주)아세아이엔티)</td>\n",
       "    </tr>\n",
       "    <tr>\n",
       "      <th>160</th>\n",
       "      <td>경리단길</td>\n",
       "      <td>04344 서울 용산구 회나무로 일대(이태원동)</td>\n",
       "    </tr>\n",
       "    <tr>\n",
       "      <th>161</th>\n",
       "      <td>명동문고 명동성당점</td>\n",
       "      <td>04537 서울 중구 명동길 66 (명동2가) 명동성당 지하 1층</td>\n",
       "    </tr>\n",
       "    <tr>\n",
       "      <th>162</th>\n",
       "      <td>고투몰</td>\n",
       "      <td>06545 서울 서초구 신반포로 지하 200 (잠원동, 강남터미널지하쇼핑몰) 고투몰</td>\n",
       "    </tr>\n",
       "  </tbody>\n",
       "</table>\n",
       "<p>163 rows × 2 columns</p>\n",
       "</div>"
      ],
      "text/plain": [
       "                          관광지명                                           도로명주소\n",
       "0                         통인시장                        03036 서울 종로구 자하문로15길 18 \n",
       "1                     신사동 가로수길                        06028 서울 강남구 압구정로 120 일대\n",
       "2                          풍월당       06018 서울 강남구 도산대로53길 39 (신사동, 신사동 C/K빌딩) \n",
       "3                     화개길 구두거리                                   서울 종로구 화동화개길 \n",
       "4                        테크노마트            05116 서울 광진구 광나루로56길 85 (구의동 546-4) \n",
       "..                         ...                                             ...\n",
       "158  스타일난다 핑크 호텔 (명동 플래그십 스토어)        04536 서울 중구 명동8길 37-8 (충무로2가) 스타일난다 핑크호텔\n",
       "159          아모레 플래그십 스토어 (성수)      04797 서울 성동구 아차산로11길 7 (성수동2가, (주)아세아이엔티) \n",
       "160                       경리단길                     04344 서울 용산구 회나무로 일대(이태원동) \n",
       "161                 명동문고 명동성당점           04537 서울 중구 명동길 66 (명동2가) 명동성당 지하 1층 \n",
       "162                        고투몰  06545 서울 서초구 신반포로 지하 200 (잠원동, 강남터미널지하쇼핑몰) 고투몰\n",
       "\n",
       "[163 rows x 2 columns]"
      ]
     },
     "execution_count": 2,
     "metadata": {},
     "output_type": "execute_result"
    }
   ],
   "source": [
    "df= pd.read_csv('data/서울_쇼핑.csv', encoding='utf-8', sep=',')\n",
    "df"
   ]
  },
  {
   "cell_type": "code",
   "execution_count": 6,
   "metadata": {},
   "outputs": [],
   "source": [
    "df= pd.read_csv('data/서울_쇼핑.csv', encoding='utf-8', sep=',')"
   ]
  },
  {
   "cell_type": "code",
   "execution_count": null,
   "metadata": {},
   "outputs": [],
   "source": [
    "# 도로명주소에서 우편번호 제거\n",
    "for i in df.index:\n",
    "    addr1 = df.도로명주소[i].split(' ')[1:]\n",
    "    df.도로명주소[i] = (' '.join(addr1))\n",
    "df.도로명주소"
   ]
  },
  {
   "cell_type": "code",
   "execution_count": 8,
   "metadata": {},
   "outputs": [],
   "source": [
    "# 2 kakao API로 도로명 주소 구하는 함수\n",
    "def kakao_location(place):\n",
    "    with open('data/main/key/kakaoapikey.txt') as f_:\n",
    "        kakao_key = f_.read()\n",
    "    base_url = \"https://dapi.kakao.com/v2/local/search/address.json\"\n",
    "    url = f'{base_url}?query={quote(place)}'\n",
    "    header = {'Authorization':f'KakaoAK {kakao_key}'}\n",
    "    result = requests.get(url, headers=header).json()\n",
    "    lat_ = float(result['documents'][0]['y'])\n",
    "    lng_ = float(result['documents'][0]['x'])\n",
    "    return lat_,lng_"
   ]
  },
  {
   "cell_type": "code",
   "execution_count": 9,
   "metadata": {},
   "outputs": [
    {
     "data": {
      "text/plain": [
       "'압구정로 120 일대'"
      ]
     },
     "execution_count": 9,
     "metadata": {},
     "output_type": "execute_result"
    }
   ],
   "source": [
    "# type(df.도로명주소[0])\n",
    "df.도로명주소.values[1].strip()"
   ]
  },
  {
   "cell_type": "code",
   "execution_count": 11,
   "metadata": {},
   "outputs": [
    {
     "name": "stdout",
     "output_type": "stream",
     "text": [
      "3 화동화개길 \n",
      "12 nan\n",
      "20 금천구 일대 \n",
      "48 마포구 포은로 일대 \n",
      "49 nan\n",
      "50 nan\n",
      "74 도봉구 쌍문동~창동 일대 \n",
      "81 강남구 청담동 패션 거리 일대 \n",
      "84 광진구 강변북로 139 (자양동, 한강사업본부뚝섬안내센터) \n",
      "105 금천구 가산동 산업 2ㆍ3단지 및 단지 주변지역 일대 \n",
      "108 서초구 방배천로 4길 사당역 공영주차장\n",
      "122 nan\n",
      "128 용산구 이태원로 27나길 (이태원동)  일대 \n",
      "133 강남구 압구정로12길 24 (신사동) \n",
      "134 nan\n",
      "135 강남구 압구정로12길 40 (신사동) \n",
      "159 용산구 회나무로 일대(이태원동) \n"
     ]
    }
   ],
   "source": [
    "# 3 2번 함수들 사용해서 좌표추가\n",
    "temp1 =[]\n",
    "for i in df.index:\n",
    "    try:\n",
    "        target = df['관광지명'][i].strip()\n",
    "        # temp1.append(kakao_location(rtn_addr(target)))\n",
    "        temp1.append(kakao_location(df.도로명주소.values[i]))\n",
    "    except:\n",
    "        print(i, df.도로명주소[i])\n",
    "        \n",
    "df_test = pd.DataFrame(temp1,columns=('lat','lng'))\n",
    "df = pd.concat([df, df_test], axis=1)"
   ]
  },
  {
   "cell_type": "code",
   "execution_count": 93,
   "metadata": {},
   "outputs": [
    {
     "data": {
      "text/plain": [
       "(37.5280548976635, 126.861763072861)"
      ]
     },
     "execution_count": 93,
     "metadata": {},
     "output_type": "execute_result"
    }
   ],
   "source": [
    "kakao_location('서울특별시 양천구 목동로25길\t')"
   ]
  },
  {
   "cell_type": "code",
   "execution_count": 18,
   "metadata": {},
   "outputs": [
    {
     "data": {
      "text/html": [
       "<div>\n",
       "<style scoped>\n",
       "    .dataframe tbody tr th:only-of-type {\n",
       "        vertical-align: middle;\n",
       "    }\n",
       "\n",
       "    .dataframe tbody tr th {\n",
       "        vertical-align: top;\n",
       "    }\n",
       "\n",
       "    .dataframe thead th {\n",
       "        text-align: right;\n",
       "    }\n",
       "</style>\n",
       "<table border=\"1\" class=\"dataframe\">\n",
       "  <thead>\n",
       "    <tr style=\"text-align: right;\">\n",
       "      <th></th>\n",
       "      <th>관광지명</th>\n",
       "      <th>도로명주소</th>\n",
       "      <th>lat</th>\n",
       "      <th>lng</th>\n",
       "    </tr>\n",
       "  </thead>\n",
       "  <tbody>\n",
       "    <tr>\n",
       "      <th>0</th>\n",
       "      <td>통인시장</td>\n",
       "      <td>자하문로15길 18</td>\n",
       "      <td>37.580767</td>\n",
       "      <td>126.969948</td>\n",
       "    </tr>\n",
       "    <tr>\n",
       "      <th>1</th>\n",
       "      <td>신사동 가로수길</td>\n",
       "      <td>압구정로 120 일대</td>\n",
       "      <td>37.523606</td>\n",
       "      <td>127.021903</td>\n",
       "    </tr>\n",
       "    <tr>\n",
       "      <th>2</th>\n",
       "      <td>풍월당</td>\n",
       "      <td>도산대로53길 39 (신사동, 신사동 C/K빌딩)</td>\n",
       "      <td>37.525828</td>\n",
       "      <td>127.038922</td>\n",
       "    </tr>\n",
       "    <tr>\n",
       "      <th>3</th>\n",
       "      <td>화개길 구두거리</td>\n",
       "      <td>화동화개길</td>\n",
       "      <td>37.535725</td>\n",
       "      <td>127.095692</td>\n",
       "    </tr>\n",
       "    <tr>\n",
       "      <th>4</th>\n",
       "      <td>테크노마트</td>\n",
       "      <td>광나루로56길 85 (구의동 546-4)</td>\n",
       "      <td>37.563091</td>\n",
       "      <td>126.982958</td>\n",
       "    </tr>\n",
       "    <tr>\n",
       "      <th>5</th>\n",
       "      <td>콴챈루거리</td>\n",
       "      <td>명동2길 27  (명동2가) 일대</td>\n",
       "      <td>37.528055</td>\n",
       "      <td>126.861763</td>\n",
       "    </tr>\n",
       "    <tr>\n",
       "      <th>6</th>\n",
       "      <td>목동 로데오거리</td>\n",
       "      <td>목동로25길</td>\n",
       "      <td>37.573391</td>\n",
       "      <td>127.023027</td>\n",
       "    </tr>\n",
       "    <tr>\n",
       "      <th>7</th>\n",
       "      <td>동묘 벼룩시장</td>\n",
       "      <td>난계로 243 (숭인동)</td>\n",
       "      <td>37.578432</td>\n",
       "      <td>126.969345</td>\n",
       "    </tr>\n",
       "    <tr>\n",
       "      <th>8</th>\n",
       "      <td>서촌구루루</td>\n",
       "      <td>필운대로 26 (누하동)</td>\n",
       "      <td>37.526570</td>\n",
       "      <td>127.034530</td>\n",
       "    </tr>\n",
       "    <tr>\n",
       "      <th>9</th>\n",
       "      <td>자비시주얼리</td>\n",
       "      <td>압구정로42길 36 (신사동, 금광아크존1) 1층</td>\n",
       "      <td>37.500794</td>\n",
       "      <td>127.025773</td>\n",
       "    </tr>\n",
       "  </tbody>\n",
       "</table>\n",
       "</div>"
      ],
      "text/plain": [
       "       관광지명                         도로명주소        lat         lng\n",
       "0      통인시장                   자하문로15길 18   37.580767  126.969948\n",
       "1  신사동 가로수길                   압구정로 120 일대  37.523606  127.021903\n",
       "2       풍월당  도산대로53길 39 (신사동, 신사동 C/K빌딩)   37.525828  127.038922\n",
       "3  화개길 구두거리                        화동화개길   37.535725  127.095692\n",
       "4     테크노마트       광나루로56길 85 (구의동 546-4)   37.563091  126.982958\n",
       "5     콴챈루거리           명동2길 27  (명동2가) 일대   37.528055  126.861763\n",
       "6  목동 로데오거리                       목동로25길   37.573391  127.023027\n",
       "7   동묘 벼룩시장                난계로 243 (숭인동)   37.578432  126.969345\n",
       "8     서촌구루루                필운대로 26 (누하동)   37.526570  127.034530\n",
       "9    자비시주얼리   압구정로42길 36 (신사동, 금광아크존1) 1층  37.500794  127.025773"
      ]
     },
     "execution_count": 18,
     "metadata": {},
     "output_type": "execute_result"
    }
   ],
   "source": [
    "df.head(10)"
   ]
  },
  {
   "cell_type": "code",
   "execution_count": 21,
   "metadata": {},
   "outputs": [
    {
     "data": {
      "text/plain": [
       "관광지명      0\n",
       "도로명주소     5\n",
       "lat      17\n",
       "lng      17\n",
       "dtype: int64"
      ]
     },
     "execution_count": 21,
     "metadata": {},
     "output_type": "execute_result"
    }
   ],
   "source": [
    "df.isna().sum()"
   ]
  },
  {
   "cell_type": "code",
   "execution_count": 22,
   "metadata": {},
   "outputs": [
    {
     "data": {
      "text/plain": [
       "관광지명     0\n",
       "도로명주소    0\n",
       "lat      0\n",
       "lng      0\n",
       "dtype: int64"
      ]
     },
     "execution_count": 22,
     "metadata": {},
     "output_type": "execute_result"
    }
   ],
   "source": [
    "df1 = df.dropna()\n",
    "df1.isna().sum()"
   ]
  },
  {
   "cell_type": "code",
   "execution_count": 23,
   "metadata": {},
   "outputs": [],
   "source": [
    "# 4 처리 끝난 파일 저장\n",
    "df1.to_csv('data/서울_쇼핑_final.csv',index=False)"
   ]
  },
  {
   "cell_type": "code",
   "execution_count": 25,
   "metadata": {},
   "outputs": [
    {
     "data": {
      "text/html": [
       "<div>\n",
       "<style scoped>\n",
       "    .dataframe tbody tr th:only-of-type {\n",
       "        vertical-align: middle;\n",
       "    }\n",
       "\n",
       "    .dataframe tbody tr th {\n",
       "        vertical-align: top;\n",
       "    }\n",
       "\n",
       "    .dataframe thead th {\n",
       "        text-align: right;\n",
       "    }\n",
       "</style>\n",
       "<table border=\"1\" class=\"dataframe\">\n",
       "  <thead>\n",
       "    <tr style=\"text-align: right;\">\n",
       "      <th></th>\n",
       "      <th>관광지명</th>\n",
       "      <th>도로명주소</th>\n",
       "      <th>lat</th>\n",
       "      <th>lng</th>\n",
       "    </tr>\n",
       "  </thead>\n",
       "  <tbody>\n",
       "    <tr>\n",
       "      <th>130</th>\n",
       "      <td>정샘물 플롭스</td>\n",
       "      <td>강남구 압구정로12길 40 (신사동)</td>\n",
       "      <td>37.561263</td>\n",
       "      <td>126.984116</td>\n",
       "    </tr>\n",
       "    <tr>\n",
       "      <th>131</th>\n",
       "      <td>씨제이더마켓 제일제당센터점</td>\n",
       "      <td>중구 동호로 330 (쌍림동, 씨제이제일제당센터) 지하1층</td>\n",
       "      <td>37.573482</td>\n",
       "      <td>126.985509</td>\n",
       "    </tr>\n",
       "    <tr>\n",
       "      <th>132</th>\n",
       "      <td>평화시장</td>\n",
       "      <td>중구 청계천로 274 (을지로6가) 평화시장</td>\n",
       "      <td>37.580973</td>\n",
       "      <td>126.966856</td>\n",
       "    </tr>\n",
       "    <tr>\n",
       "      <th>133</th>\n",
       "      <td>카카오프렌즈 홍대 플래그십 스토어</td>\n",
       "      <td>마포구 양화로 162 (동교동, 좋은사람들 빌딩) 좋은사람들빌딩 1~3층</td>\n",
       "      <td>37.525875</td>\n",
       "      <td>127.041962</td>\n",
       "    </tr>\n",
       "    <tr>\n",
       "      <th>134</th>\n",
       "      <td>남성사계시장</td>\n",
       "      <td>동작구 동작대로29나길 10</td>\n",
       "      <td>37.548532</td>\n",
       "      <td>127.021689</td>\n",
       "    </tr>\n",
       "    <tr>\n",
       "      <th>135</th>\n",
       "      <td>공덕시장</td>\n",
       "      <td>마포구 만리재로 19 (공덕동, 공덕시장)</td>\n",
       "      <td>37.477615</td>\n",
       "      <td>127.124962</td>\n",
       "    </tr>\n",
       "    <tr>\n",
       "      <th>136</th>\n",
       "      <td>커먼그라운드</td>\n",
       "      <td>광진구 아차산로 200 (자양동) 커먼그라운드</td>\n",
       "      <td>37.562090</td>\n",
       "      <td>126.985040</td>\n",
       "    </tr>\n",
       "    <tr>\n",
       "      <th>137</th>\n",
       "      <td>상생상회</td>\n",
       "      <td>종로구 율곡로 39 (안국동) 안국빌딩 신관 1층/B1 층</td>\n",
       "      <td>37.544548</td>\n",
       "      <td>127.059042</td>\n",
       "    </tr>\n",
       "    <tr>\n",
       "      <th>138</th>\n",
       "      <td>아더 스페이스 3.0 플래그십 스토어</td>\n",
       "      <td>강남구 도산대로11길 31 (신사동, 에스에이치스페이스)</td>\n",
       "      <td>37.563929</td>\n",
       "      <td>126.986034</td>\n",
       "    </tr>\n",
       "    <tr>\n",
       "      <th>139</th>\n",
       "      <td>남대문시장 칼국수골목</td>\n",
       "      <td>중구 남대문시장4길 42-1 (남창동)</td>\n",
       "      <td>37.506220</td>\n",
       "      <td>127.005052</td>\n",
       "    </tr>\n",
       "  </tbody>\n",
       "</table>\n",
       "</div>"
      ],
      "text/plain": [
       "                     관광지명                                     도로명주소   \n",
       "130               정샘물 플롭스                     강남구 압구정로12길 40 (신사동)   \\\n",
       "131        씨제이더마켓 제일제당센터점          중구 동호로 330 (쌍림동, 씨제이제일제당센터) 지하1층   \n",
       "132                  평화시장                  중구 청계천로 274 (을지로6가) 평화시장   \n",
       "133    카카오프렌즈 홍대 플래그십 스토어  마포구 양화로 162 (동교동, 좋은사람들 빌딩) 좋은사람들빌딩 1~3층   \n",
       "134                남성사계시장                         동작구 동작대로29나길 10     \n",
       "135                  공덕시장                  마포구 만리재로 19 (공덕동, 공덕시장)    \n",
       "136                커먼그라운드                 광진구 아차산로 200 (자양동) 커먼그라운드   \n",
       "137                  상생상회          종로구 율곡로 39 (안국동) 안국빌딩 신관 1층/B1 층   \n",
       "138  아더 스페이스 3.0 플래그십 스토어          강남구 도산대로11길 31 (신사동, 에스에이치스페이스)    \n",
       "139           남대문시장 칼국수골목                    중구 남대문시장4길 42-1 (남창동)    \n",
       "\n",
       "           lat         lng  \n",
       "130  37.561263  126.984116  \n",
       "131  37.573482  126.985509  \n",
       "132  37.580973  126.966856  \n",
       "133  37.525875  127.041962  \n",
       "134  37.548532  127.021689  \n",
       "135  37.477615  127.124962  \n",
       "136  37.562090  126.985040  \n",
       "137  37.544548  127.059042  \n",
       "138  37.563929  126.986034  \n",
       "139  37.506220  127.005052  "
      ]
     },
     "execution_count": 25,
     "metadata": {},
     "output_type": "execute_result"
    }
   ],
   "source": [
    "df2 = pd.read_csv('data/서울_쇼핑_final.csv')\n",
    "df2.tail(10)"
   ]
  }
 ],
 "metadata": {
  "kernelspec": {
   "display_name": "base",
   "language": "python",
   "name": "python3"
  },
  "language_info": {
   "codemirror_mode": {
    "name": "ipython",
    "version": 3
   },
   "file_extension": ".py",
   "mimetype": "text/x-python",
   "name": "python",
   "nbconvert_exporter": "python",
   "pygments_lexer": "ipython3",
   "version": "3.10.10"
  },
  "orig_nbformat": 4
 },
 "nbformat": 4,
 "nbformat_minor": 2
}
