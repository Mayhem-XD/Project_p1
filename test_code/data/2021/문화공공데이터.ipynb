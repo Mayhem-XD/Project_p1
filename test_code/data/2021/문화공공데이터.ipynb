{
 "cells": [
  {
   "cell_type": "code",
   "execution_count": 3,
   "metadata": {},
   "outputs": [],
   "source": [
    "import requests\n",
    "from urllib.parse import quote\n",
    "import pandas as pd"
   ]
  },
  {
   "cell_type": "code",
   "execution_count": 7,
   "metadata": {},
   "outputs": [],
   "source": [
    "with open('data/main/key/문체부공연정보.key.txt') as f:\n",
    " cult_key = f.read()"
   ]
  },
  {
   "cell_type": "code",
   "execution_count": 10,
   "metadata": {},
   "outputs": [
    {
     "data": {
      "text/plain": [
       "'http://api.kcisa.kr/API_CNV_053/request?serviceKey=7d0e5409-92da-402c-8cd0-02e89202e067&numOfRows=10&pageNo=2&keyword=2023'"
      ]
     },
     "execution_count": 10,
     "metadata": {},
     "output_type": "execute_result"
    }
   ],
   "source": [
    "\n",
    "##### Responses #########\n",
    "#Curl \n",
    "#curl -X 'GET' \\\n",
    "#  'http://api.kcisa.kr/API_CNV_053/request?serviceKey=7d0e5409-92da-402c-8cd0-02e89202e067&numOfRows=10&pageNo=1&keyword=%EC%A2%85%EB%A1%9C' \\\n",
    "#  -H 'accept: application/json'\n",
    "\n",
    "base_url = 'http://api.kcisa.kr/API_CNV_053/request'\n",
    "keyword = '2023'\n",
    "pageNo = '2'\n",
    "numRows=''\n",
    "params = f'serviceKey={cult_key}&numOfRows=10&pageNo={quote(pageNo)}&keyword={quote(keyword)}'\n",
    "url = f'{base_url}?{params}'\n",
    "url"
   ]
  },
  {
   "cell_type": "code",
   "execution_count": null,
   "metadata": {},
   "outputs": [],
   "source": []
  }
 ],
 "metadata": {
  "kernelspec": {
   "display_name": "base",
   "language": "python",
   "name": "python3"
  },
  "language_info": {
   "codemirror_mode": {
    "name": "ipython",
    "version": 3
   },
   "file_extension": ".py",
   "mimetype": "text/x-python",
   "name": "python",
   "nbconvert_exporter": "python",
   "pygments_lexer": "ipython3",
   "version": "3.10.10"
  },
  "orig_nbformat": 4
 },
 "nbformat": 4,
 "nbformat_minor": 2
}
