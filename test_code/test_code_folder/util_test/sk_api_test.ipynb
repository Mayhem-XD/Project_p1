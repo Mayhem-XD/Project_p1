{
 "cells": [
  {
   "cell_type": "code",
   "execution_count": 2,
   "metadata": {},
   "outputs": [],
   "source": [
    "import pandas as pd\n",
    "import requests,json,os\n",
    "from urllib.parse import quote "
   ]
  },
  {
   "cell_type": "code",
   "execution_count": 3,
   "metadata": {},
   "outputs": [],
   "source": [
    "with open('key/sk_open_api_key.txt') as f_:\n",
    "    sk_key = f_.read()"
   ]
  },
  {
   "cell_type": "code",
   "execution_count": 4,
   "metadata": {},
   "outputs": [
    {
     "data": {
      "text/plain": [
       "40"
      ]
     },
     "execution_count": 4,
     "metadata": {},
     "output_type": "execute_result"
    }
   ],
   "source": [
    "len(sk_key)"
   ]
  },
  {
   "cell_type": "code",
   "execution_count": 25,
   "metadata": {},
   "outputs": [],
   "source": [
    "# 혼잡도\n",
    "station_code = 133\n",
    "dow = 'MON' # 대문자\n",
    "hh = '08'\n",
    "url = f\"https://apis.openapi.sk.com/puzzle/subway/congestion/stat/train/stations/{station_code}?dow={dow}&hh={hh}\"\n",
    "headers = {\n",
    "    \"accept\": \"application/json\",\n",
    "    \"Content-Type\": \"application/json\",\n",
    "    \"appkey\": sk_key\n",
    "}\n",
    "\n",
    "response = requests.get(url, headers=headers).json()\n"
   ]
  },
  {
   "cell_type": "code",
   "execution_count": 26,
   "metadata": {},
   "outputs": [
    {
     "data": {
      "text/plain": [
       "dict_keys(['status', 'contents'])"
      ]
     },
     "execution_count": 26,
     "metadata": {},
     "output_type": "execute_result"
    }
   ],
   "source": [
    "response.keys()"
   ]
  },
  {
   "cell_type": "code",
   "execution_count": 27,
   "metadata": {},
   "outputs": [
    {
     "data": {
      "text/plain": [
       "dict_keys(['subwayLine', 'stationName', 'stationCode', 'stat', 'statStartDate', 'statEndDate'])"
      ]
     },
     "execution_count": 27,
     "metadata": {},
     "output_type": "execute_result"
    }
   ],
   "source": [
    "response['contents'].keys()"
   ]
  },
  {
   "cell_type": "code",
   "execution_count": 32,
   "metadata": {},
   "outputs": [
    {
     "data": {
      "text/plain": [
       "6"
      ]
     },
     "execution_count": 32,
     "metadata": {},
     "output_type": "execute_result"
    }
   ],
   "source": [
    "len(response['contents'])"
   ]
  },
  {
   "cell_type": "code",
   "execution_count": 40,
   "metadata": {},
   "outputs": [
    {
     "data": {
      "text/plain": [
       "'소요산역'"
      ]
     },
     "execution_count": 40,
     "metadata": {},
     "output_type": "execute_result"
    }
   ],
   "source": [
    "response['contents']['stat'][0]['startStationName']"
   ]
  },
  {
   "cell_type": "code",
   "execution_count": 46,
   "metadata": {},
   "outputs": [
    {
     "data": {
      "text/plain": [
       "'서울역'"
      ]
     },
     "execution_count": 46,
     "metadata": {},
     "output_type": "execute_result"
    }
   ],
   "source": [
    "response['contents']['stationName']"
   ]
  },
  {
   "cell_type": "code",
   "execution_count": 146,
   "metadata": {},
   "outputs": [
    {
     "data": {
      "text/plain": [
       "dict"
      ]
     },
     "execution_count": 146,
     "metadata": {},
     "output_type": "execute_result"
    }
   ],
   "source": [
    "type(response['contents']['stat'][55]['data'][0])"
   ]
  },
  {
   "cell_type": "code",
   "execution_count": 141,
   "metadata": {},
   "outputs": [],
   "source": [
    "temp_list = []\n",
    "temp_list2 = []\n",
    "for stat in response['contents']['stat']:\n",
    "    if stat['updnLine'] == 1:\n",
    "        temp_list.append(stat['data'])\n",
    "    elif stat['updnLine'] == 0:\n",
    "        temp_list2.append(stat['data'])\n",
    "# temp_list = temp_list[0]\n",
    "# temp_list\n",
    "# temp_list2 = temp_list2[0]\n",
    "# temp_list2\n"
   ]
  },
  {
   "cell_type": "code",
   "execution_count": 142,
   "metadata": {},
   "outputs": [],
   "source": [
    "data1 = [stat['data'] for stat in response['contents']['stat'] if stat['updnLine'] == 1]\n",
    "data2 = [stat['data'] for stat in response['contents']['stat'] if stat['updnLine'] == 0]"
   ]
  },
  {
   "cell_type": "code",
   "execution_count": 143,
   "metadata": {},
   "outputs": [
    {
     "data": {
      "text/plain": [
       "[[{'dow': 'MON', 'hh': '08', 'mm': '00', 'congestionTrain': 0},\n",
       "  {'dow': 'MON', 'hh': '08', 'mm': '10', 'congestionTrain': 23},\n",
       "  {'dow': 'MON', 'hh': '08', 'mm': '20', 'congestionTrain': 47},\n",
       "  {'dow': 'MON', 'hh': '08', 'mm': '30', 'congestionTrain': 47},\n",
       "  {'dow': 'MON', 'hh': '08', 'mm': '40', 'congestionTrain': 23},\n",
       "  {'dow': 'MON', 'hh': '08', 'mm': '50', 'congestionTrain': 0}],\n",
       " [{'dow': 'MON', 'hh': '08', 'mm': '00', 'congestionTrain': 63},\n",
       "  {'dow': 'MON', 'hh': '08', 'mm': '10', 'congestionTrain': 63},\n",
       "  {'dow': 'MON', 'hh': '08', 'mm': '20', 'congestionTrain': 63},\n",
       "  {'dow': 'MON', 'hh': '08', 'mm': '30', 'congestionTrain': 51},\n",
       "  {'dow': 'MON', 'hh': '08', 'mm': '40', 'congestionTrain': 38},\n",
       "  {'dow': 'MON', 'hh': '08', 'mm': '50', 'congestionTrain': 38}],\n",
       " [{'dow': 'MON', 'hh': '08', 'mm': '00', 'congestionTrain': 0},\n",
       "  {'dow': 'MON', 'hh': '08', 'mm': '10', 'congestionTrain': 0},\n",
       "  {'dow': 'MON', 'hh': '08', 'mm': '20', 'congestionTrain': 0},\n",
       "  {'dow': 'MON', 'hh': '08', 'mm': '30', 'congestionTrain': 0},\n",
       "  {'dow': 'MON', 'hh': '08', 'mm': '40', 'congestionTrain': 0},\n",
       "  {'dow': 'MON', 'hh': '08', 'mm': '50', 'congestionTrain': 0}],\n",
       " [{'dow': 'MON', 'hh': '08', 'mm': '00', 'congestionTrain': 0},\n",
       "  {'dow': 'MON', 'hh': '08', 'mm': '10', 'congestionTrain': 0},\n",
       "  {'dow': 'MON', 'hh': '08', 'mm': '20', 'congestionTrain': 21},\n",
       "  {'dow': 'MON', 'hh': '08', 'mm': '30', 'congestionTrain': 43},\n",
       "  {'dow': 'MON', 'hh': '08', 'mm': '40', 'congestionTrain': 43},\n",
       "  {'dow': 'MON', 'hh': '08', 'mm': '50', 'congestionTrain': 45}],\n",
       " [{'dow': 'MON', 'hh': '08', 'mm': '00', 'congestionTrain': 57},\n",
       "  {'dow': 'MON', 'hh': '08', 'mm': '10', 'congestionTrain': 55},\n",
       "  {'dow': 'MON', 'hh': '08', 'mm': '20', 'congestionTrain': 55},\n",
       "  {'dow': 'MON', 'hh': '08', 'mm': '30', 'congestionTrain': 49},\n",
       "  {'dow': 'MON', 'hh': '08', 'mm': '40', 'congestionTrain': 54},\n",
       "  {'dow': 'MON', 'hh': '08', 'mm': '50', 'congestionTrain': 47}],\n",
       " [{'dow': 'MON', 'hh': '08', 'mm': '00', 'congestionTrain': 68},\n",
       "  {'dow': 'MON', 'hh': '08', 'mm': '10', 'congestionTrain': 68},\n",
       "  {'dow': 'MON', 'hh': '08', 'mm': '20', 'congestionTrain': 34},\n",
       "  {'dow': 'MON', 'hh': '08', 'mm': '30', 'congestionTrain': 0},\n",
       "  {'dow': 'MON', 'hh': '08', 'mm': '40', 'congestionTrain': 0},\n",
       "  {'dow': 'MON', 'hh': '08', 'mm': '50', 'congestionTrain': 19}],\n",
       " [{'dow': 'MON', 'hh': '08', 'mm': '00', 'congestionTrain': 0},\n",
       "  {'dow': 'MON', 'hh': '08', 'mm': '10', 'congestionTrain': 0},\n",
       "  {'dow': 'MON', 'hh': '08', 'mm': '20', 'congestionTrain': 0},\n",
       "  {'dow': 'MON', 'hh': '08', 'mm': '30', 'congestionTrain': 0},\n",
       "  {'dow': 'MON', 'hh': '08', 'mm': '40', 'congestionTrain': 0},\n",
       "  {'dow': 'MON', 'hh': '08', 'mm': '50', 'congestionTrain': 0}],\n",
       " [{'dow': 'MON', 'hh': '08', 'mm': '00', 'congestionTrain': 0},\n",
       "  {'dow': 'MON', 'hh': '08', 'mm': '10', 'congestionTrain': 0},\n",
       "  {'dow': 'MON', 'hh': '08', 'mm': '20', 'congestionTrain': 0},\n",
       "  {'dow': 'MON', 'hh': '08', 'mm': '30', 'congestionTrain': 0},\n",
       "  {'dow': 'MON', 'hh': '08', 'mm': '40', 'congestionTrain': 0},\n",
       "  {'dow': 'MON', 'hh': '08', 'mm': '50', 'congestionTrain': 0}],\n",
       " [{'dow': 'MON', 'hh': '08', 'mm': '00', 'congestionTrain': 34},\n",
       "  {'dow': 'MON', 'hh': '08', 'mm': '10', 'congestionTrain': 68},\n",
       "  {'dow': 'MON', 'hh': '08', 'mm': '20', 'congestionTrain': 68},\n",
       "  {'dow': 'MON', 'hh': '08', 'mm': '30', 'congestionTrain': 68},\n",
       "  {'dow': 'MON', 'hh': '08', 'mm': '40', 'congestionTrain': 34},\n",
       "  {'dow': 'MON', 'hh': '08', 'mm': '50', 'congestionTrain': 0}],\n",
       " [{'dow': 'MON', 'hh': '08', 'mm': '00', 'congestionTrain': 25},\n",
       "  {'dow': 'MON', 'hh': '08', 'mm': '10', 'congestionTrain': 0},\n",
       "  {'dow': 'MON', 'hh': '08', 'mm': '20', 'congestionTrain': 0},\n",
       "  {'dow': 'MON', 'hh': '08', 'mm': '30', 'congestionTrain': 26},\n",
       "  {'dow': 'MON', 'hh': '08', 'mm': '40', 'congestionTrain': 52},\n",
       "  {'dow': 'MON', 'hh': '08', 'mm': '50', 'congestionTrain': 44}],\n",
       " [{'dow': 'MON', 'hh': '08', 'mm': '00', 'congestionTrain': 0},\n",
       "  {'dow': 'MON', 'hh': '08', 'mm': '10', 'congestionTrain': 0},\n",
       "  {'dow': 'MON', 'hh': '08', 'mm': '20', 'congestionTrain': 0},\n",
       "  {'dow': 'MON', 'hh': '08', 'mm': '30', 'congestionTrain': 0},\n",
       "  {'dow': 'MON', 'hh': '08', 'mm': '40', 'congestionTrain': 0},\n",
       "  {'dow': 'MON', 'hh': '08', 'mm': '50', 'congestionTrain': 0}],\n",
       " [{'dow': 'MON', 'hh': '08', 'mm': '00', 'congestionTrain': 0},\n",
       "  {'dow': 'MON', 'hh': '08', 'mm': '10', 'congestionTrain': 0},\n",
       "  {'dow': 'MON', 'hh': '08', 'mm': '20', 'congestionTrain': 0},\n",
       "  {'dow': 'MON', 'hh': '08', 'mm': '30', 'congestionTrain': 0},\n",
       "  {'dow': 'MON', 'hh': '08', 'mm': '40', 'congestionTrain': 0},\n",
       "  {'dow': 'MON', 'hh': '08', 'mm': '50', 'congestionTrain': 0}],\n",
       " [{'dow': 'MON', 'hh': '08', 'mm': '00', 'congestionTrain': 74},\n",
       "  {'dow': 'MON', 'hh': '08', 'mm': '10', 'congestionTrain': 74},\n",
       "  {'dow': 'MON', 'hh': '08', 'mm': '20', 'congestionTrain': 37},\n",
       "  {'dow': 'MON', 'hh': '08', 'mm': '30', 'congestionTrain': 0},\n",
       "  {'dow': 'MON', 'hh': '08', 'mm': '40', 'congestionTrain': 0},\n",
       "  {'dow': 'MON', 'hh': '08', 'mm': '50', 'congestionTrain': 0}],\n",
       " [{'dow': 'MON', 'hh': '08', 'mm': '00', 'congestionTrain': 0},\n",
       "  {'dow': 'MON', 'hh': '08', 'mm': '10', 'congestionTrain': 0},\n",
       "  {'dow': 'MON', 'hh': '08', 'mm': '20', 'congestionTrain': 0},\n",
       "  {'dow': 'MON', 'hh': '08', 'mm': '30', 'congestionTrain': 0},\n",
       "  {'dow': 'MON', 'hh': '08', 'mm': '40', 'congestionTrain': 0},\n",
       "  {'dow': 'MON', 'hh': '08', 'mm': '50', 'congestionTrain': 0}],\n",
       " [{'dow': 'MON', 'hh': '08', 'mm': '00', 'congestionTrain': 0},\n",
       "  {'dow': 'MON', 'hh': '08', 'mm': '10', 'congestionTrain': 0},\n",
       "  {'dow': 'MON', 'hh': '08', 'mm': '20', 'congestionTrain': 0},\n",
       "  {'dow': 'MON', 'hh': '08', 'mm': '30', 'congestionTrain': 0},\n",
       "  {'dow': 'MON', 'hh': '08', 'mm': '40', 'congestionTrain': 0},\n",
       "  {'dow': 'MON', 'hh': '08', 'mm': '50', 'congestionTrain': 0}],\n",
       " [{'dow': 'MON', 'hh': '08', 'mm': '00', 'congestionTrain': 0},\n",
       "  {'dow': 'MON', 'hh': '08', 'mm': '10', 'congestionTrain': 0},\n",
       "  {'dow': 'MON', 'hh': '08', 'mm': '20', 'congestionTrain': 0},\n",
       "  {'dow': 'MON', 'hh': '08', 'mm': '30', 'congestionTrain': 0},\n",
       "  {'dow': 'MON', 'hh': '08', 'mm': '40', 'congestionTrain': 0},\n",
       "  {'dow': 'MON', 'hh': '08', 'mm': '50', 'congestionTrain': 0}],\n",
       " [{'dow': 'MON', 'hh': '08', 'mm': '00', 'congestionTrain': 0},\n",
       "  {'dow': 'MON', 'hh': '08', 'mm': '10', 'congestionTrain': 0},\n",
       "  {'dow': 'MON', 'hh': '08', 'mm': '20', 'congestionTrain': 0},\n",
       "  {'dow': 'MON', 'hh': '08', 'mm': '30', 'congestionTrain': 0},\n",
       "  {'dow': 'MON', 'hh': '08', 'mm': '40', 'congestionTrain': 0},\n",
       "  {'dow': 'MON', 'hh': '08', 'mm': '50', 'congestionTrain': 0}],\n",
       " [{'dow': 'MON', 'hh': '08', 'mm': '00', 'congestionTrain': 0},\n",
       "  {'dow': 'MON', 'hh': '08', 'mm': '10', 'congestionTrain': 29},\n",
       "  {'dow': 'MON', 'hh': '08', 'mm': '20', 'congestionTrain': 57},\n",
       "  {'dow': 'MON', 'hh': '08', 'mm': '30', 'congestionTrain': 57},\n",
       "  {'dow': 'MON', 'hh': '08', 'mm': '40', 'congestionTrain': 52},\n",
       "  {'dow': 'MON', 'hh': '08', 'mm': '50', 'congestionTrain': 38}],\n",
       " [{'dow': 'MON', 'hh': '08', 'mm': '00', 'congestionTrain': 0},\n",
       "  {'dow': 'MON', 'hh': '08', 'mm': '10', 'congestionTrain': 0},\n",
       "  {'dow': 'MON', 'hh': '08', 'mm': '20', 'congestionTrain': 0},\n",
       "  {'dow': 'MON', 'hh': '08', 'mm': '30', 'congestionTrain': 0},\n",
       "  {'dow': 'MON', 'hh': '08', 'mm': '40', 'congestionTrain': 0},\n",
       "  {'dow': 'MON', 'hh': '08', 'mm': '50', 'congestionTrain': 0}],\n",
       " [{'dow': 'MON', 'hh': '08', 'mm': '00', 'congestionTrain': 72},\n",
       "  {'dow': 'MON', 'hh': '08', 'mm': '10', 'congestionTrain': 71},\n",
       "  {'dow': 'MON', 'hh': '08', 'mm': '20', 'congestionTrain': 71},\n",
       "  {'dow': 'MON', 'hh': '08', 'mm': '30', 'congestionTrain': 69},\n",
       "  {'dow': 'MON', 'hh': '08', 'mm': '40', 'congestionTrain': 61},\n",
       "  {'dow': 'MON', 'hh': '08', 'mm': '50', 'congestionTrain': 60}],\n",
       " [{'dow': 'MON', 'hh': '08', 'mm': '00', 'congestionTrain': 0},\n",
       "  {'dow': 'MON', 'hh': '08', 'mm': '10', 'congestionTrain': 0},\n",
       "  {'dow': 'MON', 'hh': '08', 'mm': '20', 'congestionTrain': 0},\n",
       "  {'dow': 'MON', 'hh': '08', 'mm': '30', 'congestionTrain': 0},\n",
       "  {'dow': 'MON', 'hh': '08', 'mm': '40', 'congestionTrain': 0},\n",
       "  {'dow': 'MON', 'hh': '08', 'mm': '50', 'congestionTrain': 0}],\n",
       " [{'dow': 'MON', 'hh': '08', 'mm': '00', 'congestionTrain': 0},\n",
       "  {'dow': 'MON', 'hh': '08', 'mm': '10', 'congestionTrain': 0},\n",
       "  {'dow': 'MON', 'hh': '08', 'mm': '20', 'congestionTrain': 0},\n",
       "  {'dow': 'MON', 'hh': '08', 'mm': '30', 'congestionTrain': 0},\n",
       "  {'dow': 'MON', 'hh': '08', 'mm': '40', 'congestionTrain': 0},\n",
       "  {'dow': 'MON', 'hh': '08', 'mm': '50', 'congestionTrain': 0}],\n",
       " [{'dow': 'MON', 'hh': '08', 'mm': '00', 'congestionTrain': 58},\n",
       "  {'dow': 'MON', 'hh': '08', 'mm': '10', 'congestionTrain': 69},\n",
       "  {'dow': 'MON', 'hh': '08', 'mm': '20', 'congestionTrain': 69},\n",
       "  {'dow': 'MON', 'hh': '08', 'mm': '30', 'congestionTrain': 35},\n",
       "  {'dow': 'MON', 'hh': '08', 'mm': '40', 'congestionTrain': 0},\n",
       "  {'dow': 'MON', 'hh': '08', 'mm': '50', 'congestionTrain': 0}],\n",
       " [{'dow': 'MON', 'hh': '08', 'mm': '00', 'congestionTrain': 0},\n",
       "  {'dow': 'MON', 'hh': '08', 'mm': '10', 'congestionTrain': 0},\n",
       "  {'dow': 'MON', 'hh': '08', 'mm': '20', 'congestionTrain': 0},\n",
       "  {'dow': 'MON', 'hh': '08', 'mm': '30', 'congestionTrain': 0},\n",
       "  {'dow': 'MON', 'hh': '08', 'mm': '40', 'congestionTrain': 15},\n",
       "  {'dow': 'MON', 'hh': '08', 'mm': '50', 'congestionTrain': 30}],\n",
       " [{'dow': 'MON', 'hh': '08', 'mm': '00', 'congestionTrain': 51},\n",
       "  {'dow': 'MON', 'hh': '08', 'mm': '10', 'congestionTrain': 49},\n",
       "  {'dow': 'MON', 'hh': '08', 'mm': '20', 'congestionTrain': 49},\n",
       "  {'dow': 'MON', 'hh': '08', 'mm': '30', 'congestionTrain': 24},\n",
       "  {'dow': 'MON', 'hh': '08', 'mm': '40', 'congestionTrain': 16},\n",
       "  {'dow': 'MON', 'hh': '08', 'mm': '50', 'congestionTrain': 32}],\n",
       " [{'dow': 'MON', 'hh': '08', 'mm': '00', 'congestionTrain': 0},\n",
       "  {'dow': 'MON', 'hh': '08', 'mm': '10', 'congestionTrain': 0},\n",
       "  {'dow': 'MON', 'hh': '08', 'mm': '20', 'congestionTrain': 0},\n",
       "  {'dow': 'MON', 'hh': '08', 'mm': '30', 'congestionTrain': 0},\n",
       "  {'dow': 'MON', 'hh': '08', 'mm': '40', 'congestionTrain': 0},\n",
       "  {'dow': 'MON', 'hh': '08', 'mm': '50', 'congestionTrain': 0}],\n",
       " [{'dow': 'MON', 'hh': '08', 'mm': '00', 'congestionTrain': 0},\n",
       "  {'dow': 'MON', 'hh': '08', 'mm': '10', 'congestionTrain': 0},\n",
       "  {'dow': 'MON', 'hh': '08', 'mm': '20', 'congestionTrain': 0},\n",
       "  {'dow': 'MON', 'hh': '08', 'mm': '30', 'congestionTrain': 0},\n",
       "  {'dow': 'MON', 'hh': '08', 'mm': '40', 'congestionTrain': 0},\n",
       "  {'dow': 'MON', 'hh': '08', 'mm': '50', 'congestionTrain': 0}],\n",
       " [{'dow': 'MON', 'hh': '08', 'mm': '00', 'congestionTrain': 0},\n",
       "  {'dow': 'MON', 'hh': '08', 'mm': '10', 'congestionTrain': 0},\n",
       "  {'dow': 'MON', 'hh': '08', 'mm': '20', 'congestionTrain': 0},\n",
       "  {'dow': 'MON', 'hh': '08', 'mm': '30', 'congestionTrain': 0},\n",
       "  {'dow': 'MON', 'hh': '08', 'mm': '40', 'congestionTrain': 0},\n",
       "  {'dow': 'MON', 'hh': '08', 'mm': '50', 'congestionTrain': 0}],\n",
       " [{'dow': 'MON', 'hh': '08', 'mm': '00', 'congestionTrain': 0},\n",
       "  {'dow': 'MON', 'hh': '08', 'mm': '10', 'congestionTrain': 0},\n",
       "  {'dow': 'MON', 'hh': '08', 'mm': '20', 'congestionTrain': 0},\n",
       "  {'dow': 'MON', 'hh': '08', 'mm': '30', 'congestionTrain': 0},\n",
       "  {'dow': 'MON', 'hh': '08', 'mm': '40', 'congestionTrain': 0},\n",
       "  {'dow': 'MON', 'hh': '08', 'mm': '50', 'congestionTrain': 0}]]"
      ]
     },
     "execution_count": 143,
     "metadata": {},
     "output_type": "execute_result"
    }
   ],
   "source": [
    "data1"
   ]
  },
  {
   "cell_type": "code",
   "execution_count": 140,
   "metadata": {},
   "outputs": [
    {
     "data": {
      "text/plain": [
       "[[{'dow': 'MON', 'hh': '08', 'mm': '00', 'congestionTrain': 0},\n",
       "  {'dow': 'MON', 'hh': '08', 'mm': '20', 'congestionTrain': 47},\n",
       "  {'dow': 'MON', 'hh': '08', 'mm': '40', 'congestionTrain': 23}],\n",
       " [{'dow': 'MON', 'hh': '08', 'mm': '00', 'congestionTrain': 63},\n",
       "  {'dow': 'MON', 'hh': '08', 'mm': '20', 'congestionTrain': 63},\n",
       "  {'dow': 'MON', 'hh': '08', 'mm': '40', 'congestionTrain': 38}],\n",
       " [{'dow': 'MON', 'hh': '08', 'mm': '00', 'congestionTrain': 0},\n",
       "  {'dow': 'MON', 'hh': '08', 'mm': '20', 'congestionTrain': 0},\n",
       "  {'dow': 'MON', 'hh': '08', 'mm': '40', 'congestionTrain': 0}],\n",
       " [{'dow': 'MON', 'hh': '08', 'mm': '00', 'congestionTrain': 0},\n",
       "  {'dow': 'MON', 'hh': '08', 'mm': '20', 'congestionTrain': 21},\n",
       "  {'dow': 'MON', 'hh': '08', 'mm': '40', 'congestionTrain': 43}],\n",
       " [{'dow': 'MON', 'hh': '08', 'mm': '00', 'congestionTrain': 57},\n",
       "  {'dow': 'MON', 'hh': '08', 'mm': '20', 'congestionTrain': 55},\n",
       "  {'dow': 'MON', 'hh': '08', 'mm': '40', 'congestionTrain': 54}],\n",
       " [{'dow': 'MON', 'hh': '08', 'mm': '00', 'congestionTrain': 68},\n",
       "  {'dow': 'MON', 'hh': '08', 'mm': '20', 'congestionTrain': 34},\n",
       "  {'dow': 'MON', 'hh': '08', 'mm': '40', 'congestionTrain': 0}],\n",
       " [{'dow': 'MON', 'hh': '08', 'mm': '00', 'congestionTrain': 0},\n",
       "  {'dow': 'MON', 'hh': '08', 'mm': '20', 'congestionTrain': 0},\n",
       "  {'dow': 'MON', 'hh': '08', 'mm': '40', 'congestionTrain': 0}],\n",
       " [{'dow': 'MON', 'hh': '08', 'mm': '00', 'congestionTrain': 0},\n",
       "  {'dow': 'MON', 'hh': '08', 'mm': '20', 'congestionTrain': 0},\n",
       "  {'dow': 'MON', 'hh': '08', 'mm': '40', 'congestionTrain': 0}],\n",
       " [{'dow': 'MON', 'hh': '08', 'mm': '00', 'congestionTrain': 34},\n",
       "  {'dow': 'MON', 'hh': '08', 'mm': '20', 'congestionTrain': 68},\n",
       "  {'dow': 'MON', 'hh': '08', 'mm': '40', 'congestionTrain': 34}],\n",
       " [{'dow': 'MON', 'hh': '08', 'mm': '00', 'congestionTrain': 25},\n",
       "  {'dow': 'MON', 'hh': '08', 'mm': '20', 'congestionTrain': 0},\n",
       "  {'dow': 'MON', 'hh': '08', 'mm': '40', 'congestionTrain': 52}],\n",
       " [{'dow': 'MON', 'hh': '08', 'mm': '00', 'congestionTrain': 0},\n",
       "  {'dow': 'MON', 'hh': '08', 'mm': '20', 'congestionTrain': 0},\n",
       "  {'dow': 'MON', 'hh': '08', 'mm': '40', 'congestionTrain': 0}],\n",
       " [{'dow': 'MON', 'hh': '08', 'mm': '00', 'congestionTrain': 0},\n",
       "  {'dow': 'MON', 'hh': '08', 'mm': '20', 'congestionTrain': 0},\n",
       "  {'dow': 'MON', 'hh': '08', 'mm': '40', 'congestionTrain': 0}],\n",
       " [{'dow': 'MON', 'hh': '08', 'mm': '00', 'congestionTrain': 74},\n",
       "  {'dow': 'MON', 'hh': '08', 'mm': '20', 'congestionTrain': 37},\n",
       "  {'dow': 'MON', 'hh': '08', 'mm': '40', 'congestionTrain': 0}],\n",
       " [{'dow': 'MON', 'hh': '08', 'mm': '00', 'congestionTrain': 0},\n",
       "  {'dow': 'MON', 'hh': '08', 'mm': '20', 'congestionTrain': 0},\n",
       "  {'dow': 'MON', 'hh': '08', 'mm': '40', 'congestionTrain': 0}],\n",
       " [{'dow': 'MON', 'hh': '08', 'mm': '00', 'congestionTrain': 0},\n",
       "  {'dow': 'MON', 'hh': '08', 'mm': '20', 'congestionTrain': 0},\n",
       "  {'dow': 'MON', 'hh': '08', 'mm': '40', 'congestionTrain': 0}],\n",
       " [{'dow': 'MON', 'hh': '08', 'mm': '00', 'congestionTrain': 0},\n",
       "  {'dow': 'MON', 'hh': '08', 'mm': '20', 'congestionTrain': 0},\n",
       "  {'dow': 'MON', 'hh': '08', 'mm': '40', 'congestionTrain': 0}],\n",
       " [{'dow': 'MON', 'hh': '08', 'mm': '00', 'congestionTrain': 0},\n",
       "  {'dow': 'MON', 'hh': '08', 'mm': '20', 'congestionTrain': 0},\n",
       "  {'dow': 'MON', 'hh': '08', 'mm': '40', 'congestionTrain': 0}],\n",
       " [{'dow': 'MON', 'hh': '08', 'mm': '00', 'congestionTrain': 0},\n",
       "  {'dow': 'MON', 'hh': '08', 'mm': '20', 'congestionTrain': 57},\n",
       "  {'dow': 'MON', 'hh': '08', 'mm': '40', 'congestionTrain': 52}],\n",
       " [{'dow': 'MON', 'hh': '08', 'mm': '00', 'congestionTrain': 0},\n",
       "  {'dow': 'MON', 'hh': '08', 'mm': '20', 'congestionTrain': 0},\n",
       "  {'dow': 'MON', 'hh': '08', 'mm': '40', 'congestionTrain': 0}],\n",
       " [{'dow': 'MON', 'hh': '08', 'mm': '00', 'congestionTrain': 72},\n",
       "  {'dow': 'MON', 'hh': '08', 'mm': '20', 'congestionTrain': 71},\n",
       "  {'dow': 'MON', 'hh': '08', 'mm': '40', 'congestionTrain': 61}],\n",
       " [{'dow': 'MON', 'hh': '08', 'mm': '00', 'congestionTrain': 0},\n",
       "  {'dow': 'MON', 'hh': '08', 'mm': '20', 'congestionTrain': 0},\n",
       "  {'dow': 'MON', 'hh': '08', 'mm': '40', 'congestionTrain': 0}],\n",
       " [{'dow': 'MON', 'hh': '08', 'mm': '00', 'congestionTrain': 0},\n",
       "  {'dow': 'MON', 'hh': '08', 'mm': '20', 'congestionTrain': 0},\n",
       "  {'dow': 'MON', 'hh': '08', 'mm': '40', 'congestionTrain': 0}],\n",
       " [{'dow': 'MON', 'hh': '08', 'mm': '00', 'congestionTrain': 58},\n",
       "  {'dow': 'MON', 'hh': '08', 'mm': '20', 'congestionTrain': 69},\n",
       "  {'dow': 'MON', 'hh': '08', 'mm': '40', 'congestionTrain': 0}],\n",
       " [{'dow': 'MON', 'hh': '08', 'mm': '00', 'congestionTrain': 0},\n",
       "  {'dow': 'MON', 'hh': '08', 'mm': '20', 'congestionTrain': 0},\n",
       "  {'dow': 'MON', 'hh': '08', 'mm': '40', 'congestionTrain': 15}],\n",
       " [{'dow': 'MON', 'hh': '08', 'mm': '00', 'congestionTrain': 51},\n",
       "  {'dow': 'MON', 'hh': '08', 'mm': '20', 'congestionTrain': 49},\n",
       "  {'dow': 'MON', 'hh': '08', 'mm': '40', 'congestionTrain': 16}],\n",
       " [{'dow': 'MON', 'hh': '08', 'mm': '00', 'congestionTrain': 0},\n",
       "  {'dow': 'MON', 'hh': '08', 'mm': '20', 'congestionTrain': 0},\n",
       "  {'dow': 'MON', 'hh': '08', 'mm': '40', 'congestionTrain': 0}],\n",
       " [{'dow': 'MON', 'hh': '08', 'mm': '00', 'congestionTrain': 0},\n",
       "  {'dow': 'MON', 'hh': '08', 'mm': '20', 'congestionTrain': 0},\n",
       "  {'dow': 'MON', 'hh': '08', 'mm': '40', 'congestionTrain': 0}],\n",
       " [{'dow': 'MON', 'hh': '08', 'mm': '00', 'congestionTrain': 0},\n",
       "  {'dow': 'MON', 'hh': '08', 'mm': '20', 'congestionTrain': 0},\n",
       "  {'dow': 'MON', 'hh': '08', 'mm': '40', 'congestionTrain': 0}],\n",
       " [{'dow': 'MON', 'hh': '08', 'mm': '00', 'congestionTrain': 0},\n",
       "  {'dow': 'MON', 'hh': '08', 'mm': '20', 'congestionTrain': 0},\n",
       "  {'dow': 'MON', 'hh': '08', 'mm': '40', 'congestionTrain': 0}]]"
      ]
     },
     "execution_count": 140,
     "metadata": {},
     "output_type": "execute_result"
    }
   ],
   "source": [
    "temp_list"
   ]
  },
  {
   "cell_type": "code",
   "execution_count": 116,
   "metadata": {},
   "outputs": [],
   "source": [
    "df = pd.DataFrame(temp_list)\n",
    "df['updn'] = 1"
   ]
  },
  {
   "cell_type": "code",
   "execution_count": 123,
   "metadata": {},
   "outputs": [
    {
     "data": {
      "text/html": [
       "<div>\n",
       "<style scoped>\n",
       "    .dataframe tbody tr th:only-of-type {\n",
       "        vertical-align: middle;\n",
       "    }\n",
       "\n",
       "    .dataframe tbody tr th {\n",
       "        vertical-align: top;\n",
       "    }\n",
       "\n",
       "    .dataframe thead th {\n",
       "        text-align: right;\n",
       "    }\n",
       "</style>\n",
       "<table border=\"1\" class=\"dataframe\">\n",
       "  <thead>\n",
       "    <tr style=\"text-align: right;\">\n",
       "      <th></th>\n",
       "      <th>updn</th>\n",
       "      <th>congestionTrain</th>\n",
       "    </tr>\n",
       "  </thead>\n",
       "  <tbody>\n",
       "    <tr>\n",
       "      <th>0</th>\n",
       "      <td>1</td>\n",
       "      <td>23.333333</td>\n",
       "    </tr>\n",
       "    <tr>\n",
       "      <th>0</th>\n",
       "      <td>0</td>\n",
       "      <td>0.000000</td>\n",
       "    </tr>\n",
       "  </tbody>\n",
       "</table>\n",
       "</div>"
      ],
      "text/plain": [
       "   updn  congestionTrain\n",
       "0     1        23.333333\n",
       "0     0         0.000000"
      ]
     },
     "execution_count": 123,
     "metadata": {},
     "output_type": "execute_result"
    }
   ],
   "source": [
    "df1 = pd.DataFrame(temp_list)\n",
    "df1['updn'] = 1\n",
    "df1.drop(columns=['dow','hh','mm'],inplace=True)\n",
    "df1 = df1.groupby('updn')['congestionTrain'].agg('mean').reset_index()\n",
    "df_ = pd.DataFrame(temp_list2)\n",
    "df_['updn'] = 0\n",
    "df_.drop(columns=['dow','hh','mm'],inplace=True)\n",
    "df_ = df_.groupby('updn')['congestionTrain'].agg('mean').reset_index()\n",
    "df_res = pd.concat([df1,df_])\n",
    "df_res\n"
   ]
  },
  {
   "cell_type": "code",
   "execution_count": 113,
   "metadata": {},
   "outputs": [],
   "source": [
    "df = pd.DataFrame(temp_list)\n"
   ]
  },
  {
   "cell_type": "code",
   "execution_count": 61,
   "metadata": {},
   "outputs": [],
   "source": [
    "a = response['contents']['stat'][0]['data']"
   ]
  },
  {
   "cell_type": "code",
   "execution_count": 90,
   "metadata": {},
   "outputs": [],
   "source": [
    "df = pd.DataFrame(a)"
   ]
  },
  {
   "cell_type": "code",
   "execution_count": 117,
   "metadata": {},
   "outputs": [
    {
     "data": {
      "text/html": [
       "<div>\n",
       "<style scoped>\n",
       "    .dataframe tbody tr th:only-of-type {\n",
       "        vertical-align: middle;\n",
       "    }\n",
       "\n",
       "    .dataframe tbody tr th {\n",
       "        vertical-align: top;\n",
       "    }\n",
       "\n",
       "    .dataframe thead th {\n",
       "        text-align: right;\n",
       "    }\n",
       "</style>\n",
       "<table border=\"1\" class=\"dataframe\">\n",
       "  <thead>\n",
       "    <tr style=\"text-align: right;\">\n",
       "      <th></th>\n",
       "      <th>dow</th>\n",
       "      <th>hh</th>\n",
       "      <th>mm</th>\n",
       "      <th>congestionTrain</th>\n",
       "      <th>updn</th>\n",
       "    </tr>\n",
       "  </thead>\n",
       "  <tbody>\n",
       "    <tr>\n",
       "      <th>0</th>\n",
       "      <td>MON</td>\n",
       "      <td>08</td>\n",
       "      <td>00</td>\n",
       "      <td>0</td>\n",
       "      <td>1</td>\n",
       "    </tr>\n",
       "    <tr>\n",
       "      <th>1</th>\n",
       "      <td>MON</td>\n",
       "      <td>08</td>\n",
       "      <td>10</td>\n",
       "      <td>23</td>\n",
       "      <td>1</td>\n",
       "    </tr>\n",
       "    <tr>\n",
       "      <th>2</th>\n",
       "      <td>MON</td>\n",
       "      <td>08</td>\n",
       "      <td>20</td>\n",
       "      <td>47</td>\n",
       "      <td>1</td>\n",
       "    </tr>\n",
       "    <tr>\n",
       "      <th>3</th>\n",
       "      <td>MON</td>\n",
       "      <td>08</td>\n",
       "      <td>30</td>\n",
       "      <td>47</td>\n",
       "      <td>1</td>\n",
       "    </tr>\n",
       "    <tr>\n",
       "      <th>4</th>\n",
       "      <td>MON</td>\n",
       "      <td>08</td>\n",
       "      <td>40</td>\n",
       "      <td>23</td>\n",
       "      <td>1</td>\n",
       "    </tr>\n",
       "    <tr>\n",
       "      <th>5</th>\n",
       "      <td>MON</td>\n",
       "      <td>08</td>\n",
       "      <td>50</td>\n",
       "      <td>0</td>\n",
       "      <td>1</td>\n",
       "    </tr>\n",
       "  </tbody>\n",
       "</table>\n",
       "</div>"
      ],
      "text/plain": [
       "   dow  hh  mm  congestionTrain  updn\n",
       "0  MON  08  00                0     1\n",
       "1  MON  08  10               23     1\n",
       "2  MON  08  20               47     1\n",
       "3  MON  08  30               47     1\n",
       "4  MON  08  40               23     1\n",
       "5  MON  08  50                0     1"
      ]
     },
     "execution_count": 117,
     "metadata": {},
     "output_type": "execute_result"
    }
   ],
   "source": [
    "df"
   ]
  },
  {
   "cell_type": "code",
   "execution_count": 124,
   "metadata": {},
   "outputs": [
    {
     "data": {
      "text/html": [
       "<div>\n",
       "<style scoped>\n",
       "    .dataframe tbody tr th:only-of-type {\n",
       "        vertical-align: middle;\n",
       "    }\n",
       "\n",
       "    .dataframe tbody tr th {\n",
       "        vertical-align: top;\n",
       "    }\n",
       "\n",
       "    .dataframe thead th {\n",
       "        text-align: right;\n",
       "    }\n",
       "</style>\n",
       "<table border=\"1\" class=\"dataframe\">\n",
       "  <thead>\n",
       "    <tr style=\"text-align: right;\">\n",
       "      <th></th>\n",
       "      <th>congestionTrain</th>\n",
       "    </tr>\n",
       "  </thead>\n",
       "  <tbody>\n",
       "    <tr>\n",
       "      <th>1</th>\n",
       "      <td>23</td>\n",
       "    </tr>\n",
       "    <tr>\n",
       "      <th>2</th>\n",
       "      <td>47</td>\n",
       "    </tr>\n",
       "    <tr>\n",
       "      <th>3</th>\n",
       "      <td>47</td>\n",
       "    </tr>\n",
       "    <tr>\n",
       "      <th>4</th>\n",
       "      <td>23</td>\n",
       "    </tr>\n",
       "  </tbody>\n",
       "</table>\n",
       "</div>"
      ],
      "text/plain": [
       "   congestionTrain\n",
       "1               23\n",
       "2               47\n",
       "3               47\n",
       "4               23"
      ]
     },
     "execution_count": 124,
     "metadata": {},
     "output_type": "execute_result"
    }
   ],
   "source": [
    "df1 = df[df['congestionTrain'] != 0].copy()\n",
    "df1.drop(columns=['dow','hh','mm'],inplace=True)\n",
    "df1"
   ]
  },
  {
   "cell_type": "code",
   "execution_count": 119,
   "metadata": {},
   "outputs": [],
   "source": [
    "df1 = df1.groupby('updn')['congestionTrain'].agg('mean').reset_index()"
   ]
  },
  {
   "cell_type": "code",
   "execution_count": 120,
   "metadata": {},
   "outputs": [
    {
     "data": {
      "text/html": [
       "<div>\n",
       "<style scoped>\n",
       "    .dataframe tbody tr th:only-of-type {\n",
       "        vertical-align: middle;\n",
       "    }\n",
       "\n",
       "    .dataframe tbody tr th {\n",
       "        vertical-align: top;\n",
       "    }\n",
       "\n",
       "    .dataframe thead th {\n",
       "        text-align: right;\n",
       "    }\n",
       "</style>\n",
       "<table border=\"1\" class=\"dataframe\">\n",
       "  <thead>\n",
       "    <tr style=\"text-align: right;\">\n",
       "      <th></th>\n",
       "      <th>updn</th>\n",
       "      <th>congestionTrain</th>\n",
       "    </tr>\n",
       "  </thead>\n",
       "  <tbody>\n",
       "    <tr>\n",
       "      <th>0</th>\n",
       "      <td>1</td>\n",
       "      <td>35.0</td>\n",
       "    </tr>\n",
       "  </tbody>\n",
       "</table>\n",
       "</div>"
      ],
      "text/plain": [
       "   updn  congestionTrain\n",
       "0     1             35.0"
      ]
     },
     "execution_count": 120,
     "metadata": {},
     "output_type": "execute_result"
    }
   ],
   "source": [
    "df1"
   ]
  },
  {
   "cell_type": "code",
   "execution_count": 126,
   "metadata": {},
   "outputs": [],
   "source": [
    "df = pd.DataFrame(temp_list)\n",
    "df['updn'] = 1\n",
    "df1 = df[df['congestionTrain'] != 0].copy()\n",
    "df1.drop(columns=['dow','hh','mm'],inplace=True)\n",
    "df1 = df1.groupby('updn')['congestionTrain'].agg('mean').reset_index()\n",
    "df = pd.DataFrame(temp_list2)\n",
    "df['updn'] = 0\n",
    "df2 = df[df['congestionTrain'] != 0].copy()\n",
    "df2.drop(columns=['dow','hh','mm'],inplace=True)\n",
    "df2 = df2.groupby('updn')['congestionTrain'].agg('mean').reset_index()"
   ]
  },
  {
   "cell_type": "code",
   "execution_count": 128,
   "metadata": {},
   "outputs": [
    {
     "data": {
      "text/plain": [
       "[{'dow': 'MON', 'hh': '08', 'mm': '00', 'congestionTrain': 0},\n",
       " {'dow': 'MON', 'hh': '08', 'mm': '10', 'congestionTrain': 0},\n",
       " {'dow': 'MON', 'hh': '08', 'mm': '20', 'congestionTrain': 0},\n",
       " {'dow': 'MON', 'hh': '08', 'mm': '30', 'congestionTrain': 0},\n",
       " {'dow': 'MON', 'hh': '08', 'mm': '40', 'congestionTrain': 0},\n",
       " {'dow': 'MON', 'hh': '08', 'mm': '50', 'congestionTrain': 0}]"
      ]
     },
     "execution_count": 128,
     "metadata": {},
     "output_type": "execute_result"
    }
   ],
   "source": [
    "temp_list2"
   ]
  },
  {
   "cell_type": "code",
   "execution_count": null,
   "metadata": {},
   "outputs": [],
   "source": []
  }
 ],
 "metadata": {
  "kernelspec": {
   "display_name": "base",
   "language": "python",
   "name": "python3"
  },
  "language_info": {
   "codemirror_mode": {
    "name": "ipython",
    "version": 3
   },
   "file_extension": ".py",
   "mimetype": "text/x-python",
   "name": "python",
   "nbconvert_exporter": "python",
   "pygments_lexer": "ipython3",
   "version": "3.10.10"
  },
  "orig_nbformat": 4
 },
 "nbformat": 4,
 "nbformat_minor": 2
}
