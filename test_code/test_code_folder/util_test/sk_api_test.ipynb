{
 "cells": [
  {
   "cell_type": "code",
   "execution_count": 1,
   "metadata": {},
   "outputs": [],
   "source": [
    "import pandas as pd\n",
    "import requests,json,os\n",
    "from urllib.parse import quote \n",
    "from datetime import datetime"
   ]
  },
  {
   "cell_type": "code",
   "execution_count": 2,
   "metadata": {},
   "outputs": [],
   "source": [
    "with open('key/sk_open_api_key.txt') as f_:\n",
    "    sk_key = f_.read()"
   ]
  },
  {
   "cell_type": "code",
   "execution_count": 26,
   "metadata": {},
   "outputs": [
    {
     "data": {
      "text/plain": [
       "40"
      ]
     },
     "execution_count": 26,
     "metadata": {},
     "output_type": "execute_result"
    }
   ],
   "source": [
    "len(sk_key) "
   ]
  },
  {
   "cell_type": "code",
   "execution_count": 32,
   "metadata": {},
   "outputs": [
    {
     "data": {
      "text/plain": [
       "'133'"
      ]
     },
     "execution_count": 32,
     "metadata": {},
     "output_type": "execute_result"
    }
   ],
   "source": [
    "target = '서울역'\n",
    "timep = '08:40'\n",
    "hh, mm = timep.split(\":\")\n",
    "df_read = pd.read_csv('stn_code.csv')\n",
    "stn = '수원역'  # 입력할 역\n",
    "stn_code = df_read[df_read['stationName'] == target]['stationCode'].values[0]\n",
    "stn_code"
   ]
  },
  {
   "cell_type": "code",
   "execution_count": 33,
   "metadata": {},
   "outputs": [],
   "source": [
    "# 혼잡도\n",
    "station_code = stn_code\n",
    "dow = 'MON' # 대문자\n",
    "# hh = '08'\n",
    "url = f\"https://apis.openapi.sk.com/puzzle/subway/congestion/stat/train/stations/{station_code}?dow={dow}&hh={hh}\"\n",
    "headers = {\n",
    "    \"accept\": \"application/json\",\n",
    "    \"Content-Type\": \"application/json\",\n",
    "    \"appkey\": sk_key\n",
    "}\n",
    "\n",
    "response = requests.get(url, headers=headers).json()\n"
   ]
  },
  {
   "cell_type": "code",
   "execution_count": 29,
   "metadata": {},
   "outputs": [
    {
     "data": {
      "text/plain": [
       "dict_keys(['status', 'contents'])"
      ]
     },
     "execution_count": 29,
     "metadata": {},
     "output_type": "execute_result"
    }
   ],
   "source": [
    "response.keys()"
   ]
  },
  {
   "cell_type": "code",
   "execution_count": 74,
   "metadata": {},
   "outputs": [
    {
     "data": {
      "text/plain": [
       "dict_keys(['subwayLine', 'stationName', 'stationCode', 'stat', 'statStartDate', 'statEndDate'])"
      ]
     },
     "execution_count": 74,
     "metadata": {},
     "output_type": "execute_result"
    }
   ],
   "source": [
    "response['contents'].keys()"
   ]
  },
  {
   "cell_type": "code",
   "execution_count": 75,
   "metadata": {},
   "outputs": [
    {
     "data": {
      "text/plain": [
       "34"
      ]
     },
     "execution_count": 75,
     "metadata": {},
     "output_type": "execute_result"
    }
   ],
   "source": [
    "len(response['contents']['stat'])"
   ]
  },
  {
   "cell_type": "code",
   "execution_count": 76,
   "metadata": {},
   "outputs": [
    {
     "data": {
      "text/plain": [
       "'의정부역'"
      ]
     },
     "execution_count": 76,
     "metadata": {},
     "output_type": "execute_result"
    }
   ],
   "source": [
    "response['contents']['stat'][0]['startStationName']"
   ]
  },
  {
   "cell_type": "code",
   "execution_count": 77,
   "metadata": {},
   "outputs": [
    {
     "data": {
      "text/plain": [
       "'수원역'"
      ]
     },
     "execution_count": 77,
     "metadata": {},
     "output_type": "execute_result"
    }
   ],
   "source": [
    "response['contents']['stationName']"
   ]
  },
  {
   "cell_type": "code",
   "execution_count": 89,
   "metadata": {},
   "outputs": [
    {
     "data": {
      "text/plain": [
       "[{'dow': 'MON', 'hh': '08', 'mm': '00', 'congestionTrain': 0},\n",
       " {'dow': 'MON', 'hh': '08', 'mm': '10', 'congestionTrain': 0},\n",
       " {'dow': 'MON', 'hh': '08', 'mm': '20', 'congestionTrain': 0},\n",
       " {'dow': 'MON', 'hh': '08', 'mm': '30', 'congestionTrain': 0},\n",
       " {'dow': 'MON', 'hh': '08', 'mm': '40', 'congestionTrain': 0},\n",
       " {'dow': 'MON', 'hh': '08', 'mm': '50', 'congestionTrain': 0}]"
      ]
     },
     "execution_count": 89,
     "metadata": {},
     "output_type": "execute_result"
    }
   ],
   "source": [
    "response['contents']['stat'][15]['data']"
   ]
  },
  {
   "cell_type": "code",
   "execution_count": 79,
   "metadata": {},
   "outputs": [],
   "source": [
    "temp_list = []\n",
    "temp_list2 = []\n",
    "for stat in response['contents']['stat']:\n",
    "    if stat['updnLine'] == 1:\n",
    "        temp_list.append(pd.DataFrame(stat['data']))\n",
    "    elif stat['updnLine'] == 0:\n",
    "        temp_list2.append(pd.DataFrame(stat['data']))\n",
    "# temp_list = temp_list[0]\n",
    "# temp_list\n",
    "# temp_list2 = temp_list2[0]\n",
    "# temp_list2\n"
   ]
  },
  {
   "cell_type": "code",
   "execution_count": 34,
   "metadata": {},
   "outputs": [],
   "source": [
    "data1 = [pd.DataFrame(stat['data']) for stat in response['contents']['stat'] if stat['updnLine'] == 1]\n",
    "data2 = [pd.DataFrame(stat['data']) for stat in response['contents']['stat'] if stat['updnLine'] == 0]"
   ]
  },
  {
   "cell_type": "code",
   "execution_count": 80,
   "metadata": {},
   "outputs": [
    {
     "data": {
      "text/html": [
       "<div>\n",
       "<style scoped>\n",
       "    .dataframe tbody tr th:only-of-type {\n",
       "        vertical-align: middle;\n",
       "    }\n",
       "\n",
       "    .dataframe tbody tr th {\n",
       "        vertical-align: top;\n",
       "    }\n",
       "\n",
       "    .dataframe thead th {\n",
       "        text-align: right;\n",
       "    }\n",
       "</style>\n",
       "<table border=\"1\" class=\"dataframe\">\n",
       "  <thead>\n",
       "    <tr style=\"text-align: right;\">\n",
       "      <th></th>\n",
       "      <th>dow</th>\n",
       "      <th>hh</th>\n",
       "      <th>mm</th>\n",
       "      <th>congestionTrain</th>\n",
       "      <th>updn</th>\n",
       "    </tr>\n",
       "  </thead>\n",
       "  <tbody>\n",
       "    <tr>\n",
       "      <th>0</th>\n",
       "      <td>MON</td>\n",
       "      <td>08</td>\n",
       "      <td>00</td>\n",
       "      <td>0</td>\n",
       "      <td>1</td>\n",
       "    </tr>\n",
       "    <tr>\n",
       "      <th>1</th>\n",
       "      <td>MON</td>\n",
       "      <td>08</td>\n",
       "      <td>10</td>\n",
       "      <td>0</td>\n",
       "      <td>1</td>\n",
       "    </tr>\n",
       "    <tr>\n",
       "      <th>2</th>\n",
       "      <td>MON</td>\n",
       "      <td>08</td>\n",
       "      <td>20</td>\n",
       "      <td>0</td>\n",
       "      <td>1</td>\n",
       "    </tr>\n",
       "    <tr>\n",
       "      <th>3</th>\n",
       "      <td>MON</td>\n",
       "      <td>08</td>\n",
       "      <td>30</td>\n",
       "      <td>8</td>\n",
       "      <td>1</td>\n",
       "    </tr>\n",
       "    <tr>\n",
       "      <th>4</th>\n",
       "      <td>MON</td>\n",
       "      <td>08</td>\n",
       "      <td>40</td>\n",
       "      <td>8</td>\n",
       "      <td>1</td>\n",
       "    </tr>\n",
       "    <tr>\n",
       "      <th>...</th>\n",
       "      <td>...</td>\n",
       "      <td>...</td>\n",
       "      <td>...</td>\n",
       "      <td>...</td>\n",
       "      <td>...</td>\n",
       "    </tr>\n",
       "    <tr>\n",
       "      <th>1</th>\n",
       "      <td>MON</td>\n",
       "      <td>08</td>\n",
       "      <td>10</td>\n",
       "      <td>0</td>\n",
       "      <td>0</td>\n",
       "    </tr>\n",
       "    <tr>\n",
       "      <th>2</th>\n",
       "      <td>MON</td>\n",
       "      <td>08</td>\n",
       "      <td>20</td>\n",
       "      <td>0</td>\n",
       "      <td>0</td>\n",
       "    </tr>\n",
       "    <tr>\n",
       "      <th>3</th>\n",
       "      <td>MON</td>\n",
       "      <td>08</td>\n",
       "      <td>30</td>\n",
       "      <td>0</td>\n",
       "      <td>0</td>\n",
       "    </tr>\n",
       "    <tr>\n",
       "      <th>4</th>\n",
       "      <td>MON</td>\n",
       "      <td>08</td>\n",
       "      <td>40</td>\n",
       "      <td>0</td>\n",
       "      <td>0</td>\n",
       "    </tr>\n",
       "    <tr>\n",
       "      <th>5</th>\n",
       "      <td>MON</td>\n",
       "      <td>08</td>\n",
       "      <td>50</td>\n",
       "      <td>0</td>\n",
       "      <td>0</td>\n",
       "    </tr>\n",
       "  </tbody>\n",
       "</table>\n",
       "<p>204 rows × 5 columns</p>\n",
       "</div>"
      ],
      "text/plain": [
       "    dow  hh  mm  congestionTrain  updn\n",
       "0   MON  08  00                0     1\n",
       "1   MON  08  10                0     1\n",
       "2   MON  08  20                0     1\n",
       "3   MON  08  30                8     1\n",
       "4   MON  08  40                8     1\n",
       "..  ...  ..  ..              ...   ...\n",
       "1   MON  08  10                0     0\n",
       "2   MON  08  20                0     0\n",
       "3   MON  08  30                0     0\n",
       "4   MON  08  40                0     0\n",
       "5   MON  08  50                0     0\n",
       "\n",
       "[204 rows x 5 columns]"
      ]
     },
     "execution_count": 80,
     "metadata": {},
     "output_type": "execute_result"
    }
   ],
   "source": [
    "df = pd.concat(temp_list)\n",
    "df['updn'] = 1\n",
    "df_ = pd.concat(temp_list2)\n",
    "df_['updn'] = 0\n",
    "df = pd.concat((df,df_))\n",
    "df"
   ]
  },
  {
   "cell_type": "code",
   "execution_count": 115,
   "metadata": {},
   "outputs": [],
   "source": [
    "# 최대혼잡도\n",
    "df_res = df[df['congestionTrain'] != 0].copy().reset_index(drop=True)\n",
    "df_res.drop(columns=['dow','hh','mm'],inplace=True)\n"
   ]
  },
  {
   "cell_type": "code",
   "execution_count": 116,
   "metadata": {},
   "outputs": [
    {
     "data": {
      "text/html": [
       "<div>\n",
       "<style scoped>\n",
       "    .dataframe tbody tr th:only-of-type {\n",
       "        vertical-align: middle;\n",
       "    }\n",
       "\n",
       "    .dataframe tbody tr th {\n",
       "        vertical-align: top;\n",
       "    }\n",
       "\n",
       "    .dataframe thead th {\n",
       "        text-align: right;\n",
       "    }\n",
       "</style>\n",
       "<table border=\"1\" class=\"dataframe\">\n",
       "  <thead>\n",
       "    <tr style=\"text-align: right;\">\n",
       "      <th></th>\n",
       "      <th>updn</th>\n",
       "      <th>congestionTrain</th>\n",
       "    </tr>\n",
       "  </thead>\n",
       "  <tbody>\n",
       "    <tr>\n",
       "      <th>0</th>\n",
       "      <td>0</td>\n",
       "      <td>15</td>\n",
       "    </tr>\n",
       "    <tr>\n",
       "      <th>1</th>\n",
       "      <td>1</td>\n",
       "      <td>32</td>\n",
       "    </tr>\n",
       "  </tbody>\n",
       "</table>\n",
       "</div>"
      ],
      "text/plain": [
       "   updn  congestionTrain\n",
       "0     0               15\n",
       "1     1               32"
      ]
     },
     "execution_count": 116,
     "metadata": {},
     "output_type": "execute_result"
    }
   ],
   "source": [
    "df_res = df_res.groupby('updn')['congestionTrain'].agg('max').reset_index().round(2)\n",
    "df_res"
   ]
  },
  {
   "cell_type": "code",
   "execution_count": 109,
   "metadata": {},
   "outputs": [
    {
     "data": {
      "text/html": [
       "<div>\n",
       "<style scoped>\n",
       "    .dataframe tbody tr th:only-of-type {\n",
       "        vertical-align: middle;\n",
       "    }\n",
       "\n",
       "    .dataframe tbody tr th {\n",
       "        vertical-align: top;\n",
       "    }\n",
       "\n",
       "    .dataframe thead th {\n",
       "        text-align: right;\n",
       "    }\n",
       "</style>\n",
       "<table border=\"1\" class=\"dataframe\">\n",
       "  <thead>\n",
       "    <tr style=\"text-align: right;\">\n",
       "      <th></th>\n",
       "      <th>updn</th>\n",
       "      <th>congestionTrain</th>\n",
       "    </tr>\n",
       "  </thead>\n",
       "  <tbody>\n",
       "    <tr>\n",
       "      <th>0</th>\n",
       "      <td>0</td>\n",
       "      <td>4</td>\n",
       "    </tr>\n",
       "    <tr>\n",
       "      <th>1</th>\n",
       "      <td>1</td>\n",
       "      <td>6</td>\n",
       "    </tr>\n",
       "  </tbody>\n",
       "</table>\n",
       "</div>"
      ],
      "text/plain": [
       "   updn  congestionTrain\n",
       "0     0                4\n",
       "1     1                6"
      ]
     },
     "execution_count": 109,
     "metadata": {},
     "output_type": "execute_result"
    }
   ],
   "source": [
    "df_res = df_res.groupby('updn')['congestionTrain'].agg('min').reset_index().round(2)\n",
    "df_res"
   ]
  },
  {
   "cell_type": "code",
   "execution_count": 35,
   "metadata": {},
   "outputs": [
    {
     "data": {
      "text/html": [
       "<div>\n",
       "<style scoped>\n",
       "    .dataframe tbody tr th:only-of-type {\n",
       "        vertical-align: middle;\n",
       "    }\n",
       "\n",
       "    .dataframe tbody tr th {\n",
       "        vertical-align: top;\n",
       "    }\n",
       "\n",
       "    .dataframe thead th {\n",
       "        text-align: right;\n",
       "    }\n",
       "</style>\n",
       "<table border=\"1\" class=\"dataframe\">\n",
       "  <thead>\n",
       "    <tr style=\"text-align: right;\">\n",
       "      <th></th>\n",
       "      <th>dow</th>\n",
       "      <th>hh</th>\n",
       "      <th>mm</th>\n",
       "      <th>congestionTrain</th>\n",
       "      <th>updn</th>\n",
       "    </tr>\n",
       "  </thead>\n",
       "  <tbody>\n",
       "    <tr>\n",
       "      <th>0</th>\n",
       "      <td>MON</td>\n",
       "      <td>08</td>\n",
       "      <td>00</td>\n",
       "      <td>0</td>\n",
       "      <td>1</td>\n",
       "    </tr>\n",
       "    <tr>\n",
       "      <th>1</th>\n",
       "      <td>MON</td>\n",
       "      <td>08</td>\n",
       "      <td>10</td>\n",
       "      <td>22</td>\n",
       "      <td>1</td>\n",
       "    </tr>\n",
       "    <tr>\n",
       "      <th>2</th>\n",
       "      <td>MON</td>\n",
       "      <td>08</td>\n",
       "      <td>20</td>\n",
       "      <td>44</td>\n",
       "      <td>1</td>\n",
       "    </tr>\n",
       "    <tr>\n",
       "      <th>3</th>\n",
       "      <td>MON</td>\n",
       "      <td>08</td>\n",
       "      <td>30</td>\n",
       "      <td>44</td>\n",
       "      <td>1</td>\n",
       "    </tr>\n",
       "    <tr>\n",
       "      <th>4</th>\n",
       "      <td>MON</td>\n",
       "      <td>08</td>\n",
       "      <td>40</td>\n",
       "      <td>22</td>\n",
       "      <td>1</td>\n",
       "    </tr>\n",
       "    <tr>\n",
       "      <th>...</th>\n",
       "      <td>...</td>\n",
       "      <td>...</td>\n",
       "      <td>...</td>\n",
       "      <td>...</td>\n",
       "      <td>...</td>\n",
       "    </tr>\n",
       "    <tr>\n",
       "      <th>1</th>\n",
       "      <td>MON</td>\n",
       "      <td>08</td>\n",
       "      <td>10</td>\n",
       "      <td>183</td>\n",
       "      <td>0</td>\n",
       "    </tr>\n",
       "    <tr>\n",
       "      <th>2</th>\n",
       "      <td>MON</td>\n",
       "      <td>08</td>\n",
       "      <td>20</td>\n",
       "      <td>183</td>\n",
       "      <td>0</td>\n",
       "    </tr>\n",
       "    <tr>\n",
       "      <th>3</th>\n",
       "      <td>MON</td>\n",
       "      <td>08</td>\n",
       "      <td>30</td>\n",
       "      <td>191</td>\n",
       "      <td>0</td>\n",
       "    </tr>\n",
       "    <tr>\n",
       "      <th>4</th>\n",
       "      <td>MON</td>\n",
       "      <td>08</td>\n",
       "      <td>40</td>\n",
       "      <td>191</td>\n",
       "      <td>0</td>\n",
       "    </tr>\n",
       "    <tr>\n",
       "      <th>5</th>\n",
       "      <td>MON</td>\n",
       "      <td>08</td>\n",
       "      <td>50</td>\n",
       "      <td>111</td>\n",
       "      <td>0</td>\n",
       "    </tr>\n",
       "  </tbody>\n",
       "</table>\n",
       "<p>336 rows × 5 columns</p>\n",
       "</div>"
      ],
      "text/plain": [
       "    dow  hh  mm  congestionTrain  updn\n",
       "0   MON  08  00                0     1\n",
       "1   MON  08  10               22     1\n",
       "2   MON  08  20               44     1\n",
       "3   MON  08  30               44     1\n",
       "4   MON  08  40               22     1\n",
       "..  ...  ..  ..              ...   ...\n",
       "1   MON  08  10              183     0\n",
       "2   MON  08  20              183     0\n",
       "3   MON  08  30              191     0\n",
       "4   MON  08  40              191     0\n",
       "5   MON  08  50              111     0\n",
       "\n",
       "[336 rows x 5 columns]"
      ]
     },
     "execution_count": 35,
     "metadata": {},
     "output_type": "execute_result"
    }
   ],
   "source": [
    "df = pd.concat(data1)\n",
    "df['updn'] = 1\n",
    "df_ = pd.concat(data2)\n",
    "df_['updn'] = 0\n",
    "df = pd.concat((df,df_))\n",
    "df"
   ]
  },
  {
   "cell_type": "code",
   "execution_count": 29,
   "metadata": {},
   "outputs": [],
   "source": [
    "mm = 10"
   ]
  },
  {
   "cell_type": "code",
   "execution_count": 36,
   "metadata": {},
   "outputs": [
    {
     "data": {
      "text/html": [
       "<div>\n",
       "<style scoped>\n",
       "    .dataframe tbody tr th:only-of-type {\n",
       "        vertical-align: middle;\n",
       "    }\n",
       "\n",
       "    .dataframe tbody tr th {\n",
       "        vertical-align: top;\n",
       "    }\n",
       "\n",
       "    .dataframe thead th {\n",
       "        text-align: right;\n",
       "    }\n",
       "</style>\n",
       "<table border=\"1\" class=\"dataframe\">\n",
       "  <thead>\n",
       "    <tr style=\"text-align: right;\">\n",
       "      <th></th>\n",
       "      <th>updn</th>\n",
       "      <th>congestionTrain</th>\n",
       "    </tr>\n",
       "  </thead>\n",
       "  <tbody>\n",
       "    <tr>\n",
       "      <th>0</th>\n",
       "      <td>0</td>\n",
       "      <td>197</td>\n",
       "    </tr>\n",
       "    <tr>\n",
       "      <th>1</th>\n",
       "      <td>1</td>\n",
       "      <td>69</td>\n",
       "    </tr>\n",
       "  </tbody>\n",
       "</table>\n",
       "</div>"
      ],
      "text/plain": [
       "   updn  congestionTrain\n",
       "0     0              197\n",
       "1     1               69"
      ]
     },
     "execution_count": 36,
     "metadata": {},
     "output_type": "execute_result"
    }
   ],
   "source": [
    "df_res = df[df['congestionTrain'] != 0].copy()\n",
    "df_res = df_res[df_res['mm'] == mm].copy()\n",
    "df_res.drop(columns=['dow','hh','mm'],inplace=True)\n",
    "df_res = df.groupby('updn')['congestionTrain'].agg('max').reset_index().round(2)\n",
    "df_res"
   ]
  },
  {
   "cell_type": "code",
   "execution_count": 123,
   "metadata": {},
   "outputs": [
    {
     "data": {
      "text/plain": [
       "array([[ 0, 15],\n",
       "       [ 1, 32]], dtype=int64)"
      ]
     },
     "execution_count": 123,
     "metadata": {},
     "output_type": "execute_result"
    }
   ],
   "source": [
    "df_res.values"
   ]
  },
  {
   "cell_type": "code",
   "execution_count": 31,
   "metadata": {},
   "outputs": [],
   "source": [
    "#######################\n",
    "import requests\n",
    "\n",
    "url = \"https://apis.openapi.sk.com/puzzle/subway/meta/stations?type=train\"\n",
    "\n",
    "headers = {\n",
    "    \"accept\": \"application/json\",\n",
    "    \"Content-Type\": \"application/json\",\n",
    "    \"appkey\": sk_key\n",
    "}\n",
    "\n",
    "response = requests.get(url, headers=headers).json()"
   ]
  },
  {
   "cell_type": "code",
   "execution_count": 32,
   "metadata": {},
   "outputs": [
    {
     "data": {
      "text/plain": [
       "dict_keys(['status', 'contents'])"
      ]
     },
     "execution_count": 32,
     "metadata": {},
     "output_type": "execute_result"
    }
   ],
   "source": [
    "response.keys()"
   ]
  },
  {
   "cell_type": "code",
   "execution_count": 34,
   "metadata": {},
   "outputs": [],
   "source": [
    "re = response['contents']"
   ]
  },
  {
   "cell_type": "code",
   "execution_count": 35,
   "metadata": {},
   "outputs": [],
   "source": [
    "df = pd.DataFrame(re)"
   ]
  },
  {
   "cell_type": "code",
   "execution_count": 36,
   "metadata": {},
   "outputs": [
    {
     "data": {
      "text/html": [
       "<div>\n",
       "<style scoped>\n",
       "    .dataframe tbody tr th:only-of-type {\n",
       "        vertical-align: middle;\n",
       "    }\n",
       "\n",
       "    .dataframe tbody tr th {\n",
       "        vertical-align: top;\n",
       "    }\n",
       "\n",
       "    .dataframe thead th {\n",
       "        text-align: right;\n",
       "    }\n",
       "</style>\n",
       "<table border=\"1\" class=\"dataframe\">\n",
       "  <thead>\n",
       "    <tr style=\"text-align: right;\">\n",
       "      <th></th>\n",
       "      <th>subwayLine</th>\n",
       "      <th>stationName</th>\n",
       "      <th>stationCode</th>\n",
       "    </tr>\n",
       "  </thead>\n",
       "  <tbody>\n",
       "    <tr>\n",
       "      <th>0</th>\n",
       "      <td>1호선</td>\n",
       "      <td>소요산역</td>\n",
       "      <td>100</td>\n",
       "    </tr>\n",
       "    <tr>\n",
       "      <th>1</th>\n",
       "      <td>1호선</td>\n",
       "      <td>동두천역</td>\n",
       "      <td>101</td>\n",
       "    </tr>\n",
       "    <tr>\n",
       "      <th>2</th>\n",
       "      <td>1호선</td>\n",
       "      <td>보산역</td>\n",
       "      <td>102</td>\n",
       "    </tr>\n",
       "    <tr>\n",
       "      <th>3</th>\n",
       "      <td>1호선</td>\n",
       "      <td>동두천중앙역</td>\n",
       "      <td>103</td>\n",
       "    </tr>\n",
       "    <tr>\n",
       "      <th>4</th>\n",
       "      <td>1호선</td>\n",
       "      <td>지행역</td>\n",
       "      <td>104</td>\n",
       "    </tr>\n",
       "    <tr>\n",
       "      <th>...</th>\n",
       "      <td>...</td>\n",
       "      <td>...</td>\n",
       "      <td>...</td>\n",
       "    </tr>\n",
       "    <tr>\n",
       "      <th>477</th>\n",
       "      <td>5호선</td>\n",
       "      <td>방이역</td>\n",
       "      <td>P551</td>\n",
       "    </tr>\n",
       "    <tr>\n",
       "      <th>478</th>\n",
       "      <td>5호선</td>\n",
       "      <td>오금역</td>\n",
       "      <td>P552</td>\n",
       "    </tr>\n",
       "    <tr>\n",
       "      <th>479</th>\n",
       "      <td>5호선</td>\n",
       "      <td>개롱역</td>\n",
       "      <td>P553</td>\n",
       "    </tr>\n",
       "    <tr>\n",
       "      <th>480</th>\n",
       "      <td>5호선</td>\n",
       "      <td>거여역</td>\n",
       "      <td>P554</td>\n",
       "    </tr>\n",
       "    <tr>\n",
       "      <th>481</th>\n",
       "      <td>5호선</td>\n",
       "      <td>마천역</td>\n",
       "      <td>P555</td>\n",
       "    </tr>\n",
       "  </tbody>\n",
       "</table>\n",
       "<p>482 rows × 3 columns</p>\n",
       "</div>"
      ],
      "text/plain": [
       "    subwayLine stationName stationCode\n",
       "0          1호선        소요산역         100\n",
       "1          1호선        동두천역         101\n",
       "2          1호선         보산역         102\n",
       "3          1호선      동두천중앙역         103\n",
       "4          1호선         지행역         104\n",
       "..         ...         ...         ...\n",
       "477        5호선         방이역        P551\n",
       "478        5호선         오금역        P552\n",
       "479        5호선         개롱역        P553\n",
       "480        5호선         거여역        P554\n",
       "481        5호선         마천역        P555\n",
       "\n",
       "[482 rows x 3 columns]"
      ]
     },
     "execution_count": 36,
     "metadata": {},
     "output_type": "execute_result"
    }
   ],
   "source": [
    "df"
   ]
  },
  {
   "cell_type": "code",
   "execution_count": 37,
   "metadata": {},
   "outputs": [],
   "source": [
    "df.to_csv('stn_code.csv',index=False)"
   ]
  },
  {
   "cell_type": "code",
   "execution_count": 50,
   "metadata": {},
   "outputs": [
    {
     "data": {
      "text/plain": [
       "'100'"
      ]
     },
     "execution_count": 50,
     "metadata": {},
     "output_type": "execute_result"
    }
   ],
   "source": [
    "stn = '소요산역'\n",
    "selected_code = df[df['stationName'] == stn]['stationCode'].values[0]\n",
    "selected_code"
   ]
  },
  {
   "cell_type": "code",
   "execution_count": 41,
   "metadata": {},
   "outputs": [
    {
     "data": {
      "text/plain": [
       "Series([], Name: stationCode, dtype: object)"
      ]
     },
     "execution_count": 41,
     "metadata": {},
     "output_type": "execute_result"
    }
   ],
   "source": [
    "df.loc[df['stationName'] == stn, 'stationCode']"
   ]
  },
  {
   "cell_type": "code",
   "execution_count": null,
   "metadata": {},
   "outputs": [],
   "source": [
    "def get_stn_code():\n",
    "    url = \"https://apis.openapi.sk.com/puzzle/subway/meta/stations?type=train\"\n",
    "    headers = {\n",
    "        \"accept\": \"application/json\",\n",
    "        \"Content-Type\": \"application/json\",\n",
    "        \"appkey\": sk_key\n",
    "    }\n",
    "    response = requests.get(url, headers=headers).json()\n",
    "    re = response['contents']\n",
    "    df = pd.DataFrame(re)\n",
    "    df.to_csv('stn_code.csv',index=False)\n",
    "    return None\n",
    "    "
   ]
  },
  {
   "cell_type": "code",
   "execution_count": 38,
   "metadata": {},
   "outputs": [],
   "source": [
    "weekdays = [\"MON\", \"TUE\", \"WED\", \"THU\", \"FRI\", \"SAT\", \"SUN\"]\n",
    "today = datetime.today().weekday()\n",
    "dow = weekdays[today]"
   ]
  },
  {
   "cell_type": "code",
   "execution_count": 3,
   "metadata": {},
   "outputs": [],
   "source": [
    "# def create_stn_code():\n",
    "#     url = \"https://apis.openapi.sk.com/puzzle/subway/meta/stations?type=train\"\n",
    "#     headers = {\n",
    "#         \"accept\": \"application/json\",\n",
    "#         \"Content-Type\": \"application/json\",\n",
    "#         \"appkey\": sk_key\n",
    "#     }\n",
    "#     response = requests.get(url, headers=headers).json()\n",
    "#     re = response['contents']\n",
    "#     df = pd.DataFrame(re)\n",
    "#     df.to_csv(f'stn_code.csv',index=False)\n",
    "#     return None\n",
    "def get_stn_code(station):\n",
    "    df_read = pd.read_csv(f'stn_code.csv')\n",
    "    stn = station  # 입력할 역\n",
    "    stn_code = df_read[df_read['stationName'] == stn]['stationCode'].values[0]\n",
    "    return stn_code\n",
    "# 역명, 요일, 시간, 분(10분단위)를 입력하면 입력한 시간에 해당되는 상하행별 최대 혼잡도 반환\n",
    "def get_cong(station,hh,mm):\n",
    "    sk_key_ = 'key/sk_open_api_key.txt'\n",
    "    # 고유코드들을 구한 csv파일이 없으면 고유코드들을 구하는 함수 실행\n",
    "    # if not os.path.exists(stn_code_file_path):\n",
    "    #     create_stn_code()\n",
    "    weekdays = [\"MON\", \"TUE\", \"WED\", \"THU\", \"FRI\", \"SAT\", \"SUN\"]\n",
    "    today = datetime.today().weekday()\n",
    "    dow = weekdays[today]\n",
    "    \n",
    "    station_code = get_stn_code(station)\n",
    "    url = f\"https://apis.openapi.sk.com/puzzle/subway/congestion/stat/train/stations/{station_code}?dow={dow}&hh={hh}\"\n",
    "    # url = f\"https://apis.openapi.sk.com/puzzle/subway/congestion/stat/train/stations/{station_code}?dow=MON&hh={hh}\"\n",
    "    headers = {\n",
    "        \"accept\": \"application/json\",\n",
    "        \"Content-Type\": \"application/json\",\n",
    "        \"appkey\": sk_key\n",
    "    }\n",
    "\n",
    "    response = requests.get(url, headers=headers).json()\n",
    "    # data1에는 상행선들의 데이터\n",
    "    # data2에는 하행선들의 데이터\n",
    "    data1 = [pd.DataFrame(stat['data']) for stat in response['contents']['stat'] if stat['updnLine'] == 1]\n",
    "    data2 = [pd.DataFrame(stat['data']) for stat in response['contents']['stat'] if stat['updnLine'] == 0]\n",
    "    # 리스트에 저장된 데이터프레임들을 하나로 만듬\n",
    "    df = pd.concat(data1)\n",
    "    df['updn'] = 1\n",
    "    df_ = pd.concat(data2)\n",
    "    df_['updn'] = 0\n",
    "    # 합쳐진 상하행선 데이터들을 합침\n",
    "    df = pd.concat((df,df_))\n",
    "    # 특수한 사유로 혼잡도 0을 갖는 데이터들이 있는데 이 데이터들은 포함하지 않음\n",
    "    df_res = df[df['congestionTrain'] != 0].copy()\n",
    "    # 그 시간대에서 원하는 분(10분단위)를 고름\n",
    "    df_res = df_res[df_res['mm'] == int(mm)].copy()\n",
    "    # 필요없는 부분을 제거하고 그룹바이\n",
    "    df_res.drop(columns=['dow','hh','mm'],inplace=True)\n",
    "    df_res = df.groupby('updn')['congestionTrain'].agg('max').reset_index().round(2)\n",
    "    return df_res.values"
   ]
  },
  {
   "cell_type": "code",
   "execution_count": 12,
   "metadata": {},
   "outputs": [
    {
     "data": {
      "text/plain": [
       "array([[  0, 180],\n",
       "       [  1,  65]], dtype=int64)"
      ]
     },
     "execution_count": 12,
     "metadata": {},
     "output_type": "execute_result"
    }
   ],
   "source": [
    "target = '서울역'\n",
    "timep = '08:40'\n",
    "hh, mm = timep.split(\":\")\n",
    "a = get_cong(station=target,hh=hh,mm=mm)\n",
    "a"
   ]
  },
  {
   "cell_type": "code",
   "execution_count": 9,
   "metadata": {},
   "outputs": [
    {
     "data": {
      "text/plain": [
       "(180, 65)"
      ]
     },
     "execution_count": 9,
     "metadata": {},
     "output_type": "execute_result"
    }
   ],
   "source": [
    "dn = int(a[0][1])\n",
    "up = int(a[1][1])\n",
    "dn, up"
   ]
  },
  {
   "cell_type": "code",
   "execution_count": 11,
   "metadata": {},
   "outputs": [
    {
     "data": {
      "text/plain": [
       "(5, 3)"
      ]
     },
     "execution_count": 11,
     "metadata": {},
     "output_type": "execute_result"
    }
   ],
   "source": [
    "dn_img = 1 if dn < 20 else 2 if dn < 40 and dn>=20 else 3 if dn < 80 and dn>=40 else 4 if dn < 140 and dn>=80 else 5\n",
    "up_img = 1 if up < 20 else 2 if up < 40 and up>=20 else 3 if up < 80 and up>=40 else 4 if up < 140 and up>=80 else 5\n",
    "dn_img,up_img"
   ]
  },
  {
   "cell_type": "code",
   "execution_count": null,
   "metadata": {},
   "outputs": [],
   "source": [
    "def show_cong(timep, target, app):\n",
    "    hh, mm = timep.split(\":\")\n",
    "    cong = get_cong(station=target, hh=hh, mm=mm)\n",
    "    dn = int(cong[0][1])\n",
    "    up = int(cong[1][1])\n",
    "    dn_img = 1 if dn < 20 else 2 if dn < 40 else 3 if dn < 80 else 4 if dn < 140 else 5\n",
    "    up_img = 1 if up < 20 else 2 if up < 40 else 3 if up < 80 else 4 if up < 140 else 5\n"
   ]
  }
 ],
 "metadata": {
  "kernelspec": {
   "display_name": "base",
   "language": "python",
   "name": "python3"
  },
  "language_info": {
   "codemirror_mode": {
    "name": "ipython",
    "version": 3
   },
   "file_extension": ".py",
   "mimetype": "text/x-python",
   "name": "python",
   "nbconvert_exporter": "python",
   "pygments_lexer": "ipython3",
   "version": "3.10.10"
  },
  "orig_nbformat": 4
 },
 "nbformat": 4,
 "nbformat_minor": 2
}
