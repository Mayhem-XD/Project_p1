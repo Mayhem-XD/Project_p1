{
 "cells": [
  {
   "cell_type": "code",
   "execution_count": 1,
   "metadata": {},
   "outputs": [],
   "source": [
    "import pandas as pd"
   ]
  },
  {
   "cell_type": "code",
   "execution_count": 46,
   "metadata": {},
   "outputs": [
    {
     "data": {
      "text/html": [
       "<div>\n",
       "<style scoped>\n",
       "    .dataframe tbody tr th:only-of-type {\n",
       "        vertical-align: middle;\n",
       "    }\n",
       "\n",
       "    .dataframe tbody tr th {\n",
       "        vertical-align: top;\n",
       "    }\n",
       "\n",
       "    .dataframe thead th {\n",
       "        text-align: right;\n",
       "    }\n",
       "</style>\n",
       "<table border=\"1\" class=\"dataframe\">\n",
       "  <thead>\n",
       "    <tr style=\"text-align: right;\">\n",
       "      <th></th>\n",
       "      <th>사용일자</th>\n",
       "      <th>호선명</th>\n",
       "      <th>지하철역</th>\n",
       "      <th>승차총승객수</th>\n",
       "      <th>하차총승객수</th>\n",
       "      <th>승하차총승객수</th>\n",
       "    </tr>\n",
       "  </thead>\n",
       "  <tbody>\n",
       "    <tr>\n",
       "      <th>0</th>\n",
       "      <td>20210101</td>\n",
       "      <td>일산선</td>\n",
       "      <td>백석</td>\n",
       "      <td>2724</td>\n",
       "      <td>2825</td>\n",
       "      <td>5549</td>\n",
       "    </tr>\n",
       "    <tr>\n",
       "      <th>1</th>\n",
       "      <td>20210101</td>\n",
       "      <td>일산선</td>\n",
       "      <td>마두</td>\n",
       "      <td>1638</td>\n",
       "      <td>1652</td>\n",
       "      <td>3290</td>\n",
       "    </tr>\n",
       "    <tr>\n",
       "      <th>2</th>\n",
       "      <td>20210101</td>\n",
       "      <td>3호선</td>\n",
       "      <td>을지로3가</td>\n",
       "      <td>1024</td>\n",
       "      <td>1009</td>\n",
       "      <td>2033</td>\n",
       "    </tr>\n",
       "    <tr>\n",
       "      <th>3</th>\n",
       "      <td>20210101</td>\n",
       "      <td>3호선</td>\n",
       "      <td>종로3가</td>\n",
       "      <td>1255</td>\n",
       "      <td>1632</td>\n",
       "      <td>2887</td>\n",
       "    </tr>\n",
       "    <tr>\n",
       "      <th>4</th>\n",
       "      <td>20210101</td>\n",
       "      <td>3호선</td>\n",
       "      <td>안국</td>\n",
       "      <td>2934</td>\n",
       "      <td>3029</td>\n",
       "      <td>5963</td>\n",
       "    </tr>\n",
       "  </tbody>\n",
       "</table>\n",
       "</div>"
      ],
      "text/plain": [
       "       사용일자  호선명   지하철역  승차총승객수  하차총승객수  승하차총승객수\n",
       "0  20210101  일산선     백석    2724    2825     5549\n",
       "1  20210101  일산선     마두    1638    1652     3290\n",
       "2  20210101  3호선  을지로3가    1024    1009     2033\n",
       "3  20210101  3호선   종로3가    1255    1632     2887\n",
       "4  20210101  3호선     안국    2934    3029     5963"
      ]
     },
     "execution_count": 46,
     "metadata": {},
     "output_type": "execute_result"
    }
   ],
   "source": [
    "df = pd.read_csv('test4.csv')\n",
    "# df.drop(columns=['등록일자'],inplace=True)\n",
    "df.head()"
   ]
  },
  {
   "cell_type": "code",
   "execution_count": 8,
   "metadata": {},
   "outputs": [],
   "source": [
    "cols = list(df.columns)[:3]\n",
    "target = list(df.columns)[3:]\n",
    "df_list = []\n",
    "# 반복문에 해당되지 않는 범위는 수동으로 구해서 \n",
    "for i in range(2, 28, 7): # 사용할때 여기 수정 해당 월에 맞게   여긴 1월2일이 월요일이라 2일 부터 시작 30,31일 데이터는 추가로 더해야함\n",
    "    start_date = 20230100 + i   # 여기도 조건에 맞게 수정\n",
    "    end_date = start_date + 5\n",
    "    df_temp = df[(df['사용일자'] >= start_date) & (df['사용일자'] < end_date)].copy()\n",
    "    df_temp = df_temp.groupby(cols)[target].agg('sum').reset_index()\n",
    "    df_list.append(df_temp)\n",
    "df_1 = pd.concat(df_list, axis=0)\n",
    "df_1['사용일자'] = 202301\n",
    "df_1 = df_1.groupby(cols)[target].agg('sum').reset_index()"
   ]
  },
  {
   "cell_type": "code",
   "execution_count": 8,
   "metadata": {},
   "outputs": [
    {
     "data": {
      "text/html": [
       "<div>\n",
       "<style scoped>\n",
       "    .dataframe tbody tr th:only-of-type {\n",
       "        vertical-align: middle;\n",
       "    }\n",
       "\n",
       "    .dataframe tbody tr th {\n",
       "        vertical-align: top;\n",
       "    }\n",
       "\n",
       "    .dataframe thead th {\n",
       "        text-align: right;\n",
       "    }\n",
       "</style>\n",
       "<table border=\"1\" class=\"dataframe\">\n",
       "  <thead>\n",
       "    <tr style=\"text-align: right;\">\n",
       "      <th></th>\n",
       "      <th>사용일자</th>\n",
       "      <th>노선명</th>\n",
       "      <th>역명</th>\n",
       "      <th>승차총승객수</th>\n",
       "      <th>하차총승객수</th>\n",
       "    </tr>\n",
       "  </thead>\n",
       "  <tbody>\n",
       "    <tr>\n",
       "      <th>0</th>\n",
       "      <td>20230101</td>\n",
       "      <td>경강선</td>\n",
       "      <td>곤지암</td>\n",
       "      <td>1450</td>\n",
       "      <td>1539</td>\n",
       "    </tr>\n",
       "    <tr>\n",
       "      <th>1</th>\n",
       "      <td>20230101</td>\n",
       "      <td>2호선</td>\n",
       "      <td>신도림</td>\n",
       "      <td>20210</td>\n",
       "      <td>21037</td>\n",
       "    </tr>\n",
       "    <tr>\n",
       "      <th>2</th>\n",
       "      <td>20230101</td>\n",
       "      <td>2호선</td>\n",
       "      <td>문래</td>\n",
       "      <td>5995</td>\n",
       "      <td>6567</td>\n",
       "    </tr>\n",
       "    <tr>\n",
       "      <th>3</th>\n",
       "      <td>20230101</td>\n",
       "      <td>2호선</td>\n",
       "      <td>영등포구청</td>\n",
       "      <td>5629</td>\n",
       "      <td>6117</td>\n",
       "    </tr>\n",
       "    <tr>\n",
       "      <th>4</th>\n",
       "      <td>20230101</td>\n",
       "      <td>2호선</td>\n",
       "      <td>당산</td>\n",
       "      <td>6821</td>\n",
       "      <td>7594</td>\n",
       "    </tr>\n",
       "  </tbody>\n",
       "</table>\n",
       "</div>"
      ],
      "text/plain": [
       "       사용일자  노선명     역명  승차총승객수  하차총승객수\n",
       "0  20230101  경강선    곤지암    1450    1539\n",
       "1  20230101  2호선    신도림   20210   21037\n",
       "2  20230101  2호선     문래    5995    6567\n",
       "3  20230101  2호선  영등포구청    5629    6117\n",
       "4  20230101  2호선     당산    6821    7594"
      ]
     },
     "execution_count": 8,
     "metadata": {},
     "output_type": "execute_result"
    }
   ],
   "source": [
    "df.head()"
   ]
  },
  {
   "cell_type": "code",
   "execution_count": 10,
   "metadata": {},
   "outputs": [
    {
     "data": {
      "text/plain": [
       "(612, 5)"
      ]
     },
     "execution_count": 10,
     "metadata": {},
     "output_type": "execute_result"
    }
   ],
   "source": [
    "df_1.shape"
   ]
  },
  {
   "cell_type": "code",
   "execution_count": null,
   "metadata": {},
   "outputs": [],
   "source": [
    "# 이렇게 12개월치 구한거\n",
    "# df_res_list = [df_1,df_2,df_3 ....df_12] 리스트 안에 넣음\n",
    "# df_res = pd.concat(df_res_list, axis=0) 합침\n",
    "# 이거에 이제 역명 '(' 지우고 하는 작업하고\n",
    "# 호선별로 나눈다음에\n",
    "# line_merge 코드 짜둔거 사용해서 합치면 됨"
   ]
  },
  {
   "cell_type": "code",
   "execution_count": 95,
   "metadata": {},
   "outputs": [],
   "source": [
    "df1 = df.copy()\n",
    "cols = list(df.columns)[:3]\n",
    "target = list(df.columns)[3:]"
   ]
  },
  {
   "cell_type": "code",
   "execution_count": 96,
   "metadata": {},
   "outputs": [],
   "source": [
    "# '사용일' 열을 datetime 형식으로 변환\n",
    "df1['사용일자'] = pd.to_datetime(df1['사용일자'], format='%Y%m%d')\n",
    "# 평일과 주말 구분하는 새로운 열 생성\n",
    "df1['주중/주말'] = df1['사용일자'].apply(lambda x: '주말' if x.weekday() >= 5 else '주중')\n",
    "# 평일 데이터만 선택\n",
    "weekday_df = df1[df1['주중/주말'] == '주중']"
   ]
  },
  {
   "cell_type": "code",
   "execution_count": 97,
   "metadata": {},
   "outputs": [],
   "source": [
    "week_df = weekday_df.copy()\n",
    "week_df['사용일자'] = pd.to_datetime(weekday_df['사용일자']).dt.strftime('%Y%m%d').astype(int)"
   ]
  },
  {
   "cell_type": "code",
   "execution_count": 99,
   "metadata": {},
   "outputs": [
    {
     "data": {
      "text/html": [
       "<div>\n",
       "<style scoped>\n",
       "    .dataframe tbody tr th:only-of-type {\n",
       "        vertical-align: middle;\n",
       "    }\n",
       "\n",
       "    .dataframe tbody tr th {\n",
       "        vertical-align: top;\n",
       "    }\n",
       "\n",
       "    .dataframe thead th {\n",
       "        text-align: right;\n",
       "    }\n",
       "</style>\n",
       "<table border=\"1\" class=\"dataframe\">\n",
       "  <thead>\n",
       "    <tr style=\"text-align: right;\">\n",
       "      <th></th>\n",
       "      <th>사용일자</th>\n",
       "      <th>호선명</th>\n",
       "      <th>지하철역</th>\n",
       "      <th>승차총승객수</th>\n",
       "      <th>하차총승객수</th>\n",
       "      <th>승하차총승객수</th>\n",
       "      <th>주중/주말</th>\n",
       "    </tr>\n",
       "  </thead>\n",
       "  <tbody>\n",
       "    <tr>\n",
       "      <th>0</th>\n",
       "      <td>20210101</td>\n",
       "      <td>일산선</td>\n",
       "      <td>백석</td>\n",
       "      <td>2724</td>\n",
       "      <td>2825</td>\n",
       "      <td>5549</td>\n",
       "      <td>주중</td>\n",
       "    </tr>\n",
       "    <tr>\n",
       "      <th>1</th>\n",
       "      <td>20210101</td>\n",
       "      <td>일산선</td>\n",
       "      <td>마두</td>\n",
       "      <td>1638</td>\n",
       "      <td>1652</td>\n",
       "      <td>3290</td>\n",
       "      <td>주중</td>\n",
       "    </tr>\n",
       "    <tr>\n",
       "      <th>2</th>\n",
       "      <td>20210101</td>\n",
       "      <td>3호선</td>\n",
       "      <td>을지로3가</td>\n",
       "      <td>1024</td>\n",
       "      <td>1009</td>\n",
       "      <td>2033</td>\n",
       "      <td>주중</td>\n",
       "    </tr>\n",
       "    <tr>\n",
       "      <th>3</th>\n",
       "      <td>20210101</td>\n",
       "      <td>3호선</td>\n",
       "      <td>종로3가</td>\n",
       "      <td>1255</td>\n",
       "      <td>1632</td>\n",
       "      <td>2887</td>\n",
       "      <td>주중</td>\n",
       "    </tr>\n",
       "    <tr>\n",
       "      <th>4</th>\n",
       "      <td>20210101</td>\n",
       "      <td>3호선</td>\n",
       "      <td>안국</td>\n",
       "      <td>2934</td>\n",
       "      <td>3029</td>\n",
       "      <td>5963</td>\n",
       "      <td>주중</td>\n",
       "    </tr>\n",
       "    <tr>\n",
       "      <th>...</th>\n",
       "      <td>...</td>\n",
       "      <td>...</td>\n",
       "      <td>...</td>\n",
       "      <td>...</td>\n",
       "      <td>...</td>\n",
       "      <td>...</td>\n",
       "      <td>...</td>\n",
       "    </tr>\n",
       "    <tr>\n",
       "      <th>219274</th>\n",
       "      <td>20211231</td>\n",
       "      <td>6호선</td>\n",
       "      <td>월곡</td>\n",
       "      <td>10214</td>\n",
       "      <td>9924</td>\n",
       "      <td>20138</td>\n",
       "      <td>주중</td>\n",
       "    </tr>\n",
       "    <tr>\n",
       "      <th>219275</th>\n",
       "      <td>20211231</td>\n",
       "      <td>6호선</td>\n",
       "      <td>상월곡</td>\n",
       "      <td>5619</td>\n",
       "      <td>4842</td>\n",
       "      <td>10461</td>\n",
       "      <td>주중</td>\n",
       "    </tr>\n",
       "    <tr>\n",
       "      <th>219276</th>\n",
       "      <td>20211231</td>\n",
       "      <td>6호선</td>\n",
       "      <td>돌곶이</td>\n",
       "      <td>8265</td>\n",
       "      <td>7811</td>\n",
       "      <td>16076</td>\n",
       "      <td>주중</td>\n",
       "    </tr>\n",
       "    <tr>\n",
       "      <th>219277</th>\n",
       "      <td>20211231</td>\n",
       "      <td>6호선</td>\n",
       "      <td>석계</td>\n",
       "      <td>11189</td>\n",
       "      <td>11335</td>\n",
       "      <td>22524</td>\n",
       "      <td>주중</td>\n",
       "    </tr>\n",
       "    <tr>\n",
       "      <th>219278</th>\n",
       "      <td>20211231</td>\n",
       "      <td>6호선</td>\n",
       "      <td>태릉입구</td>\n",
       "      <td>4954</td>\n",
       "      <td>5290</td>\n",
       "      <td>10244</td>\n",
       "      <td>주중</td>\n",
       "    </tr>\n",
       "  </tbody>\n",
       "</table>\n",
       "<p>156833 rows × 7 columns</p>\n",
       "</div>"
      ],
      "text/plain": [
       "            사용일자  호선명   지하철역  승차총승객수  하차총승객수  승하차총승객수 주중/주말\n",
       "0       20210101  일산선     백석    2724    2825     5549    주중\n",
       "1       20210101  일산선     마두    1638    1652     3290    주중\n",
       "2       20210101  3호선  을지로3가    1024    1009     2033    주중\n",
       "3       20210101  3호선   종로3가    1255    1632     2887    주중\n",
       "4       20210101  3호선     안국    2934    3029     5963    주중\n",
       "...          ...  ...    ...     ...     ...      ...   ...\n",
       "219274  20211231  6호선     월곡   10214    9924    20138    주중\n",
       "219275  20211231  6호선    상월곡    5619    4842    10461    주중\n",
       "219276  20211231  6호선    돌곶이    8265    7811    16076    주중\n",
       "219277  20211231  6호선     석계   11189   11335    22524    주중\n",
       "219278  20211231  6호선   태릉입구    4954    5290    10244    주중\n",
       "\n",
       "[156833 rows x 7 columns]"
      ]
     },
     "execution_count": 99,
     "metadata": {},
     "output_type": "execute_result"
    }
   ],
   "source": [
    "week_df"
   ]
  },
  {
   "cell_type": "code",
   "execution_count": 108,
   "metadata": {},
   "outputs": [],
   "source": [
    "df_list = []\n",
    "for i in range(1, 13):\n",
    "    start_date = 20210000 + i*100\n",
    "    end_date = start_date + 100\n",
    "    df_temp = week_df[(week_df['사용일자'] >= start_date) & (week_df['사용일자'] < end_date)].copy()\n",
    "    df_temp['사용일자'] = 202100 + i\n",
    "    df_temp = df_temp.groupby(cols)[target].agg('sum').reset_index()\n",
    "    df_list.append(df_temp)\n",
    "df_res = pd.concat(df_list, axis=0)\n"
   ]
  },
  {
   "cell_type": "code",
   "execution_count": 109,
   "metadata": {},
   "outputs": [
    {
     "data": {
      "text/plain": [
       "(7285, 6)"
      ]
     },
     "execution_count": 109,
     "metadata": {},
     "output_type": "execute_result"
    }
   ],
   "source": [
    "df_res.shape"
   ]
  },
  {
   "cell_type": "code",
   "execution_count": null,
   "metadata": {},
   "outputs": [],
   "source": []
  }
 ],
 "metadata": {
  "kernelspec": {
   "display_name": "base",
   "language": "python",
   "name": "python3"
  },
  "language_info": {
   "codemirror_mode": {
    "name": "ipython",
    "version": 3
   },
   "file_extension": ".py",
   "mimetype": "text/x-python",
   "name": "python",
   "nbconvert_exporter": "python",
   "pygments_lexer": "ipython3",
   "version": "3.10.10"
  },
  "orig_nbformat": 4
 },
 "nbformat": 4,
 "nbformat_minor": 2
}
