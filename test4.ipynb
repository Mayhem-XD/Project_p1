{
 "cells": [
  {
   "cell_type": "code",
   "execution_count": 1,
   "metadata": {},
   "outputs": [],
   "source": [
    "import pandas as pd"
   ]
  },
  {
   "cell_type": "code",
   "execution_count": 2,
   "metadata": {},
   "outputs": [
    {
     "data": {
      "text/html": [
       "<div>\n",
       "<style scoped>\n",
       "    .dataframe tbody tr th:only-of-type {\n",
       "        vertical-align: middle;\n",
       "    }\n",
       "\n",
       "    .dataframe tbody tr th {\n",
       "        vertical-align: top;\n",
       "    }\n",
       "\n",
       "    .dataframe thead th {\n",
       "        text-align: right;\n",
       "    }\n",
       "</style>\n",
       "<table border=\"1\" class=\"dataframe\">\n",
       "  <thead>\n",
       "    <tr style=\"text-align: right;\">\n",
       "      <th></th>\n",
       "      <th>사용일자</th>\n",
       "      <th>노선명</th>\n",
       "      <th>역명</th>\n",
       "      <th>승차총승객수</th>\n",
       "      <th>하차총승객수</th>\n",
       "    </tr>\n",
       "  </thead>\n",
       "  <tbody>\n",
       "    <tr>\n",
       "      <th>0</th>\n",
       "      <td>20230101</td>\n",
       "      <td>경강선</td>\n",
       "      <td>곤지암</td>\n",
       "      <td>1450</td>\n",
       "      <td>1539</td>\n",
       "    </tr>\n",
       "    <tr>\n",
       "      <th>1</th>\n",
       "      <td>20230101</td>\n",
       "      <td>2호선</td>\n",
       "      <td>신도림</td>\n",
       "      <td>20210</td>\n",
       "      <td>21037</td>\n",
       "    </tr>\n",
       "    <tr>\n",
       "      <th>2</th>\n",
       "      <td>20230101</td>\n",
       "      <td>2호선</td>\n",
       "      <td>문래</td>\n",
       "      <td>5995</td>\n",
       "      <td>6567</td>\n",
       "    </tr>\n",
       "    <tr>\n",
       "      <th>3</th>\n",
       "      <td>20230101</td>\n",
       "      <td>2호선</td>\n",
       "      <td>영등포구청</td>\n",
       "      <td>5629</td>\n",
       "      <td>6117</td>\n",
       "    </tr>\n",
       "    <tr>\n",
       "      <th>4</th>\n",
       "      <td>20230101</td>\n",
       "      <td>2호선</td>\n",
       "      <td>당산</td>\n",
       "      <td>6821</td>\n",
       "      <td>7594</td>\n",
       "    </tr>\n",
       "  </tbody>\n",
       "</table>\n",
       "</div>"
      ],
      "text/plain": [
       "       사용일자  노선명     역명  승차총승객수  하차총승객수\n",
       "0  20230101  경강선    곤지암    1450    1539\n",
       "1  20230101  2호선    신도림   20210   21037\n",
       "2  20230101  2호선     문래    5995    6567\n",
       "3  20230101  2호선  영등포구청    5629    6117\n",
       "4  20230101  2호선     당산    6821    7594"
      ]
     },
     "execution_count": 2,
     "metadata": {},
     "output_type": "execute_result"
    }
   ],
   "source": [
    "df = pd.read_csv('data/202301_.csv',encoding='euc-kr')\n",
    "df.drop(columns=['등록일자'],inplace=True)\n",
    "df.head()"
   ]
  },
  {
   "cell_type": "code",
   "execution_count": 8,
   "metadata": {},
   "outputs": [],
   "source": [
    "cols = list(df.columns)[:3]\n",
    "target = list(df.columns)[3:]\n",
    "df_list = []\n",
    "# 반복문에 해당되지 않는 범위는 수동으로 구해서 \n",
    "for i in range(2, 28, 7): # 사용할때 여기 수정 해당 월에 맞게   여긴 1월2일이 월요일이라 2일 부터 시작 30,31일 데이터는 추가로 더해야함\n",
    "    start_date = 20230100 + i   # 여기도 조건에 맞게 수정\n",
    "    end_date = start_date + 5\n",
    "    df_temp = df[(df['사용일자'] >= start_date) & (df['사용일자'] < end_date)].copy()\n",
    "    df_temp = df_temp.groupby(cols)[target].agg('sum').reset_index()\n",
    "    df_list.append(df_temp)\n",
    "df_1 = pd.concat(df_list, axis=0)\n",
    "df_1['사용일자'] = 202301\n",
    "df_1 = df_1.groupby(cols)[target].agg('sum').reset_index()"
   ]
  },
  {
   "cell_type": "code",
   "execution_count": 9,
   "metadata": {},
   "outputs": [
    {
     "data": {
      "text/html": [
       "<div>\n",
       "<style scoped>\n",
       "    .dataframe tbody tr th:only-of-type {\n",
       "        vertical-align: middle;\n",
       "    }\n",
       "\n",
       "    .dataframe tbody tr th {\n",
       "        vertical-align: top;\n",
       "    }\n",
       "\n",
       "    .dataframe thead th {\n",
       "        text-align: right;\n",
       "    }\n",
       "</style>\n",
       "<table border=\"1\" class=\"dataframe\">\n",
       "  <thead>\n",
       "    <tr style=\"text-align: right;\">\n",
       "      <th></th>\n",
       "      <th>사용일자</th>\n",
       "      <th>노선명</th>\n",
       "      <th>역명</th>\n",
       "      <th>승차총승객수</th>\n",
       "      <th>하차총승객수</th>\n",
       "    </tr>\n",
       "  </thead>\n",
       "  <tbody>\n",
       "    <tr>\n",
       "      <th>0</th>\n",
       "      <td>202301</td>\n",
       "      <td>1호선</td>\n",
       "      <td>동대문</td>\n",
       "      <td>207530</td>\n",
       "      <td>192758</td>\n",
       "    </tr>\n",
       "    <tr>\n",
       "      <th>1</th>\n",
       "      <td>202301</td>\n",
       "      <td>1호선</td>\n",
       "      <td>동묘앞</td>\n",
       "      <td>148384</td>\n",
       "      <td>154602</td>\n",
       "    </tr>\n",
       "    <tr>\n",
       "      <th>2</th>\n",
       "      <td>202301</td>\n",
       "      <td>1호선</td>\n",
       "      <td>서울역</td>\n",
       "      <td>999971</td>\n",
       "      <td>939973</td>\n",
       "    </tr>\n",
       "    <tr>\n",
       "      <th>3</th>\n",
       "      <td>202301</td>\n",
       "      <td>1호선</td>\n",
       "      <td>시청</td>\n",
       "      <td>492216</td>\n",
       "      <td>501666</td>\n",
       "    </tr>\n",
       "    <tr>\n",
       "      <th>4</th>\n",
       "      <td>202301</td>\n",
       "      <td>1호선</td>\n",
       "      <td>신설동</td>\n",
       "      <td>263018</td>\n",
       "      <td>255042</td>\n",
       "    </tr>\n",
       "  </tbody>\n",
       "</table>\n",
       "</div>"
      ],
      "text/plain": [
       "     사용일자  노선명   역명  승차총승객수  하차총승객수\n",
       "0  202301  1호선  동대문  207530  192758\n",
       "1  202301  1호선  동묘앞  148384  154602\n",
       "2  202301  1호선  서울역  999971  939973\n",
       "3  202301  1호선   시청  492216  501666\n",
       "4  202301  1호선  신설동  263018  255042"
      ]
     },
     "execution_count": 9,
     "metadata": {},
     "output_type": "execute_result"
    }
   ],
   "source": [
    "df_1.head()"
   ]
  },
  {
   "cell_type": "code",
   "execution_count": 10,
   "metadata": {},
   "outputs": [
    {
     "data": {
      "text/plain": [
       "(612, 5)"
      ]
     },
     "execution_count": 10,
     "metadata": {},
     "output_type": "execute_result"
    }
   ],
   "source": [
    "df_1.shape"
   ]
  },
  {
   "cell_type": "code",
   "execution_count": null,
   "metadata": {},
   "outputs": [],
   "source": [
    "# 이렇게 12개월치 구한거\n",
    "# df_res_list = [df_1,df_2,df_3 ....df_12] 리스트 안에 넣음\n",
    "# df_res = pd.concat(df_res_list, axis=0) 합침\n",
    "# 이거에 이제 역명 '(' 지우고 하는 작업하고\n",
    "# 호선별로 나눈다음에\n",
    "# line_merge 코드 짜둔거 사용해서 합치면 됨"
   ]
  }
 ],
 "metadata": {
  "kernelspec": {
   "display_name": "base",
   "language": "python",
   "name": "python3"
  },
  "language_info": {
   "codemirror_mode": {
    "name": "ipython",
    "version": 3
   },
   "file_extension": ".py",
   "mimetype": "text/x-python",
   "name": "python",
   "nbconvert_exporter": "python",
   "pygments_lexer": "ipython3",
   "version": "3.10.10"
  },
  "orig_nbformat": 4
 },
 "nbformat": 4,
 "nbformat_minor": 2
}
