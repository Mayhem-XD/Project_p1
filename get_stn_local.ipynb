{
 "cells": [
  {
   "attachments": {},
   "cell_type": "markdown",
   "metadata": {},
   "source": [
    "pip install openpyxl   \n",
    "pip install xlrd"
   ]
  },
  {
   "cell_type": "code",
   "execution_count": 2,
   "metadata": {},
   "outputs": [],
   "source": [
    "import numpy as np\n",
    "import pandas as pd\n",
    "import requests,json,os\n",
    "from urllib.parse import quote "
   ]
  },
  {
   "cell_type": "code",
   "execution_count": 3,
   "metadata": {},
   "outputs": [
    {
     "data": {
      "text/html": [
       "<div>\n",
       "<style scoped>\n",
       "    .dataframe tbody tr th:only-of-type {\n",
       "        vertical-align: middle;\n",
       "    }\n",
       "\n",
       "    .dataframe tbody tr th {\n",
       "        vertical-align: top;\n",
       "    }\n",
       "\n",
       "    .dataframe thead th {\n",
       "        text-align: right;\n",
       "    }\n",
       "</style>\n",
       "<table border=\"1\" class=\"dataframe\">\n",
       "  <thead>\n",
       "    <tr style=\"text-align: right;\">\n",
       "      <th></th>\n",
       "      <th>역번호</th>\n",
       "      <th>역사명</th>\n",
       "      <th>노선번호</th>\n",
       "      <th>노선명</th>\n",
       "      <th>영문역사명</th>\n",
       "      <th>한자역사명</th>\n",
       "      <th>환승역구분</th>\n",
       "      <th>환승노선번호</th>\n",
       "      <th>환승노선명</th>\n",
       "      <th>역위도</th>\n",
       "      <th>역경도</th>\n",
       "      <th>운영기관명</th>\n",
       "      <th>역사도로명주소</th>\n",
       "      <th>역사전화번호</th>\n",
       "      <th>데이터기준일자</th>\n",
       "    </tr>\n",
       "  </thead>\n",
       "  <tbody>\n",
       "    <tr>\n",
       "      <th>0</th>\n",
       "      <td>0101</td>\n",
       "      <td>판암</td>\n",
       "      <td>S3001</td>\n",
       "      <td>대전 도시철도 1호선</td>\n",
       "      <td>Panam</td>\n",
       "      <td>板岩</td>\n",
       "      <td>일반역</td>\n",
       "      <td>NaN</td>\n",
       "      <td>NaN</td>\n",
       "      <td>36.316896</td>\n",
       "      <td>127.458264</td>\n",
       "      <td>대전교통공사</td>\n",
       "      <td>대전광역시 동구 옥천로 지하162 (판암동)</td>\n",
       "      <td>042-539-3601</td>\n",
       "      <td>2022-05-09 00:00:00</td>\n",
       "    </tr>\n",
       "    <tr>\n",
       "      <th>1</th>\n",
       "      <td>0102</td>\n",
       "      <td>신흥</td>\n",
       "      <td>S3001</td>\n",
       "      <td>대전 도시철도 1호선</td>\n",
       "      <td>Sinheung</td>\n",
       "      <td>新興</td>\n",
       "      <td>일반역</td>\n",
       "      <td>NaN</td>\n",
       "      <td>NaN</td>\n",
       "      <td>36.319652</td>\n",
       "      <td>127.448792</td>\n",
       "      <td>대전교통공사</td>\n",
       "      <td>대전광역시 동구 옥천로 지하 70 (판암동)</td>\n",
       "      <td>042-539-3602</td>\n",
       "      <td>2022-05-09 00:00:00</td>\n",
       "    </tr>\n",
       "    <tr>\n",
       "      <th>2</th>\n",
       "      <td>0103</td>\n",
       "      <td>대동</td>\n",
       "      <td>S3001</td>\n",
       "      <td>대전 도시철도 1호선</td>\n",
       "      <td>Dae-dong</td>\n",
       "      <td>大洞</td>\n",
       "      <td>일반역</td>\n",
       "      <td>NaN</td>\n",
       "      <td>NaN</td>\n",
       "      <td>36.329532</td>\n",
       "      <td>127.442848</td>\n",
       "      <td>대전교통공사</td>\n",
       "      <td>대전광역시 동구 계족로 지하 176 (대동)</td>\n",
       "      <td>042-539-3603</td>\n",
       "      <td>2022-05-09 00:00:00</td>\n",
       "    </tr>\n",
       "    <tr>\n",
       "      <th>3</th>\n",
       "      <td>0104</td>\n",
       "      <td>대전</td>\n",
       "      <td>S3001</td>\n",
       "      <td>대전 도시철도 1호선</td>\n",
       "      <td>Daejeon</td>\n",
       "      <td>大田</td>\n",
       "      <td>일반역</td>\n",
       "      <td>NaN</td>\n",
       "      <td>NaN</td>\n",
       "      <td>36.331583</td>\n",
       "      <td>127.433118</td>\n",
       "      <td>대전교통공사</td>\n",
       "      <td>대전광역시 동구 중앙로 지하 218 (중동)</td>\n",
       "      <td>042-539-3604</td>\n",
       "      <td>2022-05-09 00:00:00</td>\n",
       "    </tr>\n",
       "    <tr>\n",
       "      <th>4</th>\n",
       "      <td>0105</td>\n",
       "      <td>중앙로</td>\n",
       "      <td>S3001</td>\n",
       "      <td>대전 도시철도 1호선</td>\n",
       "      <td>Jungangno</td>\n",
       "      <td>中央路</td>\n",
       "      <td>일반역</td>\n",
       "      <td>NaN</td>\n",
       "      <td>NaN</td>\n",
       "      <td>36.328664</td>\n",
       "      <td>127.425842</td>\n",
       "      <td>대전교통공사</td>\n",
       "      <td>대전광역시 중구 중앙로 지하 145 (은행동)</td>\n",
       "      <td>042-539-3605</td>\n",
       "      <td>2022-05-09 00:00:00</td>\n",
       "    </tr>\n",
       "  </tbody>\n",
       "</table>\n",
       "</div>"
      ],
      "text/plain": [
       "    역번호  역사명   노선번호          노선명      영문역사명 한자역사명 환승역구분 환승노선번호 환승노선명   \n",
       "0  0101   판암  S3001  대전 도시철도 1호선      Panam    板岩   일반역    NaN   NaN  \\\n",
       "1  0102   신흥  S3001  대전 도시철도 1호선   Sinheung    新興   일반역    NaN   NaN   \n",
       "2  0103   대동  S3001  대전 도시철도 1호선   Dae-dong    大洞   일반역    NaN   NaN   \n",
       "3  0104   대전  S3001  대전 도시철도 1호선    Daejeon    大田   일반역    NaN   NaN   \n",
       "4  0105  중앙로  S3001  대전 도시철도 1호선  Jungangno   中央路   일반역    NaN   NaN   \n",
       "\n",
       "         역위도         역경도   운영기관명                    역사도로명주소        역사전화번호   \n",
       "0  36.316896  127.458264  대전교통공사   대전광역시 동구 옥천로 지하162 (판암동)  042-539-3601  \\\n",
       "1  36.319652  127.448792  대전교통공사   대전광역시 동구 옥천로 지하 70 (판암동)  042-539-3602   \n",
       "2  36.329532  127.442848  대전교통공사   대전광역시 동구 계족로 지하 176 (대동)  042-539-3603   \n",
       "3  36.331583  127.433118  대전교통공사   대전광역시 동구 중앙로 지하 218 (중동)  042-539-3604   \n",
       "4  36.328664  127.425842  대전교통공사  대전광역시 중구 중앙로 지하 145 (은행동)  042-539-3605   \n",
       "\n",
       "               데이터기준일자  \n",
       "0  2022-05-09 00:00:00  \n",
       "1  2022-05-09 00:00:00  \n",
       "2  2022-05-09 00:00:00  \n",
       "3  2022-05-09 00:00:00  \n",
       "4  2022-05-09 00:00:00  "
      ]
     },
     "execution_count": 3,
     "metadata": {},
     "output_type": "execute_result"
    }
   ],
   "source": [
    "df = pd.read_excel('./전체_도시철도역사정보_20230317.xlsx',engine='openpyxl')\n",
    "df.head()"
   ]
  },
  {
   "cell_type": "code",
   "execution_count": 4,
   "metadata": {},
   "outputs": [],
   "source": [
    "# df.to_csv('./title.csv',index=False)"
   ]
  },
  {
   "cell_type": "code",
   "execution_count": 13,
   "metadata": {},
   "outputs": [
    {
     "data": {
      "text/plain": [
       "(782, 2)"
      ]
     },
     "execution_count": 13,
     "metadata": {},
     "output_type": "execute_result"
    }
   ],
   "source": [
    "df = pd.read_csv('./total_info.csv')\n",
    "df = df[['역사명','역사도로명주소','운영기관명']]\n",
    "df.rename(columns={'역사명':'지하철역','역사도로명주소':'도로명주소'},inplace=True)\n",
    "df.운영기관명.unique()\n",
    "exclude_list = ['대전교통공사', '대구도시철도공사', '부산광역시 부산교통공사', '부산-김해경전철㈜','광주광역시 도시철도공사']\n",
    "for exclude in exclude_list:\n",
    "    df = df[df['운영기관명'] != exclude]\n",
    "df.head()\n",
    "df.drop(columns=['운영기관명'],inplace=True)\n",
    "df.shape"
   ]
  },
  {
   "cell_type": "code",
   "execution_count": 7,
   "metadata": {},
   "outputs": [],
   "source": [
    "df.to_csv('test_local_info.csv',index=False)"
   ]
  },
  {
   "cell_type": "code",
   "execution_count": 16,
   "metadata": {},
   "outputs": [
    {
     "data": {
      "text/plain": [
       "지하철역     702\n",
       "도로명주소    738\n",
       "dtype: int64"
      ]
     },
     "execution_count": 16,
     "metadata": {},
     "output_type": "execute_result"
    }
   ],
   "source": [
    "df.reset_index(drop=True,inplace=True)\n",
    "df.nunique()"
   ]
  },
  {
   "cell_type": "code",
   "execution_count": 17,
   "metadata": {},
   "outputs": [
    {
     "data": {
      "text/html": [
       "<div>\n",
       "<style scoped>\n",
       "    .dataframe tbody tr th:only-of-type {\n",
       "        vertical-align: middle;\n",
       "    }\n",
       "\n",
       "    .dataframe tbody tr th {\n",
       "        vertical-align: top;\n",
       "    }\n",
       "\n",
       "    .dataframe thead th {\n",
       "        text-align: right;\n",
       "    }\n",
       "</style>\n",
       "<table border=\"1\" class=\"dataframe\">\n",
       "  <thead>\n",
       "    <tr style=\"text-align: right;\">\n",
       "      <th></th>\n",
       "      <th>지하철역</th>\n",
       "      <th>도로명주소</th>\n",
       "    </tr>\n",
       "  </thead>\n",
       "  <tbody>\n",
       "    <tr>\n",
       "      <th>0</th>\n",
       "      <td>계양</td>\n",
       "      <td>인천광역시 계양구 다남로 24</td>\n",
       "    </tr>\n",
       "    <tr>\n",
       "      <th>1</th>\n",
       "      <td>귤현</td>\n",
       "      <td>인천광역시 계양구 장제로 1136</td>\n",
       "    </tr>\n",
       "    <tr>\n",
       "      <th>2</th>\n",
       "      <td>박촌</td>\n",
       "      <td>인천광역시 계양구 장제로 992</td>\n",
       "    </tr>\n",
       "    <tr>\n",
       "      <th>3</th>\n",
       "      <td>임학</td>\n",
       "      <td>인천광역시 계양구 장제로 875</td>\n",
       "    </tr>\n",
       "    <tr>\n",
       "      <th>4</th>\n",
       "      <td>계산</td>\n",
       "      <td>인천광역시 계양구 경명대로 1089</td>\n",
       "    </tr>\n",
       "  </tbody>\n",
       "</table>\n",
       "</div>"
      ],
      "text/plain": [
       "  지하철역                도로명주소\n",
       "0   계양     인천광역시 계양구 다남로 24\n",
       "1   귤현   인천광역시 계양구 장제로 1136\n",
       "2   박촌    인천광역시 계양구 장제로 992\n",
       "3   임학    인천광역시 계양구 장제로 875\n",
       "4   계산  인천광역시 계양구 경명대로 1089"
      ]
     },
     "execution_count": 17,
     "metadata": {},
     "output_type": "execute_result"
    }
   ],
   "source": [
    "df.head()"
   ]
  },
  {
   "cell_type": "code",
   "execution_count": 20,
   "metadata": {},
   "outputs": [
    {
     "data": {
      "text/plain": [
       "'귤'"
      ]
     },
     "execution_count": 20,
     "metadata": {},
     "output_type": "execute_result"
    }
   ],
   "source": [
    "df['지하철역'][1][:-1]"
   ]
  },
  {
   "cell_type": "code",
   "execution_count": 21,
   "metadata": {},
   "outputs": [
    {
     "data": {
      "text/html": [
       "<div>\n",
       "<style scoped>\n",
       "    .dataframe tbody tr th:only-of-type {\n",
       "        vertical-align: middle;\n",
       "    }\n",
       "\n",
       "    .dataframe tbody tr th {\n",
       "        vertical-align: top;\n",
       "    }\n",
       "\n",
       "    .dataframe thead th {\n",
       "        text-align: right;\n",
       "    }\n",
       "</style>\n",
       "<table border=\"1\" class=\"dataframe\">\n",
       "  <thead>\n",
       "    <tr style=\"text-align: right;\">\n",
       "      <th></th>\n",
       "      <th>지하철역</th>\n",
       "      <th>도로명주소</th>\n",
       "    </tr>\n",
       "  </thead>\n",
       "  <tbody>\n",
       "    <tr>\n",
       "      <th>0</th>\n",
       "      <td>계양</td>\n",
       "      <td>인천광역시 계양구 다남로 24</td>\n",
       "    </tr>\n",
       "    <tr>\n",
       "      <th>1</th>\n",
       "      <td>귤현</td>\n",
       "      <td>인천광역시 계양구 장제로 1136</td>\n",
       "    </tr>\n",
       "    <tr>\n",
       "      <th>2</th>\n",
       "      <td>박촌</td>\n",
       "      <td>인천광역시 계양구 장제로 992</td>\n",
       "    </tr>\n",
       "    <tr>\n",
       "      <th>3</th>\n",
       "      <td>임학</td>\n",
       "      <td>인천광역시 계양구 장제로 875</td>\n",
       "    </tr>\n",
       "    <tr>\n",
       "      <th>4</th>\n",
       "      <td>계산</td>\n",
       "      <td>인천광역시 계양구 경명대로 1089</td>\n",
       "    </tr>\n",
       "  </tbody>\n",
       "</table>\n",
       "</div>"
      ],
      "text/plain": [
       "  지하철역                도로명주소\n",
       "0   계양     인천광역시 계양구 다남로 24\n",
       "1   귤현   인천광역시 계양구 장제로 1136\n",
       "2   박촌    인천광역시 계양구 장제로 992\n",
       "3   임학    인천광역시 계양구 장제로 875\n",
       "4   계산  인천광역시 계양구 경명대로 1089"
      ]
     },
     "execution_count": 21,
     "metadata": {},
     "output_type": "execute_result"
    }
   ],
   "source": [
    "df['지하철역'] = df['지하철역'].str.replace('(', ' ',regex=False,).str.split().str[0]\n",
    "for i in df.index:\n",
    "    if df['지하철역'][i][-1] == '역':\n",
    "        df['지하철역'][i] = df['지하철역'][i][:-1]\n",
    "df.drop_duplicates(subset=['지하철역'],keep='first',inplace=True)\n",
    "df.head()"
   ]
  },
  {
   "cell_type": "code",
   "execution_count": 22,
   "metadata": {},
   "outputs": [
    {
     "data": {
      "text/plain": [
       "지하철역     656\n",
       "도로명주소    648\n",
       "dtype: int64"
      ]
     },
     "execution_count": 22,
     "metadata": {},
     "output_type": "execute_result"
    }
   ],
   "source": [
    "df.nunique()"
   ]
  },
  {
   "cell_type": "code",
   "execution_count": 30,
   "metadata": {},
   "outputs": [],
   "source": [
    "df.to_csv('test_local_info.csv',index=False)\n",
    "# 하고 나서 영종 -> 강조문자 삭제\n",
    "df = pd.read_csv('test_local_info.csv')"
   ]
  },
  {
   "cell_type": "code",
   "execution_count": 31,
   "metadata": {},
   "outputs": [
    {
     "data": {
      "text/html": [
       "<div>\n",
       "<style scoped>\n",
       "    .dataframe tbody tr th:only-of-type {\n",
       "        vertical-align: middle;\n",
       "    }\n",
       "\n",
       "    .dataframe tbody tr th {\n",
       "        vertical-align: top;\n",
       "    }\n",
       "\n",
       "    .dataframe thead th {\n",
       "        text-align: right;\n",
       "    }\n",
       "</style>\n",
       "<table border=\"1\" class=\"dataframe\">\n",
       "  <thead>\n",
       "    <tr style=\"text-align: right;\">\n",
       "      <th></th>\n",
       "      <th>지하철역</th>\n",
       "      <th>도로명주소</th>\n",
       "    </tr>\n",
       "  </thead>\n",
       "  <tbody>\n",
       "    <tr>\n",
       "      <th>0</th>\n",
       "      <td>계양</td>\n",
       "      <td>인천광역시 계양구 다남로 24</td>\n",
       "    </tr>\n",
       "    <tr>\n",
       "      <th>1</th>\n",
       "      <td>귤현</td>\n",
       "      <td>인천광역시 계양구 장제로 1136</td>\n",
       "    </tr>\n",
       "    <tr>\n",
       "      <th>2</th>\n",
       "      <td>박촌</td>\n",
       "      <td>인천광역시 계양구 장제로 992</td>\n",
       "    </tr>\n",
       "    <tr>\n",
       "      <th>3</th>\n",
       "      <td>임학</td>\n",
       "      <td>인천광역시 계양구 장제로 875</td>\n",
       "    </tr>\n",
       "    <tr>\n",
       "      <th>4</th>\n",
       "      <td>계산</td>\n",
       "      <td>인천광역시 계양구 경명대로 1089</td>\n",
       "    </tr>\n",
       "  </tbody>\n",
       "</table>\n",
       "</div>"
      ],
      "text/plain": [
       "  지하철역                도로명주소\n",
       "0   계양     인천광역시 계양구 다남로 24\n",
       "1   귤현   인천광역시 계양구 장제로 1136\n",
       "2   박촌    인천광역시 계양구 장제로 992\n",
       "3   임학    인천광역시 계양구 장제로 875\n",
       "4   계산  인천광역시 계양구 경명대로 1089"
      ]
     },
     "execution_count": 31,
     "metadata": {},
     "output_type": "execute_result"
    }
   ],
   "source": [
    "df.head()"
   ]
  },
  {
   "cell_type": "code",
   "execution_count": 24,
   "metadata": {},
   "outputs": [],
   "source": [
    "def kakao_location(place):\n",
    "    with open('../03.DataAnalysis/04.지도시각화/data/kakaoapikey.txt') as f_:\n",
    "        kakao_key = f_.read()\n",
    "    base_url = \"https://dapi.kakao.com/v2/local/search/address.json\"\n",
    "    url = f'{base_url}?query={quote(place)}'\n",
    "    header = {'Authorization':f'KakaoAK {kakao_key}'}\n",
    "    result = requests.get(url, headers=header).json()\n",
    "    lat_ = float(result['documents'][0]['y'])\n",
    "    lng_ = float(result['documents'][0]['x'])\n",
    "    return lat_,lng_"
   ]
  },
  {
   "cell_type": "code",
   "execution_count": 25,
   "metadata": {},
   "outputs": [],
   "source": [
    "def rtn_addr(target):\n",
    "    str_addr = df[df.지하철역 == target].도로명주소.values[-1]\n",
    "    return str_addr.strip()"
   ]
  },
  {
   "cell_type": "code",
   "execution_count": 26,
   "metadata": {},
   "outputs": [
    {
     "data": {
      "text/plain": [
       "'인천광역시 계양구 장제로 1136'"
      ]
     },
     "execution_count": 26,
     "metadata": {},
     "output_type": "execute_result"
    }
   ],
   "source": [
    "rtn_addr(df['지하철역'][1])"
   ]
  },
  {
   "cell_type": "code",
   "execution_count": 27,
   "metadata": {},
   "outputs": [
    {
     "data": {
      "text/plain": [
       "(37.5664130150675, 126.742648844783)"
      ]
     },
     "execution_count": 27,
     "metadata": {},
     "output_type": "execute_result"
    }
   ],
   "source": [
    "kakao_location(rtn_addr(df['지하철역'][1]))"
   ]
  },
  {
   "cell_type": "code",
   "execution_count": 28,
   "metadata": {},
   "outputs": [
    {
     "name": "stdout",
     "output_type": "stream",
     "text": [
      "6 작전\n",
      "91 청라국제도시\n",
      "107 성신여대입구\n",
      "495 성환\n",
      "502 탕정\n",
      "544 덕계\n",
      "572 야당\n",
      "584 덕소\n",
      "587 운길산\n",
      "589 신원\n",
      "591 아신\n",
      "594 원덕\n",
      "597 금릉\n",
      "637 사릉\n",
      "641 마석\n",
      "651 춘천\n",
      "664 오시리아\n",
      "673 개운포\n",
      "685 개포동\n",
      "686 대모산입구\n",
      "707 망포\n",
      "713 오목천\n",
      "714 어천\n",
      "716 사리\n",
      "740 대공원\n",
      "762 원당\n",
      "763 화정\n",
      "778 선부\n",
      "781 원시\n"
     ]
    }
   ],
   "source": [
    "temp1 =[]\n",
    "for i in df.index:\n",
    "    try:\n",
    "        target = df['지하철역'][i].strip()\n",
    "        temp1.append(kakao_location(rtn_addr(target)))\n",
    "    except:\n",
    "        print(i, df.지하철역[i])\n",
    "        \n",
    "df_test = pd.DataFrame(temp1,columns=('lat','lng'))\n",
    "df2 = pd.concat([df, df_test], axis=1)"
   ]
  },
  {
   "cell_type": "code",
   "execution_count": 29,
   "metadata": {},
   "outputs": [],
   "source": [
    "df2.to_csv('aaaaaaa.csv',index=False)"
   ]
  },
  {
   "cell_type": "code",
   "execution_count": 42,
   "metadata": {},
   "outputs": [
    {
     "data": {
      "text/plain": [
       "'청라국제도시'"
      ]
     },
     "execution_count": 42,
     "metadata": {},
     "output_type": "execute_result"
    }
   ],
   "source": [
    "temp = df['지하철역'][86]\n",
    "temp"
   ]
  },
  {
   "cell_type": "code",
   "execution_count": 43,
   "metadata": {},
   "outputs": [
    {
     "data": {
      "text/plain": [
       "'인천광역시 서구 에코로 163'"
      ]
     },
     "execution_count": 43,
     "metadata": {},
     "output_type": "execute_result"
    }
   ],
   "source": [
    "rtn_addr(temp)"
   ]
  },
  {
   "cell_type": "code",
   "execution_count": 46,
   "metadata": {},
   "outputs": [
    {
     "data": {
      "text/plain": [
       "(37.5551403000306, 126.625410973856)"
      ]
     },
     "execution_count": 46,
     "metadata": {},
     "output_type": "execute_result"
    }
   ],
   "source": [
    "kakao_location(rtn_addr(temp))"
   ]
  },
  {
   "cell_type": "code",
   "execution_count": null,
   "metadata": {},
   "outputs": [],
   "source": []
  }
 ],
 "metadata": {
  "kernelspec": {
   "display_name": "base",
   "language": "python",
   "name": "python3"
  },
  "language_info": {
   "codemirror_mode": {
    "name": "ipython",
    "version": 3
   },
   "file_extension": ".py",
   "mimetype": "text/x-python",
   "name": "python",
   "nbconvert_exporter": "python",
   "pygments_lexer": "ipython3",
   "version": "3.10.10"
  },
  "orig_nbformat": 4
 },
 "nbformat": 4,
 "nbformat_minor": 2
}
