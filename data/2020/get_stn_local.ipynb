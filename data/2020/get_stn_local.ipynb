{
 "cells": [
  {
   "attachments": {},
   "cell_type": "markdown",
   "metadata": {},
   "source": [
    "pip install openpyxl   \n",
    "pip install xlrd"
   ]
  },
  {
   "cell_type": "code",
   "execution_count": 8,
   "metadata": {},
   "outputs": [],
   "source": [
    "import numpy as np\n",
    "import pandas as pd\n",
    "import requests,json,os\n",
    "from urllib.parse import quote "
   ]
  },
  {
   "cell_type": "code",
   "execution_count": 68,
   "metadata": {},
   "outputs": [
    {
     "data": {
      "text/html": [
       "<div>\n",
       "<style scoped>\n",
       "    .dataframe tbody tr th:only-of-type {\n",
       "        vertical-align: middle;\n",
       "    }\n",
       "\n",
       "    .dataframe tbody tr th {\n",
       "        vertical-align: top;\n",
       "    }\n",
       "\n",
       "    .dataframe thead th {\n",
       "        text-align: right;\n",
       "    }\n",
       "</style>\n",
       "<table border=\"1\" class=\"dataframe\">\n",
       "  <thead>\n",
       "    <tr style=\"text-align: right;\">\n",
       "      <th></th>\n",
       "      <th>역번호</th>\n",
       "      <th>역사명</th>\n",
       "      <th>노선번호</th>\n",
       "      <th>노선명</th>\n",
       "      <th>영문역사명</th>\n",
       "      <th>한자역사명</th>\n",
       "      <th>환승역구분</th>\n",
       "      <th>환승노선번호</th>\n",
       "      <th>환승노선명</th>\n",
       "      <th>역위도</th>\n",
       "      <th>역경도</th>\n",
       "      <th>운영기관명</th>\n",
       "      <th>역사도로명주소</th>\n",
       "      <th>역사전화번호</th>\n",
       "      <th>데이터기준일자</th>\n",
       "    </tr>\n",
       "  </thead>\n",
       "  <tbody>\n",
       "    <tr>\n",
       "      <th>0</th>\n",
       "      <td>0101</td>\n",
       "      <td>판암</td>\n",
       "      <td>S3001</td>\n",
       "      <td>대전 도시철도 1호선</td>\n",
       "      <td>Panam</td>\n",
       "      <td>板岩</td>\n",
       "      <td>일반역</td>\n",
       "      <td>NaN</td>\n",
       "      <td>NaN</td>\n",
       "      <td>36.316896</td>\n",
       "      <td>127.458264</td>\n",
       "      <td>대전교통공사</td>\n",
       "      <td>대전광역시 동구 옥천로 지하162 (판암동)</td>\n",
       "      <td>042-539-3601</td>\n",
       "      <td>2022-05-09 00:00:00</td>\n",
       "    </tr>\n",
       "    <tr>\n",
       "      <th>1</th>\n",
       "      <td>0102</td>\n",
       "      <td>신흥</td>\n",
       "      <td>S3001</td>\n",
       "      <td>대전 도시철도 1호선</td>\n",
       "      <td>Sinheung</td>\n",
       "      <td>新興</td>\n",
       "      <td>일반역</td>\n",
       "      <td>NaN</td>\n",
       "      <td>NaN</td>\n",
       "      <td>36.319652</td>\n",
       "      <td>127.448792</td>\n",
       "      <td>대전교통공사</td>\n",
       "      <td>대전광역시 동구 옥천로 지하 70 (판암동)</td>\n",
       "      <td>042-539-3602</td>\n",
       "      <td>2022-05-09 00:00:00</td>\n",
       "    </tr>\n",
       "    <tr>\n",
       "      <th>2</th>\n",
       "      <td>0103</td>\n",
       "      <td>대동</td>\n",
       "      <td>S3001</td>\n",
       "      <td>대전 도시철도 1호선</td>\n",
       "      <td>Dae-dong</td>\n",
       "      <td>大洞</td>\n",
       "      <td>일반역</td>\n",
       "      <td>NaN</td>\n",
       "      <td>NaN</td>\n",
       "      <td>36.329532</td>\n",
       "      <td>127.442848</td>\n",
       "      <td>대전교통공사</td>\n",
       "      <td>대전광역시 동구 계족로 지하 176 (대동)</td>\n",
       "      <td>042-539-3603</td>\n",
       "      <td>2022-05-09 00:00:00</td>\n",
       "    </tr>\n",
       "    <tr>\n",
       "      <th>3</th>\n",
       "      <td>0104</td>\n",
       "      <td>대전</td>\n",
       "      <td>S3001</td>\n",
       "      <td>대전 도시철도 1호선</td>\n",
       "      <td>Daejeon</td>\n",
       "      <td>大田</td>\n",
       "      <td>일반역</td>\n",
       "      <td>NaN</td>\n",
       "      <td>NaN</td>\n",
       "      <td>36.331583</td>\n",
       "      <td>127.433118</td>\n",
       "      <td>대전교통공사</td>\n",
       "      <td>대전광역시 동구 중앙로 지하 218 (중동)</td>\n",
       "      <td>042-539-3604</td>\n",
       "      <td>2022-05-09 00:00:00</td>\n",
       "    </tr>\n",
       "    <tr>\n",
       "      <th>4</th>\n",
       "      <td>0105</td>\n",
       "      <td>중앙로</td>\n",
       "      <td>S3001</td>\n",
       "      <td>대전 도시철도 1호선</td>\n",
       "      <td>Jungangno</td>\n",
       "      <td>中央路</td>\n",
       "      <td>일반역</td>\n",
       "      <td>NaN</td>\n",
       "      <td>NaN</td>\n",
       "      <td>36.328664</td>\n",
       "      <td>127.425842</td>\n",
       "      <td>대전교통공사</td>\n",
       "      <td>대전광역시 중구 중앙로 지하 145 (은행동)</td>\n",
       "      <td>042-539-3605</td>\n",
       "      <td>2022-05-09 00:00:00</td>\n",
       "    </tr>\n",
       "  </tbody>\n",
       "</table>\n",
       "</div>"
      ],
      "text/plain": [
       "    역번호  역사명   노선번호          노선명      영문역사명 한자역사명 환승역구분 환승노선번호 환승노선명   \n",
       "0  0101   판암  S3001  대전 도시철도 1호선      Panam    板岩   일반역    NaN   NaN  \\\n",
       "1  0102   신흥  S3001  대전 도시철도 1호선   Sinheung    新興   일반역    NaN   NaN   \n",
       "2  0103   대동  S3001  대전 도시철도 1호선   Dae-dong    大洞   일반역    NaN   NaN   \n",
       "3  0104   대전  S3001  대전 도시철도 1호선    Daejeon    大田   일반역    NaN   NaN   \n",
       "4  0105  중앙로  S3001  대전 도시철도 1호선  Jungangno   中央路   일반역    NaN   NaN   \n",
       "\n",
       "         역위도         역경도   운영기관명                    역사도로명주소        역사전화번호   \n",
       "0  36.316896  127.458264  대전교통공사   대전광역시 동구 옥천로 지하162 (판암동)  042-539-3601  \\\n",
       "1  36.319652  127.448792  대전교통공사   대전광역시 동구 옥천로 지하 70 (판암동)  042-539-3602   \n",
       "2  36.329532  127.442848  대전교통공사   대전광역시 동구 계족로 지하 176 (대동)  042-539-3603   \n",
       "3  36.331583  127.433118  대전교통공사   대전광역시 동구 중앙로 지하 218 (중동)  042-539-3604   \n",
       "4  36.328664  127.425842  대전교통공사  대전광역시 중구 중앙로 지하 145 (은행동)  042-539-3605   \n",
       "\n",
       "               데이터기준일자  \n",
       "0  2022-05-09 00:00:00  \n",
       "1  2022-05-09 00:00:00  \n",
       "2  2022-05-09 00:00:00  \n",
       "3  2022-05-09 00:00:00  \n",
       "4  2022-05-09 00:00:00  "
      ]
     },
     "execution_count": 68,
     "metadata": {},
     "output_type": "execute_result"
    }
   ],
   "source": [
    "df = pd.read_excel('../../전체_도시철도역사정보_20230317.xlsx',engine='openpyxl')\n",
    "df.head()"
   ]
  },
  {
   "cell_type": "code",
   "execution_count": 69,
   "metadata": {},
   "outputs": [],
   "source": [
    "df.to_csv('./total_info.csv',index=False)"
   ]
  },
  {
   "cell_type": "code",
   "execution_count": 70,
   "metadata": {},
   "outputs": [
    {
     "data": {
      "text/plain": [
       "(782, 2)"
      ]
     },
     "execution_count": 70,
     "metadata": {},
     "output_type": "execute_result"
    }
   ],
   "source": [
    "df = pd.read_csv('./total_info.csv')\n",
    "df = df[['역사명','역사도로명주소','운영기관명']]\n",
    "df.rename(columns={'역사명':'지하철역','역사도로명주소':'도로명주소'},inplace=True)\n",
    "df.운영기관명.unique()\n",
    "exclude_list = ['대전교통공사', '대구도시철도공사', '부산광역시 부산교통공사', '부산-김해경전철㈜','광주광역시 도시철도공사']\n",
    "for exclude in exclude_list:\n",
    "    df = df[df['운영기관명'] != exclude]\n",
    "df.head()\n",
    "df.drop(columns=['운영기관명'],inplace=True)\n",
    "df.shape"
   ]
  },
  {
   "cell_type": "code",
   "execution_count": 71,
   "metadata": {},
   "outputs": [],
   "source": [
    "df.to_csv('test_local_info.csv',index=False)"
   ]
  },
  {
   "cell_type": "code",
   "execution_count": 72,
   "metadata": {},
   "outputs": [
    {
     "data": {
      "text/plain": [
       "지하철역     702\n",
       "도로명주소    738\n",
       "dtype: int64"
      ]
     },
     "execution_count": 72,
     "metadata": {},
     "output_type": "execute_result"
    }
   ],
   "source": [
    "df.reset_index(drop=True,inplace=True)\n",
    "df.nunique()"
   ]
  },
  {
   "cell_type": "code",
   "execution_count": 73,
   "metadata": {},
   "outputs": [
    {
     "data": {
      "text/html": [
       "<div>\n",
       "<style scoped>\n",
       "    .dataframe tbody tr th:only-of-type {\n",
       "        vertical-align: middle;\n",
       "    }\n",
       "\n",
       "    .dataframe tbody tr th {\n",
       "        vertical-align: top;\n",
       "    }\n",
       "\n",
       "    .dataframe thead th {\n",
       "        text-align: right;\n",
       "    }\n",
       "</style>\n",
       "<table border=\"1\" class=\"dataframe\">\n",
       "  <thead>\n",
       "    <tr style=\"text-align: right;\">\n",
       "      <th></th>\n",
       "      <th>지하철역</th>\n",
       "      <th>도로명주소</th>\n",
       "    </tr>\n",
       "  </thead>\n",
       "  <tbody>\n",
       "    <tr>\n",
       "      <th>0</th>\n",
       "      <td>계양</td>\n",
       "      <td>인천광역시 계양구 다남로 24</td>\n",
       "    </tr>\n",
       "    <tr>\n",
       "      <th>1</th>\n",
       "      <td>귤현</td>\n",
       "      <td>인천광역시 계양구 장제로 1136</td>\n",
       "    </tr>\n",
       "    <tr>\n",
       "      <th>2</th>\n",
       "      <td>박촌</td>\n",
       "      <td>인천광역시 계양구 장제로 992</td>\n",
       "    </tr>\n",
       "    <tr>\n",
       "      <th>3</th>\n",
       "      <td>임학</td>\n",
       "      <td>인천광역시 계양구 장제로 875</td>\n",
       "    </tr>\n",
       "    <tr>\n",
       "      <th>4</th>\n",
       "      <td>계산</td>\n",
       "      <td>인천광역시 계양구 경명대로 1089</td>\n",
       "    </tr>\n",
       "  </tbody>\n",
       "</table>\n",
       "</div>"
      ],
      "text/plain": [
       "  지하철역                도로명주소\n",
       "0   계양     인천광역시 계양구 다남로 24\n",
       "1   귤현   인천광역시 계양구 장제로 1136\n",
       "2   박촌    인천광역시 계양구 장제로 992\n",
       "3   임학    인천광역시 계양구 장제로 875\n",
       "4   계산  인천광역시 계양구 경명대로 1089"
      ]
     },
     "execution_count": 73,
     "metadata": {},
     "output_type": "execute_result"
    }
   ],
   "source": [
    "df.head()"
   ]
  },
  {
   "cell_type": "code",
   "execution_count": 74,
   "metadata": {},
   "outputs": [
    {
     "data": {
      "text/plain": [
       "'귤'"
      ]
     },
     "execution_count": 74,
     "metadata": {},
     "output_type": "execute_result"
    }
   ],
   "source": [
    "df['지하철역'][1][:-1]"
   ]
  },
  {
   "cell_type": "code",
   "execution_count": 75,
   "metadata": {},
   "outputs": [
    {
     "data": {
      "text/html": [
       "<div>\n",
       "<style scoped>\n",
       "    .dataframe tbody tr th:only-of-type {\n",
       "        vertical-align: middle;\n",
       "    }\n",
       "\n",
       "    .dataframe tbody tr th {\n",
       "        vertical-align: top;\n",
       "    }\n",
       "\n",
       "    .dataframe thead th {\n",
       "        text-align: right;\n",
       "    }\n",
       "</style>\n",
       "<table border=\"1\" class=\"dataframe\">\n",
       "  <thead>\n",
       "    <tr style=\"text-align: right;\">\n",
       "      <th></th>\n",
       "      <th>지하철역</th>\n",
       "      <th>도로명주소</th>\n",
       "    </tr>\n",
       "  </thead>\n",
       "  <tbody>\n",
       "    <tr>\n",
       "      <th>0</th>\n",
       "      <td>계양</td>\n",
       "      <td>인천광역시 계양구 다남로 24</td>\n",
       "    </tr>\n",
       "    <tr>\n",
       "      <th>1</th>\n",
       "      <td>귤현</td>\n",
       "      <td>인천광역시 계양구 장제로 1136</td>\n",
       "    </tr>\n",
       "    <tr>\n",
       "      <th>2</th>\n",
       "      <td>박촌</td>\n",
       "      <td>인천광역시 계양구 장제로 992</td>\n",
       "    </tr>\n",
       "    <tr>\n",
       "      <th>3</th>\n",
       "      <td>임학</td>\n",
       "      <td>인천광역시 계양구 장제로 875</td>\n",
       "    </tr>\n",
       "    <tr>\n",
       "      <th>4</th>\n",
       "      <td>계산</td>\n",
       "      <td>인천광역시 계양구 경명대로 1089</td>\n",
       "    </tr>\n",
       "  </tbody>\n",
       "</table>\n",
       "</div>"
      ],
      "text/plain": [
       "  지하철역                도로명주소\n",
       "0   계양     인천광역시 계양구 다남로 24\n",
       "1   귤현   인천광역시 계양구 장제로 1136\n",
       "2   박촌    인천광역시 계양구 장제로 992\n",
       "3   임학    인천광역시 계양구 장제로 875\n",
       "4   계산  인천광역시 계양구 경명대로 1089"
      ]
     },
     "execution_count": 75,
     "metadata": {},
     "output_type": "execute_result"
    }
   ],
   "source": [
    "df['지하철역'] = df['지하철역'].str.replace('(', ' ',regex=False,).str.split().str[0]\n",
    "for i in df.index:\n",
    "    if df['지하철역'][i][-1] == '역':\n",
    "        df['지하철역'][i] = df['지하철역'][i][:-1]\n",
    "df.drop_duplicates(subset=['지하철역'],keep='first',inplace=True)\n",
    "df.head()"
   ]
  },
  {
   "cell_type": "code",
   "execution_count": 76,
   "metadata": {},
   "outputs": [
    {
     "data": {
      "text/plain": [
       "지하철역     656\n",
       "도로명주소    648\n",
       "dtype: int64"
      ]
     },
     "execution_count": 76,
     "metadata": {},
     "output_type": "execute_result"
    }
   ],
   "source": [
    "df.nunique()"
   ]
  },
  {
   "cell_type": "code",
   "execution_count": 21,
   "metadata": {},
   "outputs": [],
   "source": [
    "####################################################################\n",
    "# 위까지는 전처리\n",
    "# 아래부터는 도로명주소 기반으로 좌표 구해서 추가함\n",
    "####################################################################"
   ]
  },
  {
   "cell_type": "code",
   "execution_count": 77,
   "metadata": {},
   "outputs": [],
   "source": [
    "df.to_csv('test_local_info.csv',index=False)\n",
    "# 하고 나서 영종 -> 강조문자 삭제\n",
    "# 도로명주소에 오타, 잘못된 주소 기입된 역명들 수정\n",
    "# local_info.csv가 수정본"
   ]
  },
  {
   "cell_type": "code",
   "execution_count": 16,
   "metadata": {},
   "outputs": [],
   "source": [
    "# 1\n",
    "# 수정본 파일로 데이터프레임 만듬\n",
    "df = pd.read_csv('local_info_2.csv')"
   ]
  },
  {
   "cell_type": "code",
   "execution_count": 10,
   "metadata": {},
   "outputs": [
    {
     "data": {
      "text/html": [
       "<div>\n",
       "<style scoped>\n",
       "    .dataframe tbody tr th:only-of-type {\n",
       "        vertical-align: middle;\n",
       "    }\n",
       "\n",
       "    .dataframe tbody tr th {\n",
       "        vertical-align: top;\n",
       "    }\n",
       "\n",
       "    .dataframe thead th {\n",
       "        text-align: right;\n",
       "    }\n",
       "</style>\n",
       "<table border=\"1\" class=\"dataframe\">\n",
       "  <thead>\n",
       "    <tr style=\"text-align: right;\">\n",
       "      <th></th>\n",
       "      <th>지하철역</th>\n",
       "      <th>도로명주소</th>\n",
       "    </tr>\n",
       "  </thead>\n",
       "  <tbody>\n",
       "    <tr>\n",
       "      <th>0</th>\n",
       "      <td>계양</td>\n",
       "      <td>인천광역시 계양구 다남로 24</td>\n",
       "    </tr>\n",
       "    <tr>\n",
       "      <th>1</th>\n",
       "      <td>귤현</td>\n",
       "      <td>인천광역시 계양구 장제로 1136</td>\n",
       "    </tr>\n",
       "    <tr>\n",
       "      <th>2</th>\n",
       "      <td>박촌</td>\n",
       "      <td>인천광역시 계양구 장제로 992</td>\n",
       "    </tr>\n",
       "    <tr>\n",
       "      <th>3</th>\n",
       "      <td>임학</td>\n",
       "      <td>인천광역시 계양구 장제로 875</td>\n",
       "    </tr>\n",
       "    <tr>\n",
       "      <th>4</th>\n",
       "      <td>계산</td>\n",
       "      <td>인천광역시 계양구 경명대로 1089</td>\n",
       "    </tr>\n",
       "  </tbody>\n",
       "</table>\n",
       "</div>"
      ],
      "text/plain": [
       "  지하철역                도로명주소\n",
       "0   계양     인천광역시 계양구 다남로 24\n",
       "1   귤현   인천광역시 계양구 장제로 1136\n",
       "2   박촌    인천광역시 계양구 장제로 992\n",
       "3   임학    인천광역시 계양구 장제로 875\n",
       "4   계산  인천광역시 계양구 경명대로 1089"
      ]
     },
     "execution_count": 10,
     "metadata": {},
     "output_type": "execute_result"
    }
   ],
   "source": [
    "df.head()"
   ]
  },
  {
   "cell_type": "code",
   "execution_count": 11,
   "metadata": {},
   "outputs": [],
   "source": [
    "# 2 kakao API로 도로명 주소 구하는 함수\n",
    "def kakao_location(place):\n",
    "    with open('data/main/key/kakaoapikey.txt') as f_:\n",
    "        kakao_key = f_.read()\n",
    "    base_url = \"https://dapi.kakao.com/v2/local/search/address.json\"\n",
    "    url = f'{base_url}?query={quote(place)}'\n",
    "    header = {'Authorization':f'KakaoAK {kakao_key}'}\n",
    "    result = requests.get(url, headers=header).json()\n",
    "    lat_ = float(result['documents'][0]['y'])\n",
    "    lng_ = float(result['documents'][0]['x'])\n",
    "    return lat_,lng_"
   ]
  },
  {
   "cell_type": "code",
   "execution_count": 12,
   "metadata": {},
   "outputs": [],
   "source": [
    "# 2 입력받은 데이터 프레임의 인덱스로 도로명주소 추출하는 함수\n",
    "def rtn_addr(target):\n",
    "    str_addr = df[df.지하철역 == target].도로명주소.values[-1]\n",
    "    return str_addr.strip()"
   ]
  },
  {
   "cell_type": "code",
   "execution_count": 17,
   "metadata": {},
   "outputs": [],
   "source": [
    "# 3 2번 함수들 사용해서 좌표추가\n",
    "temp1 =[]\n",
    "for i in df.index:\n",
    "    try:\n",
    "        target = df['지하철역'][i].strip()\n",
    "        temp1.append(kakao_location(rtn_addr(target)))\n",
    "    except:\n",
    "        print(i, df.지하철역[i])\n",
    "        \n",
    "df_test = pd.DataFrame(temp1,columns=('lat','lng'))\n",
    "df2 = pd.concat([df, df_test], axis=1)"
   ]
  },
  {
   "cell_type": "code",
   "execution_count": 18,
   "metadata": {},
   "outputs": [],
   "source": [
    "# 4 처리 끝난 파일 저장\n",
    "df2.to_csv('stn_r_addr_final.csv',index=False)"
   ]
  },
  {
   "cell_type": "code",
   "execution_count": 125,
   "metadata": {},
   "outputs": [
    {
     "data": {
      "text/plain": [
       "'성환'"
      ]
     },
     "execution_count": 125,
     "metadata": {},
     "output_type": "execute_result"
    }
   ],
   "source": [
    "# 위 과정에서 에러 발생한 부분 검증\n",
    "temp = df['지하철역'][430]\n",
    "temp"
   ]
  },
  {
   "cell_type": "code",
   "execution_count": 126,
   "metadata": {},
   "outputs": [
    {
     "data": {
      "text/plain": [
       "'충청남도 천안시 서북구 성환읍 성환1로 237-5 (성환리 449-490번지)'"
      ]
     },
     "execution_count": 126,
     "metadata": {},
     "output_type": "execute_result"
    }
   ],
   "source": [
    "# 결과적으론 이 과정에서는 에러 발생안함\n",
    "rtn_addr(temp)"
   ]
  },
  {
   "cell_type": "code",
   "execution_count": 15,
   "metadata": {},
   "outputs": [
    {
     "data": {
      "text/plain": [
       "(37.5046341625192, 127.025031333453)"
      ]
     },
     "execution_count": 15,
     "metadata": {},
     "output_type": "execute_result"
    }
   ],
   "source": [
    "# 공공데이터에서 제공한 데이터들에 오타/ 잘못된 주소 기입이 에러의 원인\n",
    "# 에러가 발생한 역의 도로명 주소 새로 구해서 테스트\n",
    "kakao_location('서울특별시 강남구 봉은사로 지하 102 (논현동 282번지)')"
   ]
  },
  {
   "cell_type": "code",
   "execution_count": 128,
   "metadata": {},
   "outputs": [
    {
     "data": {
      "text/html": [
       "<div>\n",
       "<style scoped>\n",
       "    .dataframe tbody tr th:only-of-type {\n",
       "        vertical-align: middle;\n",
       "    }\n",
       "\n",
       "    .dataframe tbody tr th {\n",
       "        vertical-align: top;\n",
       "    }\n",
       "\n",
       "    .dataframe thead th {\n",
       "        text-align: right;\n",
       "    }\n",
       "</style>\n",
       "<table border=\"1\" class=\"dataframe\">\n",
       "  <thead>\n",
       "    <tr style=\"text-align: right;\">\n",
       "      <th></th>\n",
       "      <th>지하철역</th>\n",
       "      <th>도로명주소</th>\n",
       "    </tr>\n",
       "  </thead>\n",
       "  <tbody>\n",
       "    <tr>\n",
       "      <th>555</th>\n",
       "      <td>부전</td>\n",
       "      <td>부산광역시 부산진구 부전동 280-76</td>\n",
       "    </tr>\n",
       "    <tr>\n",
       "      <th>556</th>\n",
       "      <td>거제해맞이</td>\n",
       "      <td>부산광역시 연제구 거제동 619-1</td>\n",
       "    </tr>\n",
       "    <tr>\n",
       "      <th>557</th>\n",
       "      <td>거제</td>\n",
       "      <td>부산광역시 연제구 거제동 619-1</td>\n",
       "    </tr>\n",
       "    <tr>\n",
       "      <th>558</th>\n",
       "      <td>동래</td>\n",
       "      <td>부산광역시 동래구 낙민동 130-4</td>\n",
       "    </tr>\n",
       "    <tr>\n",
       "      <th>559</th>\n",
       "      <td>안락</td>\n",
       "      <td>부산광역시 동래구 안락동 201-2</td>\n",
       "    </tr>\n",
       "    <tr>\n",
       "      <th>560</th>\n",
       "      <td>부산원동</td>\n",
       "      <td>부산시 동래구 안락동 52-2</td>\n",
       "    </tr>\n",
       "    <tr>\n",
       "      <th>561</th>\n",
       "      <td>재송</td>\n",
       "      <td>부산광역시 해운대구 재송동 933-1</td>\n",
       "    </tr>\n",
       "    <tr>\n",
       "      <th>562</th>\n",
       "      <td>센텀</td>\n",
       "      <td>부산광역시 해운대구 우동 1215-32</td>\n",
       "    </tr>\n",
       "    <tr>\n",
       "      <th>563</th>\n",
       "      <td>벡스코</td>\n",
       "      <td>부산광역시 해운대구 우동 1111-2</td>\n",
       "    </tr>\n",
       "    <tr>\n",
       "      <th>564</th>\n",
       "      <td>신해운대</td>\n",
       "      <td>부산광역시 해운대구 좌동 138-4</td>\n",
       "    </tr>\n",
       "    <tr>\n",
       "      <th>565</th>\n",
       "      <td>오시리아</td>\n",
       "      <td>부산광역시 기장군 기장읍 동부산관광5로 14</td>\n",
       "    </tr>\n",
       "    <tr>\n",
       "      <th>566</th>\n",
       "      <td>기장</td>\n",
       "      <td>부산광역시 기장군 기장읍 청강리 25-16</td>\n",
       "    </tr>\n",
       "    <tr>\n",
       "      <th>567</th>\n",
       "      <td>일광</td>\n",
       "      <td>부산광역시 기장군 일광면 이천리 750-4</td>\n",
       "    </tr>\n",
       "    <tr>\n",
       "      <th>568</th>\n",
       "      <td>좌천</td>\n",
       "      <td>부산시 기장군 장안읍 좌천리 239-4</td>\n",
       "    </tr>\n",
       "    <tr>\n",
       "      <th>569</th>\n",
       "      <td>월내</td>\n",
       "      <td>부산시 기장군 장안읍 월내리 141-4</td>\n",
       "    </tr>\n",
       "    <tr>\n",
       "      <th>570</th>\n",
       "      <td>서생</td>\n",
       "      <td>울산시 울주군 서생면 화산리 1228-5</td>\n",
       "    </tr>\n",
       "    <tr>\n",
       "      <th>571</th>\n",
       "      <td>남창</td>\n",
       "      <td>울산시 울주군 온양읍 남창리 42-36</td>\n",
       "    </tr>\n",
       "    <tr>\n",
       "      <th>572</th>\n",
       "      <td>망양</td>\n",
       "      <td>울산시 울주군 온양읍 망양리 484-1</td>\n",
       "    </tr>\n",
       "    <tr>\n",
       "      <th>573</th>\n",
       "      <td>덕하</td>\n",
       "      <td>울산시 울주군 청량읍 상남리 533-15</td>\n",
       "    </tr>\n",
       "    <tr>\n",
       "      <th>574</th>\n",
       "      <td>개운포</td>\n",
       "      <td>울산광역시 남구 산업로 133 (상개동)</td>\n",
       "    </tr>\n",
       "    <tr>\n",
       "      <th>575</th>\n",
       "      <td>태화강</td>\n",
       "      <td>울산광역시 남구 산업로 654</td>\n",
       "    </tr>\n",
       "  </tbody>\n",
       "</table>\n",
       "</div>"
      ],
      "text/plain": [
       "      지하철역                     도로명주소\n",
       "555     부전     부산광역시 부산진구 부전동 280-76\n",
       "556  거제해맞이       부산광역시 연제구 거제동 619-1\n",
       "557     거제       부산광역시 연제구 거제동 619-1\n",
       "558     동래       부산광역시 동래구 낙민동 130-4\n",
       "559     안락       부산광역시 동래구 안락동 201-2\n",
       "560   부산원동          부산시 동래구 안락동 52-2\n",
       "561     재송      부산광역시 해운대구 재송동 933-1\n",
       "562     센텀     부산광역시 해운대구 우동 1215-32\n",
       "563    벡스코      부산광역시 해운대구 우동 1111-2\n",
       "564   신해운대       부산광역시 해운대구 좌동 138-4\n",
       "565   오시리아  부산광역시 기장군 기장읍 동부산관광5로 14\n",
       "566     기장   부산광역시 기장군 기장읍 청강리 25-16\n",
       "567     일광   부산광역시 기장군 일광면 이천리 750-4\n",
       "568     좌천     부산시 기장군 장안읍 좌천리 239-4\n",
       "569     월내     부산시 기장군 장안읍 월내리 141-4\n",
       "570     서생    울산시 울주군 서생면 화산리 1228-5\n",
       "571     남창     울산시 울주군 온양읍 남창리 42-36\n",
       "572     망양     울산시 울주군 온양읍 망양리 484-1\n",
       "573     덕하    울산시 울주군 청량읍 상남리 533-15\n",
       "574    개운포    울산광역시 남구 산업로 133 (상개동)\n",
       "575    태화강          울산광역시 남구 산업로 654"
      ]
     },
     "execution_count": 128,
     "metadata": {},
     "output_type": "execute_result"
    }
   ],
   "source": [
    "# 전처리 과정에서 누락된 부분 제거\n",
    "df3 = df[df['도로명주소'].str.contains('부산|울산')]\n",
    "df3"
   ]
  },
  {
   "cell_type": "code",
   "execution_count": 129,
   "metadata": {},
   "outputs": [
    {
     "data": {
      "text/html": [
       "<div>\n",
       "<style scoped>\n",
       "    .dataframe tbody tr th:only-of-type {\n",
       "        vertical-align: middle;\n",
       "    }\n",
       "\n",
       "    .dataframe tbody tr th {\n",
       "        vertical-align: top;\n",
       "    }\n",
       "\n",
       "    .dataframe thead th {\n",
       "        text-align: right;\n",
       "    }\n",
       "</style>\n",
       "<table border=\"1\" class=\"dataframe\">\n",
       "  <thead>\n",
       "    <tr style=\"text-align: right;\">\n",
       "      <th></th>\n",
       "      <th>지하철역</th>\n",
       "      <th>도로명주소</th>\n",
       "    </tr>\n",
       "  </thead>\n",
       "  <tbody>\n",
       "    <tr>\n",
       "      <th>575</th>\n",
       "      <td>태화강</td>\n",
       "      <td>울산광역시 남구 산업로 654</td>\n",
       "    </tr>\n",
       "  </tbody>\n",
       "</table>\n",
       "</div>"
      ],
      "text/plain": [
       "    지하철역             도로명주소\n",
       "575  태화강  울산광역시 남구 산업로 654"
      ]
     },
     "execution_count": 129,
     "metadata": {},
     "output_type": "execute_result"
    }
   ],
   "source": [
    "df[df.지하철역.values == '태화강']"
   ]
  },
  {
   "cell_type": "code",
   "execution_count": 130,
   "metadata": {},
   "outputs": [],
   "source": [
    "df = df[~df['도로명주소'].str.contains('부산|울산')]"
   ]
  },
  {
   "cell_type": "code",
   "execution_count": 131,
   "metadata": {},
   "outputs": [
    {
     "data": {
      "text/plain": [
       "(635, 2)"
      ]
     },
     "execution_count": 131,
     "metadata": {},
     "output_type": "execute_result"
    }
   ],
   "source": [
    "df.shape"
   ]
  },
  {
   "cell_type": "code",
   "execution_count": 132,
   "metadata": {},
   "outputs": [
    {
     "data": {
      "text/html": [
       "<div>\n",
       "<style scoped>\n",
       "    .dataframe tbody tr th:only-of-type {\n",
       "        vertical-align: middle;\n",
       "    }\n",
       "\n",
       "    .dataframe tbody tr th {\n",
       "        vertical-align: top;\n",
       "    }\n",
       "\n",
       "    .dataframe thead th {\n",
       "        text-align: right;\n",
       "    }\n",
       "</style>\n",
       "<table border=\"1\" class=\"dataframe\">\n",
       "  <thead>\n",
       "    <tr style=\"text-align: right;\">\n",
       "      <th></th>\n",
       "      <th>지하철역</th>\n",
       "      <th>도로명주소</th>\n",
       "    </tr>\n",
       "  </thead>\n",
       "  <tbody>\n",
       "  </tbody>\n",
       "</table>\n",
       "</div>"
      ],
      "text/plain": [
       "Empty DataFrame\n",
       "Columns: [지하철역, 도로명주소]\n",
       "Index: []"
      ]
     },
     "execution_count": 132,
     "metadata": {},
     "output_type": "execute_result"
    }
   ],
   "source": [
    "df[df.지하철역.values == '태화강']"
   ]
  },
  {
   "cell_type": "code",
   "execution_count": 133,
   "metadata": {},
   "outputs": [
    {
     "data": {
      "text/plain": [
       "(635, 2)"
      ]
     },
     "execution_count": 133,
     "metadata": {},
     "output_type": "execute_result"
    }
   ],
   "source": [
    "df.shape"
   ]
  },
  {
   "cell_type": "code",
   "execution_count": 134,
   "metadata": {},
   "outputs": [],
   "source": [
    "# 누락된 부분 제거 하는 코드\n",
    "df = df[~df['도로명주소'].str.contains('부산|울산')]"
   ]
  },
  {
   "cell_type": "code",
   "execution_count": 135,
   "metadata": {},
   "outputs": [
    {
     "data": {
      "text/plain": [
       "(635, 2)"
      ]
     },
     "execution_count": 135,
     "metadata": {},
     "output_type": "execute_result"
    }
   ],
   "source": [
    "df.shape"
   ]
  },
  {
   "cell_type": "code",
   "execution_count": 136,
   "metadata": {},
   "outputs": [],
   "source": [
    "df.to_csv('local_info.csv',index=False)"
   ]
  },
  {
   "cell_type": "code",
   "execution_count": null,
   "metadata": {},
   "outputs": [],
   "source": []
  }
 ],
 "metadata": {
  "kernelspec": {
   "display_name": "base",
   "language": "python",
   "name": "python3"
  },
  "language_info": {
   "codemirror_mode": {
    "name": "ipython",
    "version": 3
   },
   "file_extension": ".py",
   "mimetype": "text/x-python",
   "name": "python",
   "nbconvert_exporter": "python",
   "pygments_lexer": "ipython3",
   "version": "3.10.10"
  },
  "orig_nbformat": 4
 },
 "nbformat": 4,
 "nbformat_minor": 2
}
