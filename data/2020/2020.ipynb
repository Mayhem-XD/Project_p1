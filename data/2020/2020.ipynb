{
 "cells": [
  {
   "cell_type": "code",
   "execution_count": 1,
   "metadata": {},
   "outputs": [],
   "source": [
    "import numpy as np\n",
    "import pandas as pd\n",
    "from datetime import datetime"
   ]
  },
  {
   "cell_type": "code",
   "execution_count": 2,
   "metadata": {},
   "outputs": [],
   "source": [
    "# 사용할 노선과 합쳐야 하는 노선 목록(중복역은 합계 후 중복 삭제예정)\n",
    "# 1호선:서울지하철1호선(청량리~서울역), 경원선(소요산~청량리), 경부선(서울~천안/서동탄/광명), 장항선(천안~신창), 경인선(구로~인천)\n",
    "# 2호선, 5호선, 6호선, 7호선, 8호선\n",
    "# 3호선: 서울지하철3호선(지축~오금), 일산선(대화~지축)\n",
    "# 4호선: 서울지하철4호선(당고개~남태령), 과천선(남태령~금정), 안산선(금정~오이도)\n",
    "# 9호선: 9호선, 9호선(2~3)단계\n",
    "# 수인분당선: 수인선(인천~수원), 분당선()\n",
    "# 공항철도\n",
    "# 신림선, 우이신설선\n",
    "# 신분당선 데이터 없음, 김포 골드라인 없음, 용인 에버 없음\n",
    "\n",
    "# 호선 분리하기 ex) 1호선, 경원선, 수인선 ......\n",
    "\n",
    "# 월별 평일 승하차 각각 합계, 월별 주말 승하차 각각 합계\n",
    "\n",
    "# 월별로 처리한 데이터 csv로 각 년도 폴더에 저장"
   ]
  },
  {
   "cell_type": "code",
   "execution_count": null,
   "metadata": {},
   "outputs": [],
   "source": [
    "# 월별 평일/주말 데이터에 호선 나누기로 각 월의 평일과 주말에 따른 호선별 총 승하차객 수 확인"
   ]
  }
 ],
 "metadata": {
  "kernelspec": {
   "display_name": "base",
   "language": "python",
   "name": "python3"
  },
  "language_info": {
   "codemirror_mode": {
    "name": "ipython",
    "version": 3
   },
   "file_extension": ".py",
   "mimetype": "text/x-python",
   "name": "python",
   "nbconvert_exporter": "python",
   "pygments_lexer": "ipython3",
   "version": "3.10.9"
  },
  "orig_nbformat": 4
 },
 "nbformat": 4,
 "nbformat_minor": 2
}
