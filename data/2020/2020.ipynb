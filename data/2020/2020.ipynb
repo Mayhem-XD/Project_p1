{
 "cells": [
  {
   "cell_type": "code",
   "execution_count": 1,
   "metadata": {},
   "outputs": [],
   "source": [
    "import numpy as np\n",
    "import pandas as pd\n",
    "from datetime import datetime"
   ]
  },
  {
   "cell_type": "code",
   "execution_count": null,
   "metadata": {},
   "outputs": [],
   "source": [
    "# 사용할 노선과 합쳐야 하는 노선 목록(중복역은 합계 후 중복 삭제예정)\n",
    "# 1호선:서울지하철1호선(청량리~서울역), 경원선(소요산~청량리), 경부선(서울~천안/서동탄/광명), 장항선(천안~신창), 경인선(구로~인천)\n",
    "# 2호선, 5호선, 6호선, 7호선, 8호선\n",
    "# 3호선: 서울지하철3호선(지축~오금), 일산선(대화~지축)\n",
    "# 4호선: 서울지하철4호선(당고개~남태령), 과천선(남태령~금정), 안산선(금정~오이도)\n",
    "# 9호선: 9호선, 9호선(2~3)단계\n",
    "# 수인분당선: 수인선(인천~수원), 분당선()\n",
    "# 공항철도\n",
    "# 신림선, 우이신설선\n",
    "# 신분당선 데이터 없음, 김포 골드라인 없음, 용인 에버 없음\n",
    "\n",
    "# 호선 분리하기 ex) 1호선, 경원선, 수인선 ......\n",
    "\n",
    "# 월별 평일 승하차 각각 합계, 월별 주말 승하차 각각 합계\n",
    "\n",
    "# 월별로 처리한 데이터 csv로 각 년도 폴더에 저장"
   ]
  },
  {
   "cell_type": "code",
   "execution_count": 2,
   "metadata": {},
   "outputs": [
    {
     "data": {
      "text/html": [
       "<div>\n",
       "<style scoped>\n",
       "    .dataframe tbody tr th:only-of-type {\n",
       "        vertical-align: middle;\n",
       "    }\n",
       "\n",
       "    .dataframe tbody tr th {\n",
       "        vertical-align: top;\n",
       "    }\n",
       "\n",
       "    .dataframe thead th {\n",
       "        text-align: right;\n",
       "    }\n",
       "</style>\n",
       "<table border=\"1\" class=\"dataframe\">\n",
       "  <thead>\n",
       "    <tr style=\"text-align: right;\">\n",
       "      <th></th>\n",
       "      <th>사용일자</th>\n",
       "      <th>노선명</th>\n",
       "      <th>역명</th>\n",
       "      <th>승차총승객수</th>\n",
       "      <th>하차총승객수</th>\n",
       "      <th>등록일자</th>\n",
       "    </tr>\n",
       "  </thead>\n",
       "  <tbody>\n",
       "    <tr>\n",
       "      <th>0</th>\n",
       "      <td>20200101</td>\n",
       "      <td>1호선</td>\n",
       "      <td>종각</td>\n",
       "      <td>20427</td>\n",
       "      <td>16301</td>\n",
       "      <td>20200104</td>\n",
       "    </tr>\n",
       "    <tr>\n",
       "      <th>1</th>\n",
       "      <td>20200101</td>\n",
       "      <td>1호선</td>\n",
       "      <td>시청</td>\n",
       "      <td>12126</td>\n",
       "      <td>10516</td>\n",
       "      <td>20200104</td>\n",
       "    </tr>\n",
       "    <tr>\n",
       "      <th>2</th>\n",
       "      <td>20200101</td>\n",
       "      <td>우이신설선</td>\n",
       "      <td>신설동</td>\n",
       "      <td>892</td>\n",
       "      <td>828</td>\n",
       "      <td>20200104</td>\n",
       "    </tr>\n",
       "    <tr>\n",
       "      <th>3</th>\n",
       "      <td>20200101</td>\n",
       "      <td>우이신설선</td>\n",
       "      <td>보문</td>\n",
       "      <td>917</td>\n",
       "      <td>855</td>\n",
       "      <td>20200104</td>\n",
       "    </tr>\n",
       "    <tr>\n",
       "      <th>4</th>\n",
       "      <td>20200101</td>\n",
       "      <td>우이신설선</td>\n",
       "      <td>성신여대입구(돈암)</td>\n",
       "      <td>2010</td>\n",
       "      <td>2363</td>\n",
       "      <td>20200104</td>\n",
       "    </tr>\n",
       "  </tbody>\n",
       "</table>\n",
       "</div>"
      ],
      "text/plain": [
       "       사용일자    노선명          역명  승차총승객수  하차총승객수      등록일자\n",
       "0  20200101    1호선          종각   20427   16301  20200104\n",
       "1  20200101    1호선          시청   12126   10516  20200104\n",
       "2  20200101  우이신설선         신설동     892     828  20200104\n",
       "3  20200101  우이신설선          보문     917     855  20200104\n",
       "4  20200101  우이신설선  성신여대입구(돈암)    2010    2363  20200104"
      ]
     },
     "execution_count": 2,
     "metadata": {},
     "output_type": "execute_result"
    }
   ],
   "source": [
    "# 2020 csv 열기\n",
    "df = pd.read_csv('data/2020.csv', encoding='euc-kr')\n",
    "df.head()"
   ]
  },
  {
   "cell_type": "code",
   "execution_count": 3,
   "metadata": {},
   "outputs": [
    {
     "data": {
      "text/plain": [
       "0"
      ]
     },
     "execution_count": 3,
     "metadata": {},
     "output_type": "execute_result"
    }
   ],
   "source": [
    "# 결측치 확인\n",
    "df.isna().sum().sum() "
   ]
  }
 ],
 "metadata": {
  "kernelspec": {
   "display_name": "base",
   "language": "python",
   "name": "python3"
  },
  "language_info": {
   "codemirror_mode": {
    "name": "ipython",
    "version": 3
   },
   "file_extension": ".py",
   "mimetype": "text/x-python",
   "name": "python",
   "nbconvert_exporter": "python",
   "pygments_lexer": "ipython3",
   "version": "3.10.10"
  },
  "orig_nbformat": 4
 },
 "nbformat": 4,
 "nbformat_minor": 2
}
