{
 "cells": [
  {
   "cell_type": "code",
   "execution_count": 4,
   "metadata": {},
   "outputs": [],
   "source": [
    "import numpy as np\n",
    "import pandas as pd"
   ]
  },
  {
   "cell_type": "code",
   "execution_count": 15,
   "metadata": {},
   "outputs": [],
   "source": [
    "df = pd.read_csv('data/2021_주말.csv', encoding='utf-8', sep=',')\n",
    "df.drop(columns=['평일주말'], inplace=True)\n",
    "df = df[(df['사용일자'] >= 20211201) & (df['사용일자'] < 20211232)].sort_values(by='사용일자').reset_index(drop=True)\n",
    "df.to_csv('월별_주말/data/12월.csv', index=False, encoding='utf-8')"
   ]
  },
  {
   "cell_type": "code",
   "execution_count": null,
   "metadata": {},
   "outputs": [],
   "source": [
    "df = pd.read_csv('data/2021_호선.csv', encoding='utf-8', sep=',')\n",
    "df.drop(columns=['평일주말'], inplace=True)\n",
    "df = df[(df['사용일자'] >= 20210101) & (df['사용일자'] < 20210132)].sort_values(by='사용일자').reset_index(drop=True)\n",
    "df.to_csv('월별_평일/data/1월.csv', index=False, encoding='utf-8')"
   ]
  }
 ],
 "metadata": {
  "kernelspec": {
   "display_name": "base",
   "language": "python",
   "name": "python3"
  },
  "language_info": {
   "codemirror_mode": {
    "name": "ipython",
    "version": 3
   },
   "file_extension": ".py",
   "mimetype": "text/x-python",
   "name": "python",
   "nbconvert_exporter": "python",
   "pygments_lexer": "ipython3",
   "version": "3.10.9"
  },
  "orig_nbformat": 4
 },
 "nbformat": 4,
 "nbformat_minor": 2
}
