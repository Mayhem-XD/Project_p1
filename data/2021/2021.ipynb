{
 "cells": [
  {
   "cell_type": "code",
   "execution_count": 1,
   "metadata": {},
   "outputs": [
    {
     "data": {
      "text/html": [
       "<div>\n",
       "<style scoped>\n",
       "    .dataframe tbody tr th:only-of-type {\n",
       "        vertical-align: middle;\n",
       "    }\n",
       "\n",
       "    .dataframe tbody tr th {\n",
       "        vertical-align: top;\n",
       "    }\n",
       "\n",
       "    .dataframe thead th {\n",
       "        text-align: right;\n",
       "    }\n",
       "</style>\n",
       "<table border=\"1\" class=\"dataframe\">\n",
       "  <thead>\n",
       "    <tr style=\"text-align: right;\">\n",
       "      <th></th>\n",
       "      <th>사용일자</th>\n",
       "      <th>노선명</th>\n",
       "      <th>역명</th>\n",
       "      <th>승차총승객수</th>\n",
       "      <th>하차총승객수</th>\n",
       "    </tr>\n",
       "  </thead>\n",
       "  <tbody>\n",
       "    <tr>\n",
       "      <th>0</th>\n",
       "      <td>20210101</td>\n",
       "      <td>일산선</td>\n",
       "      <td>백석</td>\n",
       "      <td>2724</td>\n",
       "      <td>2825</td>\n",
       "    </tr>\n",
       "    <tr>\n",
       "      <th>1</th>\n",
       "      <td>20210101</td>\n",
       "      <td>일산선</td>\n",
       "      <td>마두</td>\n",
       "      <td>1638</td>\n",
       "      <td>1652</td>\n",
       "    </tr>\n",
       "    <tr>\n",
       "      <th>2</th>\n",
       "      <td>20210101</td>\n",
       "      <td>3호선</td>\n",
       "      <td>을지로3가</td>\n",
       "      <td>1024</td>\n",
       "      <td>1009</td>\n",
       "    </tr>\n",
       "    <tr>\n",
       "      <th>3</th>\n",
       "      <td>20210101</td>\n",
       "      <td>3호선</td>\n",
       "      <td>종로3가</td>\n",
       "      <td>1255</td>\n",
       "      <td>1632</td>\n",
       "    </tr>\n",
       "    <tr>\n",
       "      <th>4</th>\n",
       "      <td>20210101</td>\n",
       "      <td>3호선</td>\n",
       "      <td>안국</td>\n",
       "      <td>2934</td>\n",
       "      <td>3029</td>\n",
       "    </tr>\n",
       "  </tbody>\n",
       "</table>\n",
       "</div>"
      ],
      "text/plain": [
       "       사용일자  노선명     역명  승차총승객수  하차총승객수\n",
       "0  20210101  일산선     백석    2724    2825\n",
       "1  20210101  일산선     마두    1638    1652\n",
       "2  20210101  3호선  을지로3가    1024    1009\n",
       "3  20210101  3호선   종로3가    1255    1632\n",
       "4  20210101  3호선     안국    2934    3029"
      ]
     },
     "execution_count": 1,
     "metadata": {},
     "output_type": "execute_result"
    }
   ],
   "source": [
    "import numpy as np\n",
    "import pandas as pd\n",
    "\n",
    "df = pd.read_csv('CARD_SUBWAY_MONTH_2021.csv',encoding='euc-kr',sep=',')\n",
    "df.drop(columns=['등록일자'], inplace=True)\n",
    "df.head()"
   ]
  },
  {
   "attachments": {},
   "cell_type": "markdown",
   "metadata": {},
   "source": [
    "1. 데이터 확인 - 인덱스, 행열 정렬, 결측치 등 -> 필요시 수정"
   ]
  },
  {
   "attachments": {},
   "cell_type": "markdown",
   "metadata": {},
   "source": [
    "2. 역명 수정"
   ]
  },
  {
   "cell_type": "code",
   "execution_count": 2,
   "metadata": {},
   "outputs": [
    {
     "data": {
      "text/html": [
       "<div>\n",
       "<style scoped>\n",
       "    .dataframe tbody tr th:only-of-type {\n",
       "        vertical-align: middle;\n",
       "    }\n",
       "\n",
       "    .dataframe tbody tr th {\n",
       "        vertical-align: top;\n",
       "    }\n",
       "\n",
       "    .dataframe thead th {\n",
       "        text-align: right;\n",
       "    }\n",
       "</style>\n",
       "<table border=\"1\" class=\"dataframe\">\n",
       "  <thead>\n",
       "    <tr style=\"text-align: right;\">\n",
       "      <th></th>\n",
       "      <th>사용일자</th>\n",
       "      <th>노선명</th>\n",
       "      <th>역명</th>\n",
       "      <th>승차총승객수</th>\n",
       "      <th>하차총승객수</th>\n",
       "    </tr>\n",
       "  </thead>\n",
       "  <tbody>\n",
       "    <tr>\n",
       "      <th>500</th>\n",
       "      <td>20210101</td>\n",
       "      <td>경춘선</td>\n",
       "      <td>김유정</td>\n",
       "      <td>120</td>\n",
       "      <td>130</td>\n",
       "    </tr>\n",
       "    <tr>\n",
       "      <th>501</th>\n",
       "      <td>20210101</td>\n",
       "      <td>경춘선</td>\n",
       "      <td>남춘천</td>\n",
       "      <td>952</td>\n",
       "      <td>907</td>\n",
       "    </tr>\n",
       "    <tr>\n",
       "      <th>502</th>\n",
       "      <td>20210101</td>\n",
       "      <td>경춘선</td>\n",
       "      <td>춘천</td>\n",
       "      <td>533</td>\n",
       "      <td>502</td>\n",
       "    </tr>\n",
       "    <tr>\n",
       "      <th>503</th>\n",
       "      <td>20210101</td>\n",
       "      <td>공항철도</td>\n",
       "      <td>서울역</td>\n",
       "      <td>2366</td>\n",
       "      <td>2474</td>\n",
       "    </tr>\n",
       "    <tr>\n",
       "      <th>504</th>\n",
       "      <td>20210101</td>\n",
       "      <td>공항철도</td>\n",
       "      <td>공덕</td>\n",
       "      <td>543</td>\n",
       "      <td>759</td>\n",
       "    </tr>\n",
       "  </tbody>\n",
       "</table>\n",
       "</div>"
      ],
      "text/plain": [
       "         사용일자   노선명   역명  승차총승객수  하차총승객수\n",
       "500  20210101   경춘선  김유정     120     130\n",
       "501  20210101   경춘선  남춘천     952     907\n",
       "502  20210101   경춘선   춘천     533     502\n",
       "503  20210101  공항철도  서울역    2366    2474\n",
       "504  20210101  공항철도   공덕     543     759"
      ]
     },
     "execution_count": 2,
     "metadata": {},
     "output_type": "execute_result"
    }
   ],
   "source": [
    "# 공항철도 1호선 ->공항철도\n",
    "# 경복궁(정부서울청사) -> 경복궁\n",
    "df.역명 = df['역명'].str.replace('(',' ',regex=True).str.split().str[0]\n",
    "df.노선명 = df['노선명'].str.replace(' ',' ',regex=True).str.split().str[0]\n",
    "df.iloc[500:505]    # 공항철도"
   ]
  },
  {
   "cell_type": "code",
   "execution_count": 3,
   "metadata": {},
   "outputs": [
    {
     "data": {
      "text/plain": [
       "5호선         20185\n",
       "7호선         18615\n",
       "2호선         18250\n",
       "경부선         14235\n",
       "6호선         13731\n",
       "분당선         12545\n",
       "3호선         12271\n",
       "경원선         10671\n",
       "경의선          9588\n",
       "4호선          9490\n",
       "9호선          9125\n",
       "중앙선          7665\n",
       "경인선          7300\n",
       "경춘선          6935\n",
       "수인선          6570\n",
       "8호선          6219\n",
       "공항철도         5110\n",
       "안산선          4745\n",
       "우이신설선        4745\n",
       "9호선2~3단계     4745\n",
       "경강선          4015\n",
       "일산선          3701\n",
       "1호선          3650\n",
       "과천선          2920\n",
       "장항선          2253\n",
       "Name: 노선명, dtype: int64"
      ]
     },
     "execution_count": 3,
     "metadata": {},
     "output_type": "execute_result"
    }
   ],
   "source": [
    "df.노선명.value_counts()"
   ]
  },
  {
   "cell_type": "code",
   "execution_count": 4,
   "metadata": {},
   "outputs": [],
   "source": [
    "# 9호선2~3단계 -> 9호선\n",
    "# df['노선명'] = df['노선명'].str.replace('')"
   ]
  },
  {
   "cell_type": "code",
   "execution_count": 22,
   "metadata": {},
   "outputs": [
    {
     "data": {
      "text/html": [
       "<div>\n",
       "<style scoped>\n",
       "    .dataframe tbody tr th:only-of-type {\n",
       "        vertical-align: middle;\n",
       "    }\n",
       "\n",
       "    .dataframe tbody tr th {\n",
       "        vertical-align: top;\n",
       "    }\n",
       "\n",
       "    .dataframe thead th {\n",
       "        text-align: right;\n",
       "    }\n",
       "</style>\n",
       "<table border=\"1\" class=\"dataframe\">\n",
       "  <thead>\n",
       "    <tr style=\"text-align: right;\">\n",
       "      <th></th>\n",
       "      <th>사용일자</th>\n",
       "      <th>노선명</th>\n",
       "      <th>역명</th>\n",
       "      <th>승차총승객수</th>\n",
       "      <th>하차총승객수</th>\n",
       "    </tr>\n",
       "  </thead>\n",
       "  <tbody>\n",
       "    <tr>\n",
       "      <th>500</th>\n",
       "      <td>20210101</td>\n",
       "      <td>경춘선</td>\n",
       "      <td>김유정</td>\n",
       "      <td>120</td>\n",
       "      <td>130</td>\n",
       "    </tr>\n",
       "    <tr>\n",
       "      <th>501</th>\n",
       "      <td>20210101</td>\n",
       "      <td>경춘선</td>\n",
       "      <td>남춘천</td>\n",
       "      <td>952</td>\n",
       "      <td>907</td>\n",
       "    </tr>\n",
       "    <tr>\n",
       "      <th>502</th>\n",
       "      <td>20210101</td>\n",
       "      <td>경춘선</td>\n",
       "      <td>춘천</td>\n",
       "      <td>533</td>\n",
       "      <td>502</td>\n",
       "    </tr>\n",
       "    <tr>\n",
       "      <th>503</th>\n",
       "      <td>20210101</td>\n",
       "      <td>공항철도</td>\n",
       "      <td>서울역</td>\n",
       "      <td>2366</td>\n",
       "      <td>2474</td>\n",
       "    </tr>\n",
       "    <tr>\n",
       "      <th>504</th>\n",
       "      <td>20210101</td>\n",
       "      <td>공항철도</td>\n",
       "      <td>공덕</td>\n",
       "      <td>543</td>\n",
       "      <td>759</td>\n",
       "    </tr>\n",
       "  </tbody>\n",
       "</table>\n",
       "</div>"
      ],
      "text/plain": [
       "         사용일자   노선명   역명  승차총승객수  하차총승객수\n",
       "500  20210101   경춘선  김유정     120     130\n",
       "501  20210101   경춘선  남춘천     952     907\n",
       "502  20210101   경춘선   춘천     533     502\n",
       "503  20210101  공항철도  서울역    2366    2474\n",
       "504  20210101  공항철도   공덕     543     759"
      ]
     },
     "execution_count": 22,
     "metadata": {},
     "output_type": "execute_result"
    }
   ],
   "source": [
    "df1 = df[(df['사용일자'] >= 20210101) & (df['사용일자'] < 20210132)].copy()\n",
    "df1.to_csv('202101_.csv', index=False, encoding='utf-8')\n",
    "df1.iloc[500:505]    # 공항철도"
   ]
  },
  {
   "cell_type": "code",
   "execution_count": null,
   "metadata": {},
   "outputs": [],
   "source": []
  }
 ],
 "metadata": {
  "kernelspec": {
   "display_name": "base",
   "language": "python",
   "name": "python3"
  },
  "language_info": {
   "codemirror_mode": {
    "name": "ipython",
    "version": 3
   },
   "file_extension": ".py",
   "mimetype": "text/x-python",
   "name": "python",
   "nbconvert_exporter": "python",
   "pygments_lexer": "ipython3",
   "version": "3.10.9"
  },
  "orig_nbformat": 4
 },
 "nbformat": 4,
 "nbformat_minor": 2
}
