{
 "cells": [
  {
   "cell_type": "code",
   "execution_count": 1,
   "metadata": {},
   "outputs": [],
   "source": [
    "import numpy as np\n",
    "import pandas as pd"
   ]
  },
  {
   "cell_type": "code",
   "execution_count": 2,
   "metadata": {},
   "outputs": [],
   "source": [
    "df = pd.read_csv('data/2021.csv', encoding='utf-8',sep=',')"
   ]
  },
  {
   "cell_type": "code",
   "execution_count": 3,
   "metadata": {},
   "outputs": [
    {
     "data": {
      "text/html": [
       "<div>\n",
       "<style scoped>\n",
       "    .dataframe tbody tr th:only-of-type {\n",
       "        vertical-align: middle;\n",
       "    }\n",
       "\n",
       "    .dataframe tbody tr th {\n",
       "        vertical-align: top;\n",
       "    }\n",
       "\n",
       "    .dataframe thead th {\n",
       "        text-align: right;\n",
       "    }\n",
       "</style>\n",
       "<table border=\"1\" class=\"dataframe\">\n",
       "  <thead>\n",
       "    <tr style=\"text-align: right;\">\n",
       "      <th></th>\n",
       "      <th>사용일자</th>\n",
       "      <th>호선명</th>\n",
       "      <th>지하철역</th>\n",
       "      <th>승차총승객수</th>\n",
       "      <th>하차총승객수</th>\n",
       "      <th>승하차총승객수</th>\n",
       "    </tr>\n",
       "  </thead>\n",
       "  <tbody>\n",
       "    <tr>\n",
       "      <th>0</th>\n",
       "      <td>20210101</td>\n",
       "      <td>일산선</td>\n",
       "      <td>백석</td>\n",
       "      <td>2724</td>\n",
       "      <td>2825</td>\n",
       "      <td>5549</td>\n",
       "    </tr>\n",
       "    <tr>\n",
       "      <th>1</th>\n",
       "      <td>20210101</td>\n",
       "      <td>일산선</td>\n",
       "      <td>마두</td>\n",
       "      <td>1638</td>\n",
       "      <td>1652</td>\n",
       "      <td>3290</td>\n",
       "    </tr>\n",
       "    <tr>\n",
       "      <th>2</th>\n",
       "      <td>20210101</td>\n",
       "      <td>3호선</td>\n",
       "      <td>을지로3가</td>\n",
       "      <td>1024</td>\n",
       "      <td>1009</td>\n",
       "      <td>2033</td>\n",
       "    </tr>\n",
       "    <tr>\n",
       "      <th>3</th>\n",
       "      <td>20210101</td>\n",
       "      <td>3호선</td>\n",
       "      <td>종로3가</td>\n",
       "      <td>1255</td>\n",
       "      <td>1632</td>\n",
       "      <td>2887</td>\n",
       "    </tr>\n",
       "    <tr>\n",
       "      <th>4</th>\n",
       "      <td>20210101</td>\n",
       "      <td>3호선</td>\n",
       "      <td>안국</td>\n",
       "      <td>2934</td>\n",
       "      <td>3029</td>\n",
       "      <td>5963</td>\n",
       "    </tr>\n",
       "  </tbody>\n",
       "</table>\n",
       "</div>"
      ],
      "text/plain": [
       "       사용일자  호선명   지하철역  승차총승객수  하차총승객수  승하차총승객수\n",
       "0  20210101  일산선     백석    2724    2825     5549\n",
       "1  20210101  일산선     마두    1638    1652     3290\n",
       "2  20210101  3호선  을지로3가    1024    1009     2033\n",
       "3  20210101  3호선   종로3가    1255    1632     2887\n",
       "4  20210101  3호선     안국    2934    3029     5963"
      ]
     },
     "execution_count": 3,
     "metadata": {},
     "output_type": "execute_result"
    }
   ],
   "source": [
    "df.head()"
   ]
  },
  {
   "cell_type": "code",
   "execution_count": 4,
   "metadata": {},
   "outputs": [
    {
     "data": {
      "text/plain": [
       "array(['일산선', '3호선', '장항선', '중앙선', '4호선', '2호선', '1호선', '5호선', '6호선',\n",
       "       '7호선', '수인선', '8호선', '9호선', '9호선2~3단계', '경강선', '경부선', '경원선', '경의선',\n",
       "       '경인선', '경춘선', '공항철도 1호선', '과천선', '분당선', '안산선', '우이신설선'],\n",
       "      dtype=object)"
      ]
     },
     "execution_count": 4,
     "metadata": {},
     "output_type": "execute_result"
    }
   ],
   "source": [
    "df.호선명.unique()"
   ]
  },
  {
   "cell_type": "code",
   "execution_count": 5,
   "metadata": {},
   "outputs": [
    {
     "data": {
      "text/plain": [
       "'중앙선'"
      ]
     },
     "execution_count": 5,
     "metadata": {},
     "output_type": "execute_result"
    }
   ],
   "source": [
    "df.호선명.unique()[3]"
   ]
  },
  {
   "cell_type": "code",
   "execution_count": null,
   "metadata": {},
   "outputs": [],
   "source": [
    "# 호선 하나씩 추출\n",
    "\n",
    "df.sort_values(by='사용일자').reset_index(drop=True)\n",
    "\n",
    "\n",
    "for i in range(len(df.호선명)):\n",
    "    k = df.호선명.unique()[i]\n",
    "    df['호선명'] = k\n",
    "    df.set_index('사용일자', inplace=True)\n",
    "    df.reset_index(inplace=True)\n",
    "    df.to_csv(f'호선별/{k}.csv', index=False, encoding='utf-8')"
   ]
  },
  {
   "cell_type": "code",
   "execution_count": null,
   "metadata": {},
   "outputs": [],
   "source": [
    "df = pd.read_csv('호선별/공항철도.csv', encoding='utf-8', sep=',')\n",
    "df.head()"
   ]
  }
 ],
 "metadata": {
  "kernelspec": {
   "display_name": "base",
   "language": "python",
   "name": "python3"
  },
  "language_info": {
   "codemirror_mode": {
    "name": "ipython",
    "version": 3
   },
   "file_extension": ".py",
   "mimetype": "text/x-python",
   "name": "python",
   "nbconvert_exporter": "python",
   "pygments_lexer": "ipython3",
   "version": "3.10.9"
  },
  "orig_nbformat": 4
 },
 "nbformat": 4,
 "nbformat_minor": 2
}
