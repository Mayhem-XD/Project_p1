{
 "cells": [
  {
   "cell_type": "code",
   "execution_count": 4,
   "metadata": {},
   "outputs": [],
   "source": [
    "import pandas as pd"
   ]
  },
  {
   "cell_type": "code",
   "execution_count": 5,
   "metadata": {},
   "outputs": [
    {
     "data": {
      "text/html": [
       "<div>\n",
       "<style scoped>\n",
       "    .dataframe tbody tr th:only-of-type {\n",
       "        vertical-align: middle;\n",
       "    }\n",
       "\n",
       "    .dataframe tbody tr th {\n",
       "        vertical-align: top;\n",
       "    }\n",
       "\n",
       "    .dataframe thead th {\n",
       "        text-align: right;\n",
       "    }\n",
       "</style>\n",
       "<table border=\"1\" class=\"dataframe\">\n",
       "  <thead>\n",
       "    <tr style=\"text-align: right;\">\n",
       "      <th></th>\n",
       "      <th>사용월</th>\n",
       "      <th>호선명</th>\n",
       "      <th>지하철역</th>\n",
       "      <th>승차총승객수</th>\n",
       "      <th>하차총승객수</th>\n",
       "      <th>승하차총승객수</th>\n",
       "    </tr>\n",
       "  </thead>\n",
       "  <tbody>\n",
       "    <tr>\n",
       "      <th>0</th>\n",
       "      <td>202101</td>\n",
       "      <td>2호선</td>\n",
       "      <td>강남</td>\n",
       "      <td>304638</td>\n",
       "      <td>295939</td>\n",
       "      <td>600577</td>\n",
       "    </tr>\n",
       "    <tr>\n",
       "      <th>1</th>\n",
       "      <td>202101</td>\n",
       "      <td>2호선</td>\n",
       "      <td>강변</td>\n",
       "      <td>149398</td>\n",
       "      <td>146936</td>\n",
       "      <td>296334</td>\n",
       "    </tr>\n",
       "    <tr>\n",
       "      <th>2</th>\n",
       "      <td>202101</td>\n",
       "      <td>2호선</td>\n",
       "      <td>건대입구</td>\n",
       "      <td>192524</td>\n",
       "      <td>206323</td>\n",
       "      <td>398847</td>\n",
       "    </tr>\n",
       "    <tr>\n",
       "      <th>3</th>\n",
       "      <td>202101</td>\n",
       "      <td>2호선</td>\n",
       "      <td>교대</td>\n",
       "      <td>91008</td>\n",
       "      <td>100335</td>\n",
       "      <td>191343</td>\n",
       "    </tr>\n",
       "    <tr>\n",
       "      <th>4</th>\n",
       "      <td>202101</td>\n",
       "      <td>2호선</td>\n",
       "      <td>구로디지털단지</td>\n",
       "      <td>206159</td>\n",
       "      <td>207477</td>\n",
       "      <td>413636</td>\n",
       "    </tr>\n",
       "  </tbody>\n",
       "</table>\n",
       "</div>"
      ],
      "text/plain": [
       "      사용월  호선명     지하철역  승차총승객수  하차총승객수  승하차총승객수\n",
       "0  202101  2호선       강남  304638  295939   600577\n",
       "1  202101  2호선       강변  149398  146936   296334\n",
       "2  202101  2호선     건대입구  192524  206323   398847\n",
       "3  202101  2호선       교대   91008  100335   191343\n",
       "4  202101  2호선  구로디지털단지  206159  207477   413636"
      ]
     },
     "execution_count": 5,
     "metadata": {},
     "output_type": "execute_result"
    }
   ],
   "source": [
    "df_main = pd.read_csv('data/main/lines/주말/2호선.csv')\n",
    "df_main.head()"
   ]
  },
  {
   "cell_type": "code",
   "execution_count": 8,
   "metadata": {},
   "outputs": [
    {
     "data": {
      "text/html": [
       "<div>\n",
       "<style scoped>\n",
       "    .dataframe tbody tr th:only-of-type {\n",
       "        vertical-align: middle;\n",
       "    }\n",
       "\n",
       "    .dataframe tbody tr th {\n",
       "        vertical-align: top;\n",
       "    }\n",
       "\n",
       "    .dataframe thead th {\n",
       "        text-align: right;\n",
       "    }\n",
       "</style>\n",
       "<table border=\"1\" class=\"dataframe\">\n",
       "  <thead>\n",
       "    <tr style=\"text-align: right;\">\n",
       "      <th></th>\n",
       "      <th>지하철역</th>\n",
       "      <th>도로명주소</th>\n",
       "      <th>lat</th>\n",
       "      <th>lng</th>\n",
       "    </tr>\n",
       "  </thead>\n",
       "  <tbody>\n",
       "    <tr>\n",
       "      <th>0</th>\n",
       "      <td>계양</td>\n",
       "      <td>인천광역시 계양구 다남로 24</td>\n",
       "      <td>37.571609</td>\n",
       "      <td>126.736023</td>\n",
       "    </tr>\n",
       "    <tr>\n",
       "      <th>1</th>\n",
       "      <td>귤현</td>\n",
       "      <td>인천광역시 계양구 장제로 1136</td>\n",
       "      <td>37.566413</td>\n",
       "      <td>126.742649</td>\n",
       "    </tr>\n",
       "    <tr>\n",
       "      <th>2</th>\n",
       "      <td>박촌</td>\n",
       "      <td>인천광역시 계양구 장제로 992</td>\n",
       "      <td>37.554143</td>\n",
       "      <td>126.745539</td>\n",
       "    </tr>\n",
       "    <tr>\n",
       "      <th>3</th>\n",
       "      <td>임학</td>\n",
       "      <td>인천광역시 계양구 장제로 875</td>\n",
       "      <td>37.545062</td>\n",
       "      <td>126.738623</td>\n",
       "    </tr>\n",
       "    <tr>\n",
       "      <th>4</th>\n",
       "      <td>계산</td>\n",
       "      <td>인천광역시 계양구 경명대로 1089</td>\n",
       "      <td>37.543290</td>\n",
       "      <td>126.728081</td>\n",
       "    </tr>\n",
       "  </tbody>\n",
       "</table>\n",
       "</div>"
      ],
      "text/plain": [
       "  지하철역                도로명주소        lat         lng\n",
       "0   계양     인천광역시 계양구 다남로 24  37.571609  126.736023\n",
       "1   귤현   인천광역시 계양구 장제로 1136  37.566413  126.742649\n",
       "2   박촌    인천광역시 계양구 장제로 992  37.554143  126.745539\n",
       "3   임학    인천광역시 계양구 장제로 875  37.545062  126.738623\n",
       "4   계산  인천광역시 계양구 경명대로 1089  37.543290  126.728081"
      ]
     },
     "execution_count": 8,
     "metadata": {},
     "output_type": "execute_result"
    }
   ],
   "source": [
    "df_latlng = pd.read_csv('data/main/stn_r_addr_final.csv')\n",
    "df_latlng.head()"
   ]
  },
  {
   "cell_type": "code",
   "execution_count": 9,
   "metadata": {},
   "outputs": [],
   "source": [
    "df_latlng.drop(columns=['도로명주소'],inplace=True)"
   ]
  },
  {
   "cell_type": "code",
   "execution_count": 10,
   "metadata": {},
   "outputs": [
    {
     "data": {
      "text/html": [
       "<div>\n",
       "<style scoped>\n",
       "    .dataframe tbody tr th:only-of-type {\n",
       "        vertical-align: middle;\n",
       "    }\n",
       "\n",
       "    .dataframe tbody tr th {\n",
       "        vertical-align: top;\n",
       "    }\n",
       "\n",
       "    .dataframe thead th {\n",
       "        text-align: right;\n",
       "    }\n",
       "</style>\n",
       "<table border=\"1\" class=\"dataframe\">\n",
       "  <thead>\n",
       "    <tr style=\"text-align: right;\">\n",
       "      <th></th>\n",
       "      <th>사용월</th>\n",
       "      <th>호선명</th>\n",
       "      <th>지하철역</th>\n",
       "      <th>승차총승객수</th>\n",
       "      <th>하차총승객수</th>\n",
       "      <th>승하차총승객수</th>\n",
       "      <th>lat</th>\n",
       "      <th>lng</th>\n",
       "    </tr>\n",
       "  </thead>\n",
       "  <tbody>\n",
       "    <tr>\n",
       "      <th>0</th>\n",
       "      <td>202101</td>\n",
       "      <td>2호선</td>\n",
       "      <td>강남</td>\n",
       "      <td>304638</td>\n",
       "      <td>295939</td>\n",
       "      <td>600577</td>\n",
       "      <td>37.498165</td>\n",
       "      <td>127.028308</td>\n",
       "    </tr>\n",
       "    <tr>\n",
       "      <th>1</th>\n",
       "      <td>202101</td>\n",
       "      <td>2호선</td>\n",
       "      <td>강변</td>\n",
       "      <td>149398</td>\n",
       "      <td>146936</td>\n",
       "      <td>296334</td>\n",
       "      <td>37.535169</td>\n",
       "      <td>127.094665</td>\n",
       "    </tr>\n",
       "    <tr>\n",
       "      <th>2</th>\n",
       "      <td>202101</td>\n",
       "      <td>2호선</td>\n",
       "      <td>건대입구</td>\n",
       "      <td>192524</td>\n",
       "      <td>206323</td>\n",
       "      <td>398847</td>\n",
       "      <td>37.540419</td>\n",
       "      <td>127.069173</td>\n",
       "    </tr>\n",
       "    <tr>\n",
       "      <th>3</th>\n",
       "      <td>202101</td>\n",
       "      <td>2호선</td>\n",
       "      <td>교대</td>\n",
       "      <td>91008</td>\n",
       "      <td>100335</td>\n",
       "      <td>191343</td>\n",
       "      <td>37.492818</td>\n",
       "      <td>127.013838</td>\n",
       "    </tr>\n",
       "    <tr>\n",
       "      <th>4</th>\n",
       "      <td>202101</td>\n",
       "      <td>2호선</td>\n",
       "      <td>구로디지털단지</td>\n",
       "      <td>206159</td>\n",
       "      <td>207477</td>\n",
       "      <td>413636</td>\n",
       "      <td>37.485315</td>\n",
       "      <td>126.901494</td>\n",
       "    </tr>\n",
       "  </tbody>\n",
       "</table>\n",
       "</div>"
      ],
      "text/plain": [
       "      사용월  호선명     지하철역  승차총승객수  하차총승객수  승하차총승객수        lat         lng\n",
       "0  202101  2호선       강남  304638  295939   600577  37.498165  127.028308\n",
       "1  202101  2호선       강변  149398  146936   296334  37.535169  127.094665\n",
       "2  202101  2호선     건대입구  192524  206323   398847  37.540419  127.069173\n",
       "3  202101  2호선       교대   91008  100335   191343  37.492818  127.013838\n",
       "4  202101  2호선  구로디지털단지  206159  207477   413636  37.485315  126.901494"
      ]
     },
     "execution_count": 10,
     "metadata": {},
     "output_type": "execute_result"
    }
   ],
   "source": [
    "res = pd.merge(df_main,df_latlng,on='지하철역',how='left')\n",
    "res.head()"
   ]
  },
  {
   "cell_type": "code",
   "execution_count": 11,
   "metadata": {},
   "outputs": [],
   "source": [
    "res.to_csv('line2_test.csv',index=False)"
   ]
  },
  {
   "cell_type": "code",
   "execution_count": 16,
   "metadata": {},
   "outputs": [],
   "source": [
    "# # 호선 합치기전 버전\n",
    "# import pandas as pd\n",
    "\n",
    "# df_latlng = pd.read_csv('data/main/stn_r_addr_final.csv')\n",
    "# df_latlng.drop(columns=['도로명주소'], inplace=True)\n",
    "\n",
    "# lines = '1호선 2호선 3호선 4호선 5호선 6호선 7호선 8호선 9호선 수인분당선 경의중앙선'.split()\n",
    "# temp_list = []\n",
    "# for line in lines:\n",
    "#     df_main = pd.read_csv(f'data/main/lines/{line}.csv')\n",
    "#     temp = pd.merge(df_main, df_latlng, on='지하철역', how='left')\n",
    "#     temp_list.append(temp)\n",
    "#    # res.to_csv(f'data/main/heatmap_files/{line}_test.csv', index=False)\n",
    "# res = pd.concat(temp_list,axis=0)\n"
   ]
  },
  {
   "cell_type": "code",
   "execution_count": 19,
   "metadata": {},
   "outputs": [],
   "source": [
    "# res.to_csv('data/main/heatmap_files/lines_4heatmap2.csv',index=False)"
   ]
  },
  {
   "cell_type": "code",
   "execution_count": 12,
   "metadata": {},
   "outputs": [],
   "source": [
    "# 이거 쓸꺼임\n",
    "import pandas as pd\n",
    "\n",
    "df_latlng = pd.read_csv('data/main/stn_r_addr_final.csv')\n",
    "df_latlng.drop(columns=['도로명주소'], inplace=True)"
   ]
  },
  {
   "cell_type": "code",
   "execution_count": 14,
   "metadata": {},
   "outputs": [],
   "source": [
    "########### 주말ver 파일저장 ######\n",
    "df_main = pd.read_csv('data/main/lines/주말/merged_lines.csv')\n",
    "res = pd.merge(df_main, df_latlng, on='지하철역', how='left')\n",
    "res.to_csv('data/main/heatmap_files/lines_4heatmap_주말.csv', index=False)"
   ]
  },
  {
   "cell_type": "code",
   "execution_count": 15,
   "metadata": {},
   "outputs": [],
   "source": [
    "########### 주중ver 파일저장 ######\n",
    "df_main = pd.read_csv('data/main/lines/주중/merged_lines.csv')\n",
    "res = pd.merge(df_main, df_latlng, on='지하철역', how='left')\n",
    "res.to_csv('data/main/heatmap_files/lines_4heatmap_주중.csv', index=False)"
   ]
  },
  {
   "attachments": {},
   "cell_type": "markdown",
   "metadata": {},
   "source": [
    "``` 0601/14:30 히트맵파일 저장 완료 (주중, 주말ver) ```"
   ]
  },
  {
   "cell_type": "code",
   "execution_count": null,
   "metadata": {},
   "outputs": [],
   "source": []
  }
 ],
 "metadata": {
  "kernelspec": {
   "display_name": "base",
   "language": "python",
   "name": "python3"
  },
  "language_info": {
   "codemirror_mode": {
    "name": "ipython",
    "version": 3
   },
   "file_extension": ".py",
   "mimetype": "text/x-python",
   "name": "python",
   "nbconvert_exporter": "python",
   "pygments_lexer": "ipython3",
   "version": "3.10.10"
  },
  "orig_nbformat": 4
 },
 "nbformat": 4,
 "nbformat_minor": 2
}
