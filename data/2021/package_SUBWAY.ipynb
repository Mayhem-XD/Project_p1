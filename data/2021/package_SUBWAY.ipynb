{
 "cells": [
  {
   "cell_type": "code",
   "execution_count": 1,
   "metadata": {},
   "outputs": [],
   "source": [
    "import numpy as np\n",
    "import pandas as pd\n",
    "from datetime import datetime"
   ]
  },
  {
   "cell_type": "code",
   "execution_count": 2,
   "metadata": {},
   "outputs": [],
   "source": [
    "# 주중-월ver 파일\n",
    "df_st = pd.read_csv('data/20230531_SUBWAY_MONTH_주중_월ver.csv',encoding='utf-8', sep=',')\n",
    "df_st['지하철역'] = df_st['지하철역'].str.replace('(', ' ',regex=False,).str.split().str[0]\n",
    "for i in df_st.index:\n",
    "    if df_st.loc[i, '지하철역'][-1] == '역':    # 서울역 -> 서울\n",
    "        df_st.loc[i, '지하철역'] = df_st.loc[i, '지하철역'][:-1]\n",
    "now = datetime.now()\n",
    "f_date = now.strftime('%Y%m%d')\n",
    "df_st.to_csv(f'data/{f_date}_SUBWAY_MONTH_주중_월ver.csv',index=False,encoding='utf-8') # 0601자 파일생성"
   ]
  },
  {
   "cell_type": "code",
   "execution_count": 3,
   "metadata": {},
   "outputs": [
    {
     "data": {
      "text/html": [
       "<div>\n",
       "<style scoped>\n",
       "    .dataframe tbody tr th:only-of-type {\n",
       "        vertical-align: middle;\n",
       "    }\n",
       "\n",
       "    .dataframe tbody tr th {\n",
       "        vertical-align: top;\n",
       "    }\n",
       "\n",
       "    .dataframe thead th {\n",
       "        text-align: right;\n",
       "    }\n",
       "</style>\n",
       "<table border=\"1\" class=\"dataframe\">\n",
       "  <thead>\n",
       "    <tr style=\"text-align: right;\">\n",
       "      <th></th>\n",
       "      <th>사용월</th>\n",
       "      <th>호선명</th>\n",
       "      <th>지하철역</th>\n",
       "      <th>승차총승객수</th>\n",
       "      <th>하차총승객수</th>\n",
       "      <th>승하차총승객수</th>\n",
       "      <th>주중주말</th>\n",
       "    </tr>\n",
       "  </thead>\n",
       "  <tbody>\n",
       "    <tr>\n",
       "      <th>0</th>\n",
       "      <td>202101</td>\n",
       "      <td>일산선</td>\n",
       "      <td>백석</td>\n",
       "      <td>2724</td>\n",
       "      <td>2825</td>\n",
       "      <td>5549</td>\n",
       "      <td>주중</td>\n",
       "    </tr>\n",
       "    <tr>\n",
       "      <th>1</th>\n",
       "      <td>202101</td>\n",
       "      <td>일산선</td>\n",
       "      <td>마두</td>\n",
       "      <td>1638</td>\n",
       "      <td>1652</td>\n",
       "      <td>3290</td>\n",
       "      <td>주중</td>\n",
       "    </tr>\n",
       "    <tr>\n",
       "      <th>2</th>\n",
       "      <td>202101</td>\n",
       "      <td>3호선</td>\n",
       "      <td>을지로3가</td>\n",
       "      <td>1024</td>\n",
       "      <td>1009</td>\n",
       "      <td>2033</td>\n",
       "      <td>주중</td>\n",
       "    </tr>\n",
       "    <tr>\n",
       "      <th>3</th>\n",
       "      <td>202101</td>\n",
       "      <td>3호선</td>\n",
       "      <td>종로3가</td>\n",
       "      <td>1255</td>\n",
       "      <td>1632</td>\n",
       "      <td>2887</td>\n",
       "      <td>주중</td>\n",
       "    </tr>\n",
       "    <tr>\n",
       "      <th>4</th>\n",
       "      <td>202101</td>\n",
       "      <td>3호선</td>\n",
       "      <td>안국</td>\n",
       "      <td>2934</td>\n",
       "      <td>3029</td>\n",
       "      <td>5963</td>\n",
       "      <td>주중</td>\n",
       "    </tr>\n",
       "  </tbody>\n",
       "</table>\n",
       "</div>"
      ],
      "text/plain": [
       "      사용월  호선명   지하철역  승차총승객수  하차총승객수  승하차총승객수 주중주말\n",
       "0  202101  일산선     백석    2724    2825     5549   주중\n",
       "1  202101  일산선     마두    1638    1652     3290   주중\n",
       "2  202101  3호선  을지로3가    1024    1009     2033   주중\n",
       "3  202101  3호선   종로3가    1255    1632     2887   주중\n",
       "4  202101  3호선     안국    2934    3029     5963   주중"
      ]
     },
     "execution_count": 3,
     "metadata": {},
     "output_type": "execute_result"
    }
   ],
   "source": [
    "df = pd.read_csv(f'data/{f_date}_SUBWAY_MONTH_주중_월ver.csv')\n",
    "df.head()"
   ]
  },
  {
   "cell_type": "code",
   "execution_count": 4,
   "metadata": {},
   "outputs": [
    {
     "data": {
      "text/plain": [
       "(25,\n",
       " array(['일산선', '3호선', '장항선', '중앙선', '4호선', '2호선', '1호선', '5호선', '6호선',\n",
       "        '7호선', '수인선', '8호선', '9호선', '9호선2~3단계', '경강선', '경부선', '경원선', '경의선',\n",
       "        '경인선', '경춘선', '공항철도 1호선', '과천선', '분당선', '안산선', '우이신설선'],\n",
       "       dtype=object))"
      ]
     },
     "execution_count": 4,
     "metadata": {},
     "output_type": "execute_result"
    }
   ],
   "source": [
    "df.호선명.nunique(), df.호선명.unique()"
   ]
  },
  {
   "cell_type": "code",
   "execution_count": 5,
   "metadata": {},
   "outputs": [
    {
     "data": {
      "text/plain": [
       "523"
      ]
     },
     "execution_count": 5,
     "metadata": {},
     "output_type": "execute_result"
    }
   ],
   "source": [
    "df.지하철역.nunique()"
   ]
  },
  {
   "cell_type": "code",
   "execution_count": 6,
   "metadata": {},
   "outputs": [],
   "source": [
    "# 호선명 리스트로 추출해서 사용 \n",
    "lines = df.호선명.unique().tolist()\n",
    "df_dict = {line: df[df['호선명'] == line].copy() for line in lines}\n",
    "for line, frame in df_dict.items():\n",
    "    frame = df[df['호선명']==line].copy()   # 어떤 역할?\n",
    "    frame = frame[['사용월', '호선명', '지하철역', '승차총승객수', '하차총승객수', '승하차총승객수']]\n",
    "    frame.loc[(frame['호선명'] == '2호선') & (frame['지하철역'] == '신천'), '지하철역'] = '잠실새내'\n",
    "    frame.to_csv(f'data/main//temp_files/주중/{line}.csv',index=False,encoding='utf-8')"
   ]
  },
  {
   "cell_type": "code",
   "execution_count": null,
   "metadata": {},
   "outputs": [],
   "source": [
    "############### 수정중"
   ]
  },
  {
   "cell_type": "code",
   "execution_count": 7,
   "metadata": {},
   "outputs": [],
   "source": [
    "####### 호선 merge (파일 merge)########\n",
    "\n",
    "# 1호선:서울지하철1호선(청량리~서울역), 경원선(소요산~청량리), 경부선(서울~천안/서동탄/광명), 장항선(천안~신창), 경인선(구로~인천)\n",
    "# (공항철도 )\n",
    "# 2호선, 5호선, 6호선, 7호선, 8호선\n",
    "# 3호선: 서울지하철3호선(지축~오금), 일산선(대화~지축)\n",
    "# 4호선: 서울지하철4호선(당고개~남태령), 과천선(남태령~금정), 안산선(금정~오이도)\n",
    "# 9호선: 9호선, 9호선(2~3)단계\n",
    "# 수인분당선: 수인선(인천~수원), 분당선()\n",
    "# 경의중앙선: 경의선, 중앙선\n",
    "# 우이신설선\n",
    "path = 'data/main/temp_files/주중/'\n",
    "line_info = [\n",
    "    ([f'{path}1호선.csv', f'{path}경부선.csv', f'{path}경원선.csv', f'{path}경인선.csv', f'{path}장항선.csv'], '1호선'),\n",
    "    ([f'{path}2호선.csv'], '2호선'),\n",
    "    ([f'{path}3호선.csv', f'{path}일산선.csv'], '3호선'),\n",
    "    ([f'{path}4호선.csv', f'{path}과천선.csv', f'{path}안산선.csv'], '4호선'),\n",
    "    ([f'{path}5호선.csv'], '5호선'),\n",
    "    ([f'{path}6호선.csv'], '6호선'),\n",
    "    ([f'{path}7호선.csv'], '7호선'),\n",
    "    ([f'{path}8호선.csv'], '8호선'),\n",
    "    ([f'{path}9호선.csv', f'{path}9호선2~3단계.csv'], '9호선'),\n",
    "    ([f'{path}수인선.csv', f'{path}분당선.csv'], '수인분당선'),\n",
    "    ([f'{path}경의선.csv', f'{path}중앙선.csv'], '경의중앙선'),\n",
    "    ([f'{path}우이신설선.csv'], '우이신설선'),\n",
    "    ([f'{path}경춘선.csv'], '경춘선')\n",
    "]\n",
    "line_list = []\n",
    "for df_list, line_name in line_info:\n",
    "    df_copies = []\n",
    "    for file in df_list:\n",
    "        df = pd.read_csv(file)\n",
    "        df_copies.append(df.copy())\n",
    "    result = pd.concat(df_copies, axis=0)\n",
    "    result = result.reset_index(drop=True)\n",
    "    result.호선명 = line_name\n",
    "    cols = list(result.columns)[:3]\n",
    "    target = list(result.columns)[3:]\n",
    "    res = result.groupby(cols)[target].agg('sum').reset_index()\n",
    "    line_list.append(res)\n",
    "    res.to_csv(f'data/main//lines/주중/{line_name}.csv', index=False)\n",
    "final = pd.concat(line_list,axis=0)\n"
   ]
  },
  {
   "cell_type": "code",
   "execution_count": 8,
   "metadata": {},
   "outputs": [],
   "source": [
    "final.to_csv('data/main//lines/주중/merged_lines.csv',index=False)   # // 두개의미?"
   ]
  },
  {
   "attachments": {},
   "cell_type": "markdown",
   "metadata": {},
   "source": [
    "```주말 파일들도 똑같은 식 수행```"
   ]
  },
  {
   "cell_type": "code",
   "execution_count": 14,
   "metadata": {},
   "outputs": [],
   "source": [
    "# 주말-월ver 파일\n",
    "df_st = pd.read_csv('data/20230531_SUBWAY_MONTH_주말_월ver.csv',encoding='utf-8', sep=',')\n",
    "df_st['지하철역'] = df_st['지하철역'].str.replace('(', ' ',regex=False,).str.split().str[0]\n",
    "for i in df_st.index:\n",
    "    if df_st.loc[i, '지하철역'][-1] == '역':    # 서울역 -> 서울\n",
    "        df_st.loc[i, '지하철역'] = df_st.loc[i, '지하철역'][:-1]\n",
    "now = datetime.now()\n",
    "f_date = now.strftime('%Y%m%d')\n",
    "df_st.to_csv(f'data/{f_date}_SUBWAY_MONTH_주말_월ver.csv',index=False,encoding='utf-8') # 0601자 파일생성"
   ]
  },
  {
   "cell_type": "code",
   "execution_count": 17,
   "metadata": {},
   "outputs": [
    {
     "data": {
      "text/html": [
       "<div>\n",
       "<style scoped>\n",
       "    .dataframe tbody tr th:only-of-type {\n",
       "        vertical-align: middle;\n",
       "    }\n",
       "\n",
       "    .dataframe tbody tr th {\n",
       "        vertical-align: top;\n",
       "    }\n",
       "\n",
       "    .dataframe thead th {\n",
       "        text-align: right;\n",
       "    }\n",
       "</style>\n",
       "<table border=\"1\" class=\"dataframe\">\n",
       "  <thead>\n",
       "    <tr style=\"text-align: right;\">\n",
       "      <th></th>\n",
       "      <th>사용월</th>\n",
       "      <th>호선명</th>\n",
       "      <th>지하철역</th>\n",
       "      <th>승차총승객수</th>\n",
       "      <th>하차총승객수</th>\n",
       "      <th>승하차총승객수</th>\n",
       "      <th>주중주말</th>\n",
       "    </tr>\n",
       "  </thead>\n",
       "  <tbody>\n",
       "    <tr>\n",
       "      <th>0</th>\n",
       "      <td>202101</td>\n",
       "      <td>9호선</td>\n",
       "      <td>노들</td>\n",
       "      <td>1719</td>\n",
       "      <td>1527</td>\n",
       "      <td>3246</td>\n",
       "      <td>주말</td>\n",
       "    </tr>\n",
       "    <tr>\n",
       "      <th>1</th>\n",
       "      <td>202101</td>\n",
       "      <td>우이신설선</td>\n",
       "      <td>삼양사거리</td>\n",
       "      <td>1112</td>\n",
       "      <td>1102</td>\n",
       "      <td>2214</td>\n",
       "      <td>주말</td>\n",
       "    </tr>\n",
       "    <tr>\n",
       "      <th>2</th>\n",
       "      <td>202101</td>\n",
       "      <td>우이신설선</td>\n",
       "      <td>삼양</td>\n",
       "      <td>917</td>\n",
       "      <td>1019</td>\n",
       "      <td>1936</td>\n",
       "      <td>주말</td>\n",
       "    </tr>\n",
       "    <tr>\n",
       "      <th>3</th>\n",
       "      <td>202101</td>\n",
       "      <td>우이신설선</td>\n",
       "      <td>화계</td>\n",
       "      <td>1470</td>\n",
       "      <td>1315</td>\n",
       "      <td>2785</td>\n",
       "      <td>주말</td>\n",
       "    </tr>\n",
       "    <tr>\n",
       "      <th>4</th>\n",
       "      <td>202101</td>\n",
       "      <td>우이신설선</td>\n",
       "      <td>가오리</td>\n",
       "      <td>1653</td>\n",
       "      <td>1625</td>\n",
       "      <td>3278</td>\n",
       "      <td>주말</td>\n",
       "    </tr>\n",
       "  </tbody>\n",
       "</table>\n",
       "</div>"
      ],
      "text/plain": [
       "      사용월    호선명   지하철역  승차총승객수  하차총승객수  승하차총승객수 주중주말\n",
       "0  202101    9호선     노들    1719    1527     3246   주말\n",
       "1  202101  우이신설선  삼양사거리    1112    1102     2214   주말\n",
       "2  202101  우이신설선     삼양     917    1019     1936   주말\n",
       "3  202101  우이신설선     화계    1470    1315     2785   주말\n",
       "4  202101  우이신설선    가오리    1653    1625     3278   주말"
      ]
     },
     "execution_count": 17,
     "metadata": {},
     "output_type": "execute_result"
    }
   ],
   "source": [
    "df = pd.read_csv(f'data/{f_date}_SUBWAY_MONTH_주말_월ver.csv')\n",
    "df.head()"
   ]
  },
  {
   "cell_type": "code",
   "execution_count": 18,
   "metadata": {},
   "outputs": [
    {
     "data": {
      "text/plain": [
       "(25,\n",
       " array(['9호선', '우이신설선', '안산선', '중앙선', '장항선', '일산선', '경인선', '수인선', '분당선',\n",
       "        '과천선', '공항철도 1호선', '경춘선', '경의선', '경원선', '경부선', '경강선', '9호선2~3단계',\n",
       "        '8호선', '7호선', '6호선', '5호선', '4호선', '3호선', '2호선', '1호선'],\n",
       "       dtype=object))"
      ]
     },
     "execution_count": 18,
     "metadata": {},
     "output_type": "execute_result"
    }
   ],
   "source": [
    "df.호선명.nunique(), df.호선명.unique()"
   ]
  },
  {
   "cell_type": "code",
   "execution_count": 19,
   "metadata": {},
   "outputs": [
    {
     "data": {
      "text/plain": [
       "523"
      ]
     },
     "execution_count": 19,
     "metadata": {},
     "output_type": "execute_result"
    }
   ],
   "source": [
    "df.지하철역.nunique()"
   ]
  },
  {
   "cell_type": "code",
   "execution_count": 20,
   "metadata": {},
   "outputs": [],
   "source": [
    "# 호선명 리스트로 추출해서 사용 \n",
    "lines = df.호선명.unique().tolist()\n",
    "df_dict = {line: df[df['호선명'] == line].copy() for line in lines}\n",
    "for line, frame in df_dict.items():\n",
    "    frame = df[df['호선명']==line].copy()   # 어떤 역할?\n",
    "    frame = frame[['사용월', '호선명', '지하철역', '승차총승객수', '하차총승객수', '승하차총승객수']]\n",
    "    frame.loc[(frame['호선명'] == '2호선') & (frame['지하철역'] == '신천'), '지하철역'] = '잠실새내'\n",
    "    frame.to_csv(f'data/main//temp_files/주말/{line}.csv',index=False,encoding='utf-8')"
   ]
  },
  {
   "cell_type": "code",
   "execution_count": 21,
   "metadata": {},
   "outputs": [],
   "source": [
    "####### 호선 merge (파일 merge)########\n",
    "\n",
    "# 1호선:서울지하철1호선(청량리~서울역), 경원선(소요산~청량리), 경부선(서울~천안/서동탄/광명), 장항선(천안~신창), 경인선(구로~인천)\n",
    "# (공항철도 )\n",
    "# 2호선, 5호선, 6호선, 7호선, 8호선\n",
    "# 3호선: 서울지하철3호선(지축~오금), 일산선(대화~지축)\n",
    "# 4호선: 서울지하철4호선(당고개~남태령), 과천선(남태령~금정), 안산선(금정~오이도)\n",
    "# 9호선: 9호선, 9호선(2~3)단계\n",
    "# 수인분당선: 수인선(인천~수원), 분당선()\n",
    "# 경의중앙선: 경의선, 중앙선\n",
    "# 우이신설선\n",
    "path = 'data/main/temp_files/주말/'\n",
    "line_info = [\n",
    "    ([f'{path}1호선.csv', f'{path}경부선.csv', f'{path}경원선.csv', f'{path}경인선.csv', f'{path}장항선.csv'], '1호선'),\n",
    "    ([f'{path}2호선.csv'], '2호선'),\n",
    "    ([f'{path}3호선.csv', f'{path}일산선.csv'], '3호선'),\n",
    "    ([f'{path}4호선.csv', f'{path}과천선.csv', f'{path}안산선.csv'], '4호선'),\n",
    "    ([f'{path}5호선.csv'], '5호선'),\n",
    "    ([f'{path}6호선.csv'], '6호선'),\n",
    "    ([f'{path}7호선.csv'], '7호선'),\n",
    "    ([f'{path}8호선.csv'], '8호선'),\n",
    "    ([f'{path}9호선.csv', f'{path}9호선2~3단계.csv'], '9호선'),\n",
    "    ([f'{path}수인선.csv', f'{path}분당선.csv'], '수인분당선'),\n",
    "    ([f'{path}경의선.csv', f'{path}중앙선.csv'], '경의중앙선'),\n",
    "    ([f'{path}우이신설선.csv'], '우이신설선'),\n",
    "    ([f'{path}경춘선.csv'], '경춘선')\n",
    "]\n",
    "line_list = []\n",
    "for df_list, line_name in line_info:\n",
    "    df_copies = []\n",
    "    for file in df_list:\n",
    "        df = pd.read_csv(file)\n",
    "        df_copies.append(df.copy())\n",
    "    result = pd.concat(df_copies, axis=0)\n",
    "    result = result.reset_index(drop=True)\n",
    "    result.호선명 = line_name\n",
    "    cols = list(result.columns)[:3]\n",
    "    target = list(result.columns)[3:]\n",
    "    res = result.groupby(cols)[target].agg('sum').reset_index()\n",
    "    line_list.append(res)\n",
    "    res.to_csv(f'data/main//lines/주말/{line_name}.csv', index=False)\n",
    "final = pd.concat(line_list,axis=0)\n"
   ]
  },
  {
   "cell_type": "code",
   "execution_count": 23,
   "metadata": {},
   "outputs": [],
   "source": [
    "final.to_csv('data/main//lines/주말/merged_lines.csv',index=False)   # // 두개의미?"
   ]
  },
  {
   "cell_type": "code",
   "execution_count": null,
   "metadata": {},
   "outputs": [],
   "source": []
  }
 ],
 "metadata": {
  "kernelspec": {
   "display_name": "base",
   "language": "python",
   "name": "python3"
  },
  "language_info": {
   "codemirror_mode": {
    "name": "ipython",
    "version": 3
   },
   "file_extension": ".py",
   "mimetype": "text/x-python",
   "name": "python",
   "nbconvert_exporter": "python",
   "pygments_lexer": "ipython3",
   "version": "3.10.10"
  },
  "orig_nbformat": 4
 },
 "nbformat": 4,
 "nbformat_minor": 2
}
