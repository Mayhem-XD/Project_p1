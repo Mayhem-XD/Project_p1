{
 "cells": [
  {
   "cell_type": "code",
   "execution_count": 1,
   "metadata": {},
   "outputs": [],
   "source": [
    "import pandas as pd\n",
    "import numpy as np\n",
    "import folium\n",
    "from folium.plugins import HeatMap"
   ]
  },
  {
   "cell_type": "code",
   "execution_count": 2,
   "metadata": {},
   "outputs": [
    {
     "data": {
      "text/html": [
       "<div>\n",
       "<style scoped>\n",
       "    .dataframe tbody tr th:only-of-type {\n",
       "        vertical-align: middle;\n",
       "    }\n",
       "\n",
       "    .dataframe tbody tr th {\n",
       "        vertical-align: top;\n",
       "    }\n",
       "\n",
       "    .dataframe thead th {\n",
       "        text-align: right;\n",
       "    }\n",
       "</style>\n",
       "<table border=\"1\" class=\"dataframe\">\n",
       "  <thead>\n",
       "    <tr style=\"text-align: right;\">\n",
       "      <th></th>\n",
       "      <th>사용월</th>\n",
       "      <th>호선명</th>\n",
       "      <th>지하철역</th>\n",
       "      <th>승차총승객수</th>\n",
       "      <th>하차총승객수</th>\n",
       "      <th>승하차총승객수</th>\n",
       "    </tr>\n",
       "  </thead>\n",
       "  <tbody>\n",
       "    <tr>\n",
       "      <th>6924</th>\n",
       "      <td>202112</td>\n",
       "      <td>경춘선</td>\n",
       "      <td>천마산</td>\n",
       "      <td>8119</td>\n",
       "      <td>7892</td>\n",
       "      <td>16011</td>\n",
       "    </tr>\n",
       "    <tr>\n",
       "      <th>6925</th>\n",
       "      <td>202112</td>\n",
       "      <td>경춘선</td>\n",
       "      <td>청평</td>\n",
       "      <td>9660</td>\n",
       "      <td>9204</td>\n",
       "      <td>18864</td>\n",
       "    </tr>\n",
       "    <tr>\n",
       "      <th>6926</th>\n",
       "      <td>202112</td>\n",
       "      <td>경춘선</td>\n",
       "      <td>춘천</td>\n",
       "      <td>8941</td>\n",
       "      <td>8278</td>\n",
       "      <td>17219</td>\n",
       "    </tr>\n",
       "    <tr>\n",
       "      <th>6927</th>\n",
       "      <td>202112</td>\n",
       "      <td>경춘선</td>\n",
       "      <td>퇴계원</td>\n",
       "      <td>15928</td>\n",
       "      <td>14577</td>\n",
       "      <td>30505</td>\n",
       "    </tr>\n",
       "    <tr>\n",
       "      <th>6928</th>\n",
       "      <td>202112</td>\n",
       "      <td>경춘선</td>\n",
       "      <td>평내호평</td>\n",
       "      <td>26860</td>\n",
       "      <td>25816</td>\n",
       "      <td>52676</td>\n",
       "    </tr>\n",
       "  </tbody>\n",
       "</table>\n",
       "</div>"
      ],
      "text/plain": [
       "         사용월  호선명  지하철역  승차총승객수  하차총승객수  승하차총승객수\n",
       "6924  202112  경춘선   천마산    8119    7892    16011\n",
       "6925  202112  경춘선    청평    9660    9204    18864\n",
       "6926  202112  경춘선    춘천    8941    8278    17219\n",
       "6927  202112  경춘선   퇴계원   15928   14577    30505\n",
       "6928  202112  경춘선  평내호평   26860   25816    52676"
      ]
     },
     "execution_count": 2,
     "metadata": {},
     "output_type": "execute_result"
    }
   ],
   "source": [
    "df = pd.read_csv('data/main/lines/주말/merged_lines.csv', encoding='utf-8', sep=',')\n",
    "df.tail()"
   ]
  },
  {
   "cell_type": "code",
   "execution_count": 3,
   "metadata": {},
   "outputs": [
    {
     "data": {
      "text/html": [
       "<div>\n",
       "<style scoped>\n",
       "    .dataframe tbody tr th:only-of-type {\n",
       "        vertical-align: middle;\n",
       "    }\n",
       "\n",
       "    .dataframe tbody tr th {\n",
       "        vertical-align: top;\n",
       "    }\n",
       "\n",
       "    .dataframe thead th {\n",
       "        text-align: right;\n",
       "    }\n",
       "</style>\n",
       "<table border=\"1\" class=\"dataframe\">\n",
       "  <thead>\n",
       "    <tr style=\"text-align: right;\">\n",
       "      <th></th>\n",
       "      <th>사용월</th>\n",
       "      <th>호선명</th>\n",
       "      <th>지하철역</th>\n",
       "      <th>승차총승객수</th>\n",
       "      <th>하차총승객수</th>\n",
       "      <th>승하차총승객수</th>\n",
       "    </tr>\n",
       "  </thead>\n",
       "  <tbody>\n",
       "    <tr>\n",
       "      <th>6791</th>\n",
       "      <td>202105</td>\n",
       "      <td>경춘선</td>\n",
       "      <td>천마산</td>\n",
       "      <td>11859</td>\n",
       "      <td>11634</td>\n",
       "      <td>23493</td>\n",
       "    </tr>\n",
       "    <tr>\n",
       "      <th>6792</th>\n",
       "      <td>202105</td>\n",
       "      <td>경춘선</td>\n",
       "      <td>청평</td>\n",
       "      <td>16211</td>\n",
       "      <td>15226</td>\n",
       "      <td>31437</td>\n",
       "    </tr>\n",
       "    <tr>\n",
       "      <th>6793</th>\n",
       "      <td>202105</td>\n",
       "      <td>경춘선</td>\n",
       "      <td>춘천</td>\n",
       "      <td>16645</td>\n",
       "      <td>14719</td>\n",
       "      <td>31364</td>\n",
       "    </tr>\n",
       "    <tr>\n",
       "      <th>6794</th>\n",
       "      <td>202105</td>\n",
       "      <td>경춘선</td>\n",
       "      <td>퇴계원</td>\n",
       "      <td>22331</td>\n",
       "      <td>20932</td>\n",
       "      <td>43263</td>\n",
       "    </tr>\n",
       "    <tr>\n",
       "      <th>6795</th>\n",
       "      <td>202105</td>\n",
       "      <td>경춘선</td>\n",
       "      <td>평내호평</td>\n",
       "      <td>37568</td>\n",
       "      <td>37053</td>\n",
       "      <td>74621</td>\n",
       "    </tr>\n",
       "  </tbody>\n",
       "</table>\n",
       "</div>"
      ],
      "text/plain": [
       "         사용월  호선명  지하철역  승차총승객수  하차총승객수  승하차총승객수\n",
       "6791  202105  경춘선   천마산   11859   11634    23493\n",
       "6792  202105  경춘선    청평   16211   15226    31437\n",
       "6793  202105  경춘선    춘천   16645   14719    31364\n",
       "6794  202105  경춘선   퇴계원   22331   20932    43263\n",
       "6795  202105  경춘선  평내호평   37568   37053    74621"
      ]
     },
     "execution_count": 3,
     "metadata": {},
     "output_type": "execute_result"
    }
   ],
   "source": [
    "# df3 = df[(df['사용일자'] >= 20230101) & (df['사용일자'] < 20230106)].copy()\n",
    "\n",
    "df_test = df[(df.사용월 >= 202101)&(df.사용월 < 202106)].copy()\n",
    "df_test.tail()"
   ]
  },
  {
   "cell_type": "code",
   "execution_count": 4,
   "metadata": {},
   "outputs": [
    {
     "data": {
      "text/html": [
       "<div>\n",
       "<style scoped>\n",
       "    .dataframe tbody tr th:only-of-type {\n",
       "        vertical-align: middle;\n",
       "    }\n",
       "\n",
       "    .dataframe tbody tr th {\n",
       "        vertical-align: top;\n",
       "    }\n",
       "\n",
       "    .dataframe thead th {\n",
       "        text-align: right;\n",
       "    }\n",
       "</style>\n",
       "<table border=\"1\" class=\"dataframe\">\n",
       "  <thead>\n",
       "    <tr style=\"text-align: right;\">\n",
       "      <th></th>\n",
       "      <th>지하철역</th>\n",
       "      <th>승차총승객수</th>\n",
       "      <th>하차총승객수</th>\n",
       "      <th>승하차총승객수</th>\n",
       "    </tr>\n",
       "  </thead>\n",
       "  <tbody>\n",
       "    <tr>\n",
       "      <th>6791</th>\n",
       "      <td>천마산</td>\n",
       "      <td>11859</td>\n",
       "      <td>11634</td>\n",
       "      <td>23493</td>\n",
       "    </tr>\n",
       "    <tr>\n",
       "      <th>6792</th>\n",
       "      <td>청평</td>\n",
       "      <td>16211</td>\n",
       "      <td>15226</td>\n",
       "      <td>31437</td>\n",
       "    </tr>\n",
       "    <tr>\n",
       "      <th>6793</th>\n",
       "      <td>춘천</td>\n",
       "      <td>16645</td>\n",
       "      <td>14719</td>\n",
       "      <td>31364</td>\n",
       "    </tr>\n",
       "    <tr>\n",
       "      <th>6794</th>\n",
       "      <td>퇴계원</td>\n",
       "      <td>22331</td>\n",
       "      <td>20932</td>\n",
       "      <td>43263</td>\n",
       "    </tr>\n",
       "    <tr>\n",
       "      <th>6795</th>\n",
       "      <td>평내호평</td>\n",
       "      <td>37568</td>\n",
       "      <td>37053</td>\n",
       "      <td>74621</td>\n",
       "    </tr>\n",
       "  </tbody>\n",
       "</table>\n",
       "</div>"
      ],
      "text/plain": [
       "      지하철역  승차총승객수  하차총승객수  승하차총승객수\n",
       "6791   천마산   11859   11634    23493\n",
       "6792    청평   16211   15226    31437\n",
       "6793    춘천   16645   14719    31364\n",
       "6794   퇴계원   22331   20932    43263\n",
       "6795  평내호평   37568   37053    74621"
      ]
     },
     "execution_count": 4,
     "metadata": {},
     "output_type": "execute_result"
    }
   ],
   "source": [
    "df_test.drop(columns=['호선명','사용월'],inplace=True)\n",
    "df_test.tail()"
   ]
  },
  {
   "cell_type": "code",
   "execution_count": 5,
   "metadata": {},
   "outputs": [
    {
     "data": {
      "text/html": [
       "<div>\n",
       "<style scoped>\n",
       "    .dataframe tbody tr th:only-of-type {\n",
       "        vertical-align: middle;\n",
       "    }\n",
       "\n",
       "    .dataframe tbody tr th {\n",
       "        vertical-align: top;\n",
       "    }\n",
       "\n",
       "    .dataframe thead th {\n",
       "        text-align: right;\n",
       "    }\n",
       "</style>\n",
       "<table border=\"1\" class=\"dataframe\">\n",
       "  <thead>\n",
       "    <tr style=\"text-align: right;\">\n",
       "      <th></th>\n",
       "      <th>지하철역</th>\n",
       "      <th>승하차총승객수</th>\n",
       "    </tr>\n",
       "  </thead>\n",
       "  <tbody>\n",
       "    <tr>\n",
       "      <th>0</th>\n",
       "      <td>가능</td>\n",
       "      <td>62123</td>\n",
       "    </tr>\n",
       "    <tr>\n",
       "      <th>1</th>\n",
       "      <td>가산디지털단지</td>\n",
       "      <td>86019</td>\n",
       "    </tr>\n",
       "    <tr>\n",
       "      <th>2</th>\n",
       "      <td>간석</td>\n",
       "      <td>50732</td>\n",
       "    </tr>\n",
       "    <tr>\n",
       "      <th>3</th>\n",
       "      <td>개봉</td>\n",
       "      <td>196659</td>\n",
       "    </tr>\n",
       "    <tr>\n",
       "      <th>4</th>\n",
       "      <td>관악</td>\n",
       "      <td>69852</td>\n",
       "    </tr>\n",
       "  </tbody>\n",
       "</table>\n",
       "</div>"
      ],
      "text/plain": [
       "      지하철역  승하차총승객수\n",
       "0       가능    62123\n",
       "1  가산디지털단지    86019\n",
       "2       간석    50732\n",
       "3       개봉   196659\n",
       "4       관악    69852"
      ]
     },
     "execution_count": 5,
     "metadata": {},
     "output_type": "execute_result"
    }
   ],
   "source": [
    "df_test = df_test[['지하철역','승하차총승객수']]\n",
    "df_test.head()"
   ]
  },
  {
   "attachments": {},
   "cell_type": "markdown",
   "metadata": {},
   "source": [
    "``` lat, lng 추가작업하고 아래부터 시작하기```"
   ]
  },
  {
   "cell_type": "code",
   "execution_count": null,
   "metadata": {},
   "outputs": [],
   "source": [
    "# res = result.groupby(cols)[target].agg('sum').reset_index()\n",
    "df_test.groupby(['지하철역'])[['lat','lng','출근시간 승차인원']].agg('mean').reset_index()\n",
    "df_test.head()"
   ]
  },
  {
   "cell_type": "code",
   "execution_count": null,
   "metadata": {},
   "outputs": [],
   "source": [
    "df_test.drop(columns=['지하철역'],inplace=True)\n",
    "df_test.head()"
   ]
  },
  {
   "cell_type": "code",
   "execution_count": null,
   "metadata": {},
   "outputs": [],
   "source": [
    "target = '새벽 승차인원'\n",
    "df_test = df[(df.사용월 >= 201501)&(df.사용월 < 202001)].copy()\n",
    "df_test.drop(columns=['호선명','사용월'],inplace=True)\n",
    "df_test = df_test[['지하철역','lat','lng',target]]\n",
    "df_test.groupby(['지하철역'])[['lat','lng',target]].agg('mean').reset_index()\n",
    "df_test.drop(columns=['지하철역'],inplace=True)\n",
    "m = folium.Map(location=[37.394946, 127.111104], zoom_start=11)\n",
    "data = df_test\n",
    "HeatMap(data).add_to(m)\n",
    "title_html = f'<h3 align=\"center\" style=\"font-size:20px\">{target}</h3>'\n",
    "m.get_root().html.add_child(folium.Element(title_html))\n",
    "m"
   ]
  },
  {
   "cell_type": "code",
   "execution_count": null,
   "metadata": {},
   "outputs": [],
   "source": [
    "df = pd.read_csv('../line2_test.csv')"
   ]
  },
  {
   "cell_type": "code",
   "execution_count": null,
   "metadata": {},
   "outputs": [],
   "source": [
    "target = '출근시간 승차인원'\n",
    "df_test = df[(df.사용월 >= 201501)&(df.사용월 < 202001)].copy()\n",
    "df_test.drop(columns=['호선명','사용월'],inplace=True)\n",
    "df_test = df_test[['지하철역','lat','lng',target]]\n",
    "df_test.groupby(['지하철역'])[['lat','lng',target]].agg('mean').reset_index()\n",
    "df_test.drop(columns=['지하철역'],inplace=True)\n",
    "m = folium.Map(location=[37.394946, 127.111104], zoom_start=11)\n",
    "data = df_test\n",
    "HeatMap(data).add_to(m)\n",
    "popup = folium.LatLngPopup() # 좌표\n",
    "m.add_child(popup) # 찍는 코드\n",
    "title_html = f'<h3 align=\"center\" style=\"font-size:20px\">{target}</h3>'\n",
    "m.get_root().html.add_child(folium.Element(title_html))\n",
    "m"
   ]
  },
  {
   "cell_type": "code",
   "execution_count": null,
   "metadata": {},
   "outputs": [],
   "source": [
    "# 여기서 부터 사용할 코드\n",
    "# 히트맵으로 사용할\n",
    "df = pd.read_csv('../data/main/heatmap_files/lines_4heatmap.csv')"
   ]
  },
  {
   "cell_type": "code",
   "execution_count": null,
   "metadata": {},
   "outputs": [],
   "source": [
    "target = '출근시간 승차인원'\n",
    "start_month = 201501\n",
    "end_month = 202001\n",
    "line = '9호선'"
   ]
  },
  {
   "cell_type": "code",
   "execution_count": null,
   "metadata": {},
   "outputs": [],
   "source": [
    "df_test = df[(df.호선명 == line)&(df.사용월 >= start_month)&(df.사용월 < end_month)].copy()\n",
    "df_test.drop(columns=['호선명','사용월'],inplace=True)\n",
    "df_test = df_test[['지하철역','lat','lng',target]]\n",
    "df_test.groupby(['지하철역'])[['lat','lng',target]].agg('mean').reset_index()\n",
    "df_test.drop(columns=['지하철역'],inplace=True)\n",
    "m = folium.Map(location=[37.394946, 127.111104], zoom_start=11)\n",
    "data = df_test\n",
    "HeatMap(data).add_to(m)\n",
    "title_html = f'<h3 align=\"center\" style=\"font-size:20px\">{line} {start_month} - {end_month} 기간 {target}</h3>'\n",
    "m.get_root().html.add_child(folium.Element(title_html))\n",
    "m"
   ]
  },
  {
   "cell_type": "code",
   "execution_count": null,
   "metadata": {},
   "outputs": [],
   "source": [
    "df.isna().sum()"
   ]
  },
  {
   "cell_type": "code",
   "execution_count": null,
   "metadata": {},
   "outputs": [],
   "source": [
    "# 봉은사\n",
    "# 삼성중앙\n",
    "# 언주"
   ]
  },
  {
   "cell_type": "code",
   "execution_count": null,
   "metadata": {},
   "outputs": [],
   "source": [
    "df_test2 = df[df.호선명 == '9호선'].copy()\n",
    "df_test2"
   ]
  },
  {
   "cell_type": "code",
   "execution_count": null,
   "metadata": {},
   "outputs": [],
   "source": [
    "df_test2.지하철역.unique()"
   ]
  },
  {
   "cell_type": "code",
   "execution_count": null,
   "metadata": {},
   "outputs": [],
   "source": []
  }
 ],
 "metadata": {
  "kernelspec": {
   "display_name": "base",
   "language": "python",
   "name": "python3"
  },
  "language_info": {
   "codemirror_mode": {
    "name": "ipython",
    "version": 3
   },
   "file_extension": ".py",
   "mimetype": "text/x-python",
   "name": "python",
   "nbconvert_exporter": "python",
   "pygments_lexer": "ipython3",
   "version": "3.10.10"
  },
  "orig_nbformat": 4
 },
 "nbformat": 4,
 "nbformat_minor": 2
}
