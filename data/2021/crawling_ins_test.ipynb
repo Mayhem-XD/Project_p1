{
 "cells": [
  {
   "cell_type": "code",
   "execution_count": null,
   "metadata": {},
   "outputs": [],
   "source": [
    "from selenium import webdriver\n",
    "from bs4 import BeautifulSoup"
   ]
  },
  {
   "cell_type": "code",
   "execution_count": null,
   "metadata": {},
   "outputs": [],
   "source": [
    "chrome_driver_path = 'chromedriver.exe'\n",
    "browser = webdriver.Chrome(chrome_driver_path)"
   ]
  },
  {
   "cell_type": "code",
   "execution_count": null,
   "metadata": {},
   "outputs": [],
   "source": [
    "url = 'https://www.instagram.com/'\n",
    "browser.get(url)"
   ]
  },
  {
   "cell_type": "code",
   "execution_count": null,
   "metadata": {},
   "outputs": [],
   "source": [
    "id_selector = \"#loginForm > div > div:nth-child(1) > div > label > input\""
   ]
  },
  {
   "cell_type": "code",
   "execution_count": null,
   "metadata": {},
   "outputs": [],
   "source": [
    "soup = BeautifulSoup(browser.page_source, 'html.parser')\n",
    "button = soup.find('button')"
   ]
  },
  {
   "cell_type": "code",
   "execution_count": null,
   "metadata": {},
   "outputs": [],
   "source": [
    "webdriver_element = browser.find_element_by_tag_name(str(button.name))"
   ]
  },
  {
   "cell_type": "code",
   "execution_count": null,
   "metadata": {},
   "outputs": [],
   "source": [
    "webdriver_element.click()"
   ]
  },
  {
   "cell_type": "code",
   "execution_count": null,
   "metadata": {},
   "outputs": [],
   "source": [
    "# .click() 메소드는 Selenium에서 제공하는 메소드로, WebElement 객체에서만 사용할 수 있습니다.\n",
    "#따라서, BeautifulSoup로 찾은 태그에서 클릭 이벤트를 발생시키려면 Selenium WebDriver의 find_element 메소드를 사용하여 WebElement 객체를 얻은 후에 .click() 메소드를 사용해야 합니다.\n",
    "## 위 코드에서 soup 변수에 저장된 BeautifulSoup 객체에서 버튼 태그를 찾은 후, 이 태그를 find_element_by_tag_name 메소드를 사용하여 WebElement 객체로 변환하였습니다. 이후 .click() 메소드를 사용하여 원하는 클릭 이벤트를 발생시킬 수 있습니다.\n",
    "# 참고로, 웹 페이지가 동적으로 로딩되는 경우, browser.page_source 메소드를 사용하여 현재 페이지의 소스코드를 가져올 때, "
   ]
  },
  {
   "cell_type": "code",
   "execution_count": null,
   "metadata": {},
   "outputs": [],
   "source": [
    "###########################################################\n",
    "############# selenium #################################\n",
    "import time\n",
    "import chromedriver_autoinstaller\n",
    "chromedriver_autoinstaller.install()\n",
    "from selenium import webdriver\n",
    "from selenium.webdriver.common.by import By\n",
    "from selenium.webdriver.support.ui import WebDriverWait\n",
    "from selenium.webdriver.support import expected_conditions as EC\n",
    "from selenium.webdriver.common.keys import Keys\n",
    "from selenium.webdriver import ActionChains\n",
    "driver = webdriver.Chrome()\n",
    "driver.get(\"https://www.instagram.com/\")# time.sleep(2)"
   ]
  },
  {
   "cell_type": "code",
   "execution_count": null,
   "metadata": {},
   "outputs": [],
   "source": [
    "id_selector = \"#loginForm > div > div:nth-child(1) > div > label > input\"\n",
    "\n",
    "WebDriverWait(driver, 10).until(EC.presence_of_element_located(\n",
    "(By.CSS_SELECTOR, id_selector)\n",
    "))\n",
    "import mdata\n",
    "id_input = driver.find_element(By.CSS_SELECTOR,id_selector)\n",
    "id_input.send_keys(mdata.id)\n",
    "time.sleep(1)\n",
    "pw_selector = \"#loginForm > div > div:nth-child(2) > div > label > input\"\n",
    "pw_input = driver.find_element(By.CSS_SELECTOR,pw_selector)\n",
    "pw_input.send_keys(mdata.pw)\n",
    "time.sleep(1)\n",
    "login_btn_selector = \"#loginForm > div > div:nth-child(3) > button\"\n",
    "login_btn = driver.find_element(By.CSS_SELECTOR, login_btn_selector)\n",
    "login_btn.click()time.sleep(10)"
   ]
  },
  {
   "cell_type": "code",
   "execution_count": null,
   "metadata": {},
   "outputs": [],
   "source": [
    "from urllib import parse\n",
    "\n",
    "keyword = \"사업가\"\n",
    "keyword = parse.quote(keyword)  # 검색 클릭은 CSS_SECLECTOR가 계속 변경됨\n",
    "driver.get(f\"https://www.instagram.com/explore/tags/{keyword}/\")\n",
    "time.sleep(10)\n",
    "all_posting_sel = \"div[id^='mount_0_0'] > div > div > div.x9f619.x1n2onr6.x1ja2u2z > div > div > div > div.x78zum5.xdt5ytf.x10cihs4.x1t2pt76.x1n2onr6.x1ja2u2z > div.x9f619.xnz67gz.x78zum5.x168nmei.x13lgxp2.x5pf9jr.xo71vjh.x1uhb9sk.x1plvlek.xryxfnj.x1c4vz4f.x2lah0s.x1q0g3np.xqjyukv.x1qjc9v5.x1oa3qoh.x1qughib > div.xh8yej3.x1gryazu.x10o80wk.x14k21rp.x1porb0y.x17snn68.x6osk4m > section > main > article > div:nth-child(3) > div\"\n",
    "time.sleep(3)\n",
    "all_posting_box = driver.find_element(By.CSS_SELECTOR, all_posting_sel)\n",
    "time.sleep(3)"
   ]
  },
  {
   "cell_type": "code",
   "execution_count": null,
   "metadata": {},
   "outputs": [],
   "source": [
    "'''링크 100개 추출'''\n",
    "\n",
    "links = []\n",
    "\n",
    "while len(links) < 100 :\n",
    "    \n",
    "    for _ in range(6):\n",
    "        driver.execute_script(\"window.scrollBy(0.600);\")\n",
    "        time.sleep(1)\n",
    "        all_posting_box = driver.find_element(By.CSS_SELECTOR, all_posting_sel)\n",
    "        posk_links = all_posting_box.find_elements(By.TAG_NAME,\"a\")\n",
    "    for eachLink in posk_links:\n",
    "        link = eachLink.get_attribute('href')\n",
    "        links.append(link)\n",
    "        links = set(links)\n",
    "        links = list(links)\n",
    "    for link in links:\n",
    "        print(link)\n",
    "        print(\"******\")\n",
    "        print(len(links), \"개의 링크를 추출\")\n",
    "input()"
   ]
  },
  {
   "cell_type": "code",
   "execution_count": null,
   "metadata": {},
   "outputs": [],
   "source": [
    "------------------------------------------------------\n",
    "DevTools listening on ws://127.0.0.1:50287/devtools/browser/ed0f17f2-033d-4ba2-80b8-8f3d2f886171\n",
    "Traceback (most recent call last):\n",
    "File \"c:\\Users\\내파일경로\\Desktop\\project\\insta_auto\\insta_web.py\", line 50, in <module>\n",
    "all_posting_box = driver.find_element(By.CSS_SELECTOR, all_posting_sel)\n",
    "^^^^^^^^^^^^^^^^^^^^^^^^^^^^^^^^^^^^^^^^^^^^^^^^^^^^^\n",
    "File \"C:\\Users\\내파일경로\\AppData\\Local\\Programs\\Python\\Python311\\Lib\\site-packages\\selenium\\webdriver\\remote\\webdriver.py\", line 831, in find_element\n",
    "return self.execute(Command.FIND_ELEMENT, {\"using\": by, \"value\": value})[\"value\"]\n",
    "^^^^^^^^^^^^^^^^^^^^^^^^^^^^^^^^^^^^^^^^^^^^^^^^^^^^^^^^^^^^^^^^^\n",
    "File \"C:\\Users\\내파일경로\\AppData\\Local\\Programs\\Python\\Python311\\Lib\\site-packages\\selenium\\webdriver\\remote\\webdriver.py\", line 440, in execute\n",
    "self.error_handler.check_response(response)\n",
    "File \"C:\\Users\\내파일경로\\AppData\\Local\\Programs\\Python\\Python311\\Lib\\site-packages\\selenium\\webdriver\\remote\\errorhandler.py\", line 245, in check_response\n",
    "raise exception_class(message, screen, stacktrace)\n",
    "# selenium.common.exceptions.InvalidSelectorException: Message: invalid selector: An invalid or illegal selector was specified\n",
    "# (Session info: chrome=113.0.5672.127)\n",
    "# Stacktrace:\n",
    "# Backtrace:\n",
    "# GetHandleVerifier [0x005C6DF3+48691]\n",
    "# (No symbol) [0x00558CC1]\n",
    "# (No symbol) [0x00465068]\n",
    "# (No symbol) [0x00468401]\n",
    "# (No symbol) [0x00469641]\n",
    "# (No symbol) [0x004696E0]\n",
    "# (No symbol) [0x004900D0]\n",
    "# (No symbol) [0x004906AB]\n",
    "# (No symbol) [0x004BDD62]\n",
    "# (No symbol) [0x004AA314]\n",
    "# (No symbol) [0x004BC452]\n",
    "# (No symbol) [0x004AA0C6]\n",
    "# (No symbol) [0x00487E18]\n",
    "# (No symbol) [0x00488F3D]\n",
    "# GetHandleVerifier [0x00824EAA+2531050]\n",
    "# GetHandleVerifier [0x00864B60+2792352]\n",
    "# GetHandleVerifier [0x0085E6EC+2766636]\n",
    "# GetHandleVerifier [0x00650820+612448]\n",
    "# (No symbol) [0x005625BC]\n",
    "# (No symbol) [0x0055E808]\n",
    "# (No symbol) [0x0055E8EB]\n",
    "# (No symbol) [0x00551C77]\n",
    "# BaseThreadInitThunk [0x754900C9+25]\n",
    "# RtlGetAppContainerNamedObjectPath [0x772E7B4E+286]\n",
    "# RtlGetAppContainerNamedObjectPath [0x772E7B1E+238]"
   ]
  }
 ],
 "metadata": {
  "language_info": {
   "name": "python"
  },
  "orig_nbformat": 4
 },
 "nbformat": 4,
 "nbformat_minor": 2
}
