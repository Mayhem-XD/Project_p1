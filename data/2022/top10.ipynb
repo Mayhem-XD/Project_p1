{
 "cells": [
  {
   "cell_type": "code",
   "execution_count": 1,
   "metadata": {},
   "outputs": [
    {
     "name": "stdout",
     "output_type": "stream",
     "text": [
      "승차 총승객수가 많은 상위 10개 데이터:\n",
      "역명: 강남\n",
      "승차 총승객수: 27283278\n",
      "\n",
      "역명: 잠실\n",
      "승차 총승객수: 26049379\n",
      "\n",
      "역명: 홍대입구\n",
      "승차 총승객수: 25708362\n",
      "\n",
      "역명: 신림\n",
      "승차 총승객수: 24913765\n",
      "\n",
      "역명: 신도림\n",
      "승차 총승객수: 24558990\n",
      "\n",
      "역명: 삼성\n",
      "승차 총승객수: 24371213\n",
      "\n",
      "역명: 구로디지털단지\n",
      "승차 총승객수: 24332054\n",
      "\n",
      "역명: 서울\n",
      "승차 총승객수: 24261126\n",
      "\n",
      "역명: 고속터미널\n",
      "승차 총승객수: 24172714\n",
      "\n",
      "역명: 신촌\n",
      "승차 총승객수: 23743342\n",
      "\n"
     ]
    }
   ],
   "source": [
    "import csv\n",
    "\n",
    "with open('D:/workspace/팀프로젝트/총_승객수.csv', 'r') as file:\n",
    "    csv_reader = csv.reader(file)\n",
    "    next(csv_reader) \n",
    "    data = list(csv_reader)\n",
    "\n",
    "sorted_data = sorted(data, key=lambda row: int(row[3]), reverse=True)\n",
    "unique_stations = set()\n",
    "top_10 = []\n",
    "\n",
    "for row in sorted_data:\n",
    "    if row[2] not in unique_stations:\n",
    "        top_10.append(row)\n",
    "        unique_stations.add(row[2])\n",
    "    \n",
    "    if len(top_10) == 10:\n",
    "        break\n",
    "\n",
    "print(\"승차 총승객수가 많은 상위 10개 데이터:\")\n",
    "for row in top_10:\n",
    "    print(\"역명:\", row[2])\n",
    "    print(\"승차 총승객수:\", row[3])\n",
    "    print()\n"
   ]
  },
  {
   "cell_type": "code",
   "execution_count": null,
   "metadata": {},
   "outputs": [],
   "source": []
  }
 ],
 "metadata": {
  "kernelspec": {
   "display_name": "base",
   "language": "python",
   "name": "python3"
  },
  "language_info": {
   "codemirror_mode": {
    "name": "ipython",
    "version": 3
   },
   "file_extension": ".py",
   "mimetype": "text/x-python",
   "name": "python",
   "nbconvert_exporter": "python",
   "pygments_lexer": "ipython3",
   "version": "3.10.10"
  },
  "orig_nbformat": 4
 },
 "nbformat": 4,
 "nbformat_minor": 2
}
