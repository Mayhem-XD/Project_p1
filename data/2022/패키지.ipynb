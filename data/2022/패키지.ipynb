{
 "cells": [
  {
   "cell_type": "code",
   "execution_count": 1,
   "metadata": {},
   "outputs": [],
   "source": [
    "import pandas as pd"
   ]
  },
  {
   "cell_type": "code",
   "execution_count": 2,
   "metadata": {},
   "outputs": [
    {
     "data": {
      "text/html": [
       "<div>\n",
       "<style scoped>\n",
       "    .dataframe tbody tr th:only-of-type {\n",
       "        vertical-align: middle;\n",
       "    }\n",
       "\n",
       "    .dataframe tbody tr th {\n",
       "        vertical-align: top;\n",
       "    }\n",
       "\n",
       "    .dataframe thead th {\n",
       "        text-align: right;\n",
       "    }\n",
       "</style>\n",
       "<table border=\"1\" class=\"dataframe\">\n",
       "  <thead>\n",
       "    <tr style=\"text-align: right;\">\n",
       "      <th></th>\n",
       "      <th>사용일자</th>\n",
       "      <th>노선명</th>\n",
       "      <th>역명</th>\n",
       "      <th>승차총승객수</th>\n",
       "      <th>하차총승객수</th>\n",
       "    </tr>\n",
       "  </thead>\n",
       "  <tbody>\n",
       "    <tr>\n",
       "      <th>0</th>\n",
       "      <td>20220101</td>\n",
       "      <td>3호선</td>\n",
       "      <td>수서</td>\n",
       "      <td>7370</td>\n",
       "      <td>7076</td>\n",
       "    </tr>\n",
       "    <tr>\n",
       "      <th>1</th>\n",
       "      <td>20220101</td>\n",
       "      <td>3호선</td>\n",
       "      <td>학여울</td>\n",
       "      <td>461</td>\n",
       "      <td>473</td>\n",
       "    </tr>\n",
       "    <tr>\n",
       "      <th>2</th>\n",
       "      <td>20220101</td>\n",
       "      <td>3호선</td>\n",
       "      <td>대청</td>\n",
       "      <td>3224</td>\n",
       "      <td>2903</td>\n",
       "    </tr>\n",
       "    <tr>\n",
       "      <th>3</th>\n",
       "      <td>20220101</td>\n",
       "      <td>3호선</td>\n",
       "      <td>일원</td>\n",
       "      <td>3321</td>\n",
       "      <td>2803</td>\n",
       "    </tr>\n",
       "    <tr>\n",
       "      <th>4</th>\n",
       "      <td>20220101</td>\n",
       "      <td>경원선</td>\n",
       "      <td>창동</td>\n",
       "      <td>1</td>\n",
       "      <td>0</td>\n",
       "    </tr>\n",
       "  </tbody>\n",
       "</table>\n",
       "</div>"
      ],
      "text/plain": [
       "       사용일자  노선명   역명  승차총승객수  하차총승객수\n",
       "0  20220101  3호선   수서    7370    7076\n",
       "1  20220101  3호선  학여울     461     473\n",
       "2  20220101  3호선   대청    3224    2903\n",
       "3  20220101  3호선   일원    3321    2803\n",
       "4  20220101  경원선   창동       1       0"
      ]
     },
     "execution_count": 2,
     "metadata": {},
     "output_type": "execute_result"
    }
   ],
   "source": [
    "df = pd.read_csv('D:/data/2022_data.csv')\n",
    "df.drop(columns=['등록일자'],inplace=True)\n",
    "df.head()"
   ]
  },
  {
   "attachments": {},
   "cell_type": "markdown",
   "metadata": {},
   "source": [
    "### 1월\n"
   ]
  },
  {
   "cell_type": "code",
   "execution_count": 3,
   "metadata": {},
   "outputs": [],
   "source": [
    "cols = list(df.columns)[:3]\n",
    "target = list(df.columns)[3:]\n",
    "df_list = []\n",
    "# 반복문에 해당되지 않는 범위는 수동으로 구해서 \n",
    "for i in range(3, 25, 7): # 사용할때 여기 수정 해당 월에 맞게   여긴 1월2일이 월요일이라 2일 부터 시작 30,31일 데이터는 추가로 더해야함\n",
    "    start_date = 20220100 + i   # 여기도 조건에 맞게 수정\n",
    "    end_date = start_date + 5\n",
    "    df_temp = df[(df['사용일자'] >= start_date) & (df['사용일자'] < end_date)].copy()\n",
    "    df_temp = df_temp.groupby(cols)[target].agg('sum').reset_index()\n",
    "    df_list.append(df_temp)\n",
    "df_1 = pd.concat(df_list, axis=0)\n",
    "df_1['사용일자'] = 202201\n",
    "\n",
    "df_1 = df_1.groupby(cols)[target].agg('sum').reset_index()"
   ]
  },
  {
   "cell_type": "code",
   "execution_count": 4,
   "metadata": {},
   "outputs": [
    {
     "data": {
      "text/html": [
       "<div>\n",
       "<style scoped>\n",
       "    .dataframe tbody tr th:only-of-type {\n",
       "        vertical-align: middle;\n",
       "    }\n",
       "\n",
       "    .dataframe tbody tr th {\n",
       "        vertical-align: top;\n",
       "    }\n",
       "\n",
       "    .dataframe thead th {\n",
       "        text-align: right;\n",
       "    }\n",
       "</style>\n",
       "<table border=\"1\" class=\"dataframe\">\n",
       "  <thead>\n",
       "    <tr style=\"text-align: right;\">\n",
       "      <th></th>\n",
       "      <th>사용일자</th>\n",
       "      <th>노선명</th>\n",
       "      <th>역명</th>\n",
       "      <th>승차총승객수</th>\n",
       "      <th>하차총승객수</th>\n",
       "    </tr>\n",
       "  </thead>\n",
       "  <tbody>\n",
       "    <tr>\n",
       "      <th>0</th>\n",
       "      <td>202201</td>\n",
       "      <td>1호선</td>\n",
       "      <td>동대문</td>\n",
       "      <td>204145</td>\n",
       "      <td>189264</td>\n",
       "    </tr>\n",
       "    <tr>\n",
       "      <th>1</th>\n",
       "      <td>202201</td>\n",
       "      <td>1호선</td>\n",
       "      <td>동묘앞</td>\n",
       "      <td>136976</td>\n",
       "      <td>142877</td>\n",
       "    </tr>\n",
       "    <tr>\n",
       "      <th>2</th>\n",
       "      <td>202201</td>\n",
       "      <td>1호선</td>\n",
       "      <td>서울역</td>\n",
       "      <td>833080</td>\n",
       "      <td>798951</td>\n",
       "    </tr>\n",
       "    <tr>\n",
       "      <th>3</th>\n",
       "      <td>202201</td>\n",
       "      <td>1호선</td>\n",
       "      <td>시청</td>\n",
       "      <td>428112</td>\n",
       "      <td>429602</td>\n",
       "    </tr>\n",
       "    <tr>\n",
       "      <th>4</th>\n",
       "      <td>202201</td>\n",
       "      <td>1호선</td>\n",
       "      <td>신설동</td>\n",
       "      <td>268909</td>\n",
       "      <td>260364</td>\n",
       "    </tr>\n",
       "  </tbody>\n",
       "</table>\n",
       "</div>"
      ],
      "text/plain": [
       "     사용일자  노선명   역명  승차총승객수  하차총승객수\n",
       "0  202201  1호선  동대문  204145  189264\n",
       "1  202201  1호선  동묘앞  136976  142877\n",
       "2  202201  1호선  서울역  833080  798951\n",
       "3  202201  1호선   시청  428112  429602\n",
       "4  202201  1호선  신설동  268909  260364"
      ]
     },
     "execution_count": 4,
     "metadata": {},
     "output_type": "execute_result"
    }
   ],
   "source": [
    "df_1.head()"
   ]
  },
  {
   "cell_type": "code",
   "execution_count": 5,
   "metadata": {},
   "outputs": [
    {
     "data": {
      "text/plain": [
       "(609, 5)"
      ]
     },
     "execution_count": 5,
     "metadata": {},
     "output_type": "execute_result"
    }
   ],
   "source": [
    "df_1.shape"
   ]
  },
  {
   "cell_type": "code",
   "execution_count": 6,
   "metadata": {},
   "outputs": [],
   "source": [
    "# 이렇게 12개월치 구한거\n",
    "# df_res_list = [df_1,df_2,df_3 ....df_12] 리스트 안에 넣음\n",
    "# df_res = pd.concat(df_res_list, axis=0) 합침\n",
    "# 이거에 이제 역명 '(' 지우고 하는 작업하고\n",
    "# 호선별로 나눈다음에\n",
    "# line_merge 코드 짜둔거 사용해서 합치면 됨"
   ]
  },
  {
   "cell_type": "code",
   "execution_count": 7,
   "metadata": {},
   "outputs": [
    {
     "data": {
      "text/plain": [
       "(597, 5)"
      ]
     },
     "execution_count": 7,
     "metadata": {},
     "output_type": "execute_result"
    }
   ],
   "source": [
    "# 수동\n",
    "df1 = df[(df.사용일자 >= 20220131)&(df.사용일자 < 20220201)].copy()\n",
    "df1.groupby(cols)[target].agg('sum').reset_index()\n",
    "df1.shape"
   ]
  },
  {
   "cell_type": "code",
   "execution_count": 8,
   "metadata": {},
   "outputs": [
    {
     "data": {
      "text/html": [
       "<div>\n",
       "<style scoped>\n",
       "    .dataframe tbody tr th:only-of-type {\n",
       "        vertical-align: middle;\n",
       "    }\n",
       "\n",
       "    .dataframe tbody tr th {\n",
       "        vertical-align: top;\n",
       "    }\n",
       "\n",
       "    .dataframe thead th {\n",
       "        text-align: right;\n",
       "    }\n",
       "</style>\n",
       "<table border=\"1\" class=\"dataframe\">\n",
       "  <thead>\n",
       "    <tr style=\"text-align: right;\">\n",
       "      <th></th>\n",
       "      <th>사용일자</th>\n",
       "      <th>노선명</th>\n",
       "      <th>역명</th>\n",
       "      <th>승차총승객수</th>\n",
       "      <th>하차총승객수</th>\n",
       "    </tr>\n",
       "  </thead>\n",
       "  <tbody>\n",
       "    <tr>\n",
       "      <th>18516</th>\n",
       "      <td>20220131</td>\n",
       "      <td>우이신설선</td>\n",
       "      <td>솔밭공원</td>\n",
       "      <td>975</td>\n",
       "      <td>966</td>\n",
       "    </tr>\n",
       "    <tr>\n",
       "      <th>18517</th>\n",
       "      <td>20220131</td>\n",
       "      <td>우이신설선</td>\n",
       "      <td>북한산우이</td>\n",
       "      <td>1641</td>\n",
       "      <td>1683</td>\n",
       "    </tr>\n",
       "    <tr>\n",
       "      <th>18518</th>\n",
       "      <td>20220131</td>\n",
       "      <td>안산선</td>\n",
       "      <td>수리산</td>\n",
       "      <td>1333</td>\n",
       "      <td>1225</td>\n",
       "    </tr>\n",
       "    <tr>\n",
       "      <th>18519</th>\n",
       "      <td>20220131</td>\n",
       "      <td>안산선</td>\n",
       "      <td>오이도</td>\n",
       "      <td>3753</td>\n",
       "      <td>3975</td>\n",
       "    </tr>\n",
       "    <tr>\n",
       "      <th>18520</th>\n",
       "      <td>20220131</td>\n",
       "      <td>안산선</td>\n",
       "      <td>정왕</td>\n",
       "      <td>3878</td>\n",
       "      <td>3739</td>\n",
       "    </tr>\n",
       "  </tbody>\n",
       "</table>\n",
       "</div>"
      ],
      "text/plain": [
       "           사용일자    노선명     역명  승차총승객수  하차총승객수\n",
       "18516  20220131  우이신설선   솔밭공원     975     966\n",
       "18517  20220131  우이신설선  북한산우이    1641    1683\n",
       "18518  20220131    안산선    수리산    1333    1225\n",
       "18519  20220131    안산선    오이도    3753    3975\n",
       "18520  20220131    안산선     정왕    3878    3739"
      ]
     },
     "execution_count": 8,
     "metadata": {},
     "output_type": "execute_result"
    }
   ],
   "source": [
    "df_1 = pd.concat([df_1, df1], axis=0)\n",
    "df_1.tail()"
   ]
  },
  {
   "attachments": {},
   "cell_type": "markdown",
   "metadata": {},
   "source": [
    "### 2월"
   ]
  },
  {
   "cell_type": "code",
   "execution_count": 9,
   "metadata": {},
   "outputs": [],
   "source": [
    "cols = list(df.columns)[:3]\n",
    "target = list(df.columns)[3:]\n",
    "df_list = []\n",
    "# 반복문에 해당되지 않는 범위는 수동으로 구해서 \n",
    "for i in range(7, 22, 7): # 사용할때 여기 수정 해당 월에 맞게   여긴 1월2일이 월요일이라 2일 부터 시작 30,31일 데이터는 추가로 더해야함\n",
    "    start_date = 20220200 + i   # 여기도 조건에 맞게 수정\n",
    "    end_date = start_date + 5\n",
    "    df_temp = df[(df['사용일자'] >= start_date) & (df['사용일자'] < end_date)].copy()\n",
    "    df_temp = df_temp.groupby(cols)[target].agg('sum').reset_index()\n",
    "    df_list.append(df_temp)\n",
    "df_2 = pd.concat(df_list, axis=0)\n",
    "df_2['사용일자'] = 202202\n",
    "\n",
    "df_2 = df_2.groupby(cols)[target].agg('sum').reset_index()"
   ]
  },
  {
   "cell_type": "code",
   "execution_count": 10,
   "metadata": {},
   "outputs": [
    {
     "data": {
      "text/html": [
       "<div>\n",
       "<style scoped>\n",
       "    .dataframe tbody tr th:only-of-type {\n",
       "        vertical-align: middle;\n",
       "    }\n",
       "\n",
       "    .dataframe tbody tr th {\n",
       "        vertical-align: top;\n",
       "    }\n",
       "\n",
       "    .dataframe thead th {\n",
       "        text-align: right;\n",
       "    }\n",
       "</style>\n",
       "<table border=\"1\" class=\"dataframe\">\n",
       "  <thead>\n",
       "    <tr style=\"text-align: right;\">\n",
       "      <th></th>\n",
       "      <th>사용일자</th>\n",
       "      <th>노선명</th>\n",
       "      <th>역명</th>\n",
       "      <th>승차총승객수</th>\n",
       "      <th>하차총승객수</th>\n",
       "    </tr>\n",
       "  </thead>\n",
       "  <tbody>\n",
       "    <tr>\n",
       "      <th>0</th>\n",
       "      <td>202202</td>\n",
       "      <td>1호선</td>\n",
       "      <td>동대문</td>\n",
       "      <td>145672</td>\n",
       "      <td>135516</td>\n",
       "    </tr>\n",
       "    <tr>\n",
       "      <th>1</th>\n",
       "      <td>202202</td>\n",
       "      <td>1호선</td>\n",
       "      <td>동묘앞</td>\n",
       "      <td>97796</td>\n",
       "      <td>102589</td>\n",
       "    </tr>\n",
       "    <tr>\n",
       "      <th>2</th>\n",
       "      <td>202202</td>\n",
       "      <td>1호선</td>\n",
       "      <td>서울역</td>\n",
       "      <td>579906</td>\n",
       "      <td>552706</td>\n",
       "    </tr>\n",
       "    <tr>\n",
       "      <th>3</th>\n",
       "      <td>202202</td>\n",
       "      <td>1호선</td>\n",
       "      <td>시청</td>\n",
       "      <td>305044</td>\n",
       "      <td>309533</td>\n",
       "    </tr>\n",
       "    <tr>\n",
       "      <th>4</th>\n",
       "      <td>202202</td>\n",
       "      <td>1호선</td>\n",
       "      <td>신설동</td>\n",
       "      <td>193710</td>\n",
       "      <td>189479</td>\n",
       "    </tr>\n",
       "  </tbody>\n",
       "</table>\n",
       "</div>"
      ],
      "text/plain": [
       "     사용일자  노선명   역명  승차총승객수  하차총승객수\n",
       "0  202202  1호선  동대문  145672  135516\n",
       "1  202202  1호선  동묘앞   97796  102589\n",
       "2  202202  1호선  서울역  579906  552706\n",
       "3  202202  1호선   시청  305044  309533\n",
       "4  202202  1호선  신설동  193710  189479"
      ]
     },
     "execution_count": 10,
     "metadata": {},
     "output_type": "execute_result"
    }
   ],
   "source": [
    "df_2.head()"
   ]
  },
  {
   "cell_type": "code",
   "execution_count": 11,
   "metadata": {},
   "outputs": [
    {
     "data": {
      "text/plain": [
       "(608, 5)"
      ]
     },
     "execution_count": 11,
     "metadata": {},
     "output_type": "execute_result"
    }
   ],
   "source": [
    "df_2.shape"
   ]
  },
  {
   "cell_type": "code",
   "execution_count": 12,
   "metadata": {},
   "outputs": [
    {
     "data": {
      "text/plain": [
       "(2383, 5)"
      ]
     },
     "execution_count": 12,
     "metadata": {},
     "output_type": "execute_result"
    }
   ],
   "source": [
    "# 수동\n",
    "df2 = df[(df.사용일자 >= 20220201)&(df.사용일자 < 20220205)].copy()\n",
    "df2_1 = df[(df.사용일자 >= 20220228)&(df.사용일자 < 20220301)].copy()\n",
    "df2.groupby(cols)[target].agg('sum').reset_index()\n",
    "df2.shape"
   ]
  },
  {
   "cell_type": "code",
   "execution_count": 13,
   "metadata": {},
   "outputs": [
    {
     "data": {
      "text/html": [
       "<div>\n",
       "<style scoped>\n",
       "    .dataframe tbody tr th:only-of-type {\n",
       "        vertical-align: middle;\n",
       "    }\n",
       "\n",
       "    .dataframe tbody tr th {\n",
       "        vertical-align: top;\n",
       "    }\n",
       "\n",
       "    .dataframe thead th {\n",
       "        text-align: right;\n",
       "    }\n",
       "</style>\n",
       "<table border=\"1\" class=\"dataframe\">\n",
       "  <thead>\n",
       "    <tr style=\"text-align: right;\">\n",
       "      <th></th>\n",
       "      <th>사용일자</th>\n",
       "      <th>노선명</th>\n",
       "      <th>역명</th>\n",
       "      <th>승차총승객수</th>\n",
       "      <th>하차총승객수</th>\n",
       "    </tr>\n",
       "  </thead>\n",
       "  <tbody>\n",
       "    <tr>\n",
       "      <th>0</th>\n",
       "      <td>202202</td>\n",
       "      <td>1호선</td>\n",
       "      <td>동대문</td>\n",
       "      <td>145672</td>\n",
       "      <td>135516</td>\n",
       "    </tr>\n",
       "    <tr>\n",
       "      <th>1</th>\n",
       "      <td>202202</td>\n",
       "      <td>1호선</td>\n",
       "      <td>동묘앞</td>\n",
       "      <td>97796</td>\n",
       "      <td>102589</td>\n",
       "    </tr>\n",
       "    <tr>\n",
       "      <th>2</th>\n",
       "      <td>202202</td>\n",
       "      <td>1호선</td>\n",
       "      <td>서울역</td>\n",
       "      <td>579906</td>\n",
       "      <td>552706</td>\n",
       "    </tr>\n",
       "    <tr>\n",
       "      <th>3</th>\n",
       "      <td>202202</td>\n",
       "      <td>1호선</td>\n",
       "      <td>시청</td>\n",
       "      <td>305044</td>\n",
       "      <td>309533</td>\n",
       "    </tr>\n",
       "    <tr>\n",
       "      <th>4</th>\n",
       "      <td>202202</td>\n",
       "      <td>1호선</td>\n",
       "      <td>신설동</td>\n",
       "      <td>193710</td>\n",
       "      <td>189479</td>\n",
       "    </tr>\n",
       "  </tbody>\n",
       "</table>\n",
       "</div>"
      ],
      "text/plain": [
       "     사용일자  노선명   역명  승차총승객수  하차총승객수\n",
       "0  202202  1호선  동대문  145672  135516\n",
       "1  202202  1호선  동묘앞   97796  102589\n",
       "2  202202  1호선  서울역  579906  552706\n",
       "3  202202  1호선   시청  305044  309533\n",
       "4  202202  1호선  신설동  193710  189479"
      ]
     },
     "execution_count": 13,
     "metadata": {},
     "output_type": "execute_result"
    }
   ],
   "source": [
    "df_2.head()"
   ]
  },
  {
   "cell_type": "code",
   "execution_count": 14,
   "metadata": {},
   "outputs": [
    {
     "data": {
      "text/html": [
       "<div>\n",
       "<style scoped>\n",
       "    .dataframe tbody tr th:only-of-type {\n",
       "        vertical-align: middle;\n",
       "    }\n",
       "\n",
       "    .dataframe tbody tr th {\n",
       "        vertical-align: top;\n",
       "    }\n",
       "\n",
       "    .dataframe thead th {\n",
       "        text-align: right;\n",
       "    }\n",
       "</style>\n",
       "<table border=\"1\" class=\"dataframe\">\n",
       "  <thead>\n",
       "    <tr style=\"text-align: right;\">\n",
       "      <th></th>\n",
       "      <th>사용일자</th>\n",
       "      <th>노선명</th>\n",
       "      <th>역명</th>\n",
       "      <th>승차총승객수</th>\n",
       "      <th>하차총승객수</th>\n",
       "    </tr>\n",
       "  </thead>\n",
       "  <tbody>\n",
       "    <tr>\n",
       "      <th>20899</th>\n",
       "      <td>20220204</td>\n",
       "      <td>3호선</td>\n",
       "      <td>고속터미널</td>\n",
       "      <td>39289</td>\n",
       "      <td>37132</td>\n",
       "    </tr>\n",
       "    <tr>\n",
       "      <th>20900</th>\n",
       "      <td>20220204</td>\n",
       "      <td>3호선</td>\n",
       "      <td>잠원</td>\n",
       "      <td>4274</td>\n",
       "      <td>4223</td>\n",
       "    </tr>\n",
       "    <tr>\n",
       "      <th>20901</th>\n",
       "      <td>20220204</td>\n",
       "      <td>3호선</td>\n",
       "      <td>신사</td>\n",
       "      <td>31276</td>\n",
       "      <td>32381</td>\n",
       "    </tr>\n",
       "    <tr>\n",
       "      <th>20902</th>\n",
       "      <td>20220204</td>\n",
       "      <td>3호선</td>\n",
       "      <td>압구정</td>\n",
       "      <td>32599</td>\n",
       "      <td>34646</td>\n",
       "    </tr>\n",
       "    <tr>\n",
       "      <th>20903</th>\n",
       "      <td>20220204</td>\n",
       "      <td>3호선</td>\n",
       "      <td>옥수</td>\n",
       "      <td>8213</td>\n",
       "      <td>8577</td>\n",
       "    </tr>\n",
       "  </tbody>\n",
       "</table>\n",
       "</div>"
      ],
      "text/plain": [
       "           사용일자  노선명     역명  승차총승객수  하차총승객수\n",
       "20899  20220204  3호선  고속터미널   39289   37132\n",
       "20900  20220204  3호선     잠원    4274    4223\n",
       "20901  20220204  3호선     신사   31276   32381\n",
       "20902  20220204  3호선    압구정   32599   34646\n",
       "20903  20220204  3호선     옥수    8213    8577"
      ]
     },
     "execution_count": 14,
     "metadata": {},
     "output_type": "execute_result"
    }
   ],
   "source": [
    "df_2 = pd.concat([df_2, df2], axis=0)\n",
    "df_2.tail()"
   ]
  },
  {
   "attachments": {},
   "cell_type": "markdown",
   "metadata": {},
   "source": [
    "### 3월"
   ]
  },
  {
   "cell_type": "code",
   "execution_count": 15,
   "metadata": {},
   "outputs": [],
   "source": [
    "cols = list(df.columns)[:3]\n",
    "target = list(df.columns)[3:]\n",
    "df_list = []\n",
    "# 반복문에 해당되지 않는 범위는 수동으로 구해서 \n",
    "for i in range(7, 22, 7): # 사용할때 여기 수정 해당 월에 맞게   여긴 1월2일이 월요일이라 2일 부터 시작 30,31일 데이터는 추가로 더해야함\n",
    "    start_date = 20220300 + i   # 여기도 조건에 맞게 수정\n",
    "    end_date = start_date + 5\n",
    "    df_temp = df[(df['사용일자'] >= start_date) & (df['사용일자'] < end_date)].copy()\n",
    "    df_temp = df_temp.groupby(cols)[target].agg('sum').reset_index()\n",
    "    df_list.append(df_temp)\n",
    "df_3 = pd.concat(df_list, axis=0)\n",
    "df_3['사용일자'] = 202203\n",
    "\n",
    "df_3 = df_3.groupby(cols)[target].agg('sum').reset_index()"
   ]
  },
  {
   "cell_type": "code",
   "execution_count": 16,
   "metadata": {},
   "outputs": [
    {
     "data": {
      "text/html": [
       "<div>\n",
       "<style scoped>\n",
       "    .dataframe tbody tr th:only-of-type {\n",
       "        vertical-align: middle;\n",
       "    }\n",
       "\n",
       "    .dataframe tbody tr th {\n",
       "        vertical-align: top;\n",
       "    }\n",
       "\n",
       "    .dataframe thead th {\n",
       "        text-align: right;\n",
       "    }\n",
       "</style>\n",
       "<table border=\"1\" class=\"dataframe\">\n",
       "  <thead>\n",
       "    <tr style=\"text-align: right;\">\n",
       "      <th></th>\n",
       "      <th>사용일자</th>\n",
       "      <th>노선명</th>\n",
       "      <th>역명</th>\n",
       "      <th>승차총승객수</th>\n",
       "      <th>하차총승객수</th>\n",
       "    </tr>\n",
       "  </thead>\n",
       "  <tbody>\n",
       "    <tr>\n",
       "      <th>0</th>\n",
       "      <td>202203</td>\n",
       "      <td>1호선</td>\n",
       "      <td>동대문</td>\n",
       "      <td>145182</td>\n",
       "      <td>134754</td>\n",
       "    </tr>\n",
       "    <tr>\n",
       "      <th>1</th>\n",
       "      <td>202203</td>\n",
       "      <td>1호선</td>\n",
       "      <td>동묘앞</td>\n",
       "      <td>105780</td>\n",
       "      <td>111525</td>\n",
       "    </tr>\n",
       "    <tr>\n",
       "      <th>2</th>\n",
       "      <td>202203</td>\n",
       "      <td>1호선</td>\n",
       "      <td>서울역</td>\n",
       "      <td>526397</td>\n",
       "      <td>507826</td>\n",
       "    </tr>\n",
       "    <tr>\n",
       "      <th>3</th>\n",
       "      <td>202203</td>\n",
       "      <td>1호선</td>\n",
       "      <td>시청</td>\n",
       "      <td>285581</td>\n",
       "      <td>287793</td>\n",
       "    </tr>\n",
       "    <tr>\n",
       "      <th>4</th>\n",
       "      <td>202203</td>\n",
       "      <td>1호선</td>\n",
       "      <td>신설동</td>\n",
       "      <td>185537</td>\n",
       "      <td>180739</td>\n",
       "    </tr>\n",
       "  </tbody>\n",
       "</table>\n",
       "</div>"
      ],
      "text/plain": [
       "     사용일자  노선명   역명  승차총승객수  하차총승객수\n",
       "0  202203  1호선  동대문  145182  134754\n",
       "1  202203  1호선  동묘앞  105780  111525\n",
       "2  202203  1호선  서울역  526397  507826\n",
       "3  202203  1호선   시청  285581  287793\n",
       "4  202203  1호선  신설동  185537  180739"
      ]
     },
     "execution_count": 16,
     "metadata": {},
     "output_type": "execute_result"
    }
   ],
   "source": [
    "df_3.head()"
   ]
  },
  {
   "cell_type": "code",
   "execution_count": 17,
   "metadata": {},
   "outputs": [
    {
     "data": {
      "text/plain": [
       "(607, 5)"
      ]
     },
     "execution_count": 17,
     "metadata": {},
     "output_type": "execute_result"
    }
   ],
   "source": [
    "df_3.shape"
   ]
  },
  {
   "cell_type": "code",
   "execution_count": 18,
   "metadata": {},
   "outputs": [
    {
     "data": {
      "text/plain": [
       "(2386, 5)"
      ]
     },
     "execution_count": 18,
     "metadata": {},
     "output_type": "execute_result"
    }
   ],
   "source": [
    "# 수동\n",
    "df3 = df[(df.사용일자 >= 20220301)&(df.사용일자 < 20220305)].copy()\n",
    "df3_1 = df[(df.사용일자 >= 20220328)&(df.사용일자 < 20220401)].copy()\n",
    "df3.groupby(cols)[target].agg('sum').reset_index()\n",
    "df3.shape"
   ]
  },
  {
   "cell_type": "code",
   "execution_count": 19,
   "metadata": {},
   "outputs": [
    {
     "data": {
      "text/html": [
       "<div>\n",
       "<style scoped>\n",
       "    .dataframe tbody tr th:only-of-type {\n",
       "        vertical-align: middle;\n",
       "    }\n",
       "\n",
       "    .dataframe tbody tr th {\n",
       "        vertical-align: top;\n",
       "    }\n",
       "\n",
       "    .dataframe thead th {\n",
       "        text-align: right;\n",
       "    }\n",
       "</style>\n",
       "<table border=\"1\" class=\"dataframe\">\n",
       "  <thead>\n",
       "    <tr style=\"text-align: right;\">\n",
       "      <th></th>\n",
       "      <th>사용일자</th>\n",
       "      <th>노선명</th>\n",
       "      <th>역명</th>\n",
       "      <th>승차총승객수</th>\n",
       "      <th>하차총승객수</th>\n",
       "    </tr>\n",
       "  </thead>\n",
       "  <tbody>\n",
       "    <tr>\n",
       "      <th>0</th>\n",
       "      <td>202203</td>\n",
       "      <td>1호선</td>\n",
       "      <td>동대문</td>\n",
       "      <td>145182</td>\n",
       "      <td>134754</td>\n",
       "    </tr>\n",
       "    <tr>\n",
       "      <th>1</th>\n",
       "      <td>202203</td>\n",
       "      <td>1호선</td>\n",
       "      <td>동묘앞</td>\n",
       "      <td>105780</td>\n",
       "      <td>111525</td>\n",
       "    </tr>\n",
       "    <tr>\n",
       "      <th>2</th>\n",
       "      <td>202203</td>\n",
       "      <td>1호선</td>\n",
       "      <td>서울역</td>\n",
       "      <td>526397</td>\n",
       "      <td>507826</td>\n",
       "    </tr>\n",
       "    <tr>\n",
       "      <th>3</th>\n",
       "      <td>202203</td>\n",
       "      <td>1호선</td>\n",
       "      <td>시청</td>\n",
       "      <td>285581</td>\n",
       "      <td>287793</td>\n",
       "    </tr>\n",
       "    <tr>\n",
       "      <th>4</th>\n",
       "      <td>202203</td>\n",
       "      <td>1호선</td>\n",
       "      <td>신설동</td>\n",
       "      <td>185537</td>\n",
       "      <td>180739</td>\n",
       "    </tr>\n",
       "  </tbody>\n",
       "</table>\n",
       "</div>"
      ],
      "text/plain": [
       "     사용일자  노선명   역명  승차총승객수  하차총승객수\n",
       "0  202203  1호선  동대문  145182  134754\n",
       "1  202203  1호선  동묘앞  105780  111525\n",
       "2  202203  1호선  서울역  526397  507826\n",
       "3  202203  1호선   시청  285581  287793\n",
       "4  202203  1호선  신설동  185537  180739"
      ]
     },
     "execution_count": 19,
     "metadata": {},
     "output_type": "execute_result"
    }
   ],
   "source": [
    "df_3.head()"
   ]
  },
  {
   "cell_type": "code",
   "execution_count": 20,
   "metadata": {},
   "outputs": [
    {
     "data": {
      "text/html": [
       "<div>\n",
       "<style scoped>\n",
       "    .dataframe tbody tr th:only-of-type {\n",
       "        vertical-align: middle;\n",
       "    }\n",
       "\n",
       "    .dataframe tbody tr th {\n",
       "        vertical-align: top;\n",
       "    }\n",
       "\n",
       "    .dataframe thead th {\n",
       "        text-align: right;\n",
       "    }\n",
       "</style>\n",
       "<table border=\"1\" class=\"dataframe\">\n",
       "  <thead>\n",
       "    <tr style=\"text-align: right;\">\n",
       "      <th></th>\n",
       "      <th>사용일자</th>\n",
       "      <th>노선명</th>\n",
       "      <th>역명</th>\n",
       "      <th>승차총승객수</th>\n",
       "      <th>하차총승객수</th>\n",
       "    </tr>\n",
       "  </thead>\n",
       "  <tbody>\n",
       "    <tr>\n",
       "      <th>37614</th>\n",
       "      <td>20220304</td>\n",
       "      <td>장항선</td>\n",
       "      <td>신창</td>\n",
       "      <td>3241</td>\n",
       "      <td>1944</td>\n",
       "    </tr>\n",
       "    <tr>\n",
       "      <th>37615</th>\n",
       "      <td>20220304</td>\n",
       "      <td>장항선</td>\n",
       "      <td>온양온천</td>\n",
       "      <td>4098</td>\n",
       "      <td>4377</td>\n",
       "    </tr>\n",
       "    <tr>\n",
       "      <th>37616</th>\n",
       "      <td>20220304</td>\n",
       "      <td>장항선</td>\n",
       "      <td>배방</td>\n",
       "      <td>1227</td>\n",
       "      <td>1170</td>\n",
       "    </tr>\n",
       "    <tr>\n",
       "      <th>37617</th>\n",
       "      <td>20220304</td>\n",
       "      <td>장항선</td>\n",
       "      <td>탕정</td>\n",
       "      <td>787</td>\n",
       "      <td>622</td>\n",
       "    </tr>\n",
       "    <tr>\n",
       "      <th>37618</th>\n",
       "      <td>20220304</td>\n",
       "      <td>5호선</td>\n",
       "      <td>청구</td>\n",
       "      <td>3796</td>\n",
       "      <td>3397</td>\n",
       "    </tr>\n",
       "  </tbody>\n",
       "</table>\n",
       "</div>"
      ],
      "text/plain": [
       "           사용일자  노선명    역명  승차총승객수  하차총승객수\n",
       "37614  20220304  장항선    신창    3241    1944\n",
       "37615  20220304  장항선  온양온천    4098    4377\n",
       "37616  20220304  장항선    배방    1227    1170\n",
       "37617  20220304  장항선    탕정     787     622\n",
       "37618  20220304  5호선    청구    3796    3397"
      ]
     },
     "execution_count": 20,
     "metadata": {},
     "output_type": "execute_result"
    }
   ],
   "source": [
    "df_3 = pd.concat([df_3, df3_1, df3], axis=0)\n",
    "df_3.tail()"
   ]
  },
  {
   "attachments": {},
   "cell_type": "markdown",
   "metadata": {},
   "source": [
    "### 4월"
   ]
  },
  {
   "cell_type": "code",
   "execution_count": 21,
   "metadata": {},
   "outputs": [],
   "source": [
    "cols = list(df.columns)[:3]\n",
    "target = list(df.columns)[3:]\n",
    "df_list = []\n",
    "# 반복문에 해당되지 않는 범위는 수동으로 구해서 \n",
    "for i in range(4, 26, 7): # 사용할때 여기 수정 해당 월에 맞게   여긴 1월2일이 월요일이라 2일 부터 시작 30,31일 데이터는 추가로 더해야함\n",
    "    start_date = 20220400 + i   # 여기도 조건에 맞게 수정\n",
    "    end_date = start_date + 5\n",
    "    df_temp = df[(df['사용일자'] >= start_date) & (df['사용일자'] < end_date)].copy()\n",
    "    df_temp = df_temp.groupby(cols)[target].agg('sum').reset_index()\n",
    "    df_list.append(df_temp)\n",
    "df_4 = pd.concat(df_list, axis=0)\n",
    "df_4['사용일자'] = 202204\n",
    "\n",
    "df_4 = df_4.groupby(cols)[target].agg('sum').reset_index()"
   ]
  },
  {
   "cell_type": "code",
   "execution_count": 22,
   "metadata": {},
   "outputs": [
    {
     "data": {
      "text/html": [
       "<div>\n",
       "<style scoped>\n",
       "    .dataframe tbody tr th:only-of-type {\n",
       "        vertical-align: middle;\n",
       "    }\n",
       "\n",
       "    .dataframe tbody tr th {\n",
       "        vertical-align: top;\n",
       "    }\n",
       "\n",
       "    .dataframe thead th {\n",
       "        text-align: right;\n",
       "    }\n",
       "</style>\n",
       "<table border=\"1\" class=\"dataframe\">\n",
       "  <thead>\n",
       "    <tr style=\"text-align: right;\">\n",
       "      <th></th>\n",
       "      <th>사용일자</th>\n",
       "      <th>노선명</th>\n",
       "      <th>역명</th>\n",
       "      <th>승차총승객수</th>\n",
       "      <th>하차총승객수</th>\n",
       "    </tr>\n",
       "  </thead>\n",
       "  <tbody>\n",
       "    <tr>\n",
       "      <th>0</th>\n",
       "      <td>202204</td>\n",
       "      <td>1호선</td>\n",
       "      <td>동대문</td>\n",
       "      <td>217638</td>\n",
       "      <td>202980</td>\n",
       "    </tr>\n",
       "    <tr>\n",
       "      <th>1</th>\n",
       "      <td>202204</td>\n",
       "      <td>1호선</td>\n",
       "      <td>동묘앞</td>\n",
       "      <td>158507</td>\n",
       "      <td>166370</td>\n",
       "    </tr>\n",
       "    <tr>\n",
       "      <th>2</th>\n",
       "      <td>202204</td>\n",
       "      <td>1호선</td>\n",
       "      <td>서울역</td>\n",
       "      <td>860101</td>\n",
       "      <td>835683</td>\n",
       "    </tr>\n",
       "    <tr>\n",
       "      <th>3</th>\n",
       "      <td>202204</td>\n",
       "      <td>1호선</td>\n",
       "      <td>시청</td>\n",
       "      <td>451143</td>\n",
       "      <td>459317</td>\n",
       "    </tr>\n",
       "    <tr>\n",
       "      <th>4</th>\n",
       "      <td>202204</td>\n",
       "      <td>1호선</td>\n",
       "      <td>신설동</td>\n",
       "      <td>277544</td>\n",
       "      <td>271555</td>\n",
       "    </tr>\n",
       "  </tbody>\n",
       "</table>\n",
       "</div>"
      ],
      "text/plain": [
       "     사용일자  노선명   역명  승차총승객수  하차총승객수\n",
       "0  202204  1호선  동대문  217638  202980\n",
       "1  202204  1호선  동묘앞  158507  166370\n",
       "2  202204  1호선  서울역  860101  835683\n",
       "3  202204  1호선   시청  451143  459317\n",
       "4  202204  1호선  신설동  277544  271555"
      ]
     },
     "execution_count": 22,
     "metadata": {},
     "output_type": "execute_result"
    }
   ],
   "source": [
    "df_4.head()"
   ]
  },
  {
   "cell_type": "code",
   "execution_count": 23,
   "metadata": {},
   "outputs": [
    {
     "data": {
      "text/plain": [
       "(606, 5)"
      ]
     },
     "execution_count": 23,
     "metadata": {},
     "output_type": "execute_result"
    }
   ],
   "source": [
    "df_4.shape"
   ]
  },
  {
   "cell_type": "code",
   "execution_count": 24,
   "metadata": {},
   "outputs": [
    {
     "data": {
      "text/plain": [
       "(594, 5)"
      ]
     },
     "execution_count": 24,
     "metadata": {},
     "output_type": "execute_result"
    }
   ],
   "source": [
    "# 수동\n",
    "df4 = df[(df.사용일자 >= 20220401)&(df.사용일자 < 20220402)].copy()\n",
    "df4.groupby(cols)[target].agg('sum').reset_index()\n",
    "df4.shape"
   ]
  },
  {
   "cell_type": "code",
   "execution_count": 25,
   "metadata": {},
   "outputs": [
    {
     "data": {
      "text/html": [
       "<div>\n",
       "<style scoped>\n",
       "    .dataframe tbody tr th:only-of-type {\n",
       "        vertical-align: middle;\n",
       "    }\n",
       "\n",
       "    .dataframe tbody tr th {\n",
       "        vertical-align: top;\n",
       "    }\n",
       "\n",
       "    .dataframe thead th {\n",
       "        text-align: right;\n",
       "    }\n",
       "</style>\n",
       "<table border=\"1\" class=\"dataframe\">\n",
       "  <thead>\n",
       "    <tr style=\"text-align: right;\">\n",
       "      <th></th>\n",
       "      <th>사용일자</th>\n",
       "      <th>노선명</th>\n",
       "      <th>역명</th>\n",
       "      <th>승차총승객수</th>\n",
       "      <th>하차총승객수</th>\n",
       "    </tr>\n",
       "  </thead>\n",
       "  <tbody>\n",
       "    <tr>\n",
       "      <th>0</th>\n",
       "      <td>202204</td>\n",
       "      <td>1호선</td>\n",
       "      <td>동대문</td>\n",
       "      <td>217638</td>\n",
       "      <td>202980</td>\n",
       "    </tr>\n",
       "    <tr>\n",
       "      <th>1</th>\n",
       "      <td>202204</td>\n",
       "      <td>1호선</td>\n",
       "      <td>동묘앞</td>\n",
       "      <td>158507</td>\n",
       "      <td>166370</td>\n",
       "    </tr>\n",
       "    <tr>\n",
       "      <th>2</th>\n",
       "      <td>202204</td>\n",
       "      <td>1호선</td>\n",
       "      <td>서울역</td>\n",
       "      <td>860101</td>\n",
       "      <td>835683</td>\n",
       "    </tr>\n",
       "    <tr>\n",
       "      <th>3</th>\n",
       "      <td>202204</td>\n",
       "      <td>1호선</td>\n",
       "      <td>시청</td>\n",
       "      <td>451143</td>\n",
       "      <td>459317</td>\n",
       "    </tr>\n",
       "    <tr>\n",
       "      <th>4</th>\n",
       "      <td>202204</td>\n",
       "      <td>1호선</td>\n",
       "      <td>신설동</td>\n",
       "      <td>277544</td>\n",
       "      <td>271555</td>\n",
       "    </tr>\n",
       "  </tbody>\n",
       "</table>\n",
       "</div>"
      ],
      "text/plain": [
       "     사용일자  노선명   역명  승차총승객수  하차총승객수\n",
       "0  202204  1호선  동대문  217638  202980\n",
       "1  202204  1호선  동묘앞  158507  166370\n",
       "2  202204  1호선  서울역  860101  835683\n",
       "3  202204  1호선   시청  451143  459317\n",
       "4  202204  1호선  신설동  277544  271555"
      ]
     },
     "execution_count": 25,
     "metadata": {},
     "output_type": "execute_result"
    }
   ],
   "source": [
    "df_4.head()"
   ]
  },
  {
   "cell_type": "code",
   "execution_count": 26,
   "metadata": {},
   "outputs": [
    {
     "data": {
      "text/html": [
       "<div>\n",
       "<style scoped>\n",
       "    .dataframe tbody tr th:only-of-type {\n",
       "        vertical-align: middle;\n",
       "    }\n",
       "\n",
       "    .dataframe tbody tr th {\n",
       "        vertical-align: top;\n",
       "    }\n",
       "\n",
       "    .dataframe thead th {\n",
       "        text-align: right;\n",
       "    }\n",
       "</style>\n",
       "<table border=\"1\" class=\"dataframe\">\n",
       "  <thead>\n",
       "    <tr style=\"text-align: right;\">\n",
       "      <th></th>\n",
       "      <th>사용일자</th>\n",
       "      <th>노선명</th>\n",
       "      <th>역명</th>\n",
       "      <th>승차총승객수</th>\n",
       "      <th>하차총승객수</th>\n",
       "    </tr>\n",
       "  </thead>\n",
       "  <tbody>\n",
       "    <tr>\n",
       "      <th>54289</th>\n",
       "      <td>20220401</td>\n",
       "      <td>수인선</td>\n",
       "      <td>호구포</td>\n",
       "      <td>4047</td>\n",
       "      <td>4148</td>\n",
       "    </tr>\n",
       "    <tr>\n",
       "      <th>54290</th>\n",
       "      <td>20220401</td>\n",
       "      <td>수인선</td>\n",
       "      <td>인천논현</td>\n",
       "      <td>5573</td>\n",
       "      <td>6036</td>\n",
       "    </tr>\n",
       "    <tr>\n",
       "      <th>54291</th>\n",
       "      <td>20220401</td>\n",
       "      <td>수인선</td>\n",
       "      <td>소래포구</td>\n",
       "      <td>5591</td>\n",
       "      <td>5341</td>\n",
       "    </tr>\n",
       "    <tr>\n",
       "      <th>54292</th>\n",
       "      <td>20220401</td>\n",
       "      <td>수인선</td>\n",
       "      <td>월곶</td>\n",
       "      <td>2739</td>\n",
       "      <td>2510</td>\n",
       "    </tr>\n",
       "    <tr>\n",
       "      <th>54293</th>\n",
       "      <td>20220401</td>\n",
       "      <td>수인선</td>\n",
       "      <td>달월</td>\n",
       "      <td>122</td>\n",
       "      <td>77</td>\n",
       "    </tr>\n",
       "  </tbody>\n",
       "</table>\n",
       "</div>"
      ],
      "text/plain": [
       "           사용일자  노선명    역명  승차총승객수  하차총승객수\n",
       "54289  20220401  수인선   호구포    4047    4148\n",
       "54290  20220401  수인선  인천논현    5573    6036\n",
       "54291  20220401  수인선  소래포구    5591    5341\n",
       "54292  20220401  수인선    월곶    2739    2510\n",
       "54293  20220401  수인선    달월     122      77"
      ]
     },
     "execution_count": 26,
     "metadata": {},
     "output_type": "execute_result"
    }
   ],
   "source": [
    "df_4 = pd.concat([df_4, df4], axis=0)\n",
    "df_4.tail()"
   ]
  },
  {
   "attachments": {},
   "cell_type": "markdown",
   "metadata": {},
   "source": [
    "### 5월"
   ]
  },
  {
   "cell_type": "code",
   "execution_count": 27,
   "metadata": {},
   "outputs": [],
   "source": [
    "cols = list(df.columns)[:3]\n",
    "target = list(df.columns)[3:]\n",
    "df_list = []\n",
    "# 반복문에 해당되지 않는 범위는 수동으로 구해서 \n",
    "for i in range(2, 24, 7): # 사용할때 여기 수정 해당 월에 맞게   여긴 1월2일이 월요일이라 2일 부터 시작 30,31일 데이터는 추가로 더해야함\n",
    "    start_date = 20220500 + i   # 여기도 조건에 맞게 수정\n",
    "    end_date = start_date + 5\n",
    "    df_temp = df[(df['사용일자'] >= start_date) & (df['사용일자'] < end_date)].copy()\n",
    "    df_temp = df_temp.groupby(cols)[target].agg('sum').reset_index()\n",
    "    df_list.append(df_temp)\n",
    "df_5 = pd.concat(df_list, axis=0)\n",
    "df_5['사용일자'] = 202205\n",
    "\n",
    "df_5 = df_5.groupby(cols)[target].agg('sum').reset_index()"
   ]
  },
  {
   "cell_type": "code",
   "execution_count": 28,
   "metadata": {},
   "outputs": [
    {
     "data": {
      "text/html": [
       "<div>\n",
       "<style scoped>\n",
       "    .dataframe tbody tr th:only-of-type {\n",
       "        vertical-align: middle;\n",
       "    }\n",
       "\n",
       "    .dataframe tbody tr th {\n",
       "        vertical-align: top;\n",
       "    }\n",
       "\n",
       "    .dataframe thead th {\n",
       "        text-align: right;\n",
       "    }\n",
       "</style>\n",
       "<table border=\"1\" class=\"dataframe\">\n",
       "  <thead>\n",
       "    <tr style=\"text-align: right;\">\n",
       "      <th></th>\n",
       "      <th>사용일자</th>\n",
       "      <th>노선명</th>\n",
       "      <th>역명</th>\n",
       "      <th>승차총승객수</th>\n",
       "      <th>하차총승객수</th>\n",
       "    </tr>\n",
       "  </thead>\n",
       "  <tbody>\n",
       "    <tr>\n",
       "      <th>0</th>\n",
       "      <td>202205</td>\n",
       "      <td>1호선</td>\n",
       "      <td>동대문</td>\n",
       "      <td>235227</td>\n",
       "      <td>221251</td>\n",
       "    </tr>\n",
       "    <tr>\n",
       "      <th>1</th>\n",
       "      <td>202205</td>\n",
       "      <td>1호선</td>\n",
       "      <td>동묘앞</td>\n",
       "      <td>171615</td>\n",
       "      <td>179713</td>\n",
       "    </tr>\n",
       "    <tr>\n",
       "      <th>2</th>\n",
       "      <td>202205</td>\n",
       "      <td>1호선</td>\n",
       "      <td>서울역</td>\n",
       "      <td>968850</td>\n",
       "      <td>948334</td>\n",
       "    </tr>\n",
       "    <tr>\n",
       "      <th>3</th>\n",
       "      <td>202205</td>\n",
       "      <td>1호선</td>\n",
       "      <td>시청</td>\n",
       "      <td>489540</td>\n",
       "      <td>496014</td>\n",
       "    </tr>\n",
       "    <tr>\n",
       "      <th>4</th>\n",
       "      <td>202205</td>\n",
       "      <td>1호선</td>\n",
       "      <td>신설동</td>\n",
       "      <td>287850</td>\n",
       "      <td>280482</td>\n",
       "    </tr>\n",
       "  </tbody>\n",
       "</table>\n",
       "</div>"
      ],
      "text/plain": [
       "     사용일자  노선명   역명  승차총승객수  하차총승객수\n",
       "0  202205  1호선  동대문  235227  221251\n",
       "1  202205  1호선  동묘앞  171615  179713\n",
       "2  202205  1호선  서울역  968850  948334\n",
       "3  202205  1호선   시청  489540  496014\n",
       "4  202205  1호선  신설동  287850  280482"
      ]
     },
     "execution_count": 28,
     "metadata": {},
     "output_type": "execute_result"
    }
   ],
   "source": [
    "df_5.head()"
   ]
  },
  {
   "cell_type": "code",
   "execution_count": 29,
   "metadata": {},
   "outputs": [
    {
     "data": {
      "text/plain": [
       "(602, 5)"
      ]
     },
     "execution_count": 29,
     "metadata": {},
     "output_type": "execute_result"
    }
   ],
   "source": [
    "df_5.shape"
   ]
  },
  {
   "cell_type": "code",
   "execution_count": 30,
   "metadata": {},
   "outputs": [
    {
     "data": {
      "text/plain": [
       "(1209, 5)"
      ]
     },
     "execution_count": 30,
     "metadata": {},
     "output_type": "execute_result"
    }
   ],
   "source": [
    "# 수동\n",
    "df5 = df[(df.사용일자 >= 20220530)&(df.사용일자 < 20220601)].copy()\n",
    "df5.groupby(cols)[target].agg('sum').reset_index()\n",
    "df5.shape"
   ]
  },
  {
   "cell_type": "code",
   "execution_count": 31,
   "metadata": {},
   "outputs": [
    {
     "data": {
      "text/html": [
       "<div>\n",
       "<style scoped>\n",
       "    .dataframe tbody tr th:only-of-type {\n",
       "        vertical-align: middle;\n",
       "    }\n",
       "\n",
       "    .dataframe tbody tr th {\n",
       "        vertical-align: top;\n",
       "    }\n",
       "\n",
       "    .dataframe thead th {\n",
       "        text-align: right;\n",
       "    }\n",
       "</style>\n",
       "<table border=\"1\" class=\"dataframe\">\n",
       "  <thead>\n",
       "    <tr style=\"text-align: right;\">\n",
       "      <th></th>\n",
       "      <th>사용일자</th>\n",
       "      <th>노선명</th>\n",
       "      <th>역명</th>\n",
       "      <th>승차총승객수</th>\n",
       "      <th>하차총승객수</th>\n",
       "    </tr>\n",
       "  </thead>\n",
       "  <tbody>\n",
       "    <tr>\n",
       "      <th>0</th>\n",
       "      <td>202205</td>\n",
       "      <td>1호선</td>\n",
       "      <td>동대문</td>\n",
       "      <td>235227</td>\n",
       "      <td>221251</td>\n",
       "    </tr>\n",
       "    <tr>\n",
       "      <th>1</th>\n",
       "      <td>202205</td>\n",
       "      <td>1호선</td>\n",
       "      <td>동묘앞</td>\n",
       "      <td>171615</td>\n",
       "      <td>179713</td>\n",
       "    </tr>\n",
       "    <tr>\n",
       "      <th>2</th>\n",
       "      <td>202205</td>\n",
       "      <td>1호선</td>\n",
       "      <td>서울역</td>\n",
       "      <td>968850</td>\n",
       "      <td>948334</td>\n",
       "    </tr>\n",
       "    <tr>\n",
       "      <th>3</th>\n",
       "      <td>202205</td>\n",
       "      <td>1호선</td>\n",
       "      <td>시청</td>\n",
       "      <td>489540</td>\n",
       "      <td>496014</td>\n",
       "    </tr>\n",
       "    <tr>\n",
       "      <th>4</th>\n",
       "      <td>202205</td>\n",
       "      <td>1호선</td>\n",
       "      <td>신설동</td>\n",
       "      <td>287850</td>\n",
       "      <td>280482</td>\n",
       "    </tr>\n",
       "  </tbody>\n",
       "</table>\n",
       "</div>"
      ],
      "text/plain": [
       "     사용일자  노선명   역명  승차총승객수  하차총승객수\n",
       "0  202205  1호선  동대문  235227  221251\n",
       "1  202205  1호선  동묘앞  171615  179713\n",
       "2  202205  1호선  서울역  968850  948334\n",
       "3  202205  1호선   시청  489540  496014\n",
       "4  202205  1호선  신설동  287850  280482"
      ]
     },
     "execution_count": 31,
     "metadata": {},
     "output_type": "execute_result"
    }
   ],
   "source": [
    "df_5.head()"
   ]
  },
  {
   "cell_type": "code",
   "execution_count": 32,
   "metadata": {},
   "outputs": [
    {
     "data": {
      "text/html": [
       "<div>\n",
       "<style scoped>\n",
       "    .dataframe tbody tr th:only-of-type {\n",
       "        vertical-align: middle;\n",
       "    }\n",
       "\n",
       "    .dataframe tbody tr th {\n",
       "        vertical-align: top;\n",
       "    }\n",
       "\n",
       "    .dataframe thead th {\n",
       "        text-align: right;\n",
       "    }\n",
       "</style>\n",
       "<table border=\"1\" class=\"dataframe\">\n",
       "  <thead>\n",
       "    <tr style=\"text-align: right;\">\n",
       "      <th></th>\n",
       "      <th>사용일자</th>\n",
       "      <th>노선명</th>\n",
       "      <th>역명</th>\n",
       "      <th>승차총승객수</th>\n",
       "      <th>하차총승객수</th>\n",
       "    </tr>\n",
       "  </thead>\n",
       "  <tbody>\n",
       "    <tr>\n",
       "      <th>90038</th>\n",
       "      <td>20220531</td>\n",
       "      <td>일산선</td>\n",
       "      <td>백석</td>\n",
       "      <td>10884</td>\n",
       "      <td>10871</td>\n",
       "    </tr>\n",
       "    <tr>\n",
       "      <th>90039</th>\n",
       "      <td>20220531</td>\n",
       "      <td>일산선</td>\n",
       "      <td>대곡</td>\n",
       "      <td>2478</td>\n",
       "      <td>1927</td>\n",
       "    </tr>\n",
       "    <tr>\n",
       "      <th>90040</th>\n",
       "      <td>20220531</td>\n",
       "      <td>일산선</td>\n",
       "      <td>화정</td>\n",
       "      <td>18719</td>\n",
       "      <td>19060</td>\n",
       "    </tr>\n",
       "    <tr>\n",
       "      <th>90041</th>\n",
       "      <td>20220531</td>\n",
       "      <td>일산선</td>\n",
       "      <td>원당</td>\n",
       "      <td>12749</td>\n",
       "      <td>11581</td>\n",
       "    </tr>\n",
       "    <tr>\n",
       "      <th>90042</th>\n",
       "      <td>20220531</td>\n",
       "      <td>일산선</td>\n",
       "      <td>삼송</td>\n",
       "      <td>22952</td>\n",
       "      <td>21576</td>\n",
       "    </tr>\n",
       "  </tbody>\n",
       "</table>\n",
       "</div>"
      ],
      "text/plain": [
       "           사용일자  노선명  역명  승차총승객수  하차총승객수\n",
       "90038  20220531  일산선  백석   10884   10871\n",
       "90039  20220531  일산선  대곡    2478    1927\n",
       "90040  20220531  일산선  화정   18719   19060\n",
       "90041  20220531  일산선  원당   12749   11581\n",
       "90042  20220531  일산선  삼송   22952   21576"
      ]
     },
     "execution_count": 32,
     "metadata": {},
     "output_type": "execute_result"
    }
   ],
   "source": [
    "df_5 = pd.concat([df_5, df5], axis=0)\n",
    "df_5.tail()"
   ]
  },
  {
   "attachments": {},
   "cell_type": "markdown",
   "metadata": {},
   "source": [
    "### 6월"
   ]
  },
  {
   "cell_type": "code",
   "execution_count": 33,
   "metadata": {},
   "outputs": [],
   "source": [
    "cols = list(df.columns)[:3]\n",
    "target = list(df.columns)[3:]\n",
    "df_list = []\n",
    "# 반복문에 해당되지 않는 범위는 수동으로 구해서 \n",
    "for i in range(6, 28, 7): # 사용할때 여기 수정 해당 월에 맞게   여긴 1월2일이 월요일이라 2일 부터 시작 30,31일 데이터는 추가로 더해야함\n",
    "    start_date = 20220600 + i   # 여기도 조건에 맞게 수정\n",
    "    end_date = start_date + 5\n",
    "    df_temp = df[(df['사용일자'] >= start_date) & (df['사용일자'] < end_date)].copy()\n",
    "    df_temp = df_temp.groupby(cols)[target].agg('sum').reset_index()\n",
    "    df_list.append(df_temp)\n",
    "df_6 = pd.concat(df_list, axis=0)\n",
    "df_6['사용일자'] = 202206\n",
    "\n",
    "df_6 = df_6.groupby(cols)[target].agg('sum').reset_index()"
   ]
  },
  {
   "cell_type": "code",
   "execution_count": 34,
   "metadata": {},
   "outputs": [
    {
     "data": {
      "text/html": [
       "<div>\n",
       "<style scoped>\n",
       "    .dataframe tbody tr th:only-of-type {\n",
       "        vertical-align: middle;\n",
       "    }\n",
       "\n",
       "    .dataframe tbody tr th {\n",
       "        vertical-align: top;\n",
       "    }\n",
       "\n",
       "    .dataframe thead th {\n",
       "        text-align: right;\n",
       "    }\n",
       "</style>\n",
       "<table border=\"1\" class=\"dataframe\">\n",
       "  <thead>\n",
       "    <tr style=\"text-align: right;\">\n",
       "      <th></th>\n",
       "      <th>사용일자</th>\n",
       "      <th>노선명</th>\n",
       "      <th>역명</th>\n",
       "      <th>승차총승객수</th>\n",
       "      <th>하차총승객수</th>\n",
       "    </tr>\n",
       "  </thead>\n",
       "  <tbody>\n",
       "    <tr>\n",
       "      <th>0</th>\n",
       "      <td>202206</td>\n",
       "      <td>1호선</td>\n",
       "      <td>동대문</td>\n",
       "      <td>211559</td>\n",
       "      <td>198247</td>\n",
       "    </tr>\n",
       "    <tr>\n",
       "      <th>1</th>\n",
       "      <td>202206</td>\n",
       "      <td>1호선</td>\n",
       "      <td>동묘앞</td>\n",
       "      <td>147527</td>\n",
       "      <td>153943</td>\n",
       "    </tr>\n",
       "    <tr>\n",
       "      <th>2</th>\n",
       "      <td>202206</td>\n",
       "      <td>1호선</td>\n",
       "      <td>서울역</td>\n",
       "      <td>931382</td>\n",
       "      <td>899189</td>\n",
       "    </tr>\n",
       "    <tr>\n",
       "      <th>3</th>\n",
       "      <td>202206</td>\n",
       "      <td>1호선</td>\n",
       "      <td>시청</td>\n",
       "      <td>463077</td>\n",
       "      <td>466015</td>\n",
       "    </tr>\n",
       "    <tr>\n",
       "      <th>4</th>\n",
       "      <td>202206</td>\n",
       "      <td>1호선</td>\n",
       "      <td>신설동</td>\n",
       "      <td>266454</td>\n",
       "      <td>254310</td>\n",
       "    </tr>\n",
       "  </tbody>\n",
       "</table>\n",
       "</div>"
      ],
      "text/plain": [
       "     사용일자  노선명   역명  승차총승객수  하차총승객수\n",
       "0  202206  1호선  동대문  211559  198247\n",
       "1  202206  1호선  동묘앞  147527  153943\n",
       "2  202206  1호선  서울역  931382  899189\n",
       "3  202206  1호선   시청  463077  466015\n",
       "4  202206  1호선  신설동  266454  254310"
      ]
     },
     "execution_count": 34,
     "metadata": {},
     "output_type": "execute_result"
    }
   ],
   "source": [
    "df_6.head()"
   ]
  },
  {
   "cell_type": "code",
   "execution_count": 35,
   "metadata": {},
   "outputs": [
    {
     "data": {
      "text/plain": [
       "(614, 5)"
      ]
     },
     "execution_count": 35,
     "metadata": {},
     "output_type": "execute_result"
    }
   ],
   "source": [
    "df_6.shape"
   ]
  },
  {
   "cell_type": "code",
   "execution_count": 36,
   "metadata": {},
   "outputs": [
    {
     "data": {
      "text/plain": [
       "(1819, 5)"
      ]
     },
     "execution_count": 36,
     "metadata": {},
     "output_type": "execute_result"
    }
   ],
   "source": [
    "# 수동\n",
    "df6 = df[(df.사용일자 >= 20220601)&(df.사용일자 < 20220604)].copy()\n",
    "df6_1 = df[(df.사용일자 >= 20220627)&(df.사용일자 < 20220730)].copy()\n",
    "df6.groupby(cols)[target].agg('sum').reset_index()\n",
    "df6.shape"
   ]
  },
  {
   "cell_type": "code",
   "execution_count": 37,
   "metadata": {},
   "outputs": [
    {
     "data": {
      "text/html": [
       "<div>\n",
       "<style scoped>\n",
       "    .dataframe tbody tr th:only-of-type {\n",
       "        vertical-align: middle;\n",
       "    }\n",
       "\n",
       "    .dataframe tbody tr th {\n",
       "        vertical-align: top;\n",
       "    }\n",
       "\n",
       "    .dataframe thead th {\n",
       "        text-align: right;\n",
       "    }\n",
       "</style>\n",
       "<table border=\"1\" class=\"dataframe\">\n",
       "  <thead>\n",
       "    <tr style=\"text-align: right;\">\n",
       "      <th></th>\n",
       "      <th>사용일자</th>\n",
       "      <th>노선명</th>\n",
       "      <th>역명</th>\n",
       "      <th>승차총승객수</th>\n",
       "      <th>하차총승객수</th>\n",
       "    </tr>\n",
       "  </thead>\n",
       "  <tbody>\n",
       "    <tr>\n",
       "      <th>0</th>\n",
       "      <td>202206</td>\n",
       "      <td>1호선</td>\n",
       "      <td>동대문</td>\n",
       "      <td>211559</td>\n",
       "      <td>198247</td>\n",
       "    </tr>\n",
       "    <tr>\n",
       "      <th>1</th>\n",
       "      <td>202206</td>\n",
       "      <td>1호선</td>\n",
       "      <td>동묘앞</td>\n",
       "      <td>147527</td>\n",
       "      <td>153943</td>\n",
       "    </tr>\n",
       "    <tr>\n",
       "      <th>2</th>\n",
       "      <td>202206</td>\n",
       "      <td>1호선</td>\n",
       "      <td>서울역</td>\n",
       "      <td>931382</td>\n",
       "      <td>899189</td>\n",
       "    </tr>\n",
       "    <tr>\n",
       "      <th>3</th>\n",
       "      <td>202206</td>\n",
       "      <td>1호선</td>\n",
       "      <td>시청</td>\n",
       "      <td>463077</td>\n",
       "      <td>466015</td>\n",
       "    </tr>\n",
       "    <tr>\n",
       "      <th>4</th>\n",
       "      <td>202206</td>\n",
       "      <td>1호선</td>\n",
       "      <td>신설동</td>\n",
       "      <td>266454</td>\n",
       "      <td>254310</td>\n",
       "    </tr>\n",
       "  </tbody>\n",
       "</table>\n",
       "</div>"
      ],
      "text/plain": [
       "     사용일자  노선명   역명  승차총승객수  하차총승객수\n",
       "0  202206  1호선  동대문  211559  198247\n",
       "1  202206  1호선  동묘앞  147527  153943\n",
       "2  202206  1호선  서울역  931382  899189\n",
       "3  202206  1호선   시청  463077  466015\n",
       "4  202206  1호선  신설동  266454  254310"
      ]
     },
     "execution_count": 37,
     "metadata": {},
     "output_type": "execute_result"
    }
   ],
   "source": [
    "df_6.head()"
   ]
  },
  {
   "cell_type": "code",
   "execution_count": 38,
   "metadata": {},
   "outputs": [
    {
     "data": {
      "text/html": [
       "<div>\n",
       "<style scoped>\n",
       "    .dataframe tbody tr th:only-of-type {\n",
       "        vertical-align: middle;\n",
       "    }\n",
       "\n",
       "    .dataframe tbody tr th {\n",
       "        vertical-align: top;\n",
       "    }\n",
       "\n",
       "    .dataframe thead th {\n",
       "        text-align: right;\n",
       "    }\n",
       "</style>\n",
       "<table border=\"1\" class=\"dataframe\">\n",
       "  <thead>\n",
       "    <tr style=\"text-align: right;\">\n",
       "      <th></th>\n",
       "      <th>사용일자</th>\n",
       "      <th>노선명</th>\n",
       "      <th>역명</th>\n",
       "      <th>승차총승객수</th>\n",
       "      <th>하차총승객수</th>\n",
       "    </tr>\n",
       "  </thead>\n",
       "  <tbody>\n",
       "    <tr>\n",
       "      <th>91857</th>\n",
       "      <td>20220603</td>\n",
       "      <td>2호선</td>\n",
       "      <td>이대</td>\n",
       "      <td>15454</td>\n",
       "      <td>15881</td>\n",
       "    </tr>\n",
       "    <tr>\n",
       "      <th>91858</th>\n",
       "      <td>20220603</td>\n",
       "      <td>2호선</td>\n",
       "      <td>신촌</td>\n",
       "      <td>37542</td>\n",
       "      <td>38122</td>\n",
       "    </tr>\n",
       "    <tr>\n",
       "      <th>91859</th>\n",
       "      <td>20220603</td>\n",
       "      <td>경의선</td>\n",
       "      <td>계양</td>\n",
       "      <td>1</td>\n",
       "      <td>0</td>\n",
       "    </tr>\n",
       "    <tr>\n",
       "      <th>91860</th>\n",
       "      <td>20220603</td>\n",
       "      <td>2호선</td>\n",
       "      <td>홍대입구</td>\n",
       "      <td>60049</td>\n",
       "      <td>68627</td>\n",
       "    </tr>\n",
       "    <tr>\n",
       "      <th>91861</th>\n",
       "      <td>20220603</td>\n",
       "      <td>2호선</td>\n",
       "      <td>영등포구청</td>\n",
       "      <td>23333</td>\n",
       "      <td>24177</td>\n",
       "    </tr>\n",
       "  </tbody>\n",
       "</table>\n",
       "</div>"
      ],
      "text/plain": [
       "           사용일자  노선명     역명  승차총승객수  하차총승객수\n",
       "91857  20220603  2호선     이대   15454   15881\n",
       "91858  20220603  2호선     신촌   37542   38122\n",
       "91859  20220603  경의선     계양       1       0\n",
       "91860  20220603  2호선   홍대입구   60049   68627\n",
       "91861  20220603  2호선  영등포구청   23333   24177"
      ]
     },
     "execution_count": 38,
     "metadata": {},
     "output_type": "execute_result"
    }
   ],
   "source": [
    "df_6 = pd.concat([df_6, df6], axis=0)\n",
    "df_6.tail()"
   ]
  },
  {
   "attachments": {},
   "cell_type": "markdown",
   "metadata": {},
   "source": [
    "### 7월"
   ]
  },
  {
   "cell_type": "code",
   "execution_count": 39,
   "metadata": {},
   "outputs": [],
   "source": [
    "cols = list(df.columns)[:3]\n",
    "target = list(df.columns)[3:]\n",
    "df_list = []\n",
    "# 반복문에 해당되지 않는 범위는 수동으로 구해서 \n",
    "for i in range(4, 26, 7): # 사용할때 여기 수정 해당 월에 맞게   여긴 1월2일이 월요일이라 2일 부터 시작 30,31일 데이터는 추가로 더해야함\n",
    "    start_date = 20220700 + i   # 여기도 조건에 맞게 수정\n",
    "    end_date = start_date + 5\n",
    "    df_temp = df[(df['사용일자'] >= start_date) & (df['사용일자'] < end_date)].copy()\n",
    "    df_temp = df_temp.groupby(cols)[target].agg('sum').reset_index()\n",
    "    df_list.append(df_temp)\n",
    "df_7 = pd.concat(df_list, axis=0)\n",
    "df_7['사용일자'] = 202207\n",
    "\n",
    "df_7 = df_7.groupby(cols)[target].agg('sum').reset_index()"
   ]
  },
  {
   "cell_type": "code",
   "execution_count": 40,
   "metadata": {},
   "outputs": [
    {
     "data": {
      "text/html": [
       "<div>\n",
       "<style scoped>\n",
       "    .dataframe tbody tr th:only-of-type {\n",
       "        vertical-align: middle;\n",
       "    }\n",
       "\n",
       "    .dataframe tbody tr th {\n",
       "        vertical-align: top;\n",
       "    }\n",
       "\n",
       "    .dataframe thead th {\n",
       "        text-align: right;\n",
       "    }\n",
       "</style>\n",
       "<table border=\"1\" class=\"dataframe\">\n",
       "  <thead>\n",
       "    <tr style=\"text-align: right;\">\n",
       "      <th></th>\n",
       "      <th>사용일자</th>\n",
       "      <th>노선명</th>\n",
       "      <th>역명</th>\n",
       "      <th>승차총승객수</th>\n",
       "      <th>하차총승객수</th>\n",
       "    </tr>\n",
       "  </thead>\n",
       "  <tbody>\n",
       "    <tr>\n",
       "      <th>0</th>\n",
       "      <td>202207</td>\n",
       "      <td>1호선</td>\n",
       "      <td>동대문</td>\n",
       "      <td>221633</td>\n",
       "      <td>207246</td>\n",
       "    </tr>\n",
       "    <tr>\n",
       "      <th>1</th>\n",
       "      <td>202207</td>\n",
       "      <td>1호선</td>\n",
       "      <td>동묘앞</td>\n",
       "      <td>153747</td>\n",
       "      <td>160127</td>\n",
       "    </tr>\n",
       "    <tr>\n",
       "      <th>2</th>\n",
       "      <td>202207</td>\n",
       "      <td>1호선</td>\n",
       "      <td>서울역</td>\n",
       "      <td>970884</td>\n",
       "      <td>948840</td>\n",
       "    </tr>\n",
       "    <tr>\n",
       "      <th>3</th>\n",
       "      <td>202207</td>\n",
       "      <td>1호선</td>\n",
       "      <td>시청</td>\n",
       "      <td>490930</td>\n",
       "      <td>501232</td>\n",
       "    </tr>\n",
       "    <tr>\n",
       "      <th>4</th>\n",
       "      <td>202207</td>\n",
       "      <td>1호선</td>\n",
       "      <td>신설동</td>\n",
       "      <td>282640</td>\n",
       "      <td>275240</td>\n",
       "    </tr>\n",
       "  </tbody>\n",
       "</table>\n",
       "</div>"
      ],
      "text/plain": [
       "     사용일자  노선명   역명  승차총승객수  하차총승객수\n",
       "0  202207  1호선  동대문  221633  207246\n",
       "1  202207  1호선  동묘앞  153747  160127\n",
       "2  202207  1호선  서울역  970884  948840\n",
       "3  202207  1호선   시청  490930  501232\n",
       "4  202207  1호선  신설동  282640  275240"
      ]
     },
     "execution_count": 40,
     "metadata": {},
     "output_type": "execute_result"
    }
   ],
   "source": [
    "df_7.head()"
   ]
  },
  {
   "cell_type": "code",
   "execution_count": 41,
   "metadata": {},
   "outputs": [
    {
     "data": {
      "text/plain": [
       "(614, 5)"
      ]
     },
     "execution_count": 41,
     "metadata": {},
     "output_type": "execute_result"
    }
   ],
   "source": [
    "df_7.shape"
   ]
  },
  {
   "cell_type": "code",
   "execution_count": 42,
   "metadata": {},
   "outputs": [
    {
     "data": {
      "text/plain": [
       "(608, 5)"
      ]
     },
     "execution_count": 42,
     "metadata": {},
     "output_type": "execute_result"
    }
   ],
   "source": [
    "# 수동\n",
    "df7 = df[(df.사용일자 >= 20220701)&(df.사용일자 < 20220702)].copy()\n",
    "df7.groupby(cols)[target].agg('sum').reset_index()\n",
    "df7.shape"
   ]
  },
  {
   "cell_type": "code",
   "execution_count": 43,
   "metadata": {},
   "outputs": [
    {
     "data": {
      "text/html": [
       "<div>\n",
       "<style scoped>\n",
       "    .dataframe tbody tr th:only-of-type {\n",
       "        vertical-align: middle;\n",
       "    }\n",
       "\n",
       "    .dataframe tbody tr th {\n",
       "        vertical-align: top;\n",
       "    }\n",
       "\n",
       "    .dataframe thead th {\n",
       "        text-align: right;\n",
       "    }\n",
       "</style>\n",
       "<table border=\"1\" class=\"dataframe\">\n",
       "  <thead>\n",
       "    <tr style=\"text-align: right;\">\n",
       "      <th></th>\n",
       "      <th>사용일자</th>\n",
       "      <th>노선명</th>\n",
       "      <th>역명</th>\n",
       "      <th>승차총승객수</th>\n",
       "      <th>하차총승객수</th>\n",
       "    </tr>\n",
       "  </thead>\n",
       "  <tbody>\n",
       "    <tr>\n",
       "      <th>0</th>\n",
       "      <td>202207</td>\n",
       "      <td>1호선</td>\n",
       "      <td>동대문</td>\n",
       "      <td>221633</td>\n",
       "      <td>207246</td>\n",
       "    </tr>\n",
       "    <tr>\n",
       "      <th>1</th>\n",
       "      <td>202207</td>\n",
       "      <td>1호선</td>\n",
       "      <td>동묘앞</td>\n",
       "      <td>153747</td>\n",
       "      <td>160127</td>\n",
       "    </tr>\n",
       "    <tr>\n",
       "      <th>2</th>\n",
       "      <td>202207</td>\n",
       "      <td>1호선</td>\n",
       "      <td>서울역</td>\n",
       "      <td>970884</td>\n",
       "      <td>948840</td>\n",
       "    </tr>\n",
       "    <tr>\n",
       "      <th>3</th>\n",
       "      <td>202207</td>\n",
       "      <td>1호선</td>\n",
       "      <td>시청</td>\n",
       "      <td>490930</td>\n",
       "      <td>501232</td>\n",
       "    </tr>\n",
       "    <tr>\n",
       "      <th>4</th>\n",
       "      <td>202207</td>\n",
       "      <td>1호선</td>\n",
       "      <td>신설동</td>\n",
       "      <td>282640</td>\n",
       "      <td>275240</td>\n",
       "    </tr>\n",
       "  </tbody>\n",
       "</table>\n",
       "</div>"
      ],
      "text/plain": [
       "     사용일자  노선명   역명  승차총승객수  하차총승객수\n",
       "0  202207  1호선  동대문  221633  207246\n",
       "1  202207  1호선  동묘앞  153747  160127\n",
       "2  202207  1호선  서울역  970884  948840\n",
       "3  202207  1호선   시청  490930  501232\n",
       "4  202207  1호선  신설동  282640  275240"
      ]
     },
     "execution_count": 43,
     "metadata": {},
     "output_type": "execute_result"
    }
   ],
   "source": [
    "df_7.head()"
   ]
  },
  {
   "cell_type": "code",
   "execution_count": 44,
   "metadata": {},
   "outputs": [
    {
     "data": {
      "text/html": [
       "<div>\n",
       "<style scoped>\n",
       "    .dataframe tbody tr th:only-of-type {\n",
       "        vertical-align: middle;\n",
       "    }\n",
       "\n",
       "    .dataframe tbody tr th {\n",
       "        vertical-align: top;\n",
       "    }\n",
       "\n",
       "    .dataframe thead th {\n",
       "        text-align: right;\n",
       "    }\n",
       "</style>\n",
       "<table border=\"1\" class=\"dataframe\">\n",
       "  <thead>\n",
       "    <tr style=\"text-align: right;\">\n",
       "      <th></th>\n",
       "      <th>사용일자</th>\n",
       "      <th>노선명</th>\n",
       "      <th>역명</th>\n",
       "      <th>승차총승객수</th>\n",
       "      <th>하차총승객수</th>\n",
       "    </tr>\n",
       "  </thead>\n",
       "  <tbody>\n",
       "    <tr>\n",
       "      <th>108825</th>\n",
       "      <td>20220701</td>\n",
       "      <td>과천선</td>\n",
       "      <td>평촌</td>\n",
       "      <td>18690</td>\n",
       "      <td>18213</td>\n",
       "    </tr>\n",
       "    <tr>\n",
       "      <th>108826</th>\n",
       "      <td>20220701</td>\n",
       "      <td>과천선</td>\n",
       "      <td>범계</td>\n",
       "      <td>27864</td>\n",
       "      <td>29521</td>\n",
       "    </tr>\n",
       "    <tr>\n",
       "      <th>108827</th>\n",
       "      <td>20220701</td>\n",
       "      <td>2호선</td>\n",
       "      <td>왕십리</td>\n",
       "      <td>18890</td>\n",
       "      <td>16119</td>\n",
       "    </tr>\n",
       "    <tr>\n",
       "      <th>108828</th>\n",
       "      <td>20220701</td>\n",
       "      <td>2호선</td>\n",
       "      <td>한양대</td>\n",
       "      <td>9305</td>\n",
       "      <td>9677</td>\n",
       "    </tr>\n",
       "    <tr>\n",
       "      <th>108829</th>\n",
       "      <td>20220701</td>\n",
       "      <td>2호선</td>\n",
       "      <td>뚝섬</td>\n",
       "      <td>24885</td>\n",
       "      <td>26469</td>\n",
       "    </tr>\n",
       "  </tbody>\n",
       "</table>\n",
       "</div>"
      ],
      "text/plain": [
       "            사용일자  노선명   역명  승차총승객수  하차총승객수\n",
       "108825  20220701  과천선   평촌   18690   18213\n",
       "108826  20220701  과천선   범계   27864   29521\n",
       "108827  20220701  2호선  왕십리   18890   16119\n",
       "108828  20220701  2호선  한양대    9305    9677\n",
       "108829  20220701  2호선   뚝섬   24885   26469"
      ]
     },
     "execution_count": 44,
     "metadata": {},
     "output_type": "execute_result"
    }
   ],
   "source": [
    "df_7 = pd.concat([df_7, df7], axis=0)\n",
    "df_7.tail()"
   ]
  },
  {
   "attachments": {},
   "cell_type": "markdown",
   "metadata": {},
   "source": [
    "### 8월"
   ]
  },
  {
   "cell_type": "code",
   "execution_count": 45,
   "metadata": {},
   "outputs": [],
   "source": [
    "cols = list(df.columns)[:3]\n",
    "target = list(df.columns)[3:]\n",
    "df_list = []\n",
    "# 반복문에 해당되지 않는 범위는 수동으로 구해서 \n",
    "for i in range(1, 23, 7): # 사용할때 여기 수정 해당 월에 맞게   여긴 1월2일이 월요일이라 2일 부터 시작 30,31일 데이터는 추가로 더해야함\n",
    "    start_date = 20220800 + i   # 여기도 조건에 맞게 수정\n",
    "    end_date = start_date + 5\n",
    "    df_temp = df[(df['사용일자'] >= start_date) & (df['사용일자'] < end_date)].copy()\n",
    "    df_temp = df_temp.groupby(cols)[target].agg('sum').reset_index()\n",
    "    df_list.append(df_temp)\n",
    "df_8 = pd.concat(df_list, axis=0)\n",
    "df_8['사용일자'] = 202208\n",
    "\n",
    "df_8 = df_8.groupby(cols)[target].agg('sum').reset_index()"
   ]
  },
  {
   "cell_type": "code",
   "execution_count": 46,
   "metadata": {},
   "outputs": [
    {
     "data": {
      "text/html": [
       "<div>\n",
       "<style scoped>\n",
       "    .dataframe tbody tr th:only-of-type {\n",
       "        vertical-align: middle;\n",
       "    }\n",
       "\n",
       "    .dataframe tbody tr th {\n",
       "        vertical-align: top;\n",
       "    }\n",
       "\n",
       "    .dataframe thead th {\n",
       "        text-align: right;\n",
       "    }\n",
       "</style>\n",
       "<table border=\"1\" class=\"dataframe\">\n",
       "  <thead>\n",
       "    <tr style=\"text-align: right;\">\n",
       "      <th></th>\n",
       "      <th>사용일자</th>\n",
       "      <th>노선명</th>\n",
       "      <th>역명</th>\n",
       "      <th>승차총승객수</th>\n",
       "      <th>하차총승객수</th>\n",
       "    </tr>\n",
       "  </thead>\n",
       "  <tbody>\n",
       "    <tr>\n",
       "      <th>0</th>\n",
       "      <td>202208</td>\n",
       "      <td>1호선</td>\n",
       "      <td>동대문</td>\n",
       "      <td>203037</td>\n",
       "      <td>188308</td>\n",
       "    </tr>\n",
       "    <tr>\n",
       "      <th>1</th>\n",
       "      <td>202208</td>\n",
       "      <td>1호선</td>\n",
       "      <td>동묘앞</td>\n",
       "      <td>140178</td>\n",
       "      <td>145762</td>\n",
       "    </tr>\n",
       "    <tr>\n",
       "      <th>2</th>\n",
       "      <td>202208</td>\n",
       "      <td>1호선</td>\n",
       "      <td>서울역</td>\n",
       "      <td>942101</td>\n",
       "      <td>908015</td>\n",
       "    </tr>\n",
       "    <tr>\n",
       "      <th>3</th>\n",
       "      <td>202208</td>\n",
       "      <td>1호선</td>\n",
       "      <td>시청</td>\n",
       "      <td>466054</td>\n",
       "      <td>475743</td>\n",
       "    </tr>\n",
       "    <tr>\n",
       "      <th>4</th>\n",
       "      <td>202208</td>\n",
       "      <td>1호선</td>\n",
       "      <td>신설동</td>\n",
       "      <td>255251</td>\n",
       "      <td>249183</td>\n",
       "    </tr>\n",
       "  </tbody>\n",
       "</table>\n",
       "</div>"
      ],
      "text/plain": [
       "     사용일자  노선명   역명  승차총승객수  하차총승객수\n",
       "0  202208  1호선  동대문  203037  188308\n",
       "1  202208  1호선  동묘앞  140178  145762\n",
       "2  202208  1호선  서울역  942101  908015\n",
       "3  202208  1호선   시청  466054  475743\n",
       "4  202208  1호선  신설동  255251  249183"
      ]
     },
     "execution_count": 46,
     "metadata": {},
     "output_type": "execute_result"
    }
   ],
   "source": [
    "df_8.head()"
   ]
  },
  {
   "cell_type": "code",
   "execution_count": 47,
   "metadata": {},
   "outputs": [
    {
     "data": {
      "text/plain": [
       "(613, 5)"
      ]
     },
     "execution_count": 47,
     "metadata": {},
     "output_type": "execute_result"
    }
   ],
   "source": [
    "df_8.shape"
   ]
  },
  {
   "cell_type": "code",
   "execution_count": 48,
   "metadata": {},
   "outputs": [
    {
     "data": {
      "text/plain": [
       "(1821, 5)"
      ]
     },
     "execution_count": 48,
     "metadata": {},
     "output_type": "execute_result"
    }
   ],
   "source": [
    "# 수동\n",
    "df8 = df[(df.사용일자 >= 20220829)&(df.사용일자 < 20220901)].copy()\n",
    "df8.groupby(cols)[target].agg('sum').reset_index()\n",
    "df8.shape"
   ]
  },
  {
   "cell_type": "code",
   "execution_count": 49,
   "metadata": {},
   "outputs": [
    {
     "data": {
      "text/html": [
       "<div>\n",
       "<style scoped>\n",
       "    .dataframe tbody tr th:only-of-type {\n",
       "        vertical-align: middle;\n",
       "    }\n",
       "\n",
       "    .dataframe tbody tr th {\n",
       "        vertical-align: top;\n",
       "    }\n",
       "\n",
       "    .dataframe thead th {\n",
       "        text-align: right;\n",
       "    }\n",
       "</style>\n",
       "<table border=\"1\" class=\"dataframe\">\n",
       "  <thead>\n",
       "    <tr style=\"text-align: right;\">\n",
       "      <th></th>\n",
       "      <th>사용일자</th>\n",
       "      <th>노선명</th>\n",
       "      <th>역명</th>\n",
       "      <th>승차총승객수</th>\n",
       "      <th>하차총승객수</th>\n",
       "    </tr>\n",
       "  </thead>\n",
       "  <tbody>\n",
       "    <tr>\n",
       "      <th>0</th>\n",
       "      <td>202208</td>\n",
       "      <td>1호선</td>\n",
       "      <td>동대문</td>\n",
       "      <td>203037</td>\n",
       "      <td>188308</td>\n",
       "    </tr>\n",
       "    <tr>\n",
       "      <th>1</th>\n",
       "      <td>202208</td>\n",
       "      <td>1호선</td>\n",
       "      <td>동묘앞</td>\n",
       "      <td>140178</td>\n",
       "      <td>145762</td>\n",
       "    </tr>\n",
       "    <tr>\n",
       "      <th>2</th>\n",
       "      <td>202208</td>\n",
       "      <td>1호선</td>\n",
       "      <td>서울역</td>\n",
       "      <td>942101</td>\n",
       "      <td>908015</td>\n",
       "    </tr>\n",
       "    <tr>\n",
       "      <th>3</th>\n",
       "      <td>202208</td>\n",
       "      <td>1호선</td>\n",
       "      <td>시청</td>\n",
       "      <td>466054</td>\n",
       "      <td>475743</td>\n",
       "    </tr>\n",
       "    <tr>\n",
       "      <th>4</th>\n",
       "      <td>202208</td>\n",
       "      <td>1호선</td>\n",
       "      <td>신설동</td>\n",
       "      <td>255251</td>\n",
       "      <td>249183</td>\n",
       "    </tr>\n",
       "  </tbody>\n",
       "</table>\n",
       "</div>"
      ],
      "text/plain": [
       "     사용일자  노선명   역명  승차총승객수  하차총승객수\n",
       "0  202208  1호선  동대문  203037  188308\n",
       "1  202208  1호선  동묘앞  140178  145762\n",
       "2  202208  1호선  서울역  942101  908015\n",
       "3  202208  1호선   시청  466054  475743\n",
       "4  202208  1호선  신설동  255251  249183"
      ]
     },
     "execution_count": 49,
     "metadata": {},
     "output_type": "execute_result"
    }
   ],
   "source": [
    "df_8.head()"
   ]
  },
  {
   "cell_type": "code",
   "execution_count": 50,
   "metadata": {},
   "outputs": [
    {
     "data": {
      "text/html": [
       "<div>\n",
       "<style scoped>\n",
       "    .dataframe tbody tr th:only-of-type {\n",
       "        vertical-align: middle;\n",
       "    }\n",
       "\n",
       "    .dataframe tbody tr th {\n",
       "        vertical-align: top;\n",
       "    }\n",
       "\n",
       "    .dataframe thead th {\n",
       "        text-align: right;\n",
       "    }\n",
       "</style>\n",
       "<table border=\"1\" class=\"dataframe\">\n",
       "  <thead>\n",
       "    <tr style=\"text-align: right;\">\n",
       "      <th></th>\n",
       "      <th>사용일자</th>\n",
       "      <th>노선명</th>\n",
       "      <th>역명</th>\n",
       "      <th>승차총승객수</th>\n",
       "      <th>하차총승객수</th>\n",
       "    </tr>\n",
       "  </thead>\n",
       "  <tbody>\n",
       "    <tr>\n",
       "      <th>145789</th>\n",
       "      <td>20220831</td>\n",
       "      <td>중앙선</td>\n",
       "      <td>국수</td>\n",
       "      <td>901</td>\n",
       "      <td>848</td>\n",
       "    </tr>\n",
       "    <tr>\n",
       "      <th>145790</th>\n",
       "      <td>20220831</td>\n",
       "      <td>중앙선</td>\n",
       "      <td>아신</td>\n",
       "      <td>639</td>\n",
       "      <td>632</td>\n",
       "    </tr>\n",
       "    <tr>\n",
       "      <th>145791</th>\n",
       "      <td>20220831</td>\n",
       "      <td>중앙선</td>\n",
       "      <td>오빈</td>\n",
       "      <td>321</td>\n",
       "      <td>317</td>\n",
       "    </tr>\n",
       "    <tr>\n",
       "      <th>145792</th>\n",
       "      <td>20220831</td>\n",
       "      <td>중앙선</td>\n",
       "      <td>양평</td>\n",
       "      <td>2850</td>\n",
       "      <td>2848</td>\n",
       "    </tr>\n",
       "    <tr>\n",
       "      <th>145793</th>\n",
       "      <td>20220831</td>\n",
       "      <td>중앙선</td>\n",
       "      <td>용문</td>\n",
       "      <td>1754</td>\n",
       "      <td>1726</td>\n",
       "    </tr>\n",
       "  </tbody>\n",
       "</table>\n",
       "</div>"
      ],
      "text/plain": [
       "            사용일자  노선명  역명  승차총승객수  하차총승객수\n",
       "145789  20220831  중앙선  국수     901     848\n",
       "145790  20220831  중앙선  아신     639     632\n",
       "145791  20220831  중앙선  오빈     321     317\n",
       "145792  20220831  중앙선  양평    2850    2848\n",
       "145793  20220831  중앙선  용문    1754    1726"
      ]
     },
     "execution_count": 50,
     "metadata": {},
     "output_type": "execute_result"
    }
   ],
   "source": [
    "df_8 = pd.concat([df_8, df8], axis=0)\n",
    "df_8.tail()"
   ]
  },
  {
   "attachments": {},
   "cell_type": "markdown",
   "metadata": {},
   "source": [
    "### 9월"
   ]
  },
  {
   "cell_type": "code",
   "execution_count": 51,
   "metadata": {},
   "outputs": [],
   "source": [
    "cols = list(df.columns)[:3]\n",
    "target = list(df.columns)[3:]\n",
    "df_list = []\n",
    "# 반복문에 해당되지 않는 범위는 수동으로 구해서 \n",
    "for i in range(5, 27, 7): # 사용할때 여기 수정 해당 월에 맞게   여긴 1월2일이 월요일이라 2일 부터 시작 30,31일 데이터는 추가로 더해야함\n",
    "    start_date = 20220900 + i   # 여기도 조건에 맞게 수정\n",
    "    end_date = start_date + 5\n",
    "    df_temp = df[(df['사용일자'] >= start_date) & (df['사용일자'] < end_date)].copy()\n",
    "    df_temp = df_temp.groupby(cols)[target].agg('sum').reset_index()\n",
    "    df_list.append(df_temp)\n",
    "df_9 = pd.concat(df_list, axis=0)\n",
    "df_9['사용일자'] = 202209\n",
    "\n",
    "df_9 = df_9.groupby(cols)[target].agg('sum').reset_index()"
   ]
  },
  {
   "cell_type": "code",
   "execution_count": 52,
   "metadata": {},
   "outputs": [
    {
     "data": {
      "text/html": [
       "<div>\n",
       "<style scoped>\n",
       "    .dataframe tbody tr th:only-of-type {\n",
       "        vertical-align: middle;\n",
       "    }\n",
       "\n",
       "    .dataframe tbody tr th {\n",
       "        vertical-align: top;\n",
       "    }\n",
       "\n",
       "    .dataframe thead th {\n",
       "        text-align: right;\n",
       "    }\n",
       "</style>\n",
       "<table border=\"1\" class=\"dataframe\">\n",
       "  <thead>\n",
       "    <tr style=\"text-align: right;\">\n",
       "      <th></th>\n",
       "      <th>사용일자</th>\n",
       "      <th>노선명</th>\n",
       "      <th>역명</th>\n",
       "      <th>승차총승객수</th>\n",
       "      <th>하차총승객수</th>\n",
       "    </tr>\n",
       "  </thead>\n",
       "  <tbody>\n",
       "    <tr>\n",
       "      <th>0</th>\n",
       "      <td>202209</td>\n",
       "      <td>1호선</td>\n",
       "      <td>동대문</td>\n",
       "      <td>222757</td>\n",
       "      <td>208422</td>\n",
       "    </tr>\n",
       "    <tr>\n",
       "      <th>1</th>\n",
       "      <td>202209</td>\n",
       "      <td>1호선</td>\n",
       "      <td>동묘앞</td>\n",
       "      <td>170179</td>\n",
       "      <td>176652</td>\n",
       "    </tr>\n",
       "    <tr>\n",
       "      <th>2</th>\n",
       "      <td>202209</td>\n",
       "      <td>1호선</td>\n",
       "      <td>서울역</td>\n",
       "      <td>973348</td>\n",
       "      <td>962286</td>\n",
       "    </tr>\n",
       "    <tr>\n",
       "      <th>3</th>\n",
       "      <td>202209</td>\n",
       "      <td>1호선</td>\n",
       "      <td>시청</td>\n",
       "      <td>494364</td>\n",
       "      <td>503124</td>\n",
       "    </tr>\n",
       "    <tr>\n",
       "      <th>4</th>\n",
       "      <td>202209</td>\n",
       "      <td>1호선</td>\n",
       "      <td>신설동</td>\n",
       "      <td>277100</td>\n",
       "      <td>266787</td>\n",
       "    </tr>\n",
       "  </tbody>\n",
       "</table>\n",
       "</div>"
      ],
      "text/plain": [
       "     사용일자  노선명   역명  승차총승객수  하차총승객수\n",
       "0  202209  1호선  동대문  222757  208422\n",
       "1  202209  1호선  동묘앞  170179  176652\n",
       "2  202209  1호선  서울역  973348  962286\n",
       "3  202209  1호선   시청  494364  503124\n",
       "4  202209  1호선  신설동  277100  266787"
      ]
     },
     "execution_count": 52,
     "metadata": {},
     "output_type": "execute_result"
    }
   ],
   "source": [
    "df_9.head()"
   ]
  },
  {
   "cell_type": "code",
   "execution_count": 53,
   "metadata": {},
   "outputs": [
    {
     "data": {
      "text/plain": [
       "(613, 5)"
      ]
     },
     "execution_count": 53,
     "metadata": {},
     "output_type": "execute_result"
    }
   ],
   "source": [
    "df_9.shape"
   ]
  },
  {
   "cell_type": "code",
   "execution_count": 54,
   "metadata": {},
   "outputs": [
    {
     "data": {
      "text/plain": [
       "(1213, 5)"
      ]
     },
     "execution_count": 54,
     "metadata": {},
     "output_type": "execute_result"
    }
   ],
   "source": [
    "# 수동\n",
    "df9 = df[(df.사용일자 >= 20220901)&(df.사용일자 < 20220903)].copy()\n",
    "df9.groupby(cols)[target].agg('sum').reset_index()\n",
    "df9.shape"
   ]
  },
  {
   "cell_type": "code",
   "execution_count": 55,
   "metadata": {},
   "outputs": [
    {
     "data": {
      "text/html": [
       "<div>\n",
       "<style scoped>\n",
       "    .dataframe tbody tr th:only-of-type {\n",
       "        vertical-align: middle;\n",
       "    }\n",
       "\n",
       "    .dataframe tbody tr th {\n",
       "        vertical-align: top;\n",
       "    }\n",
       "\n",
       "    .dataframe thead th {\n",
       "        text-align: right;\n",
       "    }\n",
       "</style>\n",
       "<table border=\"1\" class=\"dataframe\">\n",
       "  <thead>\n",
       "    <tr style=\"text-align: right;\">\n",
       "      <th></th>\n",
       "      <th>사용일자</th>\n",
       "      <th>노선명</th>\n",
       "      <th>역명</th>\n",
       "      <th>승차총승객수</th>\n",
       "      <th>하차총승객수</th>\n",
       "    </tr>\n",
       "  </thead>\n",
       "  <tbody>\n",
       "    <tr>\n",
       "      <th>0</th>\n",
       "      <td>202209</td>\n",
       "      <td>1호선</td>\n",
       "      <td>동대문</td>\n",
       "      <td>222757</td>\n",
       "      <td>208422</td>\n",
       "    </tr>\n",
       "    <tr>\n",
       "      <th>1</th>\n",
       "      <td>202209</td>\n",
       "      <td>1호선</td>\n",
       "      <td>동묘앞</td>\n",
       "      <td>170179</td>\n",
       "      <td>176652</td>\n",
       "    </tr>\n",
       "    <tr>\n",
       "      <th>2</th>\n",
       "      <td>202209</td>\n",
       "      <td>1호선</td>\n",
       "      <td>서울역</td>\n",
       "      <td>973348</td>\n",
       "      <td>962286</td>\n",
       "    </tr>\n",
       "    <tr>\n",
       "      <th>3</th>\n",
       "      <td>202209</td>\n",
       "      <td>1호선</td>\n",
       "      <td>시청</td>\n",
       "      <td>494364</td>\n",
       "      <td>503124</td>\n",
       "    </tr>\n",
       "    <tr>\n",
       "      <th>4</th>\n",
       "      <td>202209</td>\n",
       "      <td>1호선</td>\n",
       "      <td>신설동</td>\n",
       "      <td>277100</td>\n",
       "      <td>266787</td>\n",
       "    </tr>\n",
       "  </tbody>\n",
       "</table>\n",
       "</div>"
      ],
      "text/plain": [
       "     사용일자  노선명   역명  승차총승객수  하차총승객수\n",
       "0  202209  1호선  동대문  222757  208422\n",
       "1  202209  1호선  동묘앞  170179  176652\n",
       "2  202209  1호선  서울역  973348  962286\n",
       "3  202209  1호선   시청  494364  503124\n",
       "4  202209  1호선  신설동  277100  266787"
      ]
     },
     "execution_count": 55,
     "metadata": {},
     "output_type": "execute_result"
    }
   ],
   "source": [
    "df_9.head()"
   ]
  },
  {
   "cell_type": "code",
   "execution_count": 56,
   "metadata": {},
   "outputs": [
    {
     "data": {
      "text/html": [
       "<div>\n",
       "<style scoped>\n",
       "    .dataframe tbody tr th:only-of-type {\n",
       "        vertical-align: middle;\n",
       "    }\n",
       "\n",
       "    .dataframe tbody tr th {\n",
       "        vertical-align: top;\n",
       "    }\n",
       "\n",
       "    .dataframe thead th {\n",
       "        text-align: right;\n",
       "    }\n",
       "</style>\n",
       "<table border=\"1\" class=\"dataframe\">\n",
       "  <thead>\n",
       "    <tr style=\"text-align: right;\">\n",
       "      <th></th>\n",
       "      <th>사용일자</th>\n",
       "      <th>노선명</th>\n",
       "      <th>역명</th>\n",
       "      <th>승차총승객수</th>\n",
       "      <th>하차총승객수</th>\n",
       "    </tr>\n",
       "  </thead>\n",
       "  <tbody>\n",
       "    <tr>\n",
       "      <th>147002</th>\n",
       "      <td>20220902</td>\n",
       "      <td>1호선</td>\n",
       "      <td>동대문</td>\n",
       "      <td>11733</td>\n",
       "      <td>10125</td>\n",
       "    </tr>\n",
       "    <tr>\n",
       "      <th>147003</th>\n",
       "      <td>20220902</td>\n",
       "      <td>1호선</td>\n",
       "      <td>종로5가</td>\n",
       "      <td>26190</td>\n",
       "      <td>26500</td>\n",
       "    </tr>\n",
       "    <tr>\n",
       "      <th>147004</th>\n",
       "      <td>20220902</td>\n",
       "      <td>1호선</td>\n",
       "      <td>종로3가</td>\n",
       "      <td>28474</td>\n",
       "      <td>26575</td>\n",
       "    </tr>\n",
       "    <tr>\n",
       "      <th>147005</th>\n",
       "      <td>20220902</td>\n",
       "      <td>1호선</td>\n",
       "      <td>종각</td>\n",
       "      <td>39966</td>\n",
       "      <td>40247</td>\n",
       "    </tr>\n",
       "    <tr>\n",
       "      <th>147006</th>\n",
       "      <td>20220902</td>\n",
       "      <td>1호선</td>\n",
       "      <td>서울역</td>\n",
       "      <td>54463</td>\n",
       "      <td>52615</td>\n",
       "    </tr>\n",
       "  </tbody>\n",
       "</table>\n",
       "</div>"
      ],
      "text/plain": [
       "            사용일자  노선명    역명  승차총승객수  하차총승객수\n",
       "147002  20220902  1호선   동대문   11733   10125\n",
       "147003  20220902  1호선  종로5가   26190   26500\n",
       "147004  20220902  1호선  종로3가   28474   26575\n",
       "147005  20220902  1호선    종각   39966   40247\n",
       "147006  20220902  1호선   서울역   54463   52615"
      ]
     },
     "execution_count": 56,
     "metadata": {},
     "output_type": "execute_result"
    }
   ],
   "source": [
    "df_9 = pd.concat([df_9, df9], axis=0)\n",
    "df_9.tail()"
   ]
  },
  {
   "attachments": {},
   "cell_type": "markdown",
   "metadata": {},
   "source": [
    "### 10월"
   ]
  },
  {
   "cell_type": "code",
   "execution_count": 57,
   "metadata": {},
   "outputs": [],
   "source": [
    "cols = list(df.columns)[:3]\n",
    "target = list(df.columns)[3:]\n",
    "df_list = []\n",
    "# 반복문에 해당되지 않는 범위는 수동으로 구해서 \n",
    "for i in range(3, 25, 7): # 사용할때 여기 수정 해당 월에 맞게   여긴 1월2일이 월요일이라 2일 부터 시작 30,31일 데이터는 추가로 더해야함\n",
    "    start_date = 20221000 + i   # 여기도 조건에 맞게 수정\n",
    "    end_date = start_date + 5\n",
    "    df_temp = df[(df['사용일자'] >= start_date) & (df['사용일자'] < end_date)].copy()\n",
    "    df_temp = df_temp.groupby(cols)[target].agg('sum').reset_index()\n",
    "    df_list.append(df_temp)\n",
    "df_10 = pd.concat(df_list, axis=0)\n",
    "df_10['사용일자'] = 202210\n",
    "\n",
    "df_10 = df_10.groupby(cols)[target].agg('sum').reset_index()"
   ]
  },
  {
   "cell_type": "code",
   "execution_count": 58,
   "metadata": {},
   "outputs": [
    {
     "data": {
      "text/html": [
       "<div>\n",
       "<style scoped>\n",
       "    .dataframe tbody tr th:only-of-type {\n",
       "        vertical-align: middle;\n",
       "    }\n",
       "\n",
       "    .dataframe tbody tr th {\n",
       "        vertical-align: top;\n",
       "    }\n",
       "\n",
       "    .dataframe thead th {\n",
       "        text-align: right;\n",
       "    }\n",
       "</style>\n",
       "<table border=\"1\" class=\"dataframe\">\n",
       "  <thead>\n",
       "    <tr style=\"text-align: right;\">\n",
       "      <th></th>\n",
       "      <th>사용일자</th>\n",
       "      <th>노선명</th>\n",
       "      <th>역명</th>\n",
       "      <th>승차총승객수</th>\n",
       "      <th>하차총승객수</th>\n",
       "    </tr>\n",
       "  </thead>\n",
       "  <tbody>\n",
       "    <tr>\n",
       "      <th>0</th>\n",
       "      <td>202210</td>\n",
       "      <td>1호선</td>\n",
       "      <td>동대문</td>\n",
       "      <td>232773</td>\n",
       "      <td>218646</td>\n",
       "    </tr>\n",
       "    <tr>\n",
       "      <th>1</th>\n",
       "      <td>202210</td>\n",
       "      <td>1호선</td>\n",
       "      <td>동묘앞</td>\n",
       "      <td>175723</td>\n",
       "      <td>183428</td>\n",
       "    </tr>\n",
       "    <tr>\n",
       "      <th>2</th>\n",
       "      <td>202210</td>\n",
       "      <td>1호선</td>\n",
       "      <td>서울역</td>\n",
       "      <td>1043940</td>\n",
       "      <td>1019578</td>\n",
       "    </tr>\n",
       "    <tr>\n",
       "      <th>3</th>\n",
       "      <td>202210</td>\n",
       "      <td>1호선</td>\n",
       "      <td>시청</td>\n",
       "      <td>545611</td>\n",
       "      <td>545701</td>\n",
       "    </tr>\n",
       "    <tr>\n",
       "      <th>4</th>\n",
       "      <td>202210</td>\n",
       "      <td>1호선</td>\n",
       "      <td>신설동</td>\n",
       "      <td>287589</td>\n",
       "      <td>278479</td>\n",
       "    </tr>\n",
       "  </tbody>\n",
       "</table>\n",
       "</div>"
      ],
      "text/plain": [
       "     사용일자  노선명   역명   승차총승객수   하차총승객수\n",
       "0  202210  1호선  동대문   232773   218646\n",
       "1  202210  1호선  동묘앞   175723   183428\n",
       "2  202210  1호선  서울역  1043940  1019578\n",
       "3  202210  1호선   시청   545611   545701\n",
       "4  202210  1호선  신설동   287589   278479"
      ]
     },
     "execution_count": 58,
     "metadata": {},
     "output_type": "execute_result"
    }
   ],
   "source": [
    "df_10.head()"
   ]
  },
  {
   "cell_type": "code",
   "execution_count": 59,
   "metadata": {},
   "outputs": [
    {
     "data": {
      "text/plain": [
       "(613, 5)"
      ]
     },
     "execution_count": 59,
     "metadata": {},
     "output_type": "execute_result"
    }
   ],
   "source": [
    "df_10.shape"
   ]
  },
  {
   "cell_type": "code",
   "execution_count": 60,
   "metadata": {},
   "outputs": [
    {
     "data": {
      "text/plain": [
       "(606, 5)"
      ]
     },
     "execution_count": 60,
     "metadata": {},
     "output_type": "execute_result"
    }
   ],
   "source": [
    "# 수동\n",
    "df10 = df[(df.사용일자 >= 20221031)&(df.사용일자 < 20221101)].copy()\n",
    "df10.groupby(cols)[target].agg('sum').reset_index()\n",
    "df10.shape"
   ]
  },
  {
   "cell_type": "code",
   "execution_count": 61,
   "metadata": {},
   "outputs": [
    {
     "data": {
      "text/html": [
       "<div>\n",
       "<style scoped>\n",
       "    .dataframe tbody tr th:only-of-type {\n",
       "        vertical-align: middle;\n",
       "    }\n",
       "\n",
       "    .dataframe tbody tr th {\n",
       "        vertical-align: top;\n",
       "    }\n",
       "\n",
       "    .dataframe thead th {\n",
       "        text-align: right;\n",
       "    }\n",
       "</style>\n",
       "<table border=\"1\" class=\"dataframe\">\n",
       "  <thead>\n",
       "    <tr style=\"text-align: right;\">\n",
       "      <th></th>\n",
       "      <th>사용일자</th>\n",
       "      <th>노선명</th>\n",
       "      <th>역명</th>\n",
       "      <th>승차총승객수</th>\n",
       "      <th>하차총승객수</th>\n",
       "    </tr>\n",
       "  </thead>\n",
       "  <tbody>\n",
       "    <tr>\n",
       "      <th>0</th>\n",
       "      <td>202210</td>\n",
       "      <td>1호선</td>\n",
       "      <td>동대문</td>\n",
       "      <td>232773</td>\n",
       "      <td>218646</td>\n",
       "    </tr>\n",
       "    <tr>\n",
       "      <th>1</th>\n",
       "      <td>202210</td>\n",
       "      <td>1호선</td>\n",
       "      <td>동묘앞</td>\n",
       "      <td>175723</td>\n",
       "      <td>183428</td>\n",
       "    </tr>\n",
       "    <tr>\n",
       "      <th>2</th>\n",
       "      <td>202210</td>\n",
       "      <td>1호선</td>\n",
       "      <td>서울역</td>\n",
       "      <td>1043940</td>\n",
       "      <td>1019578</td>\n",
       "    </tr>\n",
       "    <tr>\n",
       "      <th>3</th>\n",
       "      <td>202210</td>\n",
       "      <td>1호선</td>\n",
       "      <td>시청</td>\n",
       "      <td>545611</td>\n",
       "      <td>545701</td>\n",
       "    </tr>\n",
       "    <tr>\n",
       "      <th>4</th>\n",
       "      <td>202210</td>\n",
       "      <td>1호선</td>\n",
       "      <td>신설동</td>\n",
       "      <td>287589</td>\n",
       "      <td>278479</td>\n",
       "    </tr>\n",
       "  </tbody>\n",
       "</table>\n",
       "</div>"
      ],
      "text/plain": [
       "     사용일자  노선명   역명   승차총승객수   하차총승객수\n",
       "0  202210  1호선  동대문   232773   218646\n",
       "1  202210  1호선  동묘앞   175723   183428\n",
       "2  202210  1호선  서울역  1043940  1019578\n",
       "3  202210  1호선   시청   545611   545701\n",
       "4  202210  1호선  신설동   287589   278479"
      ]
     },
     "execution_count": 61,
     "metadata": {},
     "output_type": "execute_result"
    }
   ],
   "source": [
    "df_10.head()"
   ]
  },
  {
   "cell_type": "code",
   "execution_count": 62,
   "metadata": {},
   "outputs": [
    {
     "data": {
      "text/html": [
       "<div>\n",
       "<style scoped>\n",
       "    .dataframe tbody tr th:only-of-type {\n",
       "        vertical-align: middle;\n",
       "    }\n",
       "\n",
       "    .dataframe tbody tr th {\n",
       "        vertical-align: top;\n",
       "    }\n",
       "\n",
       "    .dataframe thead th {\n",
       "        text-align: right;\n",
       "    }\n",
       "</style>\n",
       "<table border=\"1\" class=\"dataframe\">\n",
       "  <thead>\n",
       "    <tr style=\"text-align: right;\">\n",
       "      <th></th>\n",
       "      <th>사용일자</th>\n",
       "      <th>노선명</th>\n",
       "      <th>역명</th>\n",
       "      <th>승차총승객수</th>\n",
       "      <th>하차총승객수</th>\n",
       "    </tr>\n",
       "  </thead>\n",
       "  <tbody>\n",
       "    <tr>\n",
       "      <th>182756</th>\n",
       "      <td>20221031</td>\n",
       "      <td>6호선</td>\n",
       "      <td>버티고개</td>\n",
       "      <td>2366</td>\n",
       "      <td>2239</td>\n",
       "    </tr>\n",
       "    <tr>\n",
       "      <th>182757</th>\n",
       "      <td>20221031</td>\n",
       "      <td>6호선</td>\n",
       "      <td>약수</td>\n",
       "      <td>3778</td>\n",
       "      <td>3751</td>\n",
       "    </tr>\n",
       "    <tr>\n",
       "      <th>182758</th>\n",
       "      <td>20221031</td>\n",
       "      <td>6호선</td>\n",
       "      <td>청구</td>\n",
       "      <td>3842</td>\n",
       "      <td>4067</td>\n",
       "    </tr>\n",
       "    <tr>\n",
       "      <th>182759</th>\n",
       "      <td>20221031</td>\n",
       "      <td>6호선</td>\n",
       "      <td>신당</td>\n",
       "      <td>8136</td>\n",
       "      <td>8814</td>\n",
       "    </tr>\n",
       "    <tr>\n",
       "      <th>182760</th>\n",
       "      <td>20221031</td>\n",
       "      <td>6호선</td>\n",
       "      <td>동묘앞</td>\n",
       "      <td>8434</td>\n",
       "      <td>8751</td>\n",
       "    </tr>\n",
       "  </tbody>\n",
       "</table>\n",
       "</div>"
      ],
      "text/plain": [
       "            사용일자  노선명    역명  승차총승객수  하차총승객수\n",
       "182756  20221031  6호선  버티고개    2366    2239\n",
       "182757  20221031  6호선    약수    3778    3751\n",
       "182758  20221031  6호선    청구    3842    4067\n",
       "182759  20221031  6호선    신당    8136    8814\n",
       "182760  20221031  6호선   동묘앞    8434    8751"
      ]
     },
     "execution_count": 62,
     "metadata": {},
     "output_type": "execute_result"
    }
   ],
   "source": [
    "df_10 = pd.concat([df_10, df10], axis=0)\n",
    "df_10.tail()"
   ]
  },
  {
   "attachments": {},
   "cell_type": "markdown",
   "metadata": {},
   "source": [
    "### 11월"
   ]
  },
  {
   "cell_type": "code",
   "execution_count": 63,
   "metadata": {},
   "outputs": [],
   "source": [
    "cols = list(df.columns)[:3]\n",
    "target = list(df.columns)[3:]\n",
    "df_list = []\n",
    "# 반복문에 해당되지 않는 범위는 수동으로 구해서 \n",
    "for i in range(7, 22, 7): # 사용할때 여기 수정 해당 월에 맞게   여긴 1월2일이 월요일이라 2일 부터 시작 30,31일 데이터는 추가로 더해야함\n",
    "    start_date = 20221100 + i   # 여기도 조건에 맞게 수정\n",
    "    end_date = start_date + 5\n",
    "    df_temp = df[(df['사용일자'] >= start_date) & (df['사용일자'] < end_date)].copy()\n",
    "    df_temp = df_temp.groupby(cols)[target].agg('sum').reset_index()\n",
    "    df_list.append(df_temp)\n",
    "df_11 = pd.concat(df_list, axis=0)\n",
    "df_11['사용일자'] = 202211\n",
    "\n",
    "df_11 = df_11.groupby(cols)[target].agg('sum').reset_index()"
   ]
  },
  {
   "cell_type": "code",
   "execution_count": 64,
   "metadata": {},
   "outputs": [
    {
     "data": {
      "text/html": [
       "<div>\n",
       "<style scoped>\n",
       "    .dataframe tbody tr th:only-of-type {\n",
       "        vertical-align: middle;\n",
       "    }\n",
       "\n",
       "    .dataframe tbody tr th {\n",
       "        vertical-align: top;\n",
       "    }\n",
       "\n",
       "    .dataframe thead th {\n",
       "        text-align: right;\n",
       "    }\n",
       "</style>\n",
       "<table border=\"1\" class=\"dataframe\">\n",
       "  <thead>\n",
       "    <tr style=\"text-align: right;\">\n",
       "      <th></th>\n",
       "      <th>사용일자</th>\n",
       "      <th>노선명</th>\n",
       "      <th>역명</th>\n",
       "      <th>승차총승객수</th>\n",
       "      <th>하차총승객수</th>\n",
       "    </tr>\n",
       "  </thead>\n",
       "  <tbody>\n",
       "    <tr>\n",
       "      <th>0</th>\n",
       "      <td>202211</td>\n",
       "      <td>1호선</td>\n",
       "      <td>동대문</td>\n",
       "      <td>172082</td>\n",
       "      <td>161544</td>\n",
       "    </tr>\n",
       "    <tr>\n",
       "      <th>1</th>\n",
       "      <td>202211</td>\n",
       "      <td>1호선</td>\n",
       "      <td>동묘앞</td>\n",
       "      <td>129313</td>\n",
       "      <td>134742</td>\n",
       "    </tr>\n",
       "    <tr>\n",
       "      <th>2</th>\n",
       "      <td>202211</td>\n",
       "      <td>1호선</td>\n",
       "      <td>서울역</td>\n",
       "      <td>805673</td>\n",
       "      <td>778259</td>\n",
       "    </tr>\n",
       "    <tr>\n",
       "      <th>3</th>\n",
       "      <td>202211</td>\n",
       "      <td>1호선</td>\n",
       "      <td>시청</td>\n",
       "      <td>410771</td>\n",
       "      <td>416025</td>\n",
       "    </tr>\n",
       "    <tr>\n",
       "      <th>4</th>\n",
       "      <td>202211</td>\n",
       "      <td>1호선</td>\n",
       "      <td>신설동</td>\n",
       "      <td>221653</td>\n",
       "      <td>213159</td>\n",
       "    </tr>\n",
       "  </tbody>\n",
       "</table>\n",
       "</div>"
      ],
      "text/plain": [
       "     사용일자  노선명   역명  승차총승객수  하차총승객수\n",
       "0  202211  1호선  동대문  172082  161544\n",
       "1  202211  1호선  동묘앞  129313  134742\n",
       "2  202211  1호선  서울역  805673  778259\n",
       "3  202211  1호선   시청  410771  416025\n",
       "4  202211  1호선  신설동  221653  213159"
      ]
     },
     "execution_count": 64,
     "metadata": {},
     "output_type": "execute_result"
    }
   ],
   "source": [
    "df_11.head()"
   ]
  },
  {
   "cell_type": "code",
   "execution_count": 65,
   "metadata": {},
   "outputs": [
    {
     "data": {
      "text/plain": [
       "(614, 5)"
      ]
     },
     "execution_count": 65,
     "metadata": {},
     "output_type": "execute_result"
    }
   ],
   "source": [
    "df_11.shape"
   ]
  },
  {
   "cell_type": "code",
   "execution_count": 66,
   "metadata": {},
   "outputs": [
    {
     "data": {
      "text/plain": [
       "(2426, 5)"
      ]
     },
     "execution_count": 66,
     "metadata": {},
     "output_type": "execute_result"
    }
   ],
   "source": [
    "# 수동\n",
    "df11 = df[(df.사용일자 >= 20221101)&(df.사용일자 < 20221105)].copy()\n",
    "df11_1 = df[(df.사용일자 >= 20221128)&(df.사용일자 < 20221201)].copy()\n",
    "df11.groupby(cols)[target].agg('sum').reset_index()\n",
    "df11.shape"
   ]
  },
  {
   "cell_type": "code",
   "execution_count": 67,
   "metadata": {},
   "outputs": [
    {
     "data": {
      "text/html": [
       "<div>\n",
       "<style scoped>\n",
       "    .dataframe tbody tr th:only-of-type {\n",
       "        vertical-align: middle;\n",
       "    }\n",
       "\n",
       "    .dataframe tbody tr th {\n",
       "        vertical-align: top;\n",
       "    }\n",
       "\n",
       "    .dataframe thead th {\n",
       "        text-align: right;\n",
       "    }\n",
       "</style>\n",
       "<table border=\"1\" class=\"dataframe\">\n",
       "  <thead>\n",
       "    <tr style=\"text-align: right;\">\n",
       "      <th></th>\n",
       "      <th>사용일자</th>\n",
       "      <th>노선명</th>\n",
       "      <th>역명</th>\n",
       "      <th>승차총승객수</th>\n",
       "      <th>하차총승객수</th>\n",
       "    </tr>\n",
       "  </thead>\n",
       "  <tbody>\n",
       "    <tr>\n",
       "      <th>0</th>\n",
       "      <td>202211</td>\n",
       "      <td>1호선</td>\n",
       "      <td>동대문</td>\n",
       "      <td>172082</td>\n",
       "      <td>161544</td>\n",
       "    </tr>\n",
       "    <tr>\n",
       "      <th>1</th>\n",
       "      <td>202211</td>\n",
       "      <td>1호선</td>\n",
       "      <td>동묘앞</td>\n",
       "      <td>129313</td>\n",
       "      <td>134742</td>\n",
       "    </tr>\n",
       "    <tr>\n",
       "      <th>2</th>\n",
       "      <td>202211</td>\n",
       "      <td>1호선</td>\n",
       "      <td>서울역</td>\n",
       "      <td>805673</td>\n",
       "      <td>778259</td>\n",
       "    </tr>\n",
       "    <tr>\n",
       "      <th>3</th>\n",
       "      <td>202211</td>\n",
       "      <td>1호선</td>\n",
       "      <td>시청</td>\n",
       "      <td>410771</td>\n",
       "      <td>416025</td>\n",
       "    </tr>\n",
       "    <tr>\n",
       "      <th>4</th>\n",
       "      <td>202211</td>\n",
       "      <td>1호선</td>\n",
       "      <td>신설동</td>\n",
       "      <td>221653</td>\n",
       "      <td>213159</td>\n",
       "    </tr>\n",
       "  </tbody>\n",
       "</table>\n",
       "</div>"
      ],
      "text/plain": [
       "     사용일자  노선명   역명  승차총승객수  하차총승객수\n",
       "0  202211  1호선  동대문  172082  161544\n",
       "1  202211  1호선  동묘앞  129313  134742\n",
       "2  202211  1호선  서울역  805673  778259\n",
       "3  202211  1호선   시청  410771  416025\n",
       "4  202211  1호선  신설동  221653  213159"
      ]
     },
     "execution_count": 67,
     "metadata": {},
     "output_type": "execute_result"
    }
   ],
   "source": [
    "df_11.head()"
   ]
  },
  {
   "cell_type": "code",
   "execution_count": 68,
   "metadata": {},
   "outputs": [
    {
     "data": {
      "text/html": [
       "<div>\n",
       "<style scoped>\n",
       "    .dataframe tbody tr th:only-of-type {\n",
       "        vertical-align: middle;\n",
       "    }\n",
       "\n",
       "    .dataframe tbody tr th {\n",
       "        vertical-align: top;\n",
       "    }\n",
       "\n",
       "    .dataframe thead th {\n",
       "        text-align: right;\n",
       "    }\n",
       "</style>\n",
       "<table border=\"1\" class=\"dataframe\">\n",
       "  <thead>\n",
       "    <tr style=\"text-align: right;\">\n",
       "      <th></th>\n",
       "      <th>사용일자</th>\n",
       "      <th>노선명</th>\n",
       "      <th>역명</th>\n",
       "      <th>승차총승객수</th>\n",
       "      <th>하차총승객수</th>\n",
       "    </tr>\n",
       "  </thead>\n",
       "  <tbody>\n",
       "    <tr>\n",
       "      <th>200938</th>\n",
       "      <td>20221130</td>\n",
       "      <td>5호선</td>\n",
       "      <td>마곡</td>\n",
       "      <td>11444</td>\n",
       "      <td>11372</td>\n",
       "    </tr>\n",
       "    <tr>\n",
       "      <th>200939</th>\n",
       "      <td>20221130</td>\n",
       "      <td>5호선</td>\n",
       "      <td>송정</td>\n",
       "      <td>6629</td>\n",
       "      <td>6244</td>\n",
       "    </tr>\n",
       "    <tr>\n",
       "      <th>200940</th>\n",
       "      <td>20221130</td>\n",
       "      <td>5호선</td>\n",
       "      <td>김포공항</td>\n",
       "      <td>7544</td>\n",
       "      <td>7079</td>\n",
       "    </tr>\n",
       "    <tr>\n",
       "      <th>200941</th>\n",
       "      <td>20221130</td>\n",
       "      <td>5호선</td>\n",
       "      <td>개화산</td>\n",
       "      <td>5928</td>\n",
       "      <td>5684</td>\n",
       "    </tr>\n",
       "    <tr>\n",
       "      <th>200942</th>\n",
       "      <td>20221130</td>\n",
       "      <td>5호선</td>\n",
       "      <td>방화</td>\n",
       "      <td>6947</td>\n",
       "      <td>6706</td>\n",
       "    </tr>\n",
       "  </tbody>\n",
       "</table>\n",
       "</div>"
      ],
      "text/plain": [
       "            사용일자  노선명    역명  승차총승객수  하차총승객수\n",
       "200938  20221130  5호선    마곡   11444   11372\n",
       "200939  20221130  5호선    송정    6629    6244\n",
       "200940  20221130  5호선  김포공항    7544    7079\n",
       "200941  20221130  5호선   개화산    5928    5684\n",
       "200942  20221130  5호선    방화    6947    6706"
      ]
     },
     "execution_count": 68,
     "metadata": {},
     "output_type": "execute_result"
    }
   ],
   "source": [
    "df_11 = pd.concat([df_11, df11, df11_1], axis=0)\n",
    "df_11.tail()"
   ]
  },
  {
   "attachments": {},
   "cell_type": "markdown",
   "metadata": {},
   "source": [
    "### 12월"
   ]
  },
  {
   "cell_type": "code",
   "execution_count": 69,
   "metadata": {},
   "outputs": [],
   "source": [
    "cols = list(df.columns)[:3]\n",
    "target = list(df.columns)[3:]\n",
    "df_list = []\n",
    "# 반복문에 해당되지 않는 범위는 수동으로 구해서 \n",
    "for i in range(5, 27, 7): # 사용할때 여기 수정 해당 월에 맞게   여긴 1월2일이 월요일이라 2일 부터 시작 30,31일 데이터는 추가로 더해야함\n",
    "    start_date = 20221200 + i   # 여기도 조건에 맞게 수정\n",
    "    end_date = start_date + 5\n",
    "    df_temp = df[(df['사용일자'] >= start_date) & (df['사용일자'] < end_date)].copy()\n",
    "    df_temp = df_temp.groupby(cols)[target].agg('sum').reset_index()\n",
    "    df_list.append(df_temp)\n",
    "df_12 = pd.concat(df_list, axis=0)\n",
    "df_12['사용일자'] = 202212\n",
    "\n",
    "df_12 = df_12.groupby(cols)[target].agg('sum').reset_index()"
   ]
  },
  {
   "cell_type": "code",
   "execution_count": 70,
   "metadata": {},
   "outputs": [
    {
     "data": {
      "text/html": [
       "<div>\n",
       "<style scoped>\n",
       "    .dataframe tbody tr th:only-of-type {\n",
       "        vertical-align: middle;\n",
       "    }\n",
       "\n",
       "    .dataframe tbody tr th {\n",
       "        vertical-align: top;\n",
       "    }\n",
       "\n",
       "    .dataframe thead th {\n",
       "        text-align: right;\n",
       "    }\n",
       "</style>\n",
       "<table border=\"1\" class=\"dataframe\">\n",
       "  <thead>\n",
       "    <tr style=\"text-align: right;\">\n",
       "      <th></th>\n",
       "      <th>사용일자</th>\n",
       "      <th>노선명</th>\n",
       "      <th>역명</th>\n",
       "      <th>승차총승객수</th>\n",
       "      <th>하차총승객수</th>\n",
       "    </tr>\n",
       "  </thead>\n",
       "  <tbody>\n",
       "    <tr>\n",
       "      <th>0</th>\n",
       "      <td>202212</td>\n",
       "      <td>1호선</td>\n",
       "      <td>동대문</td>\n",
       "      <td>231331</td>\n",
       "      <td>215960</td>\n",
       "    </tr>\n",
       "    <tr>\n",
       "      <th>1</th>\n",
       "      <td>202212</td>\n",
       "      <td>1호선</td>\n",
       "      <td>동묘앞</td>\n",
       "      <td>157263</td>\n",
       "      <td>163877</td>\n",
       "    </tr>\n",
       "    <tr>\n",
       "      <th>2</th>\n",
       "      <td>202212</td>\n",
       "      <td>1호선</td>\n",
       "      <td>서울역</td>\n",
       "      <td>1080371</td>\n",
       "      <td>1044023</td>\n",
       "    </tr>\n",
       "    <tr>\n",
       "      <th>3</th>\n",
       "      <td>202212</td>\n",
       "      <td>1호선</td>\n",
       "      <td>시청</td>\n",
       "      <td>562084</td>\n",
       "      <td>560096</td>\n",
       "    </tr>\n",
       "    <tr>\n",
       "      <th>4</th>\n",
       "      <td>202212</td>\n",
       "      <td>1호선</td>\n",
       "      <td>신설동</td>\n",
       "      <td>290852</td>\n",
       "      <td>281032</td>\n",
       "    </tr>\n",
       "  </tbody>\n",
       "</table>\n",
       "</div>"
      ],
      "text/plain": [
       "     사용일자  노선명   역명   승차총승객수   하차총승객수\n",
       "0  202212  1호선  동대문   231331   215960\n",
       "1  202212  1호선  동묘앞   157263   163877\n",
       "2  202212  1호선  서울역  1080371  1044023\n",
       "3  202212  1호선   시청   562084   560096\n",
       "4  202212  1호선  신설동   290852   281032"
      ]
     },
     "execution_count": 70,
     "metadata": {},
     "output_type": "execute_result"
    }
   ],
   "source": [
    "df_12.head()"
   ]
  },
  {
   "cell_type": "code",
   "execution_count": 71,
   "metadata": {},
   "outputs": [
    {
     "data": {
      "text/plain": [
       "(612, 5)"
      ]
     },
     "execution_count": 71,
     "metadata": {},
     "output_type": "execute_result"
    }
   ],
   "source": [
    "df_12.shape"
   ]
  },
  {
   "cell_type": "code",
   "execution_count": 72,
   "metadata": {},
   "outputs": [
    {
     "data": {
      "text/plain": [
       "(1211, 5)"
      ]
     },
     "execution_count": 72,
     "metadata": {},
     "output_type": "execute_result"
    }
   ],
   "source": [
    "# 수동\n",
    "df12 = df[(df.사용일자 >= 20221201)&(df.사용일자 < 20221203)].copy()\n",
    "df12.groupby(cols)[target].agg('sum').reset_index()\n",
    "df12.shape"
   ]
  },
  {
   "cell_type": "code",
   "execution_count": 73,
   "metadata": {},
   "outputs": [
    {
     "data": {
      "text/html": [
       "<div>\n",
       "<style scoped>\n",
       "    .dataframe tbody tr th:only-of-type {\n",
       "        vertical-align: middle;\n",
       "    }\n",
       "\n",
       "    .dataframe tbody tr th {\n",
       "        vertical-align: top;\n",
       "    }\n",
       "\n",
       "    .dataframe thead th {\n",
       "        text-align: right;\n",
       "    }\n",
       "</style>\n",
       "<table border=\"1\" class=\"dataframe\">\n",
       "  <thead>\n",
       "    <tr style=\"text-align: right;\">\n",
       "      <th></th>\n",
       "      <th>사용일자</th>\n",
       "      <th>노선명</th>\n",
       "      <th>역명</th>\n",
       "      <th>승차총승객수</th>\n",
       "      <th>하차총승객수</th>\n",
       "    </tr>\n",
       "  </thead>\n",
       "  <tbody>\n",
       "    <tr>\n",
       "      <th>0</th>\n",
       "      <td>202212</td>\n",
       "      <td>1호선</td>\n",
       "      <td>동대문</td>\n",
       "      <td>231331</td>\n",
       "      <td>215960</td>\n",
       "    </tr>\n",
       "    <tr>\n",
       "      <th>1</th>\n",
       "      <td>202212</td>\n",
       "      <td>1호선</td>\n",
       "      <td>동묘앞</td>\n",
       "      <td>157263</td>\n",
       "      <td>163877</td>\n",
       "    </tr>\n",
       "    <tr>\n",
       "      <th>2</th>\n",
       "      <td>202212</td>\n",
       "      <td>1호선</td>\n",
       "      <td>서울역</td>\n",
       "      <td>1080371</td>\n",
       "      <td>1044023</td>\n",
       "    </tr>\n",
       "    <tr>\n",
       "      <th>3</th>\n",
       "      <td>202212</td>\n",
       "      <td>1호선</td>\n",
       "      <td>시청</td>\n",
       "      <td>562084</td>\n",
       "      <td>560096</td>\n",
       "    </tr>\n",
       "    <tr>\n",
       "      <th>4</th>\n",
       "      <td>202212</td>\n",
       "      <td>1호선</td>\n",
       "      <td>신설동</td>\n",
       "      <td>290852</td>\n",
       "      <td>281032</td>\n",
       "    </tr>\n",
       "  </tbody>\n",
       "</table>\n",
       "</div>"
      ],
      "text/plain": [
       "     사용일자  노선명   역명   승차총승객수   하차총승객수\n",
       "0  202212  1호선  동대문   231331   215960\n",
       "1  202212  1호선  동묘앞   157263   163877\n",
       "2  202212  1호선  서울역  1080371  1044023\n",
       "3  202212  1호선   시청   562084   560096\n",
       "4  202212  1호선  신설동   290852   281032"
      ]
     },
     "execution_count": 73,
     "metadata": {},
     "output_type": "execute_result"
    }
   ],
   "source": [
    "df_12.head()"
   ]
  },
  {
   "cell_type": "code",
   "execution_count": 74,
   "metadata": {},
   "outputs": [
    {
     "data": {
      "text/html": [
       "<div>\n",
       "<style scoped>\n",
       "    .dataframe tbody tr th:only-of-type {\n",
       "        vertical-align: middle;\n",
       "    }\n",
       "\n",
       "    .dataframe tbody tr th {\n",
       "        vertical-align: top;\n",
       "    }\n",
       "\n",
       "    .dataframe thead th {\n",
       "        text-align: right;\n",
       "    }\n",
       "</style>\n",
       "<table border=\"1\" class=\"dataframe\">\n",
       "  <thead>\n",
       "    <tr style=\"text-align: right;\">\n",
       "      <th></th>\n",
       "      <th>사용일자</th>\n",
       "      <th>노선명</th>\n",
       "      <th>역명</th>\n",
       "      <th>승차총승객수</th>\n",
       "      <th>하차총승객수</th>\n",
       "    </tr>\n",
       "  </thead>\n",
       "  <tbody>\n",
       "    <tr>\n",
       "      <th>202149</th>\n",
       "      <td>20221202</td>\n",
       "      <td>1호선</td>\n",
       "      <td>종로5가</td>\n",
       "      <td>25170</td>\n",
       "      <td>25079</td>\n",
       "    </tr>\n",
       "    <tr>\n",
       "      <th>202150</th>\n",
       "      <td>20221202</td>\n",
       "      <td>1호선</td>\n",
       "      <td>종로3가</td>\n",
       "      <td>27534</td>\n",
       "      <td>25613</td>\n",
       "    </tr>\n",
       "    <tr>\n",
       "      <th>202151</th>\n",
       "      <td>20221202</td>\n",
       "      <td>1호선</td>\n",
       "      <td>종각</td>\n",
       "      <td>41940</td>\n",
       "      <td>41629</td>\n",
       "    </tr>\n",
       "    <tr>\n",
       "      <th>202152</th>\n",
       "      <td>20221202</td>\n",
       "      <td>1호선</td>\n",
       "      <td>시청</td>\n",
       "      <td>27666</td>\n",
       "      <td>28152</td>\n",
       "    </tr>\n",
       "    <tr>\n",
       "      <th>202153</th>\n",
       "      <td>20221202</td>\n",
       "      <td>1호선</td>\n",
       "      <td>서울역</td>\n",
       "      <td>56380</td>\n",
       "      <td>55408</td>\n",
       "    </tr>\n",
       "  </tbody>\n",
       "</table>\n",
       "</div>"
      ],
      "text/plain": [
       "            사용일자  노선명    역명  승차총승객수  하차총승객수\n",
       "202149  20221202  1호선  종로5가   25170   25079\n",
       "202150  20221202  1호선  종로3가   27534   25613\n",
       "202151  20221202  1호선    종각   41940   41629\n",
       "202152  20221202  1호선    시청   27666   28152\n",
       "202153  20221202  1호선   서울역   56380   55408"
      ]
     },
     "execution_count": 74,
     "metadata": {},
     "output_type": "execute_result"
    }
   ],
   "source": [
    "df_12 = pd.concat([df_12, df12], axis=0)\n",
    "df_12.tail()"
   ]
  },
  {
   "cell_type": "code",
   "execution_count": 75,
   "metadata": {},
   "outputs": [],
   "source": [
    "# df_res_list = [df_1,df_2,df_3 ....df_12] 리스트 안에 넣음\n",
    "df_res_list = [df_1,df_2,df_3,df_4,df_5,df_6,df_7,df_8,df_9,df_10,df_11,df_12]\n"
   ]
  },
  {
   "cell_type": "code",
   "execution_count": 76,
   "metadata": {},
   "outputs": [],
   "source": [
    "# df_res = pd.concat(df_res_list, axis=0) 합침\n",
    "df_res = pd.concat(df_res_list, axis=0)"
   ]
  },
  {
   "cell_type": "code",
   "execution_count": 77,
   "metadata": {},
   "outputs": [
    {
     "data": {
      "text/html": [
       "<div>\n",
       "<style scoped>\n",
       "    .dataframe tbody tr th:only-of-type {\n",
       "        vertical-align: middle;\n",
       "    }\n",
       "\n",
       "    .dataframe tbody tr th {\n",
       "        vertical-align: top;\n",
       "    }\n",
       "\n",
       "    .dataframe thead th {\n",
       "        text-align: right;\n",
       "    }\n",
       "</style>\n",
       "<table border=\"1\" class=\"dataframe\">\n",
       "  <thead>\n",
       "    <tr style=\"text-align: right;\">\n",
       "      <th></th>\n",
       "      <th>사용일자</th>\n",
       "      <th>노선명</th>\n",
       "      <th>역명</th>\n",
       "      <th>승차총승객수</th>\n",
       "      <th>하차총승객수</th>\n",
       "    </tr>\n",
       "  </thead>\n",
       "  <tbody>\n",
       "    <tr>\n",
       "      <th>0</th>\n",
       "      <td>202201</td>\n",
       "      <td>1호선</td>\n",
       "      <td>동대문</td>\n",
       "      <td>204145</td>\n",
       "      <td>189264</td>\n",
       "    </tr>\n",
       "    <tr>\n",
       "      <th>1</th>\n",
       "      <td>202201</td>\n",
       "      <td>1호선</td>\n",
       "      <td>동묘앞</td>\n",
       "      <td>136976</td>\n",
       "      <td>142877</td>\n",
       "    </tr>\n",
       "    <tr>\n",
       "      <th>2</th>\n",
       "      <td>202201</td>\n",
       "      <td>1호선</td>\n",
       "      <td>서울역</td>\n",
       "      <td>833080</td>\n",
       "      <td>798951</td>\n",
       "    </tr>\n",
       "    <tr>\n",
       "      <th>3</th>\n",
       "      <td>202201</td>\n",
       "      <td>1호선</td>\n",
       "      <td>시청</td>\n",
       "      <td>428112</td>\n",
       "      <td>429602</td>\n",
       "    </tr>\n",
       "    <tr>\n",
       "      <th>4</th>\n",
       "      <td>202201</td>\n",
       "      <td>1호선</td>\n",
       "      <td>신설동</td>\n",
       "      <td>268909</td>\n",
       "      <td>260364</td>\n",
       "    </tr>\n",
       "    <tr>\n",
       "      <th>...</th>\n",
       "      <td>...</td>\n",
       "      <td>...</td>\n",
       "      <td>...</td>\n",
       "      <td>...</td>\n",
       "      <td>...</td>\n",
       "    </tr>\n",
       "    <tr>\n",
       "      <th>202149</th>\n",
       "      <td>20221202</td>\n",
       "      <td>1호선</td>\n",
       "      <td>종로5가</td>\n",
       "      <td>25170</td>\n",
       "      <td>25079</td>\n",
       "    </tr>\n",
       "    <tr>\n",
       "      <th>202150</th>\n",
       "      <td>20221202</td>\n",
       "      <td>1호선</td>\n",
       "      <td>종로3가</td>\n",
       "      <td>27534</td>\n",
       "      <td>25613</td>\n",
       "    </tr>\n",
       "    <tr>\n",
       "      <th>202151</th>\n",
       "      <td>20221202</td>\n",
       "      <td>1호선</td>\n",
       "      <td>종각</td>\n",
       "      <td>41940</td>\n",
       "      <td>41629</td>\n",
       "    </tr>\n",
       "    <tr>\n",
       "      <th>202152</th>\n",
       "      <td>20221202</td>\n",
       "      <td>1호선</td>\n",
       "      <td>시청</td>\n",
       "      <td>27666</td>\n",
       "      <td>28152</td>\n",
       "    </tr>\n",
       "    <tr>\n",
       "      <th>202153</th>\n",
       "      <td>20221202</td>\n",
       "      <td>1호선</td>\n",
       "      <td>서울역</td>\n",
       "      <td>56380</td>\n",
       "      <td>55408</td>\n",
       "    </tr>\n",
       "  </tbody>\n",
       "</table>\n",
       "<p>28394 rows × 5 columns</p>\n",
       "</div>"
      ],
      "text/plain": [
       "            사용일자  노선명    역명  승차총승객수  하차총승객수\n",
       "0         202201  1호선   동대문  204145  189264\n",
       "1         202201  1호선   동묘앞  136976  142877\n",
       "2         202201  1호선   서울역  833080  798951\n",
       "3         202201  1호선    시청  428112  429602\n",
       "4         202201  1호선   신설동  268909  260364\n",
       "...          ...  ...   ...     ...     ...\n",
       "202149  20221202  1호선  종로5가   25170   25079\n",
       "202150  20221202  1호선  종로3가   27534   25613\n",
       "202151  20221202  1호선    종각   41940   41629\n",
       "202152  20221202  1호선    시청   27666   28152\n",
       "202153  20221202  1호선   서울역   56380   55408\n",
       "\n",
       "[28394 rows x 5 columns]"
      ]
     },
     "execution_count": 77,
     "metadata": {},
     "output_type": "execute_result"
    }
   ],
   "source": [
    "df_res"
   ]
  },
  {
   "cell_type": "code",
   "execution_count": 78,
   "metadata": {},
   "outputs": [],
   "source": [
    "# 이거에 이제 역명 '(' 지우고 하는 작업하고\n",
    "# 호선별로 나눈다음에\n",
    "# line_merge 코드 짜둔거 사용해서 합치면 됨"
   ]
  },
  {
   "cell_type": "code",
   "execution_count": 79,
   "metadata": {},
   "outputs": [],
   "source": [
    "df1 = df.copy()\n",
    "cols = list(df.columns)[:3]\n",
    "target = list(df.columns)[3:]"
   ]
  },
  {
   "cell_type": "code",
   "execution_count": 80,
   "metadata": {},
   "outputs": [],
   "source": [
    "# '사용일' 열을 datetime 형식으로 변환\n",
    "df1['사용일자'] = pd.to_datetime(df1['사용일자'], format='%Y%m%d')\n",
    "# 평일과 주말 구분하는 새로운 열 생성\n",
    "df1['주중/주말'] = df1['사용일자'].apply(lambda x: '주말' if x.weekday() >= 5 else '주중')\n",
    "# 평일 데이터만 선택\n",
    "weekday_df = df1[df1['주중/주말'] == '주중']"
   ]
  },
  {
   "cell_type": "code",
   "execution_count": 81,
   "metadata": {},
   "outputs": [],
   "source": [
    "week_df = weekday_df.copy()\n",
    "week_df['사용일자'] = pd.to_datetime(weekday_df['사용일자']).dt.strftime('%Y%m%d').astype(int)"
   ]
  },
  {
   "cell_type": "code",
   "execution_count": 82,
   "metadata": {},
   "outputs": [
    {
     "data": {
      "text/html": [
       "<div>\n",
       "<style scoped>\n",
       "    .dataframe tbody tr th:only-of-type {\n",
       "        vertical-align: middle;\n",
       "    }\n",
       "\n",
       "    .dataframe tbody tr th {\n",
       "        vertical-align: top;\n",
       "    }\n",
       "\n",
       "    .dataframe thead th {\n",
       "        text-align: right;\n",
       "    }\n",
       "</style>\n",
       "<table border=\"1\" class=\"dataframe\">\n",
       "  <thead>\n",
       "    <tr style=\"text-align: right;\">\n",
       "      <th></th>\n",
       "      <th>사용일자</th>\n",
       "      <th>노선명</th>\n",
       "      <th>역명</th>\n",
       "      <th>승차총승객수</th>\n",
       "      <th>하차총승객수</th>\n",
       "      <th>주중/주말</th>\n",
       "    </tr>\n",
       "  </thead>\n",
       "  <tbody>\n",
       "    <tr>\n",
       "      <th>1195</th>\n",
       "      <td>20220103</td>\n",
       "      <td>수인선</td>\n",
       "      <td>사리</td>\n",
       "      <td>4127</td>\n",
       "      <td>3724</td>\n",
       "      <td>주중</td>\n",
       "    </tr>\n",
       "    <tr>\n",
       "      <th>1196</th>\n",
       "      <td>20220103</td>\n",
       "      <td>수인선</td>\n",
       "      <td>달월</td>\n",
       "      <td>93</td>\n",
       "      <td>50</td>\n",
       "      <td>주중</td>\n",
       "    </tr>\n",
       "    <tr>\n",
       "      <th>1197</th>\n",
       "      <td>20220103</td>\n",
       "      <td>수인선</td>\n",
       "      <td>월곶</td>\n",
       "      <td>2303</td>\n",
       "      <td>2138</td>\n",
       "      <td>주중</td>\n",
       "    </tr>\n",
       "    <tr>\n",
       "      <th>1198</th>\n",
       "      <td>20220103</td>\n",
       "      <td>수인선</td>\n",
       "      <td>소래포구</td>\n",
       "      <td>4292</td>\n",
       "      <td>3950</td>\n",
       "      <td>주중</td>\n",
       "    </tr>\n",
       "    <tr>\n",
       "      <th>1199</th>\n",
       "      <td>20220103</td>\n",
       "      <td>수인선</td>\n",
       "      <td>인천논현</td>\n",
       "      <td>5040</td>\n",
       "      <td>5391</td>\n",
       "      <td>주중</td>\n",
       "    </tr>\n",
       "    <tr>\n",
       "      <th>...</th>\n",
       "      <td>...</td>\n",
       "      <td>...</td>\n",
       "      <td>...</td>\n",
       "      <td>...</td>\n",
       "      <td>...</td>\n",
       "      <td>...</td>\n",
       "    </tr>\n",
       "    <tr>\n",
       "      <th>219133</th>\n",
       "      <td>20221230</td>\n",
       "      <td>9호선2~3단계</td>\n",
       "      <td>언주</td>\n",
       "      <td>10031</td>\n",
       "      <td>10034</td>\n",
       "      <td>주중</td>\n",
       "    </tr>\n",
       "    <tr>\n",
       "      <th>219134</th>\n",
       "      <td>20221230</td>\n",
       "      <td>9호선2~3단계</td>\n",
       "      <td>선정릉</td>\n",
       "      <td>8603</td>\n",
       "      <td>9286</td>\n",
       "      <td>주중</td>\n",
       "    </tr>\n",
       "    <tr>\n",
       "      <th>219135</th>\n",
       "      <td>20221230</td>\n",
       "      <td>9호선2~3단계</td>\n",
       "      <td>삼성중앙</td>\n",
       "      <td>7006</td>\n",
       "      <td>7258</td>\n",
       "      <td>주중</td>\n",
       "    </tr>\n",
       "    <tr>\n",
       "      <th>219136</th>\n",
       "      <td>20221230</td>\n",
       "      <td>9호선2~3단계</td>\n",
       "      <td>봉은사</td>\n",
       "      <td>18999</td>\n",
       "      <td>19414</td>\n",
       "      <td>주중</td>\n",
       "    </tr>\n",
       "    <tr>\n",
       "      <th>219137</th>\n",
       "      <td>20221230</td>\n",
       "      <td>9호선2~3단계</td>\n",
       "      <td>종합운동장</td>\n",
       "      <td>4706</td>\n",
       "      <td>4863</td>\n",
       "      <td>주중</td>\n",
       "    </tr>\n",
       "  </tbody>\n",
       "</table>\n",
       "<p>156578 rows × 6 columns</p>\n",
       "</div>"
      ],
      "text/plain": [
       "            사용일자       노선명     역명  승차총승객수  하차총승객수 주중/주말\n",
       "1195    20220103       수인선     사리    4127    3724    주중\n",
       "1196    20220103       수인선     달월      93      50    주중\n",
       "1197    20220103       수인선     월곶    2303    2138    주중\n",
       "1198    20220103       수인선   소래포구    4292    3950    주중\n",
       "1199    20220103       수인선   인천논현    5040    5391    주중\n",
       "...          ...       ...    ...     ...     ...   ...\n",
       "219133  20221230  9호선2~3단계     언주   10031   10034    주중\n",
       "219134  20221230  9호선2~3단계    선정릉    8603    9286    주중\n",
       "219135  20221230  9호선2~3단계   삼성중앙    7006    7258    주중\n",
       "219136  20221230  9호선2~3단계    봉은사   18999   19414    주중\n",
       "219137  20221230  9호선2~3단계  종합운동장    4706    4863    주중\n",
       "\n",
       "[156578 rows x 6 columns]"
      ]
     },
     "execution_count": 82,
     "metadata": {},
     "output_type": "execute_result"
    }
   ],
   "source": [
    "week_df"
   ]
  },
  {
   "cell_type": "code",
   "execution_count": 83,
   "metadata": {},
   "outputs": [],
   "source": [
    "df_list = []\n",
    "for i in range(1, 13):\n",
    "    start_date = 20210000 + i*100\n",
    "    end_date = start_date + 100\n",
    "    df_temp = week_df[(week_df['사용일자'] >= start_date) & (week_df['사용일자'] < end_date)].copy()\n",
    "    df_temp['사용일자'] = 202100 + i\n",
    "    df_temp = df_temp.groupby(cols)[target].agg('sum').reset_index()\n",
    "    df_list.append(df_temp)\n",
    "df_res = pd.concat(df_list, axis=0)"
   ]
  },
  {
   "cell_type": "code",
   "execution_count": 84,
   "metadata": {},
   "outputs": [],
   "source": [
    "# 이후로는 line merge 해야함."
   ]
  },
  {
   "cell_type": "code",
   "execution_count": null,
   "metadata": {},
   "outputs": [],
   "source": [
    "# 1~12월 다 합치고 불러와서 아래 실행\n",
    "# 호선명 리스트로 추출해서 사용 \n",
    "lines = df.호선명.unique().tolist()\n",
    "df_dict = {line: df[df['호선명'] == line].copy() for line in lines}\n",
    "for line, frame in df_dict.items():\n",
    "    # frame = df[df['호선명']==line].copy()\n",
    "    frame['총 승차인원'] = frame.loc[:,['승차총승객수']].sum(axis=1)\n",
    "    frame['총 하차인원'] = frame.loc[:,['하차총승객수']].sum(axis=1)\n",
    "\n",
    "    frame.to_csv(f'data/main/{line}.csv',index=False,encoding='utf-8')"
   ]
  },
  {
   "cell_type": "code",
   "execution_count": null,
   "metadata": {},
   "outputs": [],
   "source": [
    "# 저장 위치 고치기\n",
    "line_info = [\n",
    "    (['./1호선.csv', './경부선.csv', './경원선.csv', './경인선.csv', './장항선.csv'], '1호선'),\n",
    "    (['./2호선.csv'], '2호선'),\n",
    "    (['./3호선.csv', './일산선.csv'], '3호선'),\n",
    "    (['./4호선.csv', './과천선.csv', './안산선.csv'], '4호선'),\n",
    "    (['./5호선.csv'], '5호선'),\n",
    "    (['./6호선.csv'], '6호선'),\n",
    "    (['./7호선.csv'], '7호선'),\n",
    "    (['./8호선.csv'], '8호선'),\n",
    "    (['./9호선.csv', './9호선2단계.csv', './9호선2~3단계.csv'], '9호선'),\n",
    "    (['./수인선.csv', './분당선.csv'], '수인분당선'),\n",
    "    (['./경의선.csv', './용산선.csv''./경원선.csv', './중앙선.csv'], '경의중앙선')\n",
    "\n",
    "]\n",
    "\n",
    "for df_list, line_name in line_info:\n",
    "    df_copies = []\n",
    "    for file in df_list:\n",
    "        df = pd.read_csv(file)\n",
    "        df_copies.append(df.copy())\n",
    "    result = pd.concat(df_copies, axis=0)\n",
    "    result = result.reset_index(drop=True)\n",
    "    result.호선명 = line_name\n",
    "    cols = list(result.columns)[:3]\n",
    "    target = list(result.columns)[3:]\n",
    "    res = result.groupby(cols)[target].agg('sum').reset_index()\n",
    "    res.to_csv(f'./lines/{line_name}.csv', index=False)\n"
   ]
  }
 ],
 "metadata": {
  "kernelspec": {
   "display_name": "base",
   "language": "python",
   "name": "python3"
  },
  "language_info": {
   "codemirror_mode": {
    "name": "ipython",
    "version": 3
   },
   "file_extension": ".py",
   "mimetype": "text/x-python",
   "name": "python",
   "nbconvert_exporter": "python",
   "pygments_lexer": "ipython3",
   "version": "3.10.11"
  },
  "orig_nbformat": 4
 },
 "nbformat": 4,
 "nbformat_minor": 2
}
